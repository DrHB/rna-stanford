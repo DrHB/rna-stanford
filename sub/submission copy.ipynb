{
 "cells": [
  {
   "cell_type": "code",
   "execution_count": 3,
   "metadata": {
    "tags": []
   },
   "outputs": [
    {
     "name": "stdout",
     "output_type": "stream",
     "text": [
      "The autoreload extension is already loaded. To reload it, use:\n",
      "  %reload_ext autoreload\n",
      "(1343823, 5)\n",
      "(1343823, 5)\n",
      "(1343823, 5)\n",
      "(1343823, 6)\n",
      "(1343823, 8)\n"
     ]
    }
   ],
   "source": [
    "%load_ext autoreload\n",
    "%autoreload 2\n",
    "import sys\n",
    "sys.path.append('..')\n",
    "import os\n",
    "os.environ[\"CUDA_VISIBLE_DEVICES\"]=\"1\"\n",
    "os.environ[\"MKL_NUM_THREADS\"] = \"1\" \n",
    "os.environ[\"NUMEXPR_NUM_THREADS\"] = \"1\" \n",
    "os.environ[\"OMP_NUM_THREADS\"] = \"1\" \n",
    "\n",
    "import rnacomp\n",
    "import zipfile\n",
    "\n",
    "import rnacomp.models\n",
    "from rnacomp.fastai_fit import *\n",
    "from rnacomp.dataset import LenMatchBatchSampler, DeviceDataLoader\n",
    "from rnacomp.utils import seed_everything, MAE, loss_laplace\n",
    "import gc\n",
    "from tqdm import tqdm\n",
    "def convert_to_zip(name):\n",
    "    pd.read_parquet(f\"{name}.parquet\").to_csv(f\"{name}.csv\", index=False)\n",
    "    zip_filename = f'{name}.csv.zip'\n",
    "    with zipfile.ZipFile(zip_filename, 'w', zipfile.ZIP_DEFLATED) as zipf:\n",
    "         zipf.write(f'{name}.csv')\n",
    "\n",
    "class CFG_test:\n",
    "    #dataset_name = 'RNA_Dataset_TestBppSSFullV4' #\"RNA_Dataset_TestBppSSFullV1\" #'RNA_Dataset_TestBppSSFullV0' #`RNA_Dataset_TestBppSS' #'\n",
    "    pathbb = Path(\"../data/Ribonanza_bpp_files\")\n",
    "    pathss = Path(\"../eda/test_ss_vienna_rna.parquet\")\n",
    "    #bs = 256\n",
    "    #num_workers = 16\n",
    "    #device = 'cuda'\n",
    "    \n",
    "def plot_test_example(fn):\n",
    "    import polars as pl\n",
    "    import matplotlib.pyplot as plt\n",
    "    #read your sub here\n",
    "    try:\n",
    "        df=pl.read_parquet(f\"{fn}.parquet\")\n",
    "    except:\n",
    "        df=pl.read_csv(f\"{fn}.csv\")\n",
    "    #some parameters\n",
    "    font_size=6\n",
    "    id1=269545321\n",
    "    id2=269724007\n",
    "    reshape1=391\n",
    "    reshape2=457\n",
    "    #get predictions\n",
    "    pred_DMS=df[id1:id2+1]['reactivity_DMS_MaP'].to_numpy().reshape(reshape1,reshape2)\n",
    "    pred_2A3=df[id1:id2+1]['reactivity_2A3_MaP'].to_numpy().reshape(reshape1,reshape2)\n",
    "    #plot mutate and map\n",
    "    fig = plt.figure()\n",
    "    plt.subplot(121)\n",
    "    plt.title(f'reactivity_DMS_MaP', fontsize=font_size)\n",
    "    plt.imshow(pred_DMS,vmin=0,vmax=1, cmap='gray_r')\n",
    "    plt.subplot(122)\n",
    "    plt.title(f'reactivity_2A3_MaP', fontsize=font_size)\n",
    "    plt.imshow(pred_2A3,vmin=0,vmax=1, cmap='gray_r')\n",
    "    plt.tight_layout()\n",
    "    plt.savefig(f\"plot.png\",dpi=500)\n",
    "    plt.clf()\n",
    "    plt.close()\n",
    "\n",
    "df_test = pd.read_csv(os.path.join('../data/','test_sequences.csv'))\n",
    "print(df_test.shape)\n",
    "fns = list(CFG_test.pathbb.rglob(\"*.txt\"))\n",
    "bpp_df = pd.DataFrame({\"bpp\": fns})\n",
    "bpp_df['sequence_id'] = bpp_df['bpp'].apply(lambda x: x.stem)\n",
    "print(df_test.shape)\n",
    "bpp_df.drop_duplicates(subset=['sequence_id'], inplace=True)\n",
    "ss = pd.read_parquet(CFG_test.pathss)[[\"sequence_id\", \"ss_roi\", \"ss_full\"]]\n",
    "print(df_test.shape)\n",
    "df_test = pd.merge(df_test, bpp_df, on='sequence_id')\n",
    "print(df_test.shape)\n",
    "df_test = pd.merge(df_test, ss, on='sequence_id')\n",
    "print(df_test.shape)\n",
    "\n",
    "\n",
    "def get_model_from_cfg(CFG):\n",
    "    if CFG.dim:\n",
    "        print('dim')\n",
    "        md= getattr(rnacomp.models, CFG.model_name)(dim = CFG.dim)\n",
    "    else: \n",
    "        print('kwargs')\n",
    "        md= getattr(rnacomp.models, CFG.model_name)(**CFG.model_kwargs)\n",
    "    mw = f'../exp/{CFG.out}/models/model.pth'\n",
    "    print(f\"loading : {mw}\")\n",
    "    md.load_state_dict(torch.load(mw))\n",
    "    return md\n",
    "\n",
    "def generate_sub(CFG_test, config_list,  out_name, dl, clip=True):\n",
    "    models = []\n",
    "    for m in config_list:\n",
    "        model = get_model_from_cfg(m)\n",
    "        model = model.to(CFG_test.device)\n",
    "        model.eval()\n",
    "        models.append(model)\n",
    "    if not clip: \n",
    "        out_name = out_name + '_no_clip'\n",
    "        print(f'generating sub with no cliping: {out_name}')\n",
    "        \n",
    "    print(f\"using dataset: {print(dl.dataloader.dataset)}\")\n",
    "    ids,preds = [],[]\n",
    "    for x,y in tqdm(dl):\n",
    "        with torch.no_grad(),torch.cuda.amp.autocast():\n",
    "            if clip:\n",
    "                p = torch.stack([torch.nan_to_num(model(x)) for model in models]\n",
    "                                ,0).mean(0).clip(0,1)\n",
    "            else:\n",
    "                p = torch.stack([torch.nan_to_num(model(x)) for model in models]\n",
    "                                ,0).mean(0)\n",
    "                \n",
    "    \n",
    "        for idx, mask, pi in zip(y['ids'].cpu(), x['mask'].cpu(), p.cpu()):\n",
    "            ids.append(idx[mask])\n",
    "            preds.append(pi[mask[:pi.shape[0]]])\n",
    "\n",
    "    ids = torch.concat(ids)\n",
    "    preds = torch.concat(preds)\n",
    "\n",
    "    df = pd.DataFrame({'id':ids.numpy(), 'reactivity_DMS_MaP':preds[:,1].numpy(), \n",
    "                    'reactivity_2A3_MaP':preds[:,0].numpy()})\n",
    "    df[\"reactivity_DMS_MaP\"] = df[\"reactivity_DMS_MaP\"].astype(\"float32\")\n",
    "    df[\"reactivity_2A3_MaP\"] = df[\"reactivity_2A3_MaP\"].astype(\"float32\")\n",
    "\n",
    "    df.to_parquet(f'{out_name}.parquet', index=False) # 6.5GB\n",
    "    df.head()\n",
    "    \n",
    "def calculate_separate_correlations(dfs):\n",
    "    \"\"\"\n",
    "    Takes a list of dataframes, each with two columns 'reactivity_DMS_MaP' and 'reactivity_2A3_MaP',\n",
    "    and calculates two separate correlation matrices: \n",
    "    - one for correlations between 'reactivity_DMS_MaP' columns across all dataframes,\n",
    "    - another for correlations between 'reactivity_2A3_MaP' columns across all dataframes.\n",
    "\n",
    "    :param dfs: List of pandas DataFrames\n",
    "    :return: Two DataFrames with correlation values\n",
    "    \"\"\"\n",
    "    num_dfs = len(dfs)\n",
    "\n",
    "    # Extracting each column from all dataframes\n",
    "    dms_columns = [df['reactivity_DMS_MaP'] for df in dfs if 'reactivity_DMS_MaP' in df.columns]\n",
    "    a3_columns = [df['reactivity_2A3_MaP'] for df in dfs if 'reactivity_2A3_MaP' in df.columns]\n",
    "\n",
    "    # Concatenating the columns for each metric\n",
    "    concatenated_DMS = pd.concat(dms_columns, axis=1)\n",
    "    concatenated_2A3 = pd.concat(a3_columns, axis=1)\n",
    "\n",
    "    # Calculating the correlation matrices\n",
    "    dms_correlation_matrix = concatenated_DMS.corr()\n",
    "    a3_correlation_matrix = concatenated_2A3.corr()\n",
    "\n",
    "    return dms_correlation_matrix, a3_correlation_matrix"
   ]
  },
  {
   "cell_type": "code",
   "execution_count": 10,
   "metadata": {
    "tags": []
   },
   "outputs": [
    {
     "data": {
      "text/plain": [
       "True"
      ]
     },
     "execution_count": 10,
     "metadata": {},
     "output_type": "execute_result"
    }
   ],
   "source": [
    "(269724007 - 178686)==  269545321"
   ]
  },
  {
   "cell_type": "code",
   "execution_count": null,
   "metadata": {},
   "outputs": [],
   "source": []
  },
  {
   "cell_type": "code",
   "execution_count": null,
   "metadata": {
    "tags": []
   },
   "outputs": [],
   "source": []
  },
  {
   "cell_type": "code",
   "execution_count": null,
   "metadata": {
    "tags": []
   },
   "outputs": [],
   "source": [
    "# # use this to generate submission\n",
    "# class CFG:\n",
    "#     path = Path(\"../data/\")\n",
    "#     pathbb = Path(\"../data/Ribonanza_bpp_files\")\n",
    "#     pathss = Path(\"../eda/train_ss_vienna_rna.parquet\")\n",
    "#     split_id = Path('../eda/fold_split.csv')\n",
    "#     bs = 64\n",
    "#     num_workers = 12\n",
    "#     device = 'cuda'\n",
    "#     seed = 2023\n",
    "#     out = 'exp_09_ft'\n",
    "#     dataset_name = 'RNA_DatasetBaselineSplitbppV0'\n",
    "#     sn_train = True\n",
    "    \n",
    "#     model_name = 'RNA_ModelV7'\n",
    "#     dim = 192\n",
    "#     depth = 12\n",
    "#     dim_head = 32\n",
    "   \n",
    "#     epoch = 12\n",
    "#     lr = 5e-5\n",
    "#     wd = 0.05\n",
    "#     pct_start = 0.01\n",
    "#     md_wt = 'exp_09/models/model.pth'\n",
    "    \n",
    "    \n",
    "# class CFGFT:\n",
    "#     path = Path(\"../data/\")\n",
    "#     pathbb = Path(\"../data/Ribonanza_bpp_files\")\n",
    "#     pathss = Path(\"../eda/train_ss_vienna_rna.parquet\")\n",
    "#     split_id = Path('../eda/fold_split.csv')\n",
    "#     bs = 64\n",
    "#     num_workers = 12\n",
    "#     device = 'cuda'\n",
    "#     seed = 2023\n",
    "#     out = 'exp_08_ft'\n",
    "#     dataset_name = 'RNA_DatasetBaselineSplitssV0'\n",
    "#     sn_train = True\n",
    "    \n",
    "#     model_name = 'RNA_ModelV3SS'\n",
    "#     dim = 192\n",
    "#     depth = 12\n",
    "#     dim_head = 32\n",
    "   \n",
    "#     epoch = 12\n",
    "#     lr = 5e-5\n",
    "#     wd = 0.05\n",
    "#     pct_start = 0.01\n",
    "#     md_wt = 'exp_08/models/model.pth'\n",
    "\n",
    "    \n",
    "    \n",
    "# out_name = CFG.out + '_' + CFGFT.out\n",
    "# generate_sub([CFG, CFGFT], out_name, clip=False)\n",
    "# print(f\"kaggle competitions submit stanford-ribonanza-rna-folding -f {out_name}.parquet -m '{out_name}'\")"
   ]
  },
  {
   "cell_type": "code",
   "execution_count": null,
   "metadata": {
    "tags": []
   },
   "outputs": [],
   "source": [
    "# class CFG12:\n",
    "#     path = Path(\"../data/\")\n",
    "#     pathbb = Path(\"../data/Ribonanza_bpp_files\")\n",
    "#     pathss = Path(\"../eda/train_ss_vienna_rna.parquet\")\n",
    "#     split_id = Path('../eda/fold_split.csv')\n",
    "#     bs = 64\n",
    "#     num_workers = 12\n",
    "#     device = 'cuda'\n",
    "#     seed = 2023\n",
    "#     out = 'exp_12_ft'\n",
    "#     dataset_name = 'RNA_DatasetBaselineSplitbppV1'\n",
    "#     sn_train = True\n",
    "    \n",
    "#     model_name = 'RNA_ModelV7'\n",
    "#     dim = 192 * 2\n",
    "#     depth = 12\n",
    "#     dim_head = 32\n",
    "   \n",
    "#     epoch = 10\n",
    "#     lr = 5e-5\n",
    "#     wd = 0.05\n",
    "#     pct_start = 0.01\n",
    "    \n",
    "#     md_wt = 'exp_12/models/model.pth'\n",
    "    \n",
    "    \n",
    "# class CFG14:\n",
    "#     path = Path(\"../data/\")\n",
    "#     pathbb = Path(\"../data/Ribonanza_bpp_files\")\n",
    "#     pathss = Path(\"../eda/train_ss_vienna_rna.parquet\")\n",
    "#     split_id = Path('../eda/fold_split.csv')\n",
    "#     bs = 64\n",
    "#     num_workers = 12\n",
    "#     device = 'cuda'\n",
    "#     seed = 2023\n",
    "#     out = 'exp_14_ft'\n",
    "#     dataset_name = 'RNA_DatasetBaselineSplitssbppV0'\n",
    "#     sn_train = True\n",
    "    \n",
    "#     model_name = 'RNA_ModelV10'\n",
    "#     dim = 192 * 2\n",
    "#     depth = 12\n",
    "#     dim_head = 32\n",
    "   \n",
    "#     epoch = 8\n",
    "#     lr = 5e-6\n",
    "#     wd = 0.05\n",
    "#     pct_start = 0.02\n",
    "#     md_wt = 'exp_14/models/model.pth'\n",
    "    \n",
    "# out_name = CFG12.out + \"_\" + CFG14.out\n",
    "# generate_sub([CFG12, CFG14], out_name, clip=False)\n",
    "# print(f\"kaggle competitions submit stanford-ribonanza-rna-folding -f {out_name}.parquet -m '{out_name}'\")"
   ]
  },
  {
   "cell_type": "code",
   "execution_count": null,
   "metadata": {
    "tags": []
   },
   "outputs": [],
   "source": [
    "# class CFG:\n",
    "#     path = Path(\"../data/\")\n",
    "#     pathbb = Path(\"../data/Ribonanza_bpp_files\")\n",
    "#     pathss = Path(\"../eda/train_ss_vienna_rna.parquet\")\n",
    "#     split_id = Path('../eda/fold_split.csv')\n",
    "#     bs = 64\n",
    "#     num_workers = 12\n",
    "#     device = 'cuda'\n",
    "#     seed = 2023\n",
    "#     out = 'exp_16_ft'\n",
    "#     dataset_name = 'RNA_DatasetBaselineSplitssbppV1'\n",
    "#     sn_train = True\n",
    "    \n",
    "#     model_name = 'RNA_ModelV11'\n",
    "#     dim = 192 * 2\n",
    "#     depth = 12\n",
    "#     dim_head = 32\n",
    "   \n",
    "#     epoch = 8\n",
    "#     lr = 5e-6\n",
    "#     wd = 0.05\n",
    "#     pct_start = 0.02\n",
    "    \n",
    "#     md_wt = 'exp_16/models/model.pth'\n",
    "    \n",
    "# class CFG19:\n",
    "#     path = Path(\"../data/\")\n",
    "#     pathbb = Path(\"../data/Ribonanza_bpp_files\")\n",
    "#     pathss = Path(\"../eda/train_ss_vienna_rna.parquet\")\n",
    "#     split_id = Path('../eda/fold_split.csv')\n",
    "#     bs = 64\n",
    "#     num_workers = 12\n",
    "#     device = 'cuda'\n",
    "#     seed = 2023\n",
    "#     out = 'exp_19_ft'\n",
    "#     dataset_name = 'RNA_DatasetBaselineSplitssbppV1'\n",
    "#     sn_train = True\n",
    "    \n",
    "#     model_name = 'RNA_ModelV14'\n",
    "#     dim = 192 * 2\n",
    "#     depth = 12\n",
    "#     dim_head = 32\n",
    "   \n",
    "#     epoch = 8\n",
    "#     lr = 5e-6\n",
    "#     wd = 0.05\n",
    "#     pct_start = 0.02\n",
    "    \n",
    "#     md_wt = 'exp_19/models/model.pth'\n",
    "    \n",
    "# out_name = CFG.out + \"_\" + CFG19.out\n",
    "# generate_sub([CFG, CFG19], out_name, clip=False)\n",
    "# print(f\"kaggle competitions submit stanford-ribonanza-rna-folding -f {out_name}.parquet -m '{out_name}'\")"
   ]
  },
  {
   "cell_type": "code",
   "execution_count": null,
   "metadata": {},
   "outputs": [],
   "source": [
    "\n",
    "# class CFG_test:\n",
    "#     dataset_name = 'RNA_Dataset_TestBppSSFullV0'\n",
    "#     bs = 128\n",
    "#     num_workers = 16\n",
    "#     device = 'cuda'\n",
    "    \n",
    "    \n",
    "# class CFG:\n",
    "#     path = Path(\"../data/\")\n",
    "#     pathbb = Path(\"../data/Ribonanza_bpp_files\")\n",
    "#     pathss = Path(\"../eda/train_ss_vienna_rna.parquet\")\n",
    "#     split_id = Path('../eda/fold_split.csv')\n",
    "#     bs = 64\n",
    "#     num_workers = 12\n",
    "#     device = 'cuda'\n",
    "#     seed = 2023\n",
    "#     out = 'exp_22_ft'\n",
    "#     dataset_name = 'RNA_DatasetBaselineSplitssbppV1'\n",
    "#     sn_train = True\n",
    "    \n",
    "#     model_name = 'RNA_ModelV17'\n",
    "#     model_kwargs = {\"dim\" : 192 * 2, \n",
    "#                     \"depth\": 12,\n",
    "#                     \"layer_dropout\": 0.25,\n",
    "#                     \"attn_dropout\": 0.25,\n",
    "#                     \"drop_pat_dropout\": 0.25}\n",
    "\n",
    "   \n",
    "#     epoch = 24\n",
    "#     lr = 5e-6\n",
    "#     wd = 0.05\n",
    "#     pct_start = 0.01\n",
    "    \n",
    "#     md_wt = 'exp_22/models/model.pth'\n",
    "    \n",
    "# out_name = CFG.out\n",
    "# ds = getattr(rnacomp.dataset, CFG_test.dataset_name)(df_test)\n",
    "# dl = DeviceDataLoader(torch.utils.data.DataLoader(ds, batch_size=CFG_test.bs, \n",
    "#                shuffle=False, drop_last=False, num_workers=CFG_test.num_workers), CFG_test.device)\n",
    "\n",
    "# generate_sub(CFG_test, [CFG], out_name, clip=False, dl=dl)\n",
    "\n",
    "# a = pd.read_parquet(f'{out_name}_no_clip.parquet').set_index('id')\n",
    "# a = a.clip(0,1)\n",
    "# a = a.reset_index()\n",
    "# a.to_parquet(f'{out_name}.parquet', index=False)\n",
    "# print(f\"kaggle competitions submit stanford-ribonanza-rna-folding -f {out_name}.parquet -m '{out_name}'\")\n",
    "# plot_test_example(out_name)\n"
   ]
  },
  {
   "cell_type": "code",
   "execution_count": null,
   "metadata": {},
   "outputs": [],
   "source": [
    "\n",
    "\n",
    "# class CFG_test:\n",
    "#     dataset_name = 'RNA_Dataset_TestBppSSFullV1'\n",
    "#     bs = 128\n",
    "#     num_workers = 16\n",
    "#     device = 'cuda'\n",
    "    \n",
    "    \n",
    "# class CFG:\n",
    "#     path = Path(\"../data/\")\n",
    "#     pathbb = Path(\"../data/Ribonanza_bpp_files\")\n",
    "#     pathss = Path(\"../eda/train_ss_vienna_rna.parquet\")\n",
    "#     split_id = Path('../eda/fold_split.csv')\n",
    "#     bs = 64\n",
    "#     num_workers = 12\n",
    "#     device = 'cuda'\n",
    "#     seed = 2023\n",
    "#     out = 'exp_23_ft'\n",
    "#     dataset_name = 'RNA_DatasetBaselineSplitssbppV2'\n",
    "#     sn_train = True\n",
    "#     dim = False\n",
    "#     model_name = 'RNA_ModelV17'\n",
    "#     model_kwargs = {\"dim\" : 192 * 2, \n",
    "#                     \"depth\": 12,\n",
    "#                     \"layer_dropout\": 0.25,\n",
    "#                     \"attn_dropout\": 0.25,\n",
    "#                     \"drop_pat_dropout\": 0.25}\n",
    "\n",
    "   \n",
    "#     epoch = 24\n",
    "#     lr = 5e-6\n",
    "#     wd = 0.05\n",
    "#     pct_start = 0.01\n",
    "    \n",
    "#     md_wt = 'exp_23/models/model.pth'\n",
    "    \n",
    "# out_name = CFG.out\n",
    "# ds = getattr(rnacomp.dataset, CFG_test.dataset_name)(df_test)\n",
    "# dl = DeviceDataLoader(torch.utils.data.DataLoader(ds, batch_size=CFG_test.bs, \n",
    "#                shuffle=False, drop_last=False, num_workers=CFG_test.num_workers), CFG_test.device)\n",
    "\n",
    "# generate_sub(CFG_test, [CFG], out_name, clip=False, dl=dl)\n",
    "\n",
    "# a = pd.read_parquet(f'{out_name}_no_clip.parquet').set_index('id')\n",
    "# a = a.clip(0,1)\n",
    "# a = a.reset_index()\n",
    "# a.to_parquet(f'{out_name}.parquet', index=False)\n",
    "# print(f\"kaggle competitions submit stanford-ribonanza-rna-folding -f {out_name}.parquet -m '{out_name}'\")\n",
    "# plot_test_example(out_name)\n"
   ]
  },
  {
   "cell_type": "code",
   "execution_count": null,
   "metadata": {},
   "outputs": [],
   "source": [
    "# class CFG_test:\n",
    "#     dataset_name = 'RNA_Dataset_TestBppSSFullV2'\n",
    "#     bs = 128\n",
    "#     num_workers = 16\n",
    "#     device = 'cuda'\n",
    "    \n",
    "    \n",
    "# class CFG:\n",
    "#     path = Path(\"../data/\")\n",
    "#     pathbb = Path(\"../data/Ribonanza_bpp_files\")\n",
    "#     pathss = Path(\"../eda/train_ss_vienna_rna.parquet\")\n",
    "#     split_id = Path('../eda/fold_split.csv')\n",
    "#     bs = 64\n",
    "#     num_workers = 12\n",
    "#     device = 'cuda'\n",
    "#     seed = 2023\n",
    "#     out = 'exp_26_ft'\n",
    "#     dataset_name = 'RNA_DatasetBaselineSplitssbppV3'\n",
    "#     sn_train = True\n",
    "    \n",
    "#     model_name = 'RNA_ModelV20'\n",
    "#     model_kwargs = {\"dim\" : 192 * 2, \n",
    "#                     \"depth\": 12,\n",
    "#                     \"layer_dropout\": 0.25,\n",
    "#                     \"attn_dropout\": 0.25,\n",
    "#                     \"drop_pat_dropout\": 0.25}\n",
    "#     dim =False\n",
    "   \n",
    "#     epoch = 24\n",
    "#     lr = 5e-6\n",
    "#     wd = 0.05\n",
    "#     pct_start = 0.01\n",
    "    \n",
    "#     md_wt = 'exp_26/models/model.pth'\n",
    "    \n",
    "# out_name = CFG.out\n",
    "# ds = getattr(rnacomp.dataset, CFG_test.dataset_name)(df_test)\n",
    "# dl = DeviceDataLoader(torch.utils.data.DataLoader(ds, batch_size=CFG_test.bs, \n",
    "#                shuffle=False, drop_last=False, num_workers=CFG_test.num_workers), CFG_test.device)\n",
    "\n",
    "# generate_sub(CFG_test, [CFG], out_name, clip=False, dl=dl)\n",
    "\n",
    "# a = pd.read_parquet(f'{out_name}_no_clip.parquet').set_index('id')\n",
    "# a = a.clip(0,1)\n",
    "# a = a.reset_index()\n",
    "# a.to_parquet(f'{out_name}.parquet', index=False)\n",
    "# print(f\"kaggle competitions submit stanford-ribonanza-rna-folding -f {out_name}.parquet -m '{out_name}'\")\n",
    "# plot_test_example(out_name)\n",
    "\n"
   ]
  },
  {
   "cell_type": "code",
   "execution_count": null,
   "metadata": {},
   "outputs": [],
   "source": [
    "\n",
    "\n",
    "# class CFG_test:\n",
    "#     dataset_name = 'RNA_Dataset_TestBppSSFullV3' #\"RNA_Dataset_TestBppSSFullV1\" #'RNA_Dataset_TestBppSSFullV0' #`RNA_Dataset_TestBppSS' #'\n",
    "#     bs = 128\n",
    "#     num_workers = 16\n",
    "#     device = 'cuda'\n",
    "    \n",
    "    \n",
    "    \n",
    "    \n",
    "# class CFG:\n",
    "#     path = Path(\"../data/\")\n",
    "#     pathbb = Path(\"../data/Ribonanza_bpp_files\")\n",
    "#     pathss = Path(\"../eda/train_ss_vienna_rna.parquet\")\n",
    "#     split_id = Path('../eda/fold_split.csv')\n",
    "#     bs = 64\n",
    "#     num_workers = 12\n",
    "#     device = 'cuda'\n",
    "#     seed = 2023\n",
    "#     out = 'exp_29_ft'\n",
    "#     dataset_name = 'RNA_DatasetBaselineSplitssbppV4'\n",
    "#     sn_train = True\n",
    "    \n",
    "#     model_name = 'RNA_ModelV20'\n",
    "#     model_kwargs = {\"dim\" : 192 * 2, \n",
    "#                     \"depth\": 12,\n",
    "#                     \"layer_dropout\": 0.25,\n",
    "#                     \"attn_dropout\": 0.25,\n",
    "#                     \"drop_pat_dropout\": 0.25}\n",
    "#     dim = False\n",
    "   \n",
    "#     epoch = 32\n",
    "#     lr = 5e-6\n",
    "#     wd = 0.05\n",
    "#     pct_start = 0.01\n",
    "    \n",
    "#     md_wt = 'exp_29/models/model.pth'\n",
    "    \n",
    "# out_name = CFG.out\n",
    "# ds = getattr(rnacomp.dataset, CFG_test.dataset_name)(df_test)\n",
    "# dl = DeviceDataLoader(torch.utils.data.DataLoader(ds, batch_size=CFG_test.bs, \n",
    "#                shuffle=False, drop_last=False, num_workers=CFG_test.num_workers), CFG_test.device)\n",
    "\n",
    "# generate_sub(CFG_test, [CFG], out_name, clip=False, dl=dl)\n",
    "\n",
    "# a = pd.read_parquet(f'{out_name}_no_clip.parquet').set_index('id')\n",
    "# a = a.clip(0,1)\n",
    "# a = a.reset_index()\n",
    "# a.to_parquet(f'{out_name}.parquet', index=False)\n",
    "# print(f\"kaggle competitions submit stanford-ribonanza-rna-folding -f {out_name}.parquet -m '{out_name}'\")\n",
    "# plot_test_example(out_name)\n"
   ]
  },
  {
   "cell_type": "code",
   "execution_count": null,
   "metadata": {},
   "outputs": [],
   "source": [
    "# #RNA_Dataset_TestBppSSFullV4\n",
    "\n",
    "\n",
    "# class CFG_test:\n",
    "#     dataset_name = 'RNA_Dataset_TestBppSSFullV4' #\"RNA_Dataset_TestBppSSFullV1\" #'RNA_Dataset_TestBppSSFullV0' #`RNA_Dataset_TestBppSS' #'\n",
    "#     bs = 128\n",
    "#     num_workers = 16\n",
    "#     device = 'cuda'\n",
    "    \n",
    "    \n",
    "    \n",
    "# class CFG:\n",
    "#     path = Path(\"../data/\")\n",
    "#     pathbb = Path(\"../data/Ribonanza_bpp_files\")\n",
    "#     pathss = Path(\"../eda/train_ss_vienna_rna.parquet\")\n",
    "#     split_id = Path('../eda/fold_split.csv')\n",
    "#     bs = 64\n",
    "#     num_workers = 12\n",
    "#     device = 'cuda'\n",
    "#     seed = 2023\n",
    "#     out = 'exp_31_ft'\n",
    "#     dataset_name = 'RNA_DatasetBaselineSplitssbppV5'\n",
    "#     sn_train = True\n",
    "#     dim =False\n",
    "#     model_name = 'RNA_ModelV24'\n",
    "#     model_kwargs = dict(dim=192 * 2,\n",
    "#         depth=4,\n",
    "#         head_size=32,\n",
    "#         drop_pat_dropout=0.2,\n",
    "#         dropout=0.2,\n",
    "#         bpp_transfomer_depth = 8)\n",
    "\n",
    "   \n",
    "#     epoch = 32\n",
    "#     lr = 5e-6\n",
    "#     wd = 0.05\n",
    "#     pct_start = 0.01\n",
    "    \n",
    "#     md_wt = 'exp_31/models/model.pth'\n",
    "    \n",
    "# out_name = CFG.out\n",
    "# ds = getattr(rnacomp.dataset, CFG_test.dataset_name)(df_test)\n",
    "# dl = DeviceDataLoader(torch.utils.data.DataLoader(ds, batch_size=CFG_test.bs, \n",
    "#                shuffle=False, drop_last=False, num_workers=CFG_test.num_workers), CFG_test.device)\n",
    "\n",
    "# generate_sub(CFG_test, [CFG], out_name, clip=False, dl=dl)\n",
    "\n",
    "# a = pd.read_parquet(f'{out_name}_no_clip.parquet').set_index('id')\n",
    "# a = a.clip(0,1)\n",
    "# a = a.reset_index()\n",
    "# a.to_parquet(f'{out_name}.parquet', index=False)\n",
    "# print(f\"kaggle competitions submit stanford-ribonanza-rna-folding -f {out_name}.parquet -m '{out_name}'\")\n",
    "# plot_test_example(out_name)"
   ]
  },
  {
   "cell_type": "code",
   "execution_count": null,
   "metadata": {
    "tags": []
   },
   "outputs": [],
   "source": []
  },
  {
   "cell_type": "code",
   "execution_count": null,
   "metadata": {},
   "outputs": [],
   "source": [
    "# #RNA_Dataset_TestBppSSFullV4\n",
    "\n",
    "# class CFG_test:\n",
    "#     dataset_name = 'RNA_Dataset_TestBppSSFullV4'\n",
    "#     bs = 128\n",
    "#     num_workers = 16\n",
    "#     device = 'cuda'\n",
    "    \n",
    "    \n",
    "# class CFG:\n",
    "#     path = Path(\"../data/\")\n",
    "#     pathbb = Path(\"../data/Ribonanza_bpp_files\")\n",
    "#     pathss = Path(\"../eda/train_ss_vienna_rna.parquet\")\n",
    "#     split_id = Path('../eda/fold_split.csv')\n",
    "#     device = 'cuda'\n",
    "#     seed = 2023\n",
    "#     out = 'exp_32_ft'\n",
    "#     dataset_name = 'RNA_DatasetBaselineSplitssbppV5'\n",
    "\n",
    "    \n",
    "#     model_name = 'RNA_ModelV25'\n",
    "#     model_kwargs = dict(dim=192 * 2,\n",
    "#         depth=4,\n",
    "#         head_size=32,\n",
    "#         drop_pat_dropout=0.2,\n",
    "#         dropout=0.2,\n",
    "#         bpp_transfomer_depth = 4)\n",
    "\n",
    "#     sn_train = True\n",
    "#     epoch = 16\n",
    "#     lr = 5e-6\n",
    "#     wd = 0.05\n",
    "#     pct_start = 0.01\n",
    "#     dim = False\n",
    "    \n",
    "#     md_wt = 'exp_32/models/model.pth'\n",
    "    \n",
    "# out_name = CFG.out\n",
    "# ds = getattr(rnacomp.dataset, CFG_test.dataset_name)(df_test)\n",
    "# dl = DeviceDataLoader(torch.utils.data.DataLoader(ds, batch_size=CFG_test.bs, \n",
    "#                shuffle=False, drop_last=False, num_workers=CFG_test.num_workers), CFG_test.device)\n",
    "\n",
    "# generate_sub(CFG_test, [CFG], out_name, clip=False, dl=dl)\n",
    "\n",
    "# a = pd.read_parquet(f'{out_name}_no_clip.parquet').set_index('id')\n",
    "# a = a.clip(0,1)\n",
    "# a = a.reset_index()\n",
    "# a.to_parquet(f'{out_name}.parquet', index=False)\n",
    "# print(f\"kaggle competitions submit stanford-ribonanza-rna-folding -f {out_name}.parquet -m '{out_name}'\")\n",
    "# plot_test_example(out_name)"
   ]
  },
  {
   "cell_type": "code",
   "execution_count": null,
   "metadata": {},
   "outputs": [],
   "source": [
    "#RNA_Dataset_TestBppSSFullV4\n",
    "\n",
    "# class CFG_test:\n",
    "#     dataset_name = 'RNA_Dataset_TestSavedV0'\n",
    "#     bs = 128\n",
    "#     num_workers = 16\n",
    "#     device = 'cuda'\n",
    "    \n",
    "    \n",
    "# class CFG:\n",
    "#     path = Path(\"../data/\")\n",
    "#     pathbb = Path(\"../data/Ribonanza_bpp_files\")\n",
    "#     pathss = Path(\"../eda/train_ss_vienna_rna.parquet\")\n",
    "#     split_id = Path('../eda/fold_split.csv')\n",
    "#     num_workers = 4\n",
    "#     device = 'cuda'\n",
    "#     seed = 2023\n",
    "#     out = 'exp_32_v1_ft'\n",
    "#     dataset_name = 'RNA_DatasetBaselineSplitssbppV6SAVED'\n",
    "\n",
    "    \n",
    "#     model_name = 'RNA_ModelV25'\n",
    "#     model_kwargs = dict(dim=192 * 2,\n",
    "#         depth=4,\n",
    "#         head_size=32,\n",
    "#         drop_pat_dropout=0.2,\n",
    "#         dropout=0.2,\n",
    "#         bpp_transfomer_depth = 4)\n",
    "\n",
    "#     bs = 16\n",
    "#     sn_train = True\n",
    "#     epoch = 32\n",
    "#     lr = 5e-5\n",
    "#     wd = 0.05\n",
    "#     pct_start = 0.01\n",
    "#     dim = False\n",
    "    \n",
    "#     md_wt = 'exp_32_v1/models/model.pth'\n",
    "# out_name = CFG.out\n",
    "# ds = getattr(rnacomp.dataset, CFG_test.dataset_name)(df_test)\n",
    "# dl = DeviceDataLoader(torch.utils.data.DataLoader(ds, batch_size=CFG_test.bs, \n",
    "#                shuffle=False, drop_last=False, num_workers=CFG_test.num_workers), CFG_test.device)\n",
    "\n",
    "# generate_sub(CFG_test, [CFG], out_name, clip=False, dl=dl)\n",
    "\n",
    "# a = pd.read_parquet(f'{out_name}_no_clip.parquet').set_index('id')\n",
    "# a = a.clip(0,1)\n",
    "# a = a.reset_index()\n",
    "# a.to_parquet(f'{out_name}.parquet', index=False)\n",
    "# print(f\"kaggle competitions submit stanford-ribonanza-rna-folding -f {out_name}.parquet -m '{out_name}'\")\n",
    "# plot_test_example(out_name)"
   ]
  },
  {
   "cell_type": "code",
   "execution_count": null,
   "metadata": {},
   "outputs": [],
   "source": [
    "\n",
    "\n",
    "# class CFG_test:\n",
    "#     dataset_name = 'RNA_Dataset_TestSavedV0'\n",
    "#     bs = 96\n",
    "#     num_workers = 8\n",
    "#     device = 'cuda'\n",
    "    \n",
    "    \n",
    "# class CFG:\n",
    "#     path = Path(\"../data/\")\n",
    "#     pathbb = Path(\"../data/Ribonanza_bpp_files\")\n",
    "#     pathss = Path(\"../eda/train_ss_vienna_rna.parquet\")\n",
    "#     split_id = Path('../eda/fold_split.csv')\n",
    "\n",
    "#     device = 'cuda'\n",
    "#     seed = 2023\n",
    "#     out = 'exp_32_v2_ft'\n",
    "#     dataset_name = 'RNA_DatasetBaselineSplitssbppV6SAVED'\n",
    "\n",
    "    \n",
    "#     model_name = 'RNA_ModelV25'\n",
    "#     model_kwargs = dict(dim=192 * 2,\n",
    "#         depth=4,\n",
    "#         head_size=32,\n",
    "#         drop_pat_dropout=0.2,\n",
    "#         dropout=0.2,\n",
    "#         bpp_transfomer_depth = 6)\n",
    "\n",
    "\n",
    "#     bs = 16\n",
    "#     sn_train = True\n",
    "#     epoch = 16\n",
    "#     lr = 5e-5\n",
    "#     wd = 0.05\n",
    "#     pct_start = 0.01\n",
    "#     dim = False\n",
    "    \n",
    "    \n",
    "#     md_wt = 'exp_32_v2/models/model.pth'\n",
    "    \n",
    "# out_name = CFG.out\n",
    "# ds = getattr(rnacomp.dataset, CFG_test.dataset_name)(df_test)\n",
    "# dl = DeviceDataLoader(torch.utils.data.DataLoader(ds, batch_size=CFG_test.bs, \n",
    "#                shuffle=False, drop_last=False, num_workers=CFG_test.num_workers), CFG_test.device)\n",
    "\n",
    "# generate_sub(CFG_test, [CFG], out_name, clip=False, dl=dl)\n",
    "\n",
    "# a = pd.read_parquet(f'{out_name}_no_clip.parquet').set_index('id')\n",
    "# a = a.clip(0,1)\n",
    "# a = a.reset_index()\n",
    "# a.to_parquet(f'{out_name}.parquet', index=False)\n",
    "# print(f\"kaggle competitions submit stanford-ribonanza-rna-folding -f {out_name}.parquet -m '{out_name}'\")\n",
    "# plot_test_example(out_name)"
   ]
  },
  {
   "cell_type": "code",
   "execution_count": null,
   "metadata": {},
   "outputs": [],
   "source": [
    "\n",
    "# a = pd.read_parquet('exp_22_ft_no_clip.parquet').set_index('id')\n",
    "# a = a.clip(0,1)\n",
    "# a = a.reset_index()\n",
    "# a.to_parquet(f'exp_22_ft.parquet', index=False)"
   ]
  },
  {
   "cell_type": "code",
   "execution_count": null,
   "metadata": {},
   "outputs": [],
   "source": []
  },
  {
   "cell_type": "code",
   "execution_count": null,
   "metadata": {},
   "outputs": [],
   "source": []
  },
  {
   "cell_type": "code",
   "execution_count": null,
   "metadata": {},
   "outputs": [],
   "source": [
    "# name = 'comb_v1'\n",
    "# a  = (pd.read_parquet('exp_12_ft_exp_14_ft_no_clip.parquet').set_index('id') + pd.read_parquet('exp_09_ft_exp_08_ft.parquet').set_index('id'))/2\n",
    "# b = (a + pd.read_parquet('exp_16_ft_exp_19_ft_no_clip.parquet').set_index('id'))/2\n",
    "# b = b.clip(0,1)\n",
    "# b = b.reset_index()\n",
    "# b.to_parquet(f'{name}.parquet', index=False)\n",
    "# print(print(f\"kaggle competitions submit stanford-ribonanza-rna-folding -f {name}.parquet -m '{name}'\"))\n",
    "# pd.read_parquet(f'{name}.parquet')\n"
   ]
  },
  {
   "cell_type": "code",
   "execution_count": null,
   "metadata": {},
   "outputs": [],
   "source": [
    "#  a  = (pd.read_parquet('comb_v1.parquet').set_index('id') + pd.read_parquet('submission.parquet').set_index('id'))/2\n",
    "#  a = a.reset_index()\n",
    "#  a.to_parquet(f'comb_v2.parquet', index=False)\n",
    " "
   ]
  },
  {
   "cell_type": "code",
   "execution_count": null,
   "metadata": {},
   "outputs": [],
   "source": [
    "# name = 'comb_v3'\n",
    "# res = (pd.read_parquet('exp_16_ft_exp_19_ft_no_clip.parquet').set_index('id').values + pd.read_parquet('exp_22_ft_no_clip.parquet').set_index('id').values)/2\n",
    "# res = np.clip(res, 0, 1)\n",
    "# res = pd.DataFrame(res, columns=['reactivity_DMS_MaP', 'reactivity_2A3_MaP'], index=pd.read_parquet('exp_16_ft_exp_19_ft_no_clip.parquet').set_index('id').index)\n",
    "# res.reset_index().to_parquet(f'{name}.parquet', index=False)\n",
    "# print(print(f\"kaggle competitions submit stanford-ribonanza-rna-folding -f {name}.parquet -m '{name}'\"))"
   ]
  },
  {
   "cell_type": "code",
   "execution_count": null,
   "metadata": {},
   "outputs": [],
   "source": [
    "# name = \"comb_v4\"\n",
    "# res = 0.6 * pd.read_parquet(\"comb_v3.parquet\").set_index(\"id\").values +  0.4 * pd.read_parquet(\"submission.parquet\").set_index(\"id\").values\n",
    "# res = np.clip(res, 0, 1)\n",
    "# res = pd.DataFrame(\n",
    "#     res,\n",
    "#     columns=[\"reactivity_DMS_MaP\", \"reactivity_2A3_MaP\"],\n",
    "#     index=pd.read_parquet(\"exp_16_ft_exp_19_ft_no_clip.parquet\").set_index(\"id\").index,\n",
    "# )\n",
    "# res.reset_index().to_parquet(f\"{name}.parquet\", index=False)\n",
    "# print(\n",
    "#     print(\n",
    "#         f\"kaggle competitions submit stanford-ribonanza-rna-folding -f {name}.parquet -m '{name}'\"\n",
    "#     )\n",
    "# )\n",
    "# plot_test_example(name)"
   ]
  },
  {
   "cell_type": "code",
   "execution_count": null,
   "metadata": {},
   "outputs": [],
   "source": [
    "# name = 'comb_v5'\n",
    "# res = (0.4 * pd.read_parquet('exp_16_ft_exp_19_ft_no_clip.parquet').set_index('id').values + 0.4 * pd.read_parquet('exp_22_ft_no_clip.parquet').set_index('id').values + 0.2* pd.read_parquet('exp_12_ft_exp_14_ft_no_clip.parquet').set_index('id').values)\n",
    "# res = np.clip(res, 0, 1)\n",
    "# res = pd.DataFrame(res, columns=['reactivity_DMS_MaP', 'reactivity_2A3_MaP'], index=pd.read_parquet('exp_16_ft_exp_19_ft_no_clip.parquet').set_index('id').index)\n",
    "# res.reset_index().to_parquet(f'{name}.parquet', index=False)\n",
    "# print(print(f\"kaggle competitions submit stanford-ribonanza-rna-folding -f {name}.parquet -m '{name}'\"))\n",
    "# plot_test_example(name)"
   ]
  },
  {
   "cell_type": "code",
   "execution_count": null,
   "metadata": {},
   "outputs": [],
   "source": [
    "# name = 'comb_v6'\n",
    "# res = (pd.read_parquet('exp_22_ft_no_clip.parquet').set_index('id').values + pd.read_parquet('exp_23_ft_no_clip.parquet').set_index('id').values)/2\n",
    "# res = np.clip(res, 0, 1)\n",
    "# res = pd.DataFrame(res, columns=['reactivity_DMS_MaP', 'reactivity_2A3_MaP'], index=pd.read_parquet('exp_16_ft_exp_19_ft_no_clip.parquet').set_index('id').index)\n",
    "# res.reset_index().to_parquet(f'{name}.parquet', index=False)\n",
    "# print(print(f\"kaggle competitions submit stanford-ribonanza-rna-folding -f {name}.parquet -m '{name}'\"))\n",
    "# plot_test_example(name)"
   ]
  },
  {
   "cell_type": "code",
   "execution_count": null,
   "metadata": {},
   "outputs": [],
   "source": [
    "# name = 'comb_v6_no_clip'\n",
    "# res = (pd.read_parquet('exp_22_ft_no_clip.parquet').set_index('id').values + pd.read_parquet('exp_23_ft_no_clip.parquet').set_index('id').values)/2\n",
    "# res = pd.DataFrame(res, columns=['reactivity_DMS_MaP', 'reactivity_2A3_MaP'], index=pd.read_parquet('exp_16_ft_exp_19_ft_no_clip.parquet').set_index('id').index)\n",
    "# res.reset_index().to_parquet(f'{name}.parquet', index=False)\n",
    "# print(print(f\"kaggle competitions submit stanford-ribonanza-rna-folding -f {name}.parquet -m '{name}'\"))\n",
    "# plot_test_example(name)"
   ]
  },
  {
   "cell_type": "code",
   "execution_count": null,
   "metadata": {},
   "outputs": [],
   "source": [
    "# name = 'comb_v7'\n",
    "# res = (0.4 * pd.read_parquet('exp_16_ft_exp_19_ft_no_clip.parquet').set_index('id').values + 0.4 * pd.read_parquet('comb_v6_no_clip.parquet').set_index('id').values + 0.2* pd.read_parquet('exp_12_ft_exp_14_ft_no_clip.parquet').set_index('id').values)\n",
    "# res = np.clip(res, 0, 1)\n",
    "# res = pd.DataFrame(res, columns=['reactivity_DMS_MaP', 'reactivity_2A3_MaP'], index=pd.read_parquet('exp_16_ft_exp_19_ft_no_clip.parquet').set_index('id').index)\n",
    "# res.reset_index().to_parquet(f'{name}.parquet', index=False)\n",
    "# print(print(f\"kaggle competitions submit stanford-ribonanza-rna-folding -f {name}.parquet -m '{name}'\"))\n",
    "# plot_test_example(name)"
   ]
  },
  {
   "cell_type": "code",
   "execution_count": null,
   "metadata": {},
   "outputs": [],
   "source": [
    "# name = 'comb_v8'\n",
    "# res = (0.5 * pd.read_parquet('comb_v7.parquet').set_index('id').values + 0.5 * pd.read_parquet('/opt/slh/rna/sub/submission_ft_14226.parquet').set_index('id').values)\n",
    "# res = np.clip(res, 0, 1)\n",
    "# res = pd.DataFrame(res, columns=['reactivity_DMS_MaP', 'reactivity_2A3_MaP'], index=pd.read_parquet('exp_16_ft_exp_19_ft_no_clip.parquet').set_index('id').index)\n",
    "# res.reset_index().to_parquet(f'{name}.parquet', index=False)\n",
    "# print(print(f\"kaggle competitions submit stanford-ribonanza-rna-folding -f {name}.parquet -m '{name}'\"))\n",
    "# plot_test_example(name)"
   ]
  },
  {
   "cell_type": "code",
   "execution_count": null,
   "metadata": {},
   "outputs": [],
   "source": [
    "# name = 'comb_v9'\n",
    "# res = (0.5 * pd.read_parquet('comb_v4.parquet').set_index('id').values + 0.5 * pd.read_parquet('/opt/slh/rna/sub/submission_ft_14226.parquet').set_index('id').values)\n",
    "# res = np.clip(res, 0, 1)\n",
    "# res = pd.DataFrame(res, columns=['reactivity_DMS_MaP', 'reactivity_2A3_MaP'], index=pd.read_parquet('exp_16_ft_exp_19_ft_no_clip.parquet').set_index('id').index)\n",
    "# res.reset_index().to_parquet(f'{name}.parquet', index=False)\n",
    "# print(print(f\"kaggle competitions submit stanford-ribonanza-rna-folding -f {name}.parquet -m '{name}'\"))\n",
    "# plot_test_example(name)"
   ]
  },
  {
   "cell_type": "code",
   "execution_count": null,
   "metadata": {},
   "outputs": [],
   "source": [
    "# name = 'comb_v10'\n",
    "# res = (0.65 * pd.read_parquet('comb_v4.parquet').set_index('id').values + 0.35 * pd.read_parquet('/opt/slh/rna/sub/submission_ft_14226.parquet').set_index('id').values)\n",
    "# res = np.clip(res, 0, 1)\n",
    "# res = pd.DataFrame(res, columns=['reactivity_DMS_MaP', 'reactivity_2A3_MaP'], index=pd.read_parquet('exp_16_ft_exp_19_ft_no_clip.parquet').set_index('id').index)\n",
    "# res.reset_index().to_parquet(f'{name}.parquet', index=False)\n",
    "# print(print(f\"kaggle competitions submit stanford-ribonanza-rna-folding -f {name}.parquet -m '{name}'\"))\n",
    "# plot_test_example(name)"
   ]
  },
  {
   "cell_type": "code",
   "execution_count": null,
   "metadata": {},
   "outputs": [],
   "source": [
    "# #0.14322\n",
    "# name = \"comb_v11\"\n",
    "# res = (\n",
    "#       pd.read_parquet(\"/opt/slh/rna/sub/exp_29_ft_no_clip.parquet\").set_index(\"id\").values\n",
    "#     + pd.read_parquet(\"/opt/slh/rna/sub/exp_26_ft_no_clip.parquet\").set_index(\"id\").values\n",
    "#     + pd.read_parquet(\"/opt/slh/rna/sub/exp_23_ft_no_clip.parquet\").set_index(\"id\").values\n",
    "#     + pd.read_parquet(\"/opt/slh/rna/sub/exp_22_ft_no_clip.parquet\").set_index(\"id\").values\n",
    "# ) / 4\n",
    "# res = np.clip(res, 0, 1)\n",
    "# res = pd.DataFrame(\n",
    "#     res,\n",
    "#     columns=[\"reactivity_DMS_MaP\", \"reactivity_2A3_MaP\"],\n",
    "#     index=pd.read_parquet(\"exp_16_ft_exp_19_ft_no_clip.parquet\").set_index(\"id\").index,\n",
    "# )\n",
    "# res.reset_index().to_parquet(f\"{name}.parquet\", index=False)\n",
    "# print(\n",
    "#     print(\n",
    "#         f\"kaggle competitions submit stanford-ribonanza-rna-folding -f {name}.parquet -m '{name}'\"\n",
    "#     )\n",
    "# )\n",
    "# plot_test_example(name)"
   ]
  },
  {
   "cell_type": "code",
   "execution_count": null,
   "metadata": {},
   "outputs": [],
   "source": [
    "# name = 'comb_v12'\n",
    "# res = (0.5 * pd.read_parquet('comb_v11.parquet').set_index('id').values + 0.5 * pd.read_parquet('comb_v1.parquet').set_index('id').values)\n",
    "# res = np.clip(res, 0, 1)\n",
    "# res = pd.DataFrame(res, columns=['reactivity_DMS_MaP', 'reactivity_2A3_MaP'], index=pd.read_parquet('exp_16_ft_exp_19_ft_no_clip.parquet').set_index('id').index)\n",
    "# res.reset_index().to_parquet(f'{name}.parquet', index=False)\n",
    "# print(print(f\"kaggle competitions submit stanford-ribonanza-rna-folding -f {name}.parquet -m '{name}'\"))\n",
    "# plot_test_example(name)"
   ]
  },
  {
   "cell_type": "code",
   "execution_count": null,
   "metadata": {},
   "outputs": [],
   "source": [
    "# name = 'comb_v14'\n",
    "# res = (0.5 * pd.read_parquet('/opt/slh/rna/sub/exp_32_ft_no_clip.parquet').set_index('id').values + 0.5 * pd.read_parquet('/opt/slh/rna/sub/exp_31_ft_no_clip.parquet').set_index('id').values)\n",
    "# res = np.clip(res, 0, 1)\n",
    "# res = pd.DataFrame(res, columns=['reactivity_DMS_MaP', 'reactivity_2A3_MaP'], index=pd.read_parquet('exp_16_ft_exp_19_ft_no_clip.parquet').set_index('id').index)\n",
    "# res.reset_index().to_parquet(f'{name}.parquet', index=False)\n",
    "# print(print(f\"kaggle competitions submit stanford-ribonanza-rna-folding -f {name}.parquet -m '{name}'\"))\n",
    "# plot_test_example(name)"
   ]
  },
  {
   "cell_type": "code",
   "execution_count": null,
   "metadata": {},
   "outputs": [],
   "source": [
    "# name = 'comb_v15'\n",
    "# res = (0.5 * pd.read_parquet('comb_v14.parquet').set_index('id').values + 0.5 * pd.read_parquet('comb_v11.parquet').set_index('id').values)\n",
    "# res = np.clip(res, 0, 1)\n",
    "# res = pd.DataFrame(res, columns=['reactivity_DMS_MaP', 'reactivity_2A3_MaP'], index=pd.read_parquet('exp_16_ft_exp_19_ft_no_clip.parquet').set_index('id').index)\n",
    "# res.reset_index().to_parquet(f'{name}.parquet', index=False)\n",
    "# print(print(f\"kaggle competitions submit stanford-ribonanza-rna-folding -f {name}.parquet -m '{name}'\"))\n",
    "# plot_test_example(name)"
   ]
  },
  {
   "cell_type": "code",
   "execution_count": null,
   "metadata": {
    "tags": []
   },
   "outputs": [],
   "source": [
    "# # 0.14217\n",
    "# name = 'comb_v16'\n",
    "# res = (pd.read_parquet('/opt/slh/rna/sub/exp_32_ft_no_clip.parquet').set_index('id').values + \n",
    "#        pd.read_parquet('/opt/slh/rna/sub/exp_31_ft_no_clip.parquet').set_index('id').values + \n",
    "#        pd.read_parquet('exp_32_v1_ft_no_clip.parquet').set_index('id').values)/3\n",
    "# res = np.clip(res, 0, 1)\n",
    "# res = pd.DataFrame(res, columns=['reactivity_DMS_MaP', 'reactivity_2A3_MaP'], index=pd.read_parquet('exp_16_ft_exp_19_ft_no_clip.parquet').set_index('id').index)\n",
    "# res.reset_index().to_parquet(f'{name}.parquet', index=False)\n",
    "# print(print(f\"kaggle competitions submit stanford-ribonanza-rna-folding -f {name}.parquet -m '{name}'\"))\n",
    "# plot_test_example(name)"
   ]
  },
  {
   "cell_type": "code",
   "execution_count": null,
   "metadata": {},
   "outputs": [],
   "source": [
    "#0.13916\n",
    "# name = 'comb_v16_l'\n",
    "# res = (pd.read_parquet('submission.parquet').set_index('id').values + \n",
    "#        pd.read_parquet('submission_ft_14226.parquet').set_index('id').values + \n",
    "#        pd.read_parquet('submission_ft_tta.parquet').set_index('id').values)/3\n",
    "# res = np.clip(res, 0, 1)\n",
    "# res = pd.DataFrame(res, columns=['reactivity_DMS_MaP', 'reactivity_2A3_MaP'], index=pd.read_parquet('exp_16_ft_exp_19_ft_no_clip.parquet').set_index('id').index)\n",
    "# res.reset_index().to_parquet(f'{name}.parquet', index=False)\n",
    "# print(print(f\"kaggle competitions submit stanford-ribonanza-rna-folding -f {name}.parquet -m '{name}'\"))\n",
    "# plot_test_example(name)"
   ]
  },
  {
   "cell_type": "code",
   "execution_count": null,
   "metadata": {},
   "outputs": [],
   "source": [
    "# name = 'comb_v17'\n",
    "# res = (0.6 * pd.read_parquet('comb_v16_l.parquet').set_index('id').values +\n",
    "#        0.3 * pd.read_parquet('comb_v16.parquet').set_index('id').values + \n",
    "#        0.1 * pd.read_parquet('comb_v11.parquet').set_index('id').values )\n",
    "# res = np.clip(res, 0, 1)\n",
    "# res = pd.DataFrame(res, columns=['reactivity_DMS_MaP', 'reactivity_2A3_MaP'], index=pd.read_parquet('exp_16_ft_exp_19_ft_no_clip.parquet').set_index('id').index)\n",
    "# res.reset_index().to_parquet(f'{name}.parquet', index=False)\n",
    "# print(print(f\"kaggle competitions submit stanford-ribonanza-rna-folding -f {name}.parquet -m '{name}'\"))\n",
    "# plot_test_example(name)"
   ]
  },
  {
   "cell_type": "code",
   "execution_count": null,
   "metadata": {},
   "outputs": [],
   "source": [
    "# name = 'comb_v18'\n",
    "# res = (0.7 * pd.read_parquet('comb_v16_l.parquet').set_index('id').values +\n",
    "#        0.3 * pd.read_parquet('comb_v16.parquet').set_index('id').values)\n",
    "# res = np.clip(res, 0, 1)\n",
    "# res = pd.DataFrame(res, columns=['reactivity_DMS_MaP', 'reactivity_2A3_MaP'], index=pd.read_parquet('exp_16_ft_exp_19_ft_no_clip.parquet').set_index('id').index)\n",
    "# res.reset_index().to_parquet(f'{name}.parquet', index=False)\n",
    "# print(print(f\"kaggle competitions submit stanford-ribonanza-rna-folding -f {name}.parquet -m '{name}'\"))\n",
    "# plot_test_example(name)"
   ]
  },
  {
   "cell_type": "code",
   "execution_count": null,
   "metadata": {},
   "outputs": [],
   "source": [
    "# name = 'comb_v19'\n",
    "# res = (0.6 * pd.read_parquet('comb_v16_l.parquet').set_index('id').values +\n",
    "#        0.4 * pd.read_parquet('comb_v16.parquet').set_index('id').values)\n",
    "# res = np.clip(res, 0, 1)\n",
    "# res = pd.DataFrame(res, columns=['reactivity_DMS_MaP', 'reactivity_2A3_MaP'], index=pd.read_parquet('exp_16_ft_exp_19_ft_no_clip.parquet').set_index('id').index)\n",
    "# res.reset_index().to_parquet(f'{name}.parquet', index=False)\n",
    "# print(print(f\"kaggle competitions submit stanford-ribonanza-rna-folding -f {name}.parquet -m '{name}'\"))\n",
    "# plot_test_example(name)"
   ]
  },
  {
   "cell_type": "code",
   "execution_count": null,
   "metadata": {},
   "outputs": [],
   "source": [
    "#0.13841\n",
    "# name = 'comb_v20_l'\n",
    "# res = (pd.read_parquet('comb_v16_l.parquet').set_index('id').values + \n",
    "#        pd.read_parquet('submission_final0_PLfolds_ft.parquet').set_index('id').values)/2\n",
    "# res = np.clip(res, 0, 1)\n",
    "# res = pd.DataFrame(res, columns=['reactivity_DMS_MaP', 'reactivity_2A3_MaP'], index=pd.read_parquet('exp_16_ft_exp_19_ft_no_clip.parquet').set_index('id').index)\n",
    "# res.reset_index().to_parquet(f'{name}.parquet', index=False)\n",
    "# print(print(f\"kaggle competitions submit stanford-ribonanza-rna-folding -f {name}.parquet -m '{name}'\"))\n",
    "# plot_test_example(name)"
   ]
  },
  {
   "cell_type": "code",
   "execution_count": null,
   "metadata": {},
   "outputs": [],
   "source": [
    "# name = 'comb_v21_l'\n",
    "# res = (pd.read_parquet('submission_final0_PLfolds_ft.parquet').set_index('id').values + \n",
    "#        pd.read_parquet('submission_ft_14226.parquet').set_index('id').values + \n",
    "#        pd.read_parquet('submission_ft_tta.parquet').set_index('id').values)/3\n",
    "# res = np.clip(res, 0, 1)\n",
    "# res = pd.DataFrame(res, columns=['reactivity_DMS_MaP', 'reactivity_2A3_MaP'], index=pd.read_parquet('exp_16_ft_exp_19_ft_no_clip.parquet').set_index('id').index)\n",
    "# res.reset_index().to_parquet(f'{name}.parquet', index=False)\n",
    "# print(print(f\"kaggle competitions submit stanford-ribonanza-rna-folding -f {name}.parquet -m '{name}'\"))\n",
    "# plot_test_example(name)"
   ]
  },
  {
   "cell_type": "code",
   "execution_count": null,
   "metadata": {},
   "outputs": [],
   "source": [
    "# # 0.14172\n",
    "# name = 'comb_v22'\n",
    "# res = (pd.read_parquet('/opt/slh/rna/sub/exp_32_ft_no_clip.parquet').set_index('id').values + \n",
    "#        pd.read_parquet('/opt/slh/rna/sub/exp_31_ft_no_clip.parquet').set_index('id').values + \n",
    "#        pd.read_parquet('exp_32_v1_ft_no_clip.parquet').set_index('id').values + \n",
    "#        pd.read_parquet('exp_32_v2_ft_no_clip.parquet').set_index('id').values)/4\n",
    "# res = np.clip(res, 0, 1)\n",
    "# res = pd.DataFrame(res, columns=['reactivity_DMS_MaP', 'reactivity_2A3_MaP'], index=pd.read_parquet('exp_16_ft_exp_19_ft_no_clip.parquet').set_index('id').index)\n",
    "# res.reset_index().to_parquet(f'{name}.parquet', index=False)\n",
    "# print(print(f\"kaggle competitions submit stanford-ribonanza-rna-folding -f {name}.parquet -m '{name}'\"))\n",
    "# plot_test_example(name)"
   ]
  },
  {
   "cell_type": "code",
   "execution_count": null,
   "metadata": {},
   "outputs": [],
   "source": [
    "# #1384\n",
    "# name = 'comb_v23_l'\n",
    "# res = (pd.read_parquet('submission.parquet').set_index('id').values + \n",
    "#        pd.read_parquet('submission_ft_14226.parquet').set_index('id').values + \n",
    "#        pd.read_parquet('submission_ft_tta.parquet').set_index('id').values + \n",
    "#        pd.read_parquet('submission_final0ft_0.parquet').set_index('id').values)/4\n",
    "# res = np.clip(res, 0, 1)\n",
    "# res = pd.DataFrame(res, columns=['reactivity_DMS_MaP', 'reactivity_2A3_MaP'], index=pd.read_parquet('exp_16_ft_exp_19_ft_no_clip.parquet').set_index('id').index)\n",
    "# res.reset_index().to_parquet(f'{name}.parquet', index=False)\n",
    "# print(print(f\"kaggle competitions submit stanford-ribonanza-rna-folding -f {name}.parquet -m '{name}'\"))\n",
    "# plot_test_example(name)"
   ]
  },
  {
   "cell_type": "code",
   "execution_count": null,
   "metadata": {},
   "outputs": [],
   "source": [
    "# #1384\n",
    "# name = 'comb_v24'\n",
    "# res = (pd.read_parquet('submission.parquet').set_index('id').values + \n",
    "#        pd.read_parquet('submission_ft_14226.parquet').set_index('id').values + \n",
    "#        pd.read_parquet('submission_ft_tta.parquet').set_index('id').values + \n",
    "#        pd.read_parquet('submission_final0ft_0.parquet').set_index('id').values + \n",
    "#        pd.read_parquet('submission_final0_PLfolds_ft.parquet').set_index('id').values + \n",
    "#        pd.read_parquet('comb_v22.parquet').set_index('id').values\n",
    "#        )/6\n",
    "# res = np.clip(res, 0, 1)\n",
    "# res = pd.DataFrame(res, columns=['reactivity_DMS_MaP', 'reactivity_2A3_MaP'], index=pd.read_parquet('exp_16_ft_exp_19_ft_no_clip.parquet').set_index('id').index)\n",
    "# res.reset_index().to_parquet(f'{name}.parquet', index=False)\n",
    "# print(print(f\"kaggle competitions submit stanford-ribonanza-rna-folding -f {name}.parquet -m '{name}'\"))\n",
    "# plot_test_example(name)"
   ]
  },
  {
   "cell_type": "code",
   "execution_count": null,
   "metadata": {
    "tags": []
   },
   "outputs": [],
   "source": [
    "# #1314\n",
    "# name = 'comb_v25'\n",
    "# res = (pd.read_parquet('submission.parquet').set_index('id').values + \n",
    "#        pd.read_parquet('submission_ft_14226.parquet').set_index('id').values + \n",
    "#        pd.read_parquet('submission_ft_tta.parquet').set_index('id').values + \n",
    "#        pd.read_parquet('submission_final0ft_0.parquet').set_index('id').values + \n",
    "#        pd.read_parquet('submission_final0_PLfolds_ft.parquet').set_index('id').values + \n",
    "#        pd.read_parquet('submission_final1ft_0.parquet').set_index('id').values\n",
    "#        )/6\n",
    "# res = np.clip(res, 0, 1)\n",
    "# res = pd.DataFrame(res, columns=['reactivity_DMS_MaP', 'reactivity_2A3_MaP'], index=pd.read_parquet('exp_16_ft_exp_19_ft_no_clip.parquet').set_index('id').index)\n",
    "# res.reset_index().to_parquet(f'{name}.parquet', index=False)\n",
    "# print(print(f\"kaggle competitions submit stanford-ribonanza-rna-folding -f {name}.parquet -m '{name}'\"))\n",
    "# plot_test_example(name)"
   ]
  },
  {
   "cell_type": "code",
   "execution_count": null,
   "metadata": {
    "tags": []
   },
   "outputs": [],
   "source": [
    "# name = 'comb_v26'\n",
    "# res = (0.8 * pd.read_parquet('comb_v25.parquet').set_index('id').values + \n",
    "#        0.2 * pd.read_parquet('comb_v22.parquet').set_index('id').values)\n",
    "# res = np.clip(res, 0, 1)\n",
    "# res = pd.DataFrame(res, columns=['reactivity_DMS_MaP', 'reactivity_2A3_MaP'], index=pd.read_parquet('exp_16_ft_exp_19_ft_no_clip.parquet').set_index('id').index)\n",
    "# res.reset_index().to_parquet(f'{name}.parquet', index=False)\n",
    "# print(print(f\"kaggle competitions submit stanford-ribonanza-rna-folding -f {name}.parquet -m '{name}'\"))\n",
    "# plot_test_example(name)"
   ]
  },
  {
   "cell_type": "code",
   "execution_count": null,
   "metadata": {
    "tags": []
   },
   "outputs": [],
   "source": [
    "# name = 'comb_v27'\n",
    "# res = (0.6 * pd.read_parquet('comb_v25.parquet').set_index('id').values + \n",
    "#        0.4 * pd.read_parquet('comb_v22.parquet').set_index('id').values)\n",
    "# res = np.clip(res, 0, 1)\n",
    "# res = pd.DataFrame(res, columns=['reactivity_DMS_MaP', 'reactivity_2A3_MaP'], index=pd.read_parquet('exp_16_ft_exp_19_ft_no_clip.parquet').set_index('id').index)\n",
    "# res.reset_index().to_parquet(f'{name}.parquet', index=False)\n",
    "# print(print(f\"kaggle competitions submit stanford-ribonanza-rna-folding -f {name}.parquet -m '{name}'\"))\n",
    "# plot_test_example(name)"
   ]
  },
  {
   "cell_type": "code",
   "execution_count": null,
   "metadata": {},
   "outputs": [],
   "source": [
    "# name = 'comb_v28l'\n",
    "# res = (0.5 * pd.read_parquet('submission_final0ft_0.parquet').set_index('id').values + \n",
    "#        0.5 * pd.read_parquet('submission_final1ft_0.parquet').set_index('id').values)\n",
    "# res = np.clip(res, 0, 1)\n",
    "# res = pd.DataFrame(res, columns=['reactivity_DMS_MaP', 'reactivity_2A3_MaP'], index=pd.read_parquet('exp_16_ft_exp_19_ft_no_clip.parquet').set_index('id').index)\n",
    "# res.reset_index().to_parquet(f'{name}.parquet', index=False)\n",
    "# print(print(f\"kaggle competitions submit stanford-ribonanza-rna-folding -f {name}.parquet -m '{name}'\"))\n",
    "# plot_test_example(name)"
   ]
  },
  {
   "cell_type": "code",
   "execution_count": null,
   "metadata": {},
   "outputs": [],
   "source": []
  },
  {
   "cell_type": "code",
   "execution_count": null,
   "metadata": {
    "tags": []
   },
   "outputs": [],
   "source": [
    "# #0.1378\n",
    "# name = 'comb_v28'\n",
    "# res = (pd.read_parquet('submission.parquet').set_index('id').values + \n",
    "#        pd.read_parquet('submission_ft_14226.parquet').set_index('id').values + \n",
    "#        pd.read_parquet('submission_ft_tta.parquet').set_index('id').values + \n",
    "#        pd.read_parquet('submission_final0ft_0.parquet').set_index('id').values + \n",
    "#        pd.read_parquet('submission_final0_PLfolds_ft.parquet').set_index('id').values + \n",
    "#        pd.read_parquet('submission_final1ft_0.parquet').set_index('id').values + \n",
    "#        pd.read_parquet('submission_final0_PLft_0.parquet').set_index('id').values\n",
    "#        )/7\n",
    "# res = np.clip(res, 0, 1)\n",
    "# res = pd.DataFrame(res, columns=['reactivity_DMS_MaP', 'reactivity_2A3_MaP'], index=pd.read_parquet('exp_16_ft_exp_19_ft_no_clip.parquet').set_index('id').index)\n",
    "# res.reset_index().to_parquet(f'{name}.parquet', index=False)\n",
    "# print(print(f\"kaggle competitions submit stanford-ribonanza-rna-folding -f {name}.parquet -m '{name}'\"))\n",
    "# plot_test_example(name)"
   ]
  },
  {
   "cell_type": "code",
   "execution_count": null,
   "metadata": {
    "tags": []
   },
   "outputs": [],
   "source": [
    "# name = 'comb_v29'\n",
    "# res = (0.5 * pd.read_parquet('comb_v28.parquet').set_index('id').values + \n",
    "#        0.5 * pd.read_parquet('comb_v22.parquet').set_index('id').values)\n",
    "# res = np.clip(res, 0, 1)\n",
    "# res = pd.DataFrame(res, columns=['reactivity_DMS_MaP', 'reactivity_2A3_MaP'], index=pd.read_parquet('exp_16_ft_exp_19_ft_no_clip.parquet').set_index('id').index)\n",
    "# res.reset_index().to_parquet(f'{name}.parquet', index=False)\n",
    "# print(print(f\"kaggle competitions submit stanford-ribonanza-rna-folding -f {name}.parquet -m '{name}'\"))\n",
    "# plot_test_example(name)"
   ]
  },
  {
   "cell_type": "code",
   "execution_count": null,
   "metadata": {
    "tags": []
   },
   "outputs": [],
   "source": [
    "\n",
    "# name = 'comb_v30'\n",
    "# res = (pd.read_parquet('comb_v22.parquet').set_index('id').values + \n",
    "#        pd.read_parquet('submission_ft_14226.parquet').set_index('id').values + \n",
    "#        pd.read_parquet('submission_ft_tta.parquet').set_index('id').values + \n",
    "#        pd.read_parquet('submission_final0ft_0.parquet').set_index('id').values + \n",
    "#        pd.read_parquet('submission_final0_PLfolds_ft.parquet').set_index('id').values + \n",
    "#        pd.read_parquet('submission_final1ft_0.parquet').set_index('id').values + \n",
    "#        pd.read_parquet('submission_final0_PLft_0.parquet').set_index('id').values\n",
    "#        )/7\n",
    "# res = np.clip(res, 0, 1)\n",
    "# res = pd.DataFrame(res, columns=['reactivity_DMS_MaP', 'reactivity_2A3_MaP'], index=pd.read_parquet('exp_16_ft_exp_19_ft_no_clip.parquet').set_index('id').index)\n",
    "# res.reset_index().to_parquet(f'{name}.parquet', index=False)\n",
    "# print(print(f\"kaggle competitions submit stanford-ribonanza-rna-folding -f {name}.parquet -m '{name}'\"))\n",
    "# plot_test_example(name)"
   ]
  },
  {
   "cell_type": "code",
   "execution_count": null,
   "metadata": {},
   "outputs": [],
   "source": [
    "\n",
    "# name = 'comb_v31'\n",
    "# res = (pd.read_parquet('submission.parquet').set_index('id').values + \n",
    "#        pd.read_parquet('submission_ft_14226.parquet').set_index('id').values + \n",
    "#        pd.read_parquet('submission_ft_tta.parquet').set_index('id').values + \n",
    "#        pd.read_parquet('submission_final0ft_0.parquet').set_index('id').values + \n",
    "#        pd.read_parquet('submission_final0_PLfolds_ft.parquet').set_index('id').values + \n",
    "#        pd.read_parquet('submission_final1ft_0.parquet').set_index('id').values + \n",
    "#        pd.read_parquet('submission_final0_PLft_0.parquet').set_index('id').values +\n",
    "#        pd.read_parquet('submission_final1_PLfoldsEXft.parquet').set_index('id').values +\n",
    "#        pd.read_parquet('submission_final0_PLfoldsEXft_ft.parquet').set_index('id').values\n",
    "#        )/9\n",
    "# res = np.clip(res, 0, 1)\n",
    "# res = pd.DataFrame(res, columns=['reactivity_DMS_MaP', 'reactivity_2A3_MaP'], index=pd.read_parquet('exp_16_ft_exp_19_ft_no_clip.parquet').set_index('id').index)\n",
    "# res.reset_index().to_csv(f'{name}.csv', index=False)\n",
    "# print(print(f\"kaggle competitions submit stanford-ribonanza-rna-folding -f {name}.parquet -m '{name}'\"))\n",
    "# plot_test_example(name)\n",
    "# zip_filename = f'{name}.csv.zip'\n",
    "# with zipfile.ZipFile(zip_filename, 'w', zipfile.ZIP_DEFLATED) as zipf:\n",
    "#     zipf.write(f'{name}.csv')"
   ]
  },
  {
   "cell_type": "code",
   "execution_count": null,
   "metadata": {},
   "outputs": [],
   "source": [
    "\n",
    "# name = 'comb_v32'\n",
    "# res = (pd.read_parquet('submission.parquet').set_index('id').values + \n",
    "#        pd.read_parquet('submission_ft_14226.parquet').set_index('id').values + \n",
    "#        pd.read_parquet('submission_ft_tta.parquet').set_index('id').values + \n",
    "#        pd.read_parquet('submission_final0ft_0.parquet').set_index('id').values + \n",
    "#        pd.read_parquet('submission_final0_PLfolds_ft.parquet').set_index('id').values + \n",
    "#        pd.read_parquet('submission_final1ft_0.parquet').set_index('id').values + \n",
    "#        pd.read_parquet('submission_final0_PLft_0.parquet').set_index('id').values +\n",
    "#       # pd.read_parquet('submission_final1_PLfoldsEXft.parquet').set_index('id').values +\n",
    "#        pd.read_parquet('submission_final0_PLfoldsEXft_ft.parquet').set_index('id').values\n",
    "#        )/8\n",
    "# res = np.clip(res, 0, 1)\n",
    "# res = pd.DataFrame(res, columns=['reactivity_DMS_MaP', 'reactivity_2A3_MaP'], index=pd.read_parquet('exp_16_ft_exp_19_ft_no_clip.parquet').set_index('id').index)\n",
    "# res.reset_index().to_csv(f'{name}.csv', index=False)\n",
    "# print(print(f\"kaggle competitions submit stanford-ribonanza-rna-folding -f {name}.parquet -m '{name}'\"))\n",
    "# plot_test_example(name)\n",
    "# zip_filename = f'{name}.csv.zip'\n",
    "# with zipfile.ZipFile(zip_filename, 'w', zipfile.ZIP_DEFLATED) as zipf:\n",
    "#     zipf.write(f'{name}.csv')"
   ]
  },
  {
   "cell_type": "code",
   "execution_count": null,
   "metadata": {},
   "outputs": [],
   "source": [
    "\n",
    "# name = 'comb_v33'\n",
    "# res = (pd.read_parquet('submission.parquet').set_index('id').values + \n",
    "#        pd.read_parquet('submission_ft_14226.parquet').set_index('id').values + \n",
    "#        pd.read_parquet('submission_ft_tta.parquet').set_index('id').values + \n",
    "#        pd.read_parquet('submission_final0ft_0.parquet').set_index('id').values + \n",
    "#        pd.read_parquet('submission_final0_PLfolds_ft.parquet').set_index('id').values + \n",
    "#        pd.read_parquet('submission_final1ft_0.parquet').set_index('id').values + \n",
    "#        pd.read_parquet('submission_final0_PLft_0.parquet').set_index('id').values +\n",
    "#        pd.read_parquet('submission_final1_PLfoldsEXft.parquet').set_index('id').values\n",
    "#        #pd.read_parquet('submission_final0_PLfoldsEXft_ft.parquet').set_index('id').values\n",
    "#        )/8\n",
    "# res = np.clip(res, 0, 1)\n",
    "# res = pd.DataFrame(res, columns=['reactivity_DMS_MaP', 'reactivity_2A3_MaP'], index=pd.read_parquet('exp_16_ft_exp_19_ft_no_clip.parquet').set_index('id').index)\n",
    "# res.reset_index().to_csv(f'{name}.csv', index=False)\n",
    "# print(print(f\"kaggle competitions submit stanford-ribonanza-rna-folding -f {name}.parquet -m '{name}'\"))\n",
    "# plot_test_example(name)\n",
    "# zip_filename = f'{name}.csv.zip'\n",
    "# with zipfile.ZipFile(zip_filename, 'w', zipfile.ZIP_DEFLATED) as zipf:\n",
    "#     zipf.write(f'{name}.csv')"
   ]
  },
  {
   "cell_type": "code",
   "execution_count": null,
   "metadata": {},
   "outputs": [],
   "source": [
    "# #RNA_Dataset_TestBppSSFullV4\n",
    "\n",
    "# class CFG_test:\n",
    "#     dataset_name = 'RNA_Dataset_TestBppSSFullV4'\n",
    "#     bs = 128\n",
    "#     num_workers = 16\n",
    "#     device = 'cuda'\n",
    "    \n",
    "    \n",
    "# class CFG:\n",
    "#     path = Path(\"../data/\")\n",
    "#     pathbb = Path(\"../data/Ribonanza_bpp_files\")\n",
    "#     pathss = Path(\"../eda/train_ss_vienna_rna.parquet\")\n",
    "#     split_id = Path('../eda/fold_split.csv')\n",
    "#     path_extra = Path('../data/rmdb_data.v1.3.0.csv')\n",
    "#     bs = 32\n",
    "#     num_workers = 4\n",
    "#     device = 'cuda'\n",
    "#     seed = 2023\n",
    "#     out = 'exp_32_ex_ft_sr_ft'\n",
    "#     dataset_name = 'RNA_DatasetBaselineSplitssbppV6SAVEDwithFM'\n",
    "#     dataset_external = 'RNA_DatasetEXV0'\n",
    "#     sn_train = True\n",
    "#     dim = False\n",
    "\n",
    "    \n",
    "#     model_name = 'RNA_ModelV25ExternalInference'\n",
    "#     model_kwargs = dict(dim=192 * 2,\n",
    "#         depth=4,\n",
    "#         head_size=32,\n",
    "#         drop_pat_dropout=0.2,\n",
    "#         dropout=0.2,\n",
    "#         bpp_transfomer_depth = 4)\n",
    "\n",
    "#     epoch = 9\n",
    "#     lr = 5e-5\n",
    "#     wd = 0.05\n",
    "#     pct_start = 0.01\n",
    "    \n",
    "    \n",
    "#     md_wt = 'exp_32_ex_ft/models/model.pth'\n",
    "    \n",
    "# out_name = CFG.out\n",
    "# ds = getattr(rnacomp.dataset, CFG_test.dataset_name)(df_test)\n",
    "# dl = DeviceDataLoader(torch.utils.data.DataLoader(ds, batch_size=CFG_test.bs, \n",
    "#                shuffle=False, drop_last=False, num_workers=CFG_test.num_workers), CFG_test.device)\n",
    "\n",
    "# generate_sub(CFG_test, [CFG], out_name, clip=False, dl=dl)\n",
    "\n",
    "# a = pd.read_parquet(f'{out_name}_no_clip.parquet').set_index('id')\n",
    "# a = a.clip(0,1)\n",
    "# a = a.reset_index()\n",
    "# a.to_parquet(f'{out_name}.parquet', index=False)\n",
    "# print(f\"kaggle competitions submit stanford-ribonanza-rna-folding -f {out_name}.parquet -m '{out_name}'\")\n",
    "# plot_test_example(out_name)"
   ]
  },
  {
   "cell_type": "code",
   "execution_count": null,
   "metadata": {},
   "outputs": [],
   "source": [
    "plot_test_example('exp_32_ft')"
   ]
  },
  {
   "cell_type": "code",
   "execution_count": null,
   "metadata": {},
   "outputs": [],
   "source": []
  },
  {
   "cell_type": "code",
   "execution_count": null,
   "metadata": {},
   "outputs": [],
   "source": [
    "convert_to_zip('exp_32_ex_ft_sr_ft')"
   ]
  },
  {
   "cell_type": "code",
   "execution_count": null,
   "metadata": {},
   "outputs": [],
   "source": [
    "# #RNA_Dataset_TestBppSSFullV4\n",
    "\n",
    "# class CFG_test:\n",
    "#     dataset_name = 'RNA_Dataset_TestBppSSFullV4'\n",
    "#     bs = 128\n",
    "#     num_workers = 16\n",
    "#     device = 'cuda'\n",
    "    \n",
    "    \n",
    "# class CFG:\n",
    "#     path = Path(\"../data/\")\n",
    "#     pathbb = Path(\"../data/Ribonanza_bpp_files\")\n",
    "#     pathss = Path(\"../eda/train_ss_vienna_rna.parquet\")\n",
    "#     split_id = Path('../eda/fold_split.csv')\n",
    "#     path_extra = Path('../data/rmdb_data.v1.3.0.csv')\n",
    "#     bs = 32\n",
    "#     num_workers = 4\n",
    "#     device = 'cuda'\n",
    "#     seed = 2023\n",
    "#     out = 'exp_32_v3_ex_ft_sr_ft'\n",
    "#     dataset_name = 'RNA_DatasetBaselineSplitssbppV6SAVEDwithFM'\n",
    "#     dataset_external = 'RNA_DatasetEXV0'\n",
    "#     sn_train = True\n",
    "#     dim=False\n",
    "    \n",
    "#     model_name = 'RNA_ModelV25ExternalInference'\n",
    "#     model_kwargs = dict(dim=192 * 2,\n",
    "#         depth=4,\n",
    "#         head_size=32,\n",
    "#         drop_pat_dropout=0.2,\n",
    "#         dropout=0.2,\n",
    "#         bpp_transfomer_depth = 6)\n",
    "\n",
    "\n",
    "#     epoch = 9\n",
    "#     lr = 5e-5\n",
    "#     wd = 0.05\n",
    "#     pct_start = 0.01\n",
    "    \n",
    "    \n",
    "#     md_wt = 'exp_32_v3_ex_ft/models/model.pth'\n",
    "    \n",
    "# out_name = CFG.out\n",
    "# ds = getattr(rnacomp.dataset, CFG_test.dataset_name)(df_test)\n",
    "# dl = DeviceDataLoader(torch.utils.data.DataLoader(ds, batch_size=CFG_test.bs, \n",
    "#                shuffle=False, drop_last=False, num_workers=CFG_test.num_workers), CFG_test.device)\n",
    "\n",
    "# generate_sub(CFG_test, [CFG], out_name, clip=False, dl=dl)\n",
    "\n",
    "# a = pd.read_parquet(f'{out_name}_no_clip.parquet').set_index('id')\n",
    "# a = a.clip(0,1)\n",
    "# a = a.reset_index()\n",
    "# a.to_parquet(f'{out_name}.parquet', index=False)\n",
    "# print(f\"kaggle competitions submit stanford-ribonanza-rna-folding -f {out_name}.parquet -m '{out_name}'\")\n",
    "# plot_test_example(out_name)"
   ]
  },
  {
   "cell_type": "code",
   "execution_count": null,
   "metadata": {},
   "outputs": [],
   "source": [
    "convert_to_zip(out_name)"
   ]
  },
  {
   "cell_type": "code",
   "execution_count": null,
   "metadata": {},
   "outputs": [],
   "source": [
    "# #RNA_Dataset_TestBppSSFullV5\n",
    "\n",
    "# class CFG_test:\n",
    "#     dataset_name = 'RNA_Dataset_TestBppSSFullV5'\n",
    "#     bs = 128\n",
    "#     num_workers = 16\n",
    "#     device = 'cuda'\n",
    "    \n",
    "    \n",
    "# class CFG:\n",
    "#     path = Path(\"../data/\")\n",
    "#     pathbb = Path(\"../data/Ribonanza_bpp_files\")\n",
    "#     pathss = Path(\"../eda/train_ss_vienna_rna.parquet\")\n",
    "#     split_id = Path('../eda/fold_split.csv')\n",
    "#     path_extra = Path('../data/rmdb_data.v1.3.0.csv')\n",
    "#     bs = 16\n",
    "#     num_workers = 4\n",
    "#     device = 'cuda'\n",
    "#     seed = 2023\n",
    "#     out = 'exp_32_v2_ft_ex_sr'\n",
    "#     dataset_name = 'RNA_DatasetBaselineSplitssbppV6SAVEDwithoutFM'\n",
    "#     dataset_external = 'RNA_DatasetEXV1'\n",
    "#     sn_train = True\n",
    "#     dim = False\n",
    "    \n",
    "#     model_name = 'RNA_ModelV25ExternalInference'\n",
    "#     model_kwargs = dict(dim=192 * 2,\n",
    "#         depth=4,\n",
    "#         head_size=32,\n",
    "#         drop_pat_dropout=0.2,\n",
    "#         dropout=0.2,\n",
    "#         bpp_transfomer_depth = 6)\n",
    "\n",
    "\n",
    "#     epoch = 9\n",
    "#     lr = 5e-5\n",
    "#     wd = 0.05\n",
    "#     pct_start = 0.01\n",
    "    \n",
    "    \n",
    "#     md_wt = 'exp_32_v3_ex_ft/models/model.pth'\n",
    "    \n",
    "# out_name = CFG.out\n",
    "# ds = getattr(rnacomp.dataset, CFG_test.dataset_name)(df_test)\n",
    "# dl = DeviceDataLoader(torch.utils.data.DataLoader(ds, batch_size=CFG_test.bs, \n",
    "#                shuffle=False, drop_last=False, num_workers=CFG_test.num_workers), CFG_test.device)\n",
    "\n",
    "# generate_sub(CFG_test, [CFG], out_name, clip=False, dl=dl)\n",
    "\n",
    "# a = pd.read_parquet(f'{out_name}_no_clip.parquet').set_index('id')\n",
    "# a = a.clip(0,1)\n",
    "# a = a.reset_index()\n",
    "# a.to_parquet(f'{out_name}.parquet', index=False)\n",
    "# print(f\"kaggle competitions submit stanford-ribonanza-rna-folding -f {out_name}.parquet -m '{out_name}'\")\n",
    "# plot_test_example(out_name)\n",
    "#convert_to_zip(out_name)"
   ]
  },
  {
   "cell_type": "code",
   "execution_count": null,
   "metadata": {},
   "outputs": [],
   "source": [
    "# #RNA_Dataset_TestBppSSFullV4\n",
    "\n",
    "# class CFG_test:\n",
    "#     dataset_name = 'RNA_Dataset_TestBppSSFullV4'\n",
    "#     bs = 128\n",
    "#     num_workers = 16\n",
    "#     device = 'cuda'\n",
    "    \n",
    "    \n",
    "# class CFG:\n",
    "#     path = Path(\"../data/\")\n",
    "#     pathbb = Path(\"../data/Ribonanza_bpp_files\")\n",
    "#     pathss = Path(\"../eda/train_ss_vienna_rna.parquet\")\n",
    "#     split_id = Path('../eda/fold_split.csv')\n",
    "#     num_workers = 4\n",
    "#     device = 'cuda'\n",
    "#     seed = 2023\n",
    "#     out = 'exp_32_v3_ft'\n",
    "#     dataset_name = 'RNA_DatasetBaselineSplitssbppV6SAVEDwithFM'\n",
    "#     sn_train = False\n",
    "    \n",
    "#     model_name = 'RNA_ModelV25'\n",
    "#     model_kwargs = dict(dim=192 * 2,\n",
    "#         depth=4,\n",
    "#         head_size=32,\n",
    "#         drop_pat_dropout=0.2,\n",
    "#         dropout=0.2,\n",
    "#         bpp_transfomer_depth = 6)\n",
    "#     dim =False\n",
    "\n",
    "   \n",
    "#     bs = 16\n",
    "#     sn_train = True\n",
    "#     epoch = 12\n",
    "#     lr = 5e-5\n",
    "#     wd = 0.05\n",
    "#     pct_start = 0.01\n",
    "#     md_wt = 'exp_32_v3/models/model.pth'\n",
    "#     pct_start = 0.01\n",
    "    \n",
    "    \n",
    "#     md_wt = 'exp_32_v3_ex_ft/models/model.pth'\n",
    "    \n",
    "# out_name = CFG.out\n",
    "# ds = getattr(rnacomp.dataset, CFG_test.dataset_name)(df_test)\n",
    "# dl = DeviceDataLoader(torch.utils.data.DataLoader(ds, batch_size=CFG_test.bs, \n",
    "#                shuffle=False, drop_last=False, num_workers=CFG_test.num_workers), CFG_test.device)\n",
    "\n",
    "# generate_sub(CFG_test, [CFG], out_name, clip=False, dl=dl)\n",
    "\n",
    "# a = pd.read_parquet(f'{out_name}_no_clip.parquet').set_index('id')\n",
    "# a = a.clip(0,1)\n",
    "# a = a.reset_index()\n",
    "# a.to_parquet(f'{out_name}.parquet', index=False)\n",
    "# print(f\"kaggle competitions submit stanford-ribonanza-rna-folding -f {out_name}.parquet -m '{out_name}'\")\n",
    "# plot_test_example(out_name)"
   ]
  },
  {
   "cell_type": "code",
   "execution_count": null,
   "metadata": {},
   "outputs": [],
   "source": [
    "# convert_to_zip(out_name)"
   ]
  },
  {
   "cell_type": "code",
   "execution_count": null,
   "metadata": {},
   "outputs": [],
   "source": [
    "\n",
    "# name = 'comb_v34'\n",
    "# res = (pd.read_parquet('exp_32_ft_no_clip.parquet').set_index('id').values + \n",
    "#        pd.read_parquet('exp_32_ex_ft_sr_ft_no_clip.parquet').set_index('id').values + \n",
    "#        pd.read_parquet('exp_32_v2_ft_no_clip.parquet').set_index('id').values + \n",
    "#        pd.read_parquet('exp_32_v2_ft_ex_sr_no_clip.parquet').set_index('id').values + \n",
    "#        pd.read_parquet('exp_32_v3_ft_no_clip.parquet').set_index('id').values + \n",
    "#        pd.read_parquet('exp_32_v3_ex_ft_sr_ft_no_clip.parquet').set_index('id').values \n",
    "#        )/6\n",
    "# res = np.clip(res, 0, 1)\n",
    "# res = pd.DataFrame(res, columns=['reactivity_DMS_MaP', 'reactivity_2A3_MaP'], index=pd.read_parquet('exp_16_ft_exp_19_ft_no_clip.parquet').set_index('id').index)\n",
    "# res.reset_index().to_csv(f'{name}.csv', index=False)\n",
    "# print(print(f\"kaggle competitions submit stanford-ribonanza-rna-folding -f {name}.parquet -m '{name}'\"))\n",
    "# plot_test_example(name)\n",
    "# zip_filename = f'{name}.csv.zip'\n",
    "# with zipfile.ZipFile(zip_filename, 'w', zipfile.ZIP_DEFLATED) as zipf:\n",
    "#     zipf.write(f'{name}.csv')"
   ]
  },
  {
   "cell_type": "code",
   "execution_count": null,
   "metadata": {},
   "outputs": [],
   "source": [
    "\n",
    "# name = 'comb_v35'\n",
    "# res = (0.25 * pd.read_csv('comb_v34.csv').set_index('id').values + \n",
    "#        0.75 * pd.read_parquet('comb_v28.parquet').set_index('id').values\n",
    "\n",
    "#        )\n",
    "# res = np.clip(res, 0, 1)\n",
    "# res = pd.DataFrame(res, columns=['reactivity_DMS_MaP', 'reactivity_2A3_MaP'], index=pd.read_parquet('exp_16_ft_exp_19_ft_no_clip.parquet').set_index('id').index)\n",
    "# res.reset_index().to_csv(f'{name}.csv', index=False)\n",
    "# print(print(f\"kaggle competitions submit stanford-ribonanza-rna-folding -f {name}.parquet -m '{name}'\"))\n",
    "# plot_test_example(name)\n",
    "# zip_filename = f'{name}.csv.zip'\n",
    "# with zipfile.ZipFile(zip_filename, 'w', zipfile.ZIP_DEFLATED) as zipf:\n",
    "#     zipf.write(f'{name}.csv')"
   ]
  },
  {
   "cell_type": "code",
   "execution_count": null,
   "metadata": {},
   "outputs": [],
   "source": [
    "# #RNA_Dataset_TestBppSSFullV5\n",
    "\n",
    "# class CFG_test:\n",
    "#     dataset_name = 'RNA_Dataset_TestBppSSFullV5'\n",
    "#     bs = 128\n",
    "#     num_workers = 16\n",
    "#     device = 'cuda'\n",
    "    \n",
    "    \n",
    "# class CFG:\n",
    "#     path = Path(\"../data/\")\n",
    "#     pathbb = Path(\"../data/Ribonanza_bpp_files\")\n",
    "#     pathss = Path(\"../eda/train_ss_vienna_rna.parquet\")\n",
    "#     split_id = Path('../eda/fold_split.csv')\n",
    "#     path_extra = Path('../data/rmdb_data.v1.3.0.csv')\n",
    "#     bs = 16\n",
    "#     num_workers = 4\n",
    "#     device = 'cuda'\n",
    "#     seed = 2023\n",
    "#     out = 'exp_32_ex_ft_flip_sr'\n",
    "#     dataset_name = 'RNA_DatasetBaselineSplitssbppV6SAVEDwithFMFlip'\n",
    "#     dataset_external = 'RNA_DatasetEXV0Flip'\n",
    "#     sn_train = True\n",
    "#     dim = False\n",
    "    \n",
    "#     model_name = 'RNA_ModelV25ExternalInference'\n",
    "#     model_kwargs = dict(dim=192 * 2,\n",
    "#         depth=4,\n",
    "#         head_size=32,\n",
    "#         drop_pat_dropout=0.2,\n",
    "#         dropout=0.2,\n",
    "#         bpp_transfomer_depth = 4)\n",
    "\n",
    "\n",
    "#     epoch = 9\n",
    "#     lr = 5e-5\n",
    "#     wd = 0.05\n",
    "#     pct_start = 0.01\n",
    "    \n",
    "    \n",
    "#     md_wt = 'exp_32_ex_ft_flip/models/model.pth'\n",
    "    \n",
    "# out_name = CFG.out\n",
    "# ds = getattr(rnacomp.dataset, CFG_test.dataset_name)(df_test)\n",
    "# dl = DeviceDataLoader(torch.utils.data.DataLoader(ds, batch_size=CFG_test.bs, \n",
    "#                shuffle=False, drop_last=False, num_workers=CFG_test.num_workers), CFG_test.device)\n",
    "\n",
    "# generate_sub(CFG_test, [CFG], out_name, clip=False, dl=dl)\n",
    "\n",
    "# a = pd.read_parquet(f'{out_name}_no_clip.parquet').set_index('id')\n",
    "# a = a.clip(0,1)\n",
    "# a = a.reset_index()\n",
    "# a.to_parquet(f'{out_name}.parquet', index=False)\n",
    "# print(f\"kaggle competitions submit stanford-ribonanza-rna-folding -f {out_name}.parquet -m '{out_name}'\")\n",
    "# plot_test_example(out_name)\n",
    "# convert_to_zip(out_name)"
   ]
  },
  {
   "cell_type": "code",
   "execution_count": null,
   "metadata": {},
   "outputs": [],
   "source": [
    "# #RNA_Dataset_TestBppSSFullV4\n",
    "\n",
    "# class CFG_test:\n",
    "#     dataset_name = 'RNA_Dataset_TestBppSSFullV4'\n",
    "#     bs = 128\n",
    "#     num_workers = 16\n",
    "#     device = 'cuda'\n",
    "    \n",
    "    \n",
    "# class CFG:\n",
    "#     path = Path(\"../data/\")\n",
    "#     pathbb = Path(\"../data/Ribonanza_bpp_files\")\n",
    "#     pathss = Path(\"../eda/train_ss_vienna_rna.parquet\")\n",
    "#     split_id = Path('../eda/fold_split.csv')\n",
    "#     device = 'cuda'\n",
    "#     seed = 2023\n",
    "#     out = 'exp_32_psd'\n",
    "#     dataset_name = 'RNA_DatasetBaselineSplitssbppV6SAVEDwithFMPSD'\n",
    "#     dataset_val = 'RNA_DatasetBaselineSplitssbppV6SAVEDwithFM'\n",
    "\n",
    "    \n",
    "#     model_name = 'RNA_ModelV25'\n",
    "#     model_kwargs = dict(dim=192 * 2,\n",
    "#         depth=4,\n",
    "#         head_size=32,\n",
    "#         drop_pat_dropout=0.2,\n",
    "#         dropout=0.2,\n",
    "#         bpp_transfomer_depth = 4)\n",
    "\n",
    "#     sn_train = True\n",
    "#     epoch = 16\n",
    "#     lr = 5e-6\n",
    "#     wd = 0.05\n",
    "#     pct_start = 0.01\n",
    "#     dim = False\n",
    "    \n",
    "#     md_wt = 'exp_32/models/model.pth'\n",
    "    \n",
    "# out_name = CFG.out\n",
    "# ds = getattr(rnacomp.dataset, CFG_test.dataset_name)(df_test)\n",
    "# dl = DeviceDataLoader(torch.utils.data.DataLoader(ds, batch_size=CFG_test.bs, \n",
    "#                shuffle=False, drop_last=False, num_workers=CFG_test.num_workers), CFG_test.device)\n",
    "\n",
    "# generate_sub(CFG_test, [CFG], out_name, clip=False, dl=dl)\n",
    "\n",
    "# a = pd.read_parquet(f'{out_name}_no_clip.parquet').set_index('id')\n",
    "# a = a.clip(0,1)\n",
    "# a = a.reset_index()\n",
    "# a.to_parquet(f'{out_name}.parquet', index=False)\n",
    "# print(f\"kaggle competitions submit stanford-ribonanza-rna-folding -f {out_name}.parquet -m '{out_name}'\")\n",
    "# plot_test_example(out_name)\n",
    "# convert_to_zip(out_name)"
   ]
  },
  {
   "cell_type": "code",
   "execution_count": null,
   "metadata": {},
   "outputs": [],
   "source": [
    "\n",
    "# name = 'comb_v36'\n",
    "# res = (0.5 * pd.read_csv('comb_v34.csv').set_index('id').values + \n",
    "#        0.5 * pd.read_parquet('exp_32_psd.parquet').set_index('id').values\n",
    "\n",
    "#        )\n",
    "# res = np.clip(res, 0, 1)\n",
    "# res = pd.DataFrame(res, columns=['reactivity_DMS_MaP', 'reactivity_2A3_MaP'], index=pd.read_parquet('exp_16_ft_exp_19_ft_no_clip.parquet').set_index('id').index)\n",
    "# res.reset_index().to_csv(f'{name}.csv', index=False)\n",
    "# print(print(f\"kaggle competitions submit stanford-ribonanza-rna-folding -f {name}.parquet -m '{name}'\"))\n",
    "# plot_test_example(name)\n",
    "# zip_filename = f'{name}.csv.zip'\n",
    "# with zipfile.ZipFile(zip_filename, 'w', zipfile.ZIP_DEFLATED) as zipf:\n",
    "#     zipf.write(f'{name}.csv')"
   ]
  },
  {
   "cell_type": "code",
   "execution_count": 2,
   "metadata": {},
   "outputs": [
    {
     "name": "stdout",
     "output_type": "stream",
     "text": [
      "kwargs\n",
      "loading : ../exp/exp_32_psd_v2/models/model.pth\n",
      "generating sub with no cliping: exp_32_psd_v2_no_clip\n",
      "<rnacomp.dataset.RNA_Dataset_TestBppSSFullV4 object at 0x7f97775c3610>\n",
      "using dataset: None\n"
     ]
    },
    {
     "name": "stderr",
     "output_type": "stream",
     "text": [
      "100%|████████████████████████████████████████████████████████████████████████████████████████| 10499/10499 [43:59<00:00,  3.98it/s]\n",
      "/usr/local/lib/python3.10/dist-packages/pyarrow/pandas_compat.py:373: FutureWarning: is_sparse is deprecated and will be removed in a future version. Check `isinstance(dtype, pd.SparseDtype)` instead.\n",
      "  if _pandas_api.is_sparse(col):\n",
      "/usr/local/lib/python3.10/dist-packages/pyarrow/pandas_compat.py:373: FutureWarning: is_sparse is deprecated and will be removed in a future version. Check `isinstance(dtype, pd.SparseDtype)` instead.\n",
      "  if _pandas_api.is_sparse(col):\n"
     ]
    },
    {
     "name": "stdout",
     "output_type": "stream",
     "text": [
      "kaggle competitions submit stanford-ribonanza-rna-folding -f exp_32_psd_v2.parquet -m 'exp_32_psd_v2'\n"
     ]
    }
   ],
   "source": [
    "\n",
    "\n",
    "# #RNA_Dataset_TestBppSSFullV4\n",
    "\n",
    "# class CFG_test:\n",
    "#     dataset_name = 'RNA_Dataset_TestBppSSFullV4'\n",
    "#     bs = 128\n",
    "#     num_workers = 16\n",
    "#     device = 'cuda'\n",
    "    \n",
    "    \n",
    "# class CFG:\n",
    "#     path = Path(\"../data/\")\n",
    "#     pathbb = Path(\"../data/Ribonanza_bpp_files\")\n",
    "#     pathss = Path(\"../eda/train_ss_vienna_rna.parquet\")\n",
    "#     split_id = Path('../eda/fold_split.csv')\n",
    "#     device = 'cuda'\n",
    "#     seed = 2023\n",
    "#     out = 'exp_32_psd_v2'\n",
    "#     dataset_name = 'RNA_DatasetBaselineSplitssbppV6SAVEDwithFMPSD'\n",
    "#     dataset_val = 'RNA_DatasetBaselineSplitssbppV6SAVEDwithFM'\n",
    "\n",
    "    \n",
    "#     model_name = 'RNA_ModelV25'\n",
    "#     model_kwargs = dict(dim=192 * 2,\n",
    "#         depth=4,\n",
    "#         head_size=32,\n",
    "#         drop_pat_dropout=0.2,\n",
    "#         dropout=0.2,\n",
    "#         bpp_transfomer_depth = 4)\n",
    "\n",
    "#     sn_train = True\n",
    "#     epoch = 16\n",
    "#     lr = 5e-6\n",
    "#     wd = 0.05\n",
    "#     pct_start = 0.01\n",
    "#     dim = False\n",
    "    \n",
    "#     md_wt = 'exp_32/models/model.pth'\n",
    "    \n",
    "# out_name = CFG.out\n",
    "# ds = getattr(rnacomp.dataset, CFG_test.dataset_name)(df_test)\n",
    "# dl = DeviceDataLoader(torch.utils.data.DataLoader(ds, batch_size=CFG_test.bs, \n",
    "#                shuffle=False, drop_last=False, num_workers=CFG_test.num_workers), CFG_test.device)\n",
    "\n",
    "# generate_sub(CFG_test, [CFG], out_name, clip=False, dl=dl)\n",
    "\n",
    "# a = pd.read_parquet(f'{out_name}_no_clip.parquet').set_index('id')\n",
    "# a = a.clip(0,1)\n",
    "# a = a.reset_index()\n",
    "# a.to_parquet(f'{out_name}.parquet', index=False)\n",
    "# print(f\"kaggle competitions submit stanford-ribonanza-rna-folding -f {out_name}.parquet -m '{out_name}'\")\n",
    "# plot_test_example(out_name)\n",
    "# convert_to_zip(out_name)"
   ]
  },
  {
   "cell_type": "code",
   "execution_count": 2,
   "metadata": {},
   "outputs": [
    {
     "name": "stdout",
     "output_type": "stream",
     "text": [
      "kaggle competitions submit stanford-ribonanza-rna-folding -f comb_v37.parquet -m 'comb_v37'\n",
      "None\n"
     ]
    }
   ],
   "source": [
    "\n",
    "# name = 'comb_v37'\n",
    "# res = (0.5 * pd.read_csv('comb_v34.csv').set_index('id').values + \n",
    "#        0.5 * pd.read_parquet('exp_32_psd_v2.parquet').set_index('id').values\n",
    "\n",
    "#        )\n",
    "# res = np.clip(res, 0, 1)\n",
    "# res = pd.DataFrame(res, columns=['reactivity_DMS_MaP', 'reactivity_2A3_MaP'], index=pd.read_parquet('exp_16_ft_exp_19_ft_no_clip.parquet').set_index('id').index)\n",
    "# res.reset_index().to_csv(f'{name}.csv', index=False)\n",
    "# print(print(f\"kaggle competitions submit stanford-ribonanza-rna-folding -f {name}.parquet -m '{name}'\"))\n",
    "# plot_test_example(name)\n",
    "# zip_filename = f'{name}.csv.zip'\n",
    "# with zipfile.ZipFile(zip_filename, 'w', zipfile.ZIP_DEFLATED) as zipf:\n",
    "#     zipf.write(f'{name}.csv')"
   ]
  },
  {
   "cell_type": "code",
   "execution_count": 3,
   "metadata": {},
   "outputs": [
    {
     "name": "stdout",
     "output_type": "stream",
     "text": [
      "kaggle competitions submit stanford-ribonanza-rna-folding -f comb_v39.parquet -m 'comb_v39'\n",
      "None\n"
     ]
    }
   ],
   "source": [
    "# #0.1378\n",
    "# name = 'comb_v39'\n",
    "# res = (pd.read_parquet('submission.parquet').set_index('id').values + \n",
    "#        pd.read_parquet('submission_ft_14226.parquet').set_index('id').values + \n",
    "#        pd.read_parquet('submission_ft_tta.parquet').set_index('id').values + \n",
    "#        pd.read_parquet('submission_final0ft_0.parquet').set_index('id').values + \n",
    "#        pd.read_parquet('submission_final0_PLfolds_ft.parquet').set_index('id').values + \n",
    "#        pd.read_parquet('submission_final1ft_0.parquet').set_index('id').values + \n",
    "#        pd.read_parquet('submission_final0_PLft_0.parquet').set_index('id').values + \n",
    "#        pd.read_parquet('exp_32_psd_v2.parquet').set_index('id').values\n",
    "#        )/8\n",
    "# res = np.clip(res, 0, 1)\n",
    "# res = pd.DataFrame(res, columns=['reactivity_DMS_MaP', 'reactivity_2A3_MaP'], index=pd.read_parquet('exp_16_ft_exp_19_ft_no_clip.parquet').set_index('id').index)\n",
    "# res.reset_index().to_csv(f'{name}.csv', index=False)\n",
    "# print(print(f\"kaggle competitions submit stanford-ribonanza-rna-folding -f {name}.parquet -m '{name}'\"))\n",
    "# plot_test_example(name)\n",
    "# zip_filename = f'{name}.csv.zip'\n",
    "# with zipfile.ZipFile(zip_filename, 'w', zipfile.ZIP_DEFLATED) as zipf:\n",
    "#     zipf.write(f'{name}.csv')"
   ]
  },
  {
   "cell_type": "code",
   "execution_count": 5,
   "metadata": {},
   "outputs": [
    {
     "name": "stdout",
     "output_type": "stream",
     "text": [
      "kaggle competitions submit stanford-ribonanza-rna-folding -f comb_v40.parquet -m 'comb_v40'\n",
      "None\n"
     ]
    }
   ],
   "source": [
    "\n",
    "# name = 'comb_v40'\n",
    "# res = (\n",
    "#        pd.read_parquet('exp_32_ft_no_clip.parquet').set_index('id').values + \n",
    "#        pd.read_parquet('exp_32_ex_ft_sr_ft_no_clip.parquet').set_index('id').values + \n",
    "#        pd.read_parquet('exp_32_v2_ft_no_clip.parquet').set_index('id').values + \n",
    "#        pd.read_parquet('exp_32_v2_ft_ex_sr_no_clip.parquet').set_index('id').values + \n",
    "#        pd.read_parquet('exp_32_v3_ft_no_clip.parquet').set_index('id').values + \n",
    "#        pd.read_parquet('exp_32_v3_ex_ft_sr_ft_no_clip.parquet').set_index('id').values +\n",
    "#        pd.read_parquet('submission_final1_PLfoldsEXft.parquet').set_index('id').values+\n",
    "#        pd.read_parquet('submission_final0_PLfoldsEXft_ft.parquet').set_index('id').values\n",
    "#        )/8\n",
    "# res = np.clip(res, 0, 1)\n",
    "# res = pd.DataFrame(res, columns=['reactivity_DMS_MaP', 'reactivity_2A3_MaP'], index=pd.read_parquet('exp_16_ft_exp_19_ft_no_clip.parquet').set_index('id').index)\n",
    "# res.reset_index().to_csv(f'{name}.csv', index=False)\n",
    "# print(print(f\"kaggle competitions submit stanford-ribonanza-rna-folding -f {name}.parquet -m '{name}'\"))\n",
    "# plot_test_example(name)\n",
    "# zip_filename = f'{name}.csv.zip'\n",
    "# with zipfile.ZipFile(zip_filename, 'w', zipfile.ZIP_DEFLATED) as zipf:\n",
    "#     zipf.write(f'{name}.csv')"
   ]
  },
  {
   "cell_type": "code",
   "execution_count": 7,
   "metadata": {},
   "outputs": [
    {
     "name": "stdout",
     "output_type": "stream",
     "text": [
      "kaggle competitions submit stanford-ribonanza-rna-folding -f comb_v41.parquet -m 'comb_v41'\n",
      "None\n"
     ]
    }
   ],
   "source": [
    "\n",
    "name = 'comb_v41'\n",
    "res = (0.5 * pd.read_csv('comb_v39.csv').set_index('id').values + \n",
    "       0.5 * pd.read_csv('comb_v40.csv').set_index('id').values )\n",
    "res = np.clip(res, 0, 1)\n",
    "res = pd.DataFrame(res, columns=['reactivity_DMS_MaP', 'reactivity_2A3_MaP'], index=pd.read_parquet('exp_16_ft_exp_19_ft_no_clip.parquet').set_index('id').index)\n",
    "res.reset_index().to_csv(f'{name}.csv', index=False)\n",
    "print(print(f\"kaggle competitions submit stanford-ribonanza-rna-folding -f {name}.parquet -m '{name}'\"))\n",
    "plot_test_example(name)\n",
    "zip_filename = f'{name}.csv.zip'\n",
    "with zipfile.ZipFile(zip_filename, 'w', zipfile.ZIP_DEFLATED) as zipf:\n",
    "    zipf.write(f'{name}.csv')"
   ]
  },
  {
   "cell_type": "code",
   "execution_count": 3,
   "metadata": {},
   "outputs": [
    {
     "name": "stderr",
     "output_type": "stream",
     "text": [
      "/usr/local/lib/python3.10/dist-packages/pyarrow/pandas_compat.py:373: FutureWarning: is_sparse is deprecated and will be removed in a future version. Check `isinstance(dtype, pd.SparseDtype)` instead.\n",
      "  if _pandas_api.is_sparse(col):\n"
     ]
    },
    {
     "name": "stdout",
     "output_type": "stream",
     "text": [
      "kaggle competitions submit stanford-ribonanza-rna-folding -f hb_comb_no_ex_no_psd_v1.parquet -m 'hb_comb_no_ex_no_psd_v1'\n",
      "None\n"
     ]
    }
   ],
   "source": [
    "# #0.14512\n",
    "# name = 'hb_comb_no_ex_no_psd_v1'\n",
    "# res = (pd.read_parquet('/opt/slh/rna/sub/exp_32_ft_no_clip.parquet').set_index('id').values + \n",
    "#        pd.read_parquet('/opt/slh/rna/sub/exp_31_ft_no_clip.parquet').set_index('id').values + \n",
    "#        pd.read_parquet('exp_32_v1_ft_no_clip.parquet').set_index('id').values + \n",
    "#        pd.read_parquet('exp_32_v2_ft_no_clip.parquet').set_index('id').values + \n",
    "#        pd.read_parquet('exp_32_v3_ft_no_clip.parquet').set_index('id').values)/5\n",
    "# res = np.clip(res, 0, 1)\n",
    "# res = pd.DataFrame(res, columns=['reactivity_DMS_MaP', 'reactivity_2A3_MaP'], index=pd.read_parquet('exp_16_ft_exp_19_ft_no_clip.parquet').set_index('id').index)\n",
    "# res.reset_index().to_parquet(f'{name}.parquet', index=False)\n",
    "# print(print(f\"kaggle competitions submit stanford-ribonanza-rna-folding -f {name}.parquet -m '{name}'\"))\n",
    "# plot_test_example(name)"
   ]
  },
  {
   "cell_type": "code",
   "execution_count": 2,
   "metadata": {},
   "outputs": [
    {
     "name": "stdout",
     "output_type": "stream",
     "text": [
      "kwargs\n",
      "loading : ../exp/exp_32_ft_after_psd/models/model.pth\n",
      "generating sub with no cliping: exp_32_ft_after_psd_no_clip\n",
      "<rnacomp.dataset.RNA_Dataset_TestBppSSFullV4 object at 0x7fde7c42f490>\n",
      "using dataset: None\n"
     ]
    },
    {
     "name": "stderr",
     "output_type": "stream",
     "text": [
      "100%|███████████████████████████████████████████████████████████████████████████████████████████████████| 10499/10499 [44:26<00:00,  3.94it/s]\n",
      "/usr/local/lib/python3.10/dist-packages/pyarrow/pandas_compat.py:373: FutureWarning: is_sparse is deprecated and will be removed in a future version. Check `isinstance(dtype, pd.SparseDtype)` instead.\n",
      "  if _pandas_api.is_sparse(col):\n",
      "/usr/local/lib/python3.10/dist-packages/pyarrow/pandas_compat.py:373: FutureWarning: is_sparse is deprecated and will be removed in a future version. Check `isinstance(dtype, pd.SparseDtype)` instead.\n",
      "  if _pandas_api.is_sparse(col):\n"
     ]
    },
    {
     "name": "stdout",
     "output_type": "stream",
     "text": [
      "kaggle competitions submit stanford-ribonanza-rna-folding -f exp_32_ft_after_psd.parquet -m 'exp_32_ft_after_psd'\n"
     ]
    }
   ],
   "source": [
    "# #RNA_Dataset_TestBppSSFullV4\n",
    "\n",
    "# class CFG_test:\n",
    "#     dataset_name = 'RNA_Dataset_TestBppSSFullV4'\n",
    "#     bs = 128\n",
    "#     num_workers = 16\n",
    "#     device = 'cuda'\n",
    "    \n",
    "    \n",
    "# class CFG:\n",
    "#     path = Path(\"../data/\")\n",
    "#     pathbb = Path(\"../data/Ribonanza_bpp_files\")\n",
    "#     pathss = Path(\"../eda/train_ss_vienna_rna.parquet\")\n",
    "#     split_id = Path('../eda/fold_split.csv')\n",
    "#     num_workers = 4\n",
    "#     device = 'cuda'\n",
    "#     seed = 2023\n",
    "#     out = 'exp_32_ft_after_psd'\n",
    "#     dataset_name = 'RNA_DatasetBaselineSplitssbppV6SAVEDwithFM'\n",
    "#     sn_train = False\n",
    "    \n",
    "#     model_name = 'RNA_ModelV25'\n",
    "#     model_kwargs = dict(dim=192 * 2,\n",
    "#         depth=4,\n",
    "#         head_size=32,\n",
    "#         drop_pat_dropout=0.2,\n",
    "#         dropout=0.2,\n",
    "#         bpp_transfomer_depth = 4)\n",
    "\n",
    "#     sn_train = True\n",
    "#     epoch = 16\n",
    "#     lr = 5e-6\n",
    "#     wd = 0.05\n",
    "#     pct_start = 0.01\n",
    "#     dim = False\n",
    "    \n",
    "#     md_wt = 'exp_32/models/model.pth'\n",
    "    \n",
    "# out_name = CFG.out\n",
    "# ds = getattr(rnacomp.dataset, CFG_test.dataset_name)(df_test)\n",
    "# dl = DeviceDataLoader(torch.utils.data.DataLoader(ds, batch_size=CFG_test.bs, \n",
    "#                shuffle=False, drop_last=False, num_workers=CFG_test.num_workers), CFG_test.device)\n",
    "\n",
    "# generate_sub(CFG_test, [CFG], out_name, clip=False, dl=dl)\n",
    "\n",
    "# a = pd.read_parquet(f'{out_name}_no_clip.parquet').set_index('id')\n",
    "# a = a.clip(0,1)\n",
    "# a = a.reset_index()\n",
    "# a.to_parquet(f'{out_name}.parquet', index=False)\n",
    "# print(f\"kaggle competitions submit stanford-ribonanza-rna-folding -f {out_name}.parquet -m '{out_name}'\")\n",
    "# plot_test_example(out_name)"
   ]
  },
  {
   "cell_type": "code",
   "execution_count": 4,
   "metadata": {},
   "outputs": [
    {
     "name": "stderr",
     "output_type": "stream",
     "text": [
      "/usr/local/lib/python3.10/dist-packages/pyarrow/pandas_compat.py:373: FutureWarning: is_sparse is deprecated and will be removed in a future version. Check `isinstance(dtype, pd.SparseDtype)` instead.\n",
      "  if _pandas_api.is_sparse(col):\n"
     ]
    },
    {
     "name": "stdout",
     "output_type": "stream",
     "text": [
      "kaggle competitions submit stanford-ribonanza-rna-folding -f hb_comb_no_ex_no_psd_v2.parquet -m 'hb_comb_no_ex_no_psd_v2'\n",
      "None\n"
     ]
    }
   ],
   "source": [
    "# name = 'hb_comb_no_ex_no_psd_v2'\n",
    "# res = (0.65 * pd.read_parquet('hb_comb_no_ex_no_psd_v1.parquet').set_index('id').values + \n",
    "#        0.35 * pd.read_parquet('comb_v5.parquet').set_index('id').values)\n",
    "# res = np.clip(res, 0, 1)\n",
    "# res = pd.DataFrame(res, columns=['reactivity_DMS_MaP', 'reactivity_2A3_MaP'], index=pd.read_parquet('exp_16_ft_exp_19_ft_no_clip.parquet').set_index('id').index)\n",
    "# res.reset_index().to_parquet(f'{name}.parquet', index=False)\n",
    "# print(print(f\"kaggle competitions submit stanford-ribonanza-rna-folding -f {name}.parquet -m '{name}'\"))\n",
    "# plot_test_example(name)"
   ]
  },
  {
   "cell_type": "code",
   "execution_count": 2,
   "metadata": {},
   "outputs": [
    {
     "name": "stdout",
     "output_type": "stream",
     "text": [
      "kwargs\n",
      "loading : ../exp/exp_32_psd_v3/models/model.pth\n",
      "generating sub with no cliping: exp_32_psd_v3_no_clip\n",
      "<rnacomp.dataset.RNA_Dataset_TestBppSSFullV4 object at 0x7f39a228d5d0>\n",
      "using dataset: None\n"
     ]
    },
    {
     "name": "stderr",
     "output_type": "stream",
     "text": [
      "100%|███████████████████████████████████████████████████████████████████████████████████████████████████| 10499/10499 [44:52<00:00,  3.90it/s]\n",
      "/usr/local/lib/python3.10/dist-packages/pyarrow/pandas_compat.py:373: FutureWarning: is_sparse is deprecated and will be removed in a future version. Check `isinstance(dtype, pd.SparseDtype)` instead.\n",
      "  if _pandas_api.is_sparse(col):\n",
      "/usr/local/lib/python3.10/dist-packages/pyarrow/pandas_compat.py:373: FutureWarning: is_sparse is deprecated and will be removed in a future version. Check `isinstance(dtype, pd.SparseDtype)` instead.\n",
      "  if _pandas_api.is_sparse(col):\n"
     ]
    },
    {
     "name": "stdout",
     "output_type": "stream",
     "text": [
      "kaggle competitions submit stanford-ribonanza-rna-folding -f exp_32_psd_v3.parquet -m 'exp_32_psd_v3'\n"
     ]
    }
   ],
   "source": [
    "\n",
    "\n",
    "# #RNA_Dataset_TestBppSSFullV4\n",
    "\n",
    "# class CFG_test:\n",
    "#     dataset_name = 'RNA_Dataset_TestBppSSFullV4'\n",
    "#     bs = 128\n",
    "#     num_workers = 16\n",
    "#     device = 'cuda'\n",
    "    \n",
    "    \n",
    "# class CFG:\n",
    "#     path = Path(\"../data/\")\n",
    "#     pathbb = Path(\"../data/Ribonanza_bpp_files\")\n",
    "#     pathss = Path(\"../eda/train_ss_vienna_rna.parquet\")\n",
    "#     split_id = Path('../eda/fold_split.csv')\n",
    "#     device = 'cuda'\n",
    "#     seed = 2023\n",
    "#     out = 'exp_32_psd_v3'\n",
    "#     dataset_name = 'RNA_DatasetBaselineSplitssbppV6SAVEDwithFMPSD'\n",
    "#     dataset_val = 'RNA_DatasetBaselineSplitssbppV6SAVEDwithFM'\n",
    "\n",
    "    \n",
    "#     model_name = 'RNA_ModelV25'\n",
    "#     model_kwargs = dict(dim=192 * 2,\n",
    "#         depth=4,\n",
    "#         head_size=32,\n",
    "#         drop_pat_dropout=0.2,\n",
    "#         dropout=0.2,\n",
    "#         bpp_transfomer_depth = 4)\n",
    "\n",
    "#     sn_train = True\n",
    "#     epoch = 16\n",
    "#     lr = 5e-6\n",
    "#     wd = 0.05\n",
    "#     pct_start = 0.01\n",
    "#     dim = False\n",
    "    \n",
    "#     md_wt = 'exp_32/models/model.pth'\n",
    "    \n",
    "# out_name = CFG.out\n",
    "# ds = getattr(rnacomp.dataset, CFG_test.dataset_name)(df_test)\n",
    "# dl = DeviceDataLoader(torch.utils.data.DataLoader(ds, batch_size=CFG_test.bs, \n",
    "#                shuffle=False, drop_last=False, num_workers=CFG_test.num_workers), CFG_test.device)\n",
    "\n",
    "# generate_sub(CFG_test, [CFG], out_name, clip=False, dl=dl)\n",
    "\n",
    "# a = pd.read_parquet(f'{out_name}_no_clip.parquet').set_index('id')\n",
    "# a = a.clip(0,1)\n",
    "# a = a.reset_index()\n",
    "# a.to_parquet(f'{out_name}.parquet', index=False)\n",
    "# print(f\"kaggle competitions submit stanford-ribonanza-rna-folding -f {out_name}.parquet -m '{out_name}'\")\n",
    "# plot_test_example(out_name)"
   ]
  },
  {
   "cell_type": "code",
   "execution_count": 10,
   "metadata": {},
   "outputs": [
    {
     "name": "stderr",
     "output_type": "stream",
     "text": [
      "/usr/local/lib/python3.10/dist-packages/pyarrow/pandas_compat.py:373: FutureWarning: is_sparse is deprecated and will be removed in a future version. Check `isinstance(dtype, pd.SparseDtype)` instead.\n",
      "  if _pandas_api.is_sparse(col):\n"
     ]
    },
    {
     "name": "stdout",
     "output_type": "stream",
     "text": [
      "kaggle competitions submit stanford-ribonanza-rna-folding -f miracle.parquet -m 'miracle'\n",
      "None\n"
     ]
    }
   ],
   "source": [
    "\n",
    "out_name = 'miracle'\n",
    "res = (0.5 * pd.read_csv('sub_slime_ens_19.csv').set_index('id').values + \n",
    "       0.5 * pd.read_parquet('submission_comb2.parquet').set_index('id').values\n",
    "\n",
    "       )\n",
    "res = np.clip(res, 0, 1)\n",
    "res = pd.DataFrame(res, columns=['reactivity_DMS_MaP', 'reactivity_2A3_MaP'], index=pd.read_parquet('exp_16_ft_exp_19_ft_no_clip.parquet').set_index('id').index)\n",
    "res = res.reset_index()\n",
    "res.to_parquet(f'{out_name}.parquet', index=False)\n",
    "print(print(f\"kaggle competitions submit stanford-ribonanza-rna-folding -f {name}.parquet -m '{name}'\"))\n",
    "plot_test_example(out_name)"
   ]
  },
  {
   "cell_type": "code",
   "execution_count": 15,
   "metadata": {},
   "outputs": [
    {
     "name": "stdout",
     "output_type": "stream",
     "text": [
      "kwargs\n",
      "loading : ../exp/exp_32-ft-after-PLfoldsEXft/models/model.pth\n",
      "generating sub with no cliping: exp_32-ft-after-PLfoldsEXft_no_clip\n",
      "<rnacomp.dataset.RNA_Dataset_TestBppSSFullV4 object at 0x7f88bd717940>\n",
      "using dataset: None\n"
     ]
    },
    {
     "name": "stderr",
     "output_type": "stream",
     "text": [
      "100%|████████████████████████████████████████████████████████████████████████████████████████████████████████████████████████| 10499/10499 [43:50<00:00,  3.99it/s]\n",
      "/usr/local/lib/python3.10/dist-packages/pyarrow/pandas_compat.py:373: FutureWarning: is_sparse is deprecated and will be removed in a future version. Check `isinstance(dtype, pd.SparseDtype)` instead.\n",
      "  if _pandas_api.is_sparse(col):\n",
      "/usr/local/lib/python3.10/dist-packages/pyarrow/pandas_compat.py:373: FutureWarning: is_sparse is deprecated and will be removed in a future version. Check `isinstance(dtype, pd.SparseDtype)` instead.\n",
      "  if _pandas_api.is_sparse(col):\n"
     ]
    },
    {
     "name": "stdout",
     "output_type": "stream",
     "text": [
      "kaggle competitions submit stanford-ribonanza-rna-folding -f exp_32-ft-after-PLfoldsEXft.parquet -m 'exp_32-ft-after-PLfoldsEXft'\n"
     ]
    }
   ],
   "source": [
    "\n",
    "\n",
    "# #RNA_Dataset_TestBppSSFullV4\n",
    "\n",
    "# class CFG_test:\n",
    "#     dataset_name = 'RNA_Dataset_TestBppSSFullV4'\n",
    "#     bs = 128\n",
    "#     num_workers = 16\n",
    "#     device = 'cuda'\n",
    "    \n",
    "    \n",
    "# class CFG:\n",
    "#     path = Path(\"../data/\")\n",
    "#     pathbb = Path(\"../data/Ribonanza_bpp_files\")\n",
    "#     pathss = Path(\"../eda/train_ss_vienna_rna.parquet\")\n",
    "#     split_id = Path('../eda/fold_split.csv')\n",
    "#     device = 'cuda'\n",
    "#     seed = 2023\n",
    "#     out = 'exp_32-ft-after-PLfoldsEXft'\n",
    "#     dataset_name = 'RNA_DatasetBaselineSplitssbppV6SAVEDwithFMPSD'\n",
    "#     dataset_val = 'RNA_DatasetBaselineSplitssbppV6SAVEDwithFM'\n",
    "\n",
    "    \n",
    "#     model_name = 'RNA_ModelV25'\n",
    "#     model_kwargs = dict(dim=192 * 2,\n",
    "#         depth=4,\n",
    "#         head_size=32,\n",
    "#         drop_pat_dropout=0.2,\n",
    "#         dropout=0.2,\n",
    "#         bpp_transfomer_depth = 4)\n",
    "\n",
    "#     sn_train = True\n",
    "#     epoch = 16\n",
    "#     lr = 5e-6\n",
    "#     wd = 0.05\n",
    "#     pct_start = 0.01\n",
    "#     dim = False\n",
    "    \n",
    "#     md_wt = 'exp_32/models/model.pth'\n",
    "    \n",
    "# out_name = CFG.out\n",
    "# ds = getattr(rnacomp.dataset, CFG_test.dataset_name)(df_test)\n",
    "# dl = DeviceDataLoader(torch.utils.data.DataLoader(ds, batch_size=CFG_test.bs, \n",
    "#                shuffle=False, drop_last=False, num_workers=CFG_test.num_workers), CFG_test.device)\n",
    "\n",
    "# generate_sub(CFG_test, [CFG], out_name, clip=False, dl=dl)\n",
    "\n",
    "# a = pd.read_parquet(f'{out_name}_no_clip.parquet').set_index('id')\n",
    "# a = a.clip(0,1)\n",
    "# a = a.reset_index()\n",
    "# a.to_parquet(f'{out_name}.parquet', index=False)\n",
    "# print(f\"kaggle competitions submit stanford-ribonanza-rna-folding -f {out_name}.parquet -m '{out_name}'\")\n",
    "# plot_test_example(out_name)"
   ]
  },
  {
   "cell_type": "code",
   "execution_count": 16,
   "metadata": {
    "scrolled": false
   },
   "outputs": [
    {
     "name": "stdout",
     "output_type": "stream",
     "text": [
      "kwargs\n",
      "loading : ../exp/exp_32_psd_v3_final_comb_PL_v1/models/model.pth\n",
      "generating sub with no cliping: exp_32_psd_v3_final_comb_PL_v1_no_clip\n",
      "<rnacomp.dataset.RNA_Dataset_TestBppSSFullV4 object at 0x7f88bd71a680>\n",
      "using dataset: None\n"
     ]
    },
    {
     "name": "stderr",
     "output_type": "stream",
     "text": [
      "100%|████████████████████████████████████████████████████████████████████████████████████████████████████████████████████████| 10499/10499 [44:32<00:00,  3.93it/s]\n",
      "/usr/local/lib/python3.10/dist-packages/pyarrow/pandas_compat.py:373: FutureWarning: is_sparse is deprecated and will be removed in a future version. Check `isinstance(dtype, pd.SparseDtype)` instead.\n",
      "  if _pandas_api.is_sparse(col):\n",
      "/usr/local/lib/python3.10/dist-packages/pyarrow/pandas_compat.py:373: FutureWarning: is_sparse is deprecated and will be removed in a future version. Check `isinstance(dtype, pd.SparseDtype)` instead.\n",
      "  if _pandas_api.is_sparse(col):\n"
     ]
    },
    {
     "name": "stdout",
     "output_type": "stream",
     "text": [
      "kaggle competitions submit stanford-ribonanza-rna-folding -f exp_32_psd_v3_final_comb_PL_v1.parquet -m 'exp_32_psd_v3_final_comb_PL_v1'\n"
     ]
    }
   ],
   "source": [
    "\n",
    "\n",
    "# #RNA_Dataset_TestBppSSFullV4\n",
    "\n",
    "# class CFG_test:\n",
    "#     dataset_name = 'RNA_Dataset_TestBppSSFullV4'\n",
    "#     bs = 128\n",
    "#     num_workers = 16\n",
    "#     device = 'cuda'\n",
    "    \n",
    "    \n",
    "# class CFG:\n",
    "#     path = Path(\"../data/\")\n",
    "#     pathbb = Path(\"../data/Ribonanza_bpp_files\")\n",
    "#     pathss = Path(\"../eda/train_ss_vienna_rna.parquet\")\n",
    "#     split_id = Path('../eda/fold_split.csv')\n",
    "#     device = 'cuda'\n",
    "#     seed = 2023\n",
    "#     out = 'exp_32_psd_v3_final_comb_PL_v1'\n",
    "#     dataset_name = 'RNA_DatasetBaselineSplitssbppV6SAVEDwithFMPSD'\n",
    "#     dataset_val = 'RNA_DatasetBaselineSplitssbppV6SAVEDwithFM'\n",
    "\n",
    "    \n",
    "#     model_name = 'RNA_ModelV25'\n",
    "#     model_kwargs = dict(dim=192 * 2,\n",
    "#         depth=4,\n",
    "#         head_size=32,\n",
    "#         drop_pat_dropout=0.2,\n",
    "#         dropout=0.2,\n",
    "#         bpp_transfomer_depth = 4)\n",
    "\n",
    "#     sn_train = True\n",
    "#     epoch = 16\n",
    "#     lr = 5e-6\n",
    "#     wd = 0.05\n",
    "#     pct_start = 0.01\n",
    "#     dim = False\n",
    "    \n",
    "#     md_wt = 'exp_32/models/model.pth'\n",
    "    \n",
    "# out_name = CFG.out\n",
    "# ds = getattr(rnacomp.dataset, CFG_test.dataset_name)(df_test)\n",
    "# dl = DeviceDataLoader(torch.utils.data.DataLoader(ds, batch_size=CFG_test.bs, \n",
    "#                shuffle=False, drop_last=False, num_workers=CFG_test.num_workers), CFG_test.device)\n",
    "\n",
    "# generate_sub(CFG_test, [CFG], out_name, clip=False, dl=dl)\n",
    "\n",
    "# a = pd.read_parquet(f'{out_name}_no_clip.parquet').set_index('id')\n",
    "# a = a.clip(0,1)\n",
    "# a = a.reset_index()\n",
    "# a.to_parquet(f'{out_name}.parquet', index=False)\n",
    "# print(f\"kaggle competitions submit stanford-ribonanza-rna-folding -f {out_name}.parquet -m '{out_name}'\")\n",
    "# plot_test_example(out_name)"
   ]
  },
  {
   "cell_type": "code",
   "execution_count": 2,
   "metadata": {},
   "outputs": [
    {
     "name": "stdout",
     "output_type": "stream",
     "text": [
      "kwargs\n",
      "loading : ../exp/exp_32_v3_psd_v2/models/model.pth\n",
      "generating sub with no cliping: exp_32_v3_psd_v2_no_clip\n",
      "<rnacomp.dataset.RNA_Dataset_TestBppSSFullV4 object at 0x7fd322218bb0>\n",
      "using dataset: None\n"
     ]
    },
    {
     "name": "stderr",
     "output_type": "stream",
     "text": [
      "100%|████████████████████████████████████████████████████████████████████████████████████████████████████████████████████████| 10499/10499 [52:33<00:00,  3.33it/s]\n",
      "/usr/local/lib/python3.10/dist-packages/pyarrow/pandas_compat.py:373: FutureWarning: is_sparse is deprecated and will be removed in a future version. Check `isinstance(dtype, pd.SparseDtype)` instead.\n",
      "  if _pandas_api.is_sparse(col):\n",
      "/usr/local/lib/python3.10/dist-packages/pyarrow/pandas_compat.py:373: FutureWarning: is_sparse is deprecated and will be removed in a future version. Check `isinstance(dtype, pd.SparseDtype)` instead.\n",
      "  if _pandas_api.is_sparse(col):\n"
     ]
    },
    {
     "name": "stdout",
     "output_type": "stream",
     "text": [
      "kaggle competitions submit stanford-ribonanza-rna-folding -f exp_32_v3_psd_v2.parquet -m 'exp_32_v3_psd_v2'\n"
     ]
    }
   ],
   "source": [
    "# #RNA_Dataset_TestBppSSFullV4\n",
    "\n",
    "# class CFG_test:\n",
    "#     dataset_name = 'RNA_Dataset_TestBppSSFullV4'\n",
    "#     bs = 128\n",
    "#     num_workers = 16\n",
    "#     device = 'cuda'\n",
    "    \n",
    "    \n",
    "# class CFG:\n",
    "#     path = Path(\"../data/\")\n",
    "#     pathbb = Path(\"../data/Ribonanza_bpp_files\")\n",
    "#     pathss = Path(\"../eda/train_ss_vienna_rna.parquet\")\n",
    "#     split_id = Path('../eda/fold_split.csv')\n",
    "#     num_workers = 4\n",
    "#     device = 'cuda'\n",
    "#     seed = 2023\n",
    "#     out = 'exp_32_v3_psd_v2'\n",
    "#     dataset_name = 'RNA_DatasetBaselineSplitssbppV6SAVEDwithFM'\n",
    "#     sn_train = False\n",
    "    \n",
    "#     model_name = 'RNA_ModelV25'\n",
    "#     model_kwargs = dict(dim=192 * 2,\n",
    "#         depth=4,\n",
    "#         head_size=32,\n",
    "#         drop_pat_dropout=0.2,\n",
    "#         dropout=0.2,\n",
    "#         bpp_transfomer_depth = 6)\n",
    "#     dim =False\n",
    "\n",
    "   \n",
    "#     bs = 16\n",
    "#     sn_train = True\n",
    "#     epoch = 12\n",
    "#     lr = 5e-5\n",
    "#     wd = 0.05\n",
    "#     pct_start = 0.01\n",
    "#     md_wt = 'exp_32_v3/models/model.pth'\n",
    "#     pct_start = 0.01\n",
    "    \n",
    "    \n",
    "#     md_wt = 'exp_32_v3_ex_ft/models/model.pth'\n",
    "    \n",
    "# out_name = CFG.out\n",
    "# ds = getattr(rnacomp.dataset, CFG_test.dataset_name)(df_test)\n",
    "# dl = DeviceDataLoader(torch.utils.data.DataLoader(ds, batch_size=CFG_test.bs, \n",
    "#                shuffle=False, drop_last=False, num_workers=CFG_test.num_workers), CFG_test.device)\n",
    "\n",
    "# generate_sub(CFG_test, [CFG], out_name, clip=False, dl=dl)\n",
    "\n",
    "# a = pd.read_parquet(f'{out_name}_no_clip.parquet').set_index('id')\n",
    "# a = a.clip(0,1)\n",
    "# a = a.reset_index()\n",
    "# a.to_parquet(f'{out_name}.parquet', index=False)\n",
    "# print(f\"kaggle competitions submit stanford-ribonanza-rna-folding -f {out_name}.parquet -m '{out_name}'\")\n",
    "# plot_test_example(out_name)"
   ]
  },
  {
   "cell_type": "code",
   "execution_count": null,
   "metadata": {},
   "outputs": [
    {
     "name": "stdout",
     "output_type": "stream",
     "text": [
      "kwargs\n",
      "loading : ../exp/exp_32_psd_v3_ex_ft_sr/models/model.pth\n",
      "generating sub with no cliping: exp_32_psd_v3_ex_ft_sr_no_clip\n",
      "<rnacomp.dataset.RNA_Dataset_TestBppSSFullV4 object at 0x7f52e48c98a0>\n",
      "using dataset: None\n"
     ]
    },
    {
     "name": "stderr",
     "output_type": "stream",
     "text": [
      "100%|████████████████████████████████████████████████████████████████████████████████████████████████████████████████████████| 10499/10499 [44:32<00:00,  3.93it/s]\n",
      "/usr/local/lib/python3.10/dist-packages/pyarrow/pandas_compat.py:373: FutureWarning: is_sparse is deprecated and will be removed in a future version. Check `isinstance(dtype, pd.SparseDtype)` instead.\n",
      "  if _pandas_api.is_sparse(col):\n"
     ]
    }
   ],
   "source": [
    "# #RNA_Dataset_TestBppSSFullV4\n",
    "\n",
    "# class CFG_test:\n",
    "#     dataset_name = 'RNA_Dataset_TestBppSSFullV4'\n",
    "#     bs = 128\n",
    "#     num_workers = 16\n",
    "#     device = 'cuda'\n",
    "    \n",
    "    \n",
    "# class CFG:\n",
    "#     path = Path(\"../data/\")\n",
    "#     pathbb = Path(\"../data/Ribonanza_bpp_files\")\n",
    "#     pathss = Path(\"../eda/train_ss_vienna_rna.parquet\")\n",
    "#     split_id = Path('../eda/fold_split.csv')\n",
    "#     path_extra = Path('../data/rmdb_data.v1.3.0.csv')\n",
    "#     bs = 32\n",
    "#     num_workers = 4\n",
    "#     device = 'cuda'\n",
    "#     seed = 2023\n",
    "#     out = 'exp_32_psd_v3_ex_ft_sr'\n",
    "#     dataset_name = 'RNA_DatasetBaselineSplitssbppV6SAVEDwithFM'\n",
    "#     dataset_external = 'RNA_DatasetEXV0'\n",
    "#     sn_train = True\n",
    "#     dim = False\n",
    "\n",
    "    \n",
    "#     model_name = 'RNA_ModelV25ExternalInference'\n",
    "#     model_kwargs = dict(dim=192 * 2,\n",
    "#         depth=4,\n",
    "#         head_size=32,\n",
    "#         drop_pat_dropout=0.2,\n",
    "#         dropout=0.2,\n",
    "#         bpp_transfomer_depth = 4)\n",
    "\n",
    "#     epoch = 9\n",
    "#     lr = 5e-5\n",
    "#     wd = 0.05\n",
    "#     pct_start = 0.01\n",
    "    \n",
    "    \n",
    "#     md_wt = 'exp_32_psd_v3_ex_ft_sr/models/model.pth'\n",
    "    \n",
    "# out_name = CFG.out\n",
    "# ds = getattr(rnacomp.dataset, CFG_test.dataset_name)(df_test)\n",
    "# dl = DeviceDataLoader(torch.utils.data.DataLoader(ds, batch_size=CFG_test.bs, \n",
    "#                shuffle=False, drop_last=False, num_workers=CFG_test.num_workers), CFG_test.device)\n",
    "\n",
    "# generate_sub(CFG_test, [CFG], out_name, clip=False, dl=dl)\n",
    "\n",
    "# a = pd.read_parquet(f'{out_name}_no_clip.parquet').set_index('id')\n",
    "# a = a.clip(0,1)\n",
    "# a = a.reset_index()\n",
    "# a.to_parquet(f'{out_name}.parquet', index=False)\n",
    "# print(f\"kaggle competitions submit stanford-ribonanza-rna-folding -f {out_name}.parquet -m '{out_name}'\")\n",
    "# plot_test_example(out_name)"
   ]
  },
  {
   "cell_type": "code",
   "execution_count": 4,
   "metadata": {},
   "outputs": [
    {
     "name": "stdout",
     "output_type": "stream",
     "text": [
      "kwargs\n",
      "loading : ../exp/exp_32_v3_psd_v2_ex_ft/models/model.pth\n",
      "generating sub with no cliping: exp_32_v3_psd_v2_ex_ft_no_clip\n",
      "<rnacomp.dataset.RNA_Dataset_TestBppSSFullV4 object at 0x7fd9c324c8b0>\n",
      "using dataset: None\n"
     ]
    },
    {
     "name": "stderr",
     "output_type": "stream",
     "text": [
      "100%|█████████████████████████████████████████████████████████████████████████████████████████████████████████████████████| 10499/10499 [51:54<00:00,  3.37it/s]\n",
      "/usr/local/lib/python3.10/dist-packages/pyarrow/pandas_compat.py:373: FutureWarning: is_sparse is deprecated and will be removed in a future version. Check `isinstance(dtype, pd.SparseDtype)` instead.\n",
      "  if _pandas_api.is_sparse(col):\n",
      "/usr/local/lib/python3.10/dist-packages/pyarrow/pandas_compat.py:373: FutureWarning: is_sparse is deprecated and will be removed in a future version. Check `isinstance(dtype, pd.SparseDtype)` instead.\n",
      "  if _pandas_api.is_sparse(col):\n"
     ]
    },
    {
     "name": "stdout",
     "output_type": "stream",
     "text": [
      "kaggle competitions submit stanford-ribonanza-rna-folding -f exp_32_v3_psd_v2_ex_ft.parquet -m 'exp_32_v3_psd_v2_ex_ft'\n"
     ]
    }
   ],
   "source": [
    "#RNA_Dataset_TestBppSSFullV4\n",
    "\n",
    "class CFG_test:\n",
    "    dataset_name = 'RNA_Dataset_TestBppSSFullV4'\n",
    "    bs = 128\n",
    "    num_workers = 16\n",
    "    device = 'cuda'\n",
    "    \n",
    "    \n",
    "class CFG:\n",
    "    path = Path(\"../data/\")\n",
    "    pathbb = Path(\"../data/Ribonanza_bpp_files\")\n",
    "    pathss = Path(\"../eda/train_ss_vienna_rna.parquet\")\n",
    "    split_id = Path('../eda/fold_split.csv')\n",
    "    num_workers = 4\n",
    "    device = 'cuda'\n",
    "    seed = 2023\n",
    "    out = 'exp_32_v3_psd_v2_ex_ft'\n",
    "    dataset_name = 'RNA_DatasetBaselineSplitssbppV6SAVEDwithFM'\n",
    "    sn_train = False\n",
    "    \n",
    "    model_name = 'RNA_ModelV25ExternalInference'\n",
    "    model_kwargs = dict(dim=192 * 2,\n",
    "        depth=4,\n",
    "        head_size=32,\n",
    "        drop_pat_dropout=0.2,\n",
    "        dropout=0.2,\n",
    "        bpp_transfomer_depth = 6)\n",
    "    dim =False\n",
    "\n",
    "   \n",
    "    bs = 16\n",
    "    sn_train = True\n",
    "    epoch = 12\n",
    "    lr = 5e-5\n",
    "    wd = 0.05\n",
    "    pct_start = 0.01\n",
    "    md_wt = 'exp_32_v3/models/model.pth'\n",
    "    pct_start = 0.01\n",
    "    \n",
    "    \n",
    "    md_wt = 'exp_32_v3_ex_ft/models/model.pth'\n",
    "    \n",
    "out_name = CFG.out\n",
    "ds = getattr(rnacomp.dataset, CFG_test.dataset_name)(df_test)\n",
    "dl = DeviceDataLoader(torch.utils.data.DataLoader(ds, batch_size=CFG_test.bs, \n",
    "               shuffle=False, drop_last=False, num_workers=CFG_test.num_workers), CFG_test.device)\n",
    "\n",
    "generate_sub(CFG_test, [CFG], out_name, clip=False, dl=dl)\n",
    "\n",
    "a = pd.read_parquet(f'{out_name}_no_clip.parquet').set_index('id')\n",
    "a = a.clip(0,1)\n",
    "a = a.reset_index()\n",
    "a.to_parquet(f'{out_name}.parquet', index=False)\n",
    "print(f\"kaggle competitions submit stanford-ribonanza-rna-folding -f {out_name}.parquet -m '{out_name}'\")\n",
    "plot_test_example(out_name)"
   ]
  },
  {
   "cell_type": "code",
   "execution_count": 5,
   "metadata": {},
   "outputs": [
    {
     "name": "stdout",
     "output_type": "stream",
     "text": [
      "kwargs\n",
      "loading : ../exp/exp_32_v3_psd_pl0_v0/models/model.pth\n",
      "generating sub with no cliping: exp_32_v3_psd_pl0_v0_no_clip\n",
      "<rnacomp.dataset.RNA_Dataset_TestBppSSFullV4 object at 0x7fd958d2ee00>\n",
      "using dataset: None\n"
     ]
    },
    {
     "name": "stderr",
     "output_type": "stream",
     "text": [
      "100%|█████████████████████████████████████████████████████████████████████████████████████████████████████████████████████| 10499/10499 [53:03<00:00,  3.30it/s]\n",
      "/usr/local/lib/python3.10/dist-packages/pyarrow/pandas_compat.py:373: FutureWarning: is_sparse is deprecated and will be removed in a future version. Check `isinstance(dtype, pd.SparseDtype)` instead.\n",
      "  if _pandas_api.is_sparse(col):\n",
      "/usr/local/lib/python3.10/dist-packages/pyarrow/pandas_compat.py:373: FutureWarning: is_sparse is deprecated and will be removed in a future version. Check `isinstance(dtype, pd.SparseDtype)` instead.\n",
      "  if _pandas_api.is_sparse(col):\n"
     ]
    },
    {
     "name": "stdout",
     "output_type": "stream",
     "text": [
      "kaggle competitions submit stanford-ribonanza-rna-folding -f exp_32_v3_psd_pl0_v0.parquet -m 'exp_32_v3_psd_pl0_v0'\n"
     ]
    }
   ],
   "source": [
    "# #RNA_Dataset_TestBppSSFullV4\n",
    "\n",
    "# class CFG_test:\n",
    "#     dataset_name = 'RNA_Dataset_TestBppSSFullV4'\n",
    "#     bs = 128\n",
    "#     num_workers = 16\n",
    "#     device = 'cuda'\n",
    "    \n",
    "    \n",
    "# class CFG:\n",
    "#     path = Path(\"../data/\")\n",
    "#     pathbb = Path(\"../data/Ribonanza_bpp_files\")\n",
    "#     pathss = Path(\"../eda/train_ss_vienna_rna.parquet\")\n",
    "#     split_id = Path('../eda/fold_split.csv')\n",
    "#     num_workers = 4\n",
    "#     device = 'cuda'\n",
    "#     seed = 2023\n",
    "#     out = 'exp_32_v3_psd_pl0_v0'\n",
    "#     dataset_name = 'RNA_DatasetBaselineSplitssbppV6SAVEDwithFM'\n",
    "#     sn_train = False\n",
    "    \n",
    "#     model_name = 'RNA_ModelV25'\n",
    "#     model_kwargs = dict(dim=192 * 2,\n",
    "#         depth=4,\n",
    "#         head_size=32,\n",
    "#         drop_pat_dropout=0.2,\n",
    "#         dropout=0.2,\n",
    "#         bpp_transfomer_depth = 6)\n",
    "#     dim =False\n",
    "\n",
    "   \n",
    "#     bs = 16\n",
    "#     sn_train = True\n",
    "#     epoch = 12\n",
    "#     lr = 5e-5\n",
    "#     wd = 0.05\n",
    "#     pct_start = 0.01\n",
    "#     md_wt = 'exp_32_v3/models/model.pth'\n",
    "#     pct_start = 0.01\n",
    "    \n",
    "    \n",
    "#     md_wt = 'exp_32_v3_ex_ft/models/model.pth'\n",
    "    \n",
    "# out_name = CFG.out\n",
    "# ds = getattr(rnacomp.dataset, CFG_test.dataset_name)(df_test)\n",
    "# dl = DeviceDataLoader(torch.utils.data.DataLoader(ds, batch_size=CFG_test.bs, \n",
    "#                shuffle=False, drop_last=False, num_workers=CFG_test.num_workers), CFG_test.device)\n",
    "\n",
    "# generate_sub(CFG_test, [CFG], out_name, clip=False, dl=dl)\n",
    "\n",
    "# a = pd.read_parquet(f'{out_name}_no_clip.parquet').set_index('id')\n",
    "# a = a.clip(0,1)\n",
    "# a = a.reset_index()\n",
    "# a.to_parquet(f'{out_name}.parquet', index=False)\n",
    "# print(f\"kaggle competitions submit stanford-ribonanza-rna-folding -f {out_name}.parquet -m '{out_name}'\")\n",
    "# plot_test_example(out_name)"
   ]
  },
  {
   "cell_type": "code",
   "execution_count": 5,
   "metadata": {},
   "outputs": [
    {
     "name": "stdout",
     "output_type": "stream",
     "text": [
      "kwargs\n",
      "loading : ../exp/exp_32_v2_psd_pl0_v0/models/model.pth\n",
      "generating sub with no cliping: exp_32_v2_psd_pl0_v0_no_clip\n",
      "<rnacomp.dataset.RNA_Dataset_TestBppSSFullV5 object at 0x7f0e370282b0>\n",
      "using dataset: None\n"
     ]
    },
    {
     "name": "stderr",
     "output_type": "stream",
     "text": [
      "100%|█████████████████████████████████████████████████████████████████████████████████████████████████████████████████████| 10499/10499 [51:06<00:00,  3.42it/s]\n",
      "/usr/local/lib/python3.10/dist-packages/pyarrow/pandas_compat.py:373: FutureWarning: is_sparse is deprecated and will be removed in a future version. Check `isinstance(dtype, pd.SparseDtype)` instead.\n",
      "  if _pandas_api.is_sparse(col):\n",
      "/usr/local/lib/python3.10/dist-packages/pyarrow/pandas_compat.py:373: FutureWarning: is_sparse is deprecated and will be removed in a future version. Check `isinstance(dtype, pd.SparseDtype)` instead.\n",
      "  if _pandas_api.is_sparse(col):\n"
     ]
    },
    {
     "name": "stdout",
     "output_type": "stream",
     "text": [
      "kaggle competitions submit stanford-ribonanza-rna-folding -f exp_32_v2_psd_pl0_v0.parquet -m 'exp_32_v2_psd_pl0_v0'\n"
     ]
    }
   ],
   "source": [
    "#RNA_Dataset_TestBppSSFullV5\n",
    "\n",
    "class CFG_test:\n",
    "    dataset_name = 'RNA_Dataset_TestBppSSFullV5'\n",
    "    bs = 128\n",
    "    num_workers = 16\n",
    "    device = 'cuda'\n",
    "    \n",
    "    \n",
    "class CFG:\n",
    "    path = Path(\"../data/\")\n",
    "    pathbb = Path(\"../data/Ribonanza_bpp_files\")\n",
    "    pathss = Path(\"../eda/train_ss_vienna_rna.parquet\")\n",
    "    split_id = Path('../eda/fold_split.csv')\n",
    "    path_extra = Path('../data/rmdb_data.v1.3.0.csv')\n",
    "    bs = 16\n",
    "    num_workers = 4\n",
    "    device = 'cuda'\n",
    "    seed = 2023\n",
    "    out = 'exp_32_v2_psd_pl0_v0'\n",
    "    dataset_name = 'RNA_DatasetBaselineSplitssbppV6SAVEDwithoutFM'\n",
    "    dataset_external = 'RNA_DatasetEXV1'\n",
    "    sn_train = True\n",
    "    dim = False\n",
    "    \n",
    "    model_name = 'RNA_ModelV25'\n",
    "    model_kwargs = dict(dim=192 * 2,\n",
    "        depth=4,\n",
    "        head_size=32,\n",
    "        drop_pat_dropout=0.2,\n",
    "        dropout=0.2,\n",
    "        bpp_transfomer_depth = 6)\n",
    "\n",
    "\n",
    "    epoch = 9\n",
    "    lr = 5e-5\n",
    "    wd = 0.05\n",
    "    pct_start = 0.01\n",
    "    \n",
    "    \n",
    "\n",
    "    \n",
    "out_name = CFG.out\n",
    "ds = getattr(rnacomp.dataset, CFG_test.dataset_name)(df_test)\n",
    "dl = DeviceDataLoader(torch.utils.data.DataLoader(ds, batch_size=CFG_test.bs, \n",
    "               shuffle=False, drop_last=False, num_workers=CFG_test.num_workers), CFG_test.device)\n",
    "\n",
    "generate_sub(CFG_test, [CFG], out_name, clip=False, dl=dl)\n",
    "\n",
    "a = pd.read_parquet(f'{out_name}_no_clip.parquet').set_index('id')\n",
    "a = a.clip(0,1)\n",
    "a = a.reset_index()\n",
    "a.to_parquet(f'{out_name}.parquet', index=False)\n",
    "print(f\"kaggle competitions submit stanford-ribonanza-rna-folding -f {out_name}.parquet -m '{out_name}'\")\n",
    "plot_test_example(out_name)\n",
    "convert_to_zip(out_name)"
   ]
  },
  {
   "cell_type": "code",
   "execution_count": 6,
   "metadata": {},
   "outputs": [
    {
     "name": "stderr",
     "output_type": "stream",
     "text": [
      "/usr/local/lib/python3.10/dist-packages/pyarrow/pandas_compat.py:373: FutureWarning: is_sparse is deprecated and will be removed in a future version. Check `isinstance(dtype, pd.SparseDtype)` instead.\n",
      "  if _pandas_api.is_sparse(col):\n"
     ]
    },
    {
     "name": "stdout",
     "output_type": "stream",
     "text": [
      "kaggle competitions submit stanford-ribonanza-rna-folding -f hb_comb_psd_no_ex.parquet -m 'hb_comb_psd_no_ex'\n",
      "None\n"
     ]
    }
   ],
   "source": [
    "\n",
    "# name = 'hb_comb_psd_no_ex'\n",
    "# res = (pd.read_parquet('exp_32_v2_psd_pl0_v0.parquet').set_index('id').values + \n",
    "#        pd.read_parquet('exp_32_v3_psd_pl0_v0_no_clip.parquet').set_index('id').values + \n",
    "#        pd.read_parquet('exp_32_psd_v3_no_clip.parquet').set_index('id').values)/3\n",
    "# res = np.clip(res, 0, 1)\n",
    "# res = pd.DataFrame(res, columns=['reactivity_DMS_MaP', 'reactivity_2A3_MaP'], index=pd.read_parquet('exp_16_ft_exp_19_ft_no_clip.parquet').set_index('id').index)\n",
    "# res.reset_index().to_parquet(f'{name}.parquet', index=False)\n",
    "# print(print(f\"kaggle competitions submit stanford-ribonanza-rna-folding -f {name}.parquet -m '{name}'\"))\n",
    "# plot_test_example(name)"
   ]
  },
  {
   "cell_type": "code",
   "execution_count": 9,
   "metadata": {},
   "outputs": [],
   "source": []
  },
  {
   "cell_type": "code",
   "execution_count": 11,
   "metadata": {},
   "outputs": [
    {
     "data": {
      "text/plain": [
       "(                    reactivity_DMS_MaP  reactivity_DMS_MaP  reactivity_DMS_MaP\n",
       " reactivity_DMS_MaP            1.000000            0.866662            0.856585\n",
       " reactivity_DMS_MaP            0.866662            1.000000            0.896158\n",
       " reactivity_DMS_MaP            0.856585            0.896158            1.000000,\n",
       "                     reactivity_2A3_MaP  reactivity_2A3_MaP  reactivity_2A3_MaP\n",
       " reactivity_2A3_MaP            1.000000            0.808747            0.840748\n",
       " reactivity_2A3_MaP            0.808747            1.000000            0.866988\n",
       " reactivity_2A3_MaP            0.840748            0.866988            1.000000)"
      ]
     },
     "execution_count": 11,
     "metadata": {},
     "output_type": "execute_result"
    }
   ],
   "source": [
    " calculate_separate_correlations([pd.read_parquet('exp_32_v2_ft_ex_sr_no_clip.parquet').set_index('id'),\n",
    "        pd.read_parquet('exp_32_v3_ex_ft_sr_ft_no_clip.parquet').set_index('id'), \n",
    "    pd.read_parquet('exp_32_ex_ft_sr_ft_no_clip.parquet').set_index('id')])"
   ]
  },
  {
   "cell_type": "code",
   "execution_count": 13,
   "metadata": {},
   "outputs": [
    {
     "name": "stderr",
     "output_type": "stream",
     "text": [
      "/usr/local/lib/python3.10/dist-packages/pyarrow/pandas_compat.py:373: FutureWarning: is_sparse is deprecated and will be removed in a future version. Check `isinstance(dtype, pd.SparseDtype)` instead.\n",
      "  if _pandas_api.is_sparse(col):\n"
     ]
    },
    {
     "name": "stdout",
     "output_type": "stream",
     "text": [
      "kaggle competitions submit stanford-ribonanza-rna-folding -f hb_external.parquet -m 'hb_external'\n",
      "None\n"
     ]
    }
   ],
   "source": [
    "\n",
    "# name = 'hb_external'\n",
    "# res = (pd.read_parquet('exp_32_v2_ft_ex_sr_no_clip.parquet').set_index('id').values + \n",
    "#        pd.read_parquet('exp_32_v3_ex_ft_sr_ft_no_clip.parquet').set_index('id').values + \n",
    "#        pd.read_parquet('exp_32_ex_ft_sr_ft_no_clip.parquet').set_index('id').values)/3\n",
    "# res = np.clip(res, 0, 1)\n",
    "# res = pd.DataFrame(res, columns=['reactivity_DMS_MaP', 'reactivity_2A3_MaP'], index=pd.read_parquet('exp_16_ft_exp_19_ft_no_clip.parquet').set_index('id').index)\n",
    "# res.reset_index().to_parquet(f'{name}.parquet', index=False)\n",
    "# print(print(f\"kaggle competitions submit stanford-ribonanza-rna-folding -f {name}.parquet -m '{name}'\"))\n",
    "# plot_test_example(name)"
   ]
  },
  {
   "cell_type": "code",
   "execution_count": 16,
   "metadata": {},
   "outputs": [],
   "source": [
    "# #RNA_Dataset_TestBppSSFullV5\n",
    "\n",
    "# class CFG_test:\n",
    "#     dataset_name = 'RNA_Dataset_TestBppSSFullV5'\n",
    "#     bs = 128\n",
    "#     num_workers = 16\n",
    "#     device = 'cuda'\n",
    "    \n",
    "    \n",
    "# class CFG:\n",
    "#     path = Path(\"../data/\")\n",
    "#     pathbb = Path(\"../data/Ribonanza_bpp_files\")\n",
    "#     pathss = Path(\"../eda/train_ss_vienna_rna.parquet\")\n",
    "#     split_id = Path('../eda/fold_split.csv')\n",
    "#     path_extra = Path('../data/rmdb_data.v1.3.0.csv')\n",
    "#     bs = 16\n",
    "#     num_workers = 4\n",
    "#     device = 'cuda'\n",
    "#     seed = 2023\n",
    "#     out = 'exp_32_v2_ft_after_psd_ft'\n",
    "#     dataset_name = 'RNA_DatasetBaselineSplitssbppV6SAVEDwithoutFM'\n",
    "#     dataset_external = 'RNA_DatasetEXV1'\n",
    "#     sn_train = True\n",
    "#     dim = False\n",
    "    \n",
    "#     model_name = 'RNA_ModelV25'\n",
    "#     model_kwargs = dict(dim=192 * 2,\n",
    "#         depth=4,\n",
    "#         head_size=32,\n",
    "#         drop_pat_dropout=0.2,\n",
    "#         dropout=0.2,\n",
    "#         bpp_transfomer_depth = 6)\n",
    "\n",
    "\n",
    "#     epoch = 9\n",
    "#     lr = 5e-5\n",
    "#     wd = 0.05\n",
    "#     pct_start = 0.01\n",
    "    \n",
    "    \n",
    "\n",
    "    \n",
    "# out_name = CFG.out\n",
    "# ds = getattr(rnacomp.dataset, CFG_test.dataset_name)(df_test)\n",
    "# dl = DeviceDataLoader(torch.utils.data.DataLoader(ds, batch_size=CFG_test.bs, \n",
    "#                shuffle=False, drop_last=False, num_workers=CFG_test.num_workers), CFG_test.device)\n",
    "\n",
    "# generate_sub(CFG_test, [CFG], out_name, clip=False, dl=dl)\n",
    "\n",
    "# a = pd.read_parquet(f'{out_name}_no_clip.parquet').set_index('id')\n",
    "# a = a.clip(0,1)\n",
    "# a = a.reset_index()\n",
    "# a.to_parquet(f'{out_name}.parquet', index=False)\n",
    "# print(f\"kaggle competitions submit stanford-ribonanza-rna-folding -f {out_name}.parquet -m '{out_name}'\")\n",
    "# plot_test_example(out_name)\n",
    "# #convert_to_zip(out_name)"
   ]
  },
  {
   "cell_type": "code",
   "execution_count": 15,
   "metadata": {},
   "outputs": [
    {
     "data": {
      "text/plain": [
       "(                    reactivity_DMS_MaP  reactivity_DMS_MaP\n",
       " reactivity_DMS_MaP             1.00000             0.97538\n",
       " reactivity_DMS_MaP             0.97538             1.00000,\n",
       "                     reactivity_2A3_MaP  reactivity_2A3_MaP\n",
       " reactivity_2A3_MaP              1.0000              0.9691\n",
       " reactivity_2A3_MaP              0.9691              1.0000)"
      ]
     },
     "execution_count": 15,
     "metadata": {},
     "output_type": "execute_result"
    }
   ],
   "source": [
    " calculate_separate_correlations([\n",
    "        pd.read_parquet('exp_32_ft_after_psd_no_clip.parquet').set_index('id'), \n",
    "    pd.read_parquet('exp_32_v2_ft_after_psd_ft_no_clip.parquet').set_index('id')])"
   ]
  },
  {
   "cell_type": "code",
   "execution_count": 5,
   "metadata": {},
   "outputs": [
    {
     "data": {
      "text/plain": [
       "(                    reactivity_DMS_MaP  reactivity_DMS_MaP\n",
       " reactivity_DMS_MaP            1.000000            0.891615\n",
       " reactivity_DMS_MaP            0.891615            1.000000,\n",
       "                     reactivity_2A3_MaP  reactivity_2A3_MaP\n",
       " reactivity_2A3_MaP             1.00000             0.83742\n",
       " reactivity_2A3_MaP             0.83742             1.00000)"
      ]
     },
     "execution_count": 5,
     "metadata": {},
     "output_type": "execute_result"
    }
   ],
   "source": [
    " calculate_separate_correlations([\n",
    "        pd.read_parquet('hb_comb_psd_no_ex.parquet').set_index('id'), \n",
    "    pd.read_parquet('hb_comb_no_ex_no_psd_v2.parquet').set_index('id')])"
   ]
  },
  {
   "cell_type": "code",
   "execution_count": 6,
   "metadata": {},
   "outputs": [
    {
     "name": "stdout",
     "output_type": "stream",
     "text": [
      "kwargs\n",
      "loading : ../exp/exp_32_v3_psd_ex_ft_sr_ft/models/model.pth\n",
      "generating sub with no cliping: exp_32_v3_psd_ex_ft_sr_ft_no_clip\n",
      "<rnacomp.dataset.RNA_Dataset_TestBppSSFullV4 object at 0x7ff3284bd180>\n",
      "using dataset: None\n"
     ]
    },
    {
     "name": "stderr",
     "output_type": "stream",
     "text": [
      "100%|█████████████████████████████████████████████████████████████████████████████████████████████████████████████████████| 10499/10499 [49:55<00:00,  3.51it/s]\n",
      "/usr/local/lib/python3.10/dist-packages/pyarrow/pandas_compat.py:373: FutureWarning: is_sparse is deprecated and will be removed in a future version. Check `isinstance(dtype, pd.SparseDtype)` instead.\n",
      "  if _pandas_api.is_sparse(col):\n",
      "/usr/local/lib/python3.10/dist-packages/pyarrow/pandas_compat.py:373: FutureWarning: is_sparse is deprecated and will be removed in a future version. Check `isinstance(dtype, pd.SparseDtype)` instead.\n",
      "  if _pandas_api.is_sparse(col):\n"
     ]
    },
    {
     "name": "stdout",
     "output_type": "stream",
     "text": [
      "kaggle competitions submit stanford-ribonanza-rna-folding -f exp_32_v3_psd_ex_ft_sr_ft.parquet -m 'exp_32_v3_psd_ex_ft_sr_ft'\n"
     ]
    }
   ],
   "source": [
    "#RNA_Dataset_TestBppSSFullV4\n",
    "\n",
    "class CFG_test:\n",
    "    dataset_name = 'RNA_Dataset_TestBppSSFullV4'\n",
    "    bs = 128\n",
    "    num_workers = 16\n",
    "    device = 'cuda'\n",
    "    \n",
    "    \n",
    "class CFG:\n",
    "    path = Path(\"../data/\")\n",
    "    pathbb = Path(\"../data/Ribonanza_bpp_files\")\n",
    "    pathss = Path(\"../eda/train_ss_vienna_rna.parquet\")\n",
    "    split_id = Path('../eda/fold_split.csv')\n",
    "    num_workers = 4\n",
    "    device = 'cuda'\n",
    "    seed = 2023\n",
    "    out = 'exp_32_v3_psd_ex_ft_sr_ft'\n",
    "    dataset_name = 'RNA_DatasetBaselineSplitssbppV6SAVEDwithFM'\n",
    "    sn_train = False\n",
    "    \n",
    "    model_name = 'RNA_ModelV25ExternalInference'\n",
    "    model_kwargs = dict(dim=192 * 2,\n",
    "        depth=4,\n",
    "        head_size=32,\n",
    "        drop_pat_dropout=0.2,\n",
    "        dropout=0.2,\n",
    "        bpp_transfomer_depth = 6)\n",
    "    dim =False\n",
    "\n",
    "   \n",
    "    bs = 16\n",
    "    sn_train = True\n",
    "    epoch = 12\n",
    "    lr = 5e-5\n",
    "    wd = 0.05\n",
    "    pct_start = 0.01\n",
    "    md_wt = 'exp_32_v3/models/model.pth'\n",
    "    pct_start = 0.01\n",
    "    \n",
    "    \n",
    "    md_wt = 'exp_32_v3_ex_ft/models/model.pth'\n",
    "    \n",
    "out_name = CFG.out\n",
    "ds = getattr(rnacomp.dataset, CFG_test.dataset_name)(df_test)\n",
    "dl = DeviceDataLoader(torch.utils.data.DataLoader(ds, batch_size=CFG_test.bs, \n",
    "               shuffle=False, drop_last=False, num_workers=CFG_test.num_workers), CFG_test.device)\n",
    "\n",
    "generate_sub(CFG_test, [CFG], out_name, clip=False, dl=dl)\n",
    "\n",
    "a = pd.read_parquet(f'{out_name}_no_clip.parquet').set_index('id')\n",
    "a = a.clip(0,1)\n",
    "a = a.reset_index()\n",
    "a.to_parquet(f'{out_name}.parquet', index=False)\n",
    "print(f\"kaggle competitions submit stanford-ribonanza-rna-folding -f {out_name}.parquet -m '{out_name}'\")\n",
    "plot_test_example(out_name)"
   ]
  },
  {
   "cell_type": "code",
   "execution_count": 7,
   "metadata": {},
   "outputs": [
    {
     "name": "stdout",
     "output_type": "stream",
     "text": [
      "kwargs\n",
      "loading : ../exp/exp_32_v3_ft_after_psd_ft_sr/models/model.pth\n",
      "generating sub with no cliping: exp_32_v3_ft_after_psd_ft_sr_no_clip\n",
      "<rnacomp.dataset.RNA_Dataset_TestBppSSFullV4 object at 0x7ff1600ac1c0>\n",
      "using dataset: None\n"
     ]
    },
    {
     "name": "stderr",
     "output_type": "stream",
     "text": [
      "100%|█████████████████████████████████████████████████████████████████████████████████████████████████████████████████████| 10499/10499 [52:09<00:00,  3.35it/s]\n",
      "/usr/local/lib/python3.10/dist-packages/pyarrow/pandas_compat.py:373: FutureWarning: is_sparse is deprecated and will be removed in a future version. Check `isinstance(dtype, pd.SparseDtype)` instead.\n",
      "  if _pandas_api.is_sparse(col):\n",
      "/usr/local/lib/python3.10/dist-packages/pyarrow/pandas_compat.py:373: FutureWarning: is_sparse is deprecated and will be removed in a future version. Check `isinstance(dtype, pd.SparseDtype)` instead.\n",
      "  if _pandas_api.is_sparse(col):\n"
     ]
    },
    {
     "name": "stdout",
     "output_type": "stream",
     "text": [
      "kaggle competitions submit stanford-ribonanza-rna-folding -f exp_32_v3_ft_after_psd_ft_sr.parquet -m 'exp_32_v3_ft_after_psd_ft_sr'\n"
     ]
    }
   ],
   "source": [
    "#RNA_Dataset_TestBppSSFullV4\n",
    "\n",
    "class CFG_test:\n",
    "    dataset_name = 'RNA_Dataset_TestBppSSFullV4'\n",
    "    bs = 128\n",
    "    num_workers = 16\n",
    "    device = 'cuda'\n",
    "    \n",
    "    \n",
    "class CFG:\n",
    "    path = Path(\"../data/\")\n",
    "    pathbb = Path(\"../data/Ribonanza_bpp_files\")\n",
    "    pathss = Path(\"../eda/train_ss_vienna_rna.parquet\")\n",
    "    split_id = Path('../eda/fold_split.csv')\n",
    "    num_workers = 4\n",
    "    device = 'cuda'\n",
    "    seed = 2023\n",
    "    out = 'exp_32_v3_ft_after_psd_ft_sr'\n",
    "    dataset_name = 'RNA_DatasetBaselineSplitssbppV6SAVEDwithFM'\n",
    "    sn_train = False\n",
    "    \n",
    "    model_name = 'RNA_ModelV25'\n",
    "    model_kwargs = dict(dim=192 * 2,\n",
    "        depth=4,\n",
    "        head_size=32,\n",
    "        drop_pat_dropout=0.2,\n",
    "        dropout=0.2,\n",
    "        bpp_transfomer_depth = 6)\n",
    "    dim =False\n",
    "\n",
    "   \n",
    "    bs = 16\n",
    "    sn_train = True\n",
    "    epoch = 12\n",
    "    lr = 5e-5\n",
    "    wd = 0.05\n",
    "    pct_start = 0.01\n",
    "    md_wt = 'exp_32_v3/models/model.pth'\n",
    "    pct_start = 0.01\n",
    "    \n",
    "    \n",
    "\n",
    "    \n",
    "out_name = CFG.out\n",
    "ds = getattr(rnacomp.dataset, CFG_test.dataset_name)(df_test)\n",
    "dl = DeviceDataLoader(torch.utils.data.DataLoader(ds, batch_size=CFG_test.bs, \n",
    "               shuffle=False, drop_last=False, num_workers=CFG_test.num_workers), CFG_test.device)\n",
    "\n",
    "generate_sub(CFG_test, [CFG], out_name, clip=False, dl=dl)\n",
    "\n",
    "a = pd.read_parquet(f'{out_name}_no_clip.parquet').set_index('id')\n",
    "a = a.clip(0,1)\n",
    "a = a.reset_index()\n",
    "a.to_parquet(f'{out_name}.parquet', index=False)\n",
    "print(f\"kaggle competitions submit stanford-ribonanza-rna-folding -f {out_name}.parquet -m '{out_name}'\")\n",
    "plot_test_example(out_name)"
   ]
  },
  {
   "cell_type": "code",
   "execution_count": 8,
   "metadata": {},
   "outputs": [
    {
     "data": {
      "text/plain": [
       "(                    reactivity_DMS_MaP  reactivity_DMS_MaP  reactivity_DMS_MaP\n",
       " reactivity_DMS_MaP            1.000000            0.975393            0.955217\n",
       " reactivity_DMS_MaP            0.975393            1.000000            0.936376\n",
       " reactivity_DMS_MaP            0.955217            0.936376            1.000000,\n",
       "                     reactivity_2A3_MaP  reactivity_2A3_MaP  reactivity_2A3_MaP\n",
       " reactivity_2A3_MaP            1.000000            0.969115            0.961596\n",
       " reactivity_2A3_MaP            0.969115            1.000000            0.943984\n",
       " reactivity_2A3_MaP            0.961596            0.943984            1.000000)"
      ]
     },
     "execution_count": 8,
     "metadata": {},
     "output_type": "execute_result"
    }
   ],
   "source": [
    " calculate_separate_correlations([pd.read_parquet('exp_32_v2_ft_after_psd_ft.parquet').set_index('id'),\n",
    "        pd.read_parquet('exp_32_ft_after_psd.parquet').set_index('id'), \n",
    "    pd.read_parquet('exp_32_v3_ft_after_psd_ft_sr.parquet').set_index('id')])"
   ]
  },
  {
   "cell_type": "code",
   "execution_count": 9,
   "metadata": {},
   "outputs": [
    {
     "name": "stderr",
     "output_type": "stream",
     "text": [
      "/usr/local/lib/python3.10/dist-packages/pyarrow/pandas_compat.py:373: FutureWarning: is_sparse is deprecated and will be removed in a future version. Check `isinstance(dtype, pd.SparseDtype)` instead.\n",
      "  if _pandas_api.is_sparse(col):\n"
     ]
    },
    {
     "name": "stdout",
     "output_type": "stream",
     "text": [
      "kaggle competitions submit stanford-ribonanza-rna-folding -f hb_comb_psd_no_ex_ft.parquet -m 'hb_comb_psd_no_ex_ft'\n",
      "None\n"
     ]
    }
   ],
   "source": [
    "\n",
    "name = 'hb_comb_psd_no_ex_ft'\n",
    "res = (pd.read_parquet('exp_32_v2_ft_after_psd_ft_no_clip.parquet').set_index('id').values + \n",
    "       pd.read_parquet('exp_32_ft_after_psd_no_clip.parquet').set_index('id').values + \n",
    "       pd.read_parquet('exp_32_v3_ft_after_psd_ft_sr_no_clip.parquet').set_index('id').values)/3\n",
    "res = np.clip(res, 0, 1)\n",
    "res = pd.DataFrame(res, columns=['reactivity_DMS_MaP', 'reactivity_2A3_MaP'], index=pd.read_parquet('exp_16_ft_exp_19_ft_no_clip.parquet').set_index('id').index)\n",
    "res.reset_index().to_parquet(f'{name}.parquet', index=False)\n",
    "print(print(f\"kaggle competitions submit stanford-ribonanza-rna-folding -f {name}.parquet -m '{name}'\"))\n",
    "plot_test_example(name)"
   ]
  },
  {
   "cell_type": "code",
   "execution_count": 10,
   "metadata": {},
   "outputs": [
    {
     "name": "stdout",
     "output_type": "stream",
     "text": [
      "kwargs\n",
      "loading : ../exp/exp_32_v2_psd_PLfoldsEXft_ft_ex/models/model.pth\n",
      "generating sub with no cliping: exp_32_v2_psd_PLfoldsEXft_ft_ex_no_clip\n",
      "<rnacomp.dataset.RNA_Dataset_TestBppSSFullV5 object at 0x7ff13910cd30>\n",
      "using dataset: None\n"
     ]
    },
    {
     "name": "stderr",
     "output_type": "stream",
     "text": [
      " 95%|████████████████████████████████████████████████████████████████████████████████████████████████████████████████▎     | 9989/10499 [48:58<02:30,  3.38it/s]"
     ]
    }
   ],
   "source": [
    "#RNA_Dataset_TestBppSSFullV5\n",
    "\n",
    "class CFG_test:\n",
    "    dataset_name = 'RNA_Dataset_TestBppSSFullV5'\n",
    "    bs = 128\n",
    "    num_workers = 16\n",
    "    device = 'cuda'\n",
    "    \n",
    "    \n",
    "class CFG:\n",
    "    path = Path(\"../data/\")\n",
    "    pathbb = Path(\"../data/Ribonanza_bpp_files\")\n",
    "    pathss = Path(\"../eda/train_ss_vienna_rna.parquet\")\n",
    "    split_id = Path('../eda/fold_split.csv')\n",
    "    path_extra = Path('../data/rmdb_data.v1.3.0.csv')\n",
    "    bs = 16\n",
    "    num_workers = 4\n",
    "    device = 'cuda'\n",
    "    seed = 2023\n",
    "    out = 'exp_32_v2_psd_PLfoldsEXft_ft_ex'\n",
    "    dataset_name = 'RNA_DatasetBaselineSplitssbppV6SAVEDwithoutFM'\n",
    "    dataset_external = 'RNA_DatasetEXV1'\n",
    "    sn_train = True\n",
    "    dim = False\n",
    "    \n",
    "    model_name = 'RNA_ModelV25ExternalInference'\n",
    "    model_kwargs = dict(dim=192 * 2,\n",
    "        depth=4,\n",
    "        head_size=32,\n",
    "        drop_pat_dropout=0.2,\n",
    "        dropout=0.2,\n",
    "        bpp_transfomer_depth = 6)\n",
    "\n",
    "\n",
    "    epoch = 9\n",
    "    lr = 5e-5\n",
    "    wd = 0.05\n",
    "    pct_start = 0.01\n",
    "    \n",
    "    \n",
    "\n",
    "    \n",
    "out_name = CFG.out\n",
    "ds = getattr(rnacomp.dataset, CFG_test.dataset_name)(df_test)\n",
    "dl = DeviceDataLoader(torch.utils.data.DataLoader(ds, batch_size=CFG_test.bs, \n",
    "               shuffle=False, drop_last=False, num_workers=CFG_test.num_workers), CFG_test.device)\n",
    "\n",
    "generate_sub(CFG_test, [CFG], out_name, clip=False, dl=dl)\n",
    "\n",
    "a = pd.read_parquet(f'{out_name}_no_clip.parquet').set_index('id')\n",
    "a = a.clip(0,1)\n",
    "a = a.reset_index()\n",
    "a.to_parquet(f'{out_name}.parquet', index=False)\n",
    "print(f\"kaggle competitions submit stanford-ribonanza-rna-folding -f {out_name}.parquet -m '{out_name}'\")\n",
    "plot_test_example(out_name)\n",
    "#convert_to_zip(out_name)"
   ]
  },
  {
   "cell_type": "code",
   "execution_count": 11,
   "metadata": {},
   "outputs": [],
   "source": [
    "k"
   ]
  },
  {
   "cell_type": "code",
   "execution_count": 14,
   "metadata": {},
   "outputs": [
    {
     "data": {
      "text/plain": [
       "(                    reactivity_DMS_MaP  reactivity_DMS_MaP\n",
       " reactivity_DMS_MaP            1.000000            0.983372\n",
       " reactivity_DMS_MaP            0.983372            1.000000,\n",
       "                     reactivity_2A3_MaP  reactivity_2A3_MaP\n",
       " reactivity_2A3_MaP            1.000000            0.983526\n",
       " reactivity_2A3_MaP            0.983526            1.000000)"
      ]
     },
     "execution_count": 14,
     "metadata": {},
     "output_type": "execute_result"
    }
   ],
   "source": [
    " calculate_separate_correlations([pd.read_parquet('exp_32_v2_psd_PLfoldsEXft_ft_ex.parquet').set_index('id'),\n",
    "      #  pd.read_parquet('exp_32-ft-after-PLfoldsEXft.parquet').set_index('id'), \n",
    "    pd.read_parquet('exp_32_v3_psd_ex_ft_sr_ft.parquet').set_index('id')])"
   ]
  },
  {
   "cell_type": "code",
   "execution_count": 3,
   "metadata": {},
   "outputs": [
    {
     "data": {
      "text/plain": [
       "(                    reactivity_DMS_MaP  reactivity_DMS_MaP\n",
       " reactivity_DMS_MaP            1.000000            0.912805\n",
       " reactivity_DMS_MaP            0.912805            1.000000,\n",
       "                     reactivity_2A3_MaP  reactivity_2A3_MaP\n",
       " reactivity_2A3_MaP             1.00000             0.86999\n",
       " reactivity_2A3_MaP             0.86999             1.00000)"
      ]
     },
     "execution_count": 3,
     "metadata": {},
     "output_type": "execute_result"
    }
   ],
   "source": [
    " calculate_separate_correlations([\n",
    "        pd.read_parquet('hb_comb_psd_no_ex_ft.parquet').set_index('id'), \n",
    "    pd.read_parquet('hb_comb_no_ex_no_psd_v2.parquet').set_index('id')])"
   ]
  },
  {
   "cell_type": "code",
   "execution_count": 4,
   "metadata": {},
   "outputs": [
    {
     "name": "stderr",
     "output_type": "stream",
     "text": [
      "/usr/local/lib/python3.10/dist-packages/pyarrow/pandas_compat.py:373: FutureWarning: is_sparse is deprecated and will be removed in a future version. Check `isinstance(dtype, pd.SparseDtype)` instead.\n",
      "  if _pandas_api.is_sparse(col):\n"
     ]
    },
    {
     "name": "stdout",
     "output_type": "stream",
     "text": [
      "kaggle competitions submit stanford-ribonanza-rna-folding -f hb_final_no_external.parquet -m 'hb_final_no_external'\n",
      "None\n"
     ]
    }
   ],
   "source": [
    "\n",
    "name = 'hb_final_no_external'\n",
    "res = (pd.read_parquet('hb_comb_psd_no_ex_ft.parquet').set_index('id').values + \n",
    "       pd.read_parquet('hb_comb_no_ex_no_psd_v2.parquet').set_index('id').values )/2\n",
    "res = np.clip(res, 0, 1)\n",
    "res = pd.DataFrame(res, columns=['reactivity_DMS_MaP', 'reactivity_2A3_MaP'], index=pd.read_parquet('exp_16_ft_exp_19_ft_no_clip.parquet').set_index('id').index)\n",
    "res.reset_index().to_parquet(f'{name}.parquet', index=False)\n",
    "print(print(f\"kaggle competitions submit stanford-ribonanza-rna-folding -f {name}.parquet -m '{name}'\"))\n",
    "plot_test_example(name)"
   ]
  },
  {
   "cell_type": "code",
   "execution_count": null,
   "metadata": {},
   "outputs": [],
   "source": [
    "\n",
    "name = 'hb_psd_ex_v2_v3'\n",
    "res = (0.5 * pd.read_parquet('exp_32_v2_psd_PLfoldsEXft_ft_ex_no_clip.parquet').set_index('id').values + \n",
    "       0.5 * pd.read_parquet('exp_32_v3_psd_ex_ft_sr_ft_no_clip.parquet').set_index('id').values\n",
    "      )\n",
    "res = np.clip(res, 0, 1)\n",
    "res = pd.DataFrame(res, columns=['reactivity_DMS_MaP', 'reactivity_2A3_MaP'], index=pd.read_parquet('exp_16_ft_exp_19_ft_no_clip.parquet').set_index('id').index)\n",
    "res.reset_index().to_parquet(f'{name}.parquet', index=False)\n",
    "print(print(f\"kaggle competitions submit stanford-ribonanza-rna-folding -f {name}.parquet -m '{name}'\"))\n",
    "plot_test_example(name)"
   ]
  },
  {
   "cell_type": "code",
   "execution_count": 19,
   "metadata": {},
   "outputs": [
    {
     "data": {
      "text/plain": [
       "(                    reactivity_DMS_MaP  reactivity_DMS_MaP  reactivity_DMS_MaP\n",
       " reactivity_DMS_MaP            1.000000            0.920616            0.898197\n",
       " reactivity_DMS_MaP            0.920616            1.000000            0.922065\n",
       " reactivity_DMS_MaP            0.898197            0.922065            1.000000,\n",
       "                     reactivity_2A3_MaP  reactivity_2A3_MaP  reactivity_2A3_MaP\n",
       " reactivity_2A3_MaP            1.000000            0.914083            0.868166\n",
       " reactivity_2A3_MaP            0.914083            1.000000            0.901197\n",
       " reactivity_2A3_MaP            0.868166            0.901197            1.000000)"
      ]
     },
     "execution_count": 19,
     "metadata": {},
     "output_type": "execute_result"
    }
   ],
   "source": [
    "calculate_separate_correlations([pd.read_parquet(\"exp_32-ft-after-PLfoldsEXft.parquet\").set_index('id'),\n",
    "pd.read_parquet(\"hb_psd_ex_v2_v3.parquet\").set_index('id'),\n",
    "pd.read_parquet(\"hb_external.parquet\").set_index('id')])\n",
    "\n"
   ]
  },
  {
   "cell_type": "code",
   "execution_count": 20,
   "metadata": {},
   "outputs": [
    {
     "name": "stderr",
     "output_type": "stream",
     "text": [
      "/usr/local/lib/python3.10/dist-packages/pyarrow/pandas_compat.py:373: FutureWarning: is_sparse is deprecated and will be removed in a future version. Check `isinstance(dtype, pd.SparseDtype)` instead.\n",
      "  if _pandas_api.is_sparse(col):\n"
     ]
    },
    {
     "name": "stdout",
     "output_type": "stream",
     "text": [
      "kaggle competitions submit stanford-ribonanza-rna-folding -f hb_final_external.parquet -m 'hb_final_external'\n",
      "None\n"
     ]
    }
   ],
   "source": [
    "\n",
    "name = 'hb_final_external'\n",
    "res = (pd.read_parquet('exp_32-ft-after-PLfoldsEXft.parquet').set_index('id').values + \n",
    "       pd.read_parquet('hb_psd_ex_v2_v3.parquet').set_index('id').values + \n",
    "       pd.read_parquet('hb_external.parquet').set_index('id').values)/3\n",
    "res = np.clip(res, 0, 1)\n",
    "res = pd.DataFrame(res, columns=['reactivity_DMS_MaP', 'reactivity_2A3_MaP'], index=pd.read_parquet('exp_16_ft_exp_19_ft_no_clip.parquet').set_index('id').index)\n",
    "res.reset_index().to_parquet(f'{name}.parquet', index=False)\n",
    "print(print(f\"kaggle competitions submit stanford-ribonanza-rna-folding -f {name}.parquet -m '{name}'\"))\n",
    "plot_test_example(name)"
   ]
  },
  {
   "cell_type": "code",
   "execution_count": 21,
   "metadata": {},
   "outputs": [
    {
     "data": {
      "text/plain": [
       "(                    reactivity_DMS_MaP  reactivity_DMS_MaP\n",
       " reactivity_DMS_MaP            1.000000            0.936943\n",
       " reactivity_DMS_MaP            0.936943            1.000000,\n",
       "                     reactivity_2A3_MaP  reactivity_2A3_MaP\n",
       " reactivity_2A3_MaP            1.000000            0.974986\n",
       " reactivity_2A3_MaP            0.974986            1.000000)"
      ]
     },
     "execution_count": 21,
     "metadata": {},
     "output_type": "execute_result"
    }
   ],
   "source": [
    "calculate_separate_correlations([pd.read_parquet(\"hb_final_no_external.parquet\").set_index('id'),\n",
    "pd.read_parquet(\"hb_final_external.parquet\").set_index('id')])\n",
    "\n"
   ]
  },
  {
   "cell_type": "code",
   "execution_count": 6,
   "metadata": {},
   "outputs": [
    {
     "name": "stderr",
     "output_type": "stream",
     "text": [
      "/usr/local/lib/python3.10/dist-packages/pyarrow/pandas_compat.py:373: FutureWarning: is_sparse is deprecated and will be removed in a future version. Check `isinstance(dtype, pd.SparseDtype)` instead.\n",
      "  if _pandas_api.is_sparse(col):\n"
     ]
    },
    {
     "name": "stdout",
     "output_type": "stream",
     "text": [
      "kaggle competitions submit stanford-ribonanza-rna-folding -f hb_final.parquet -m 'hb_final'\n",
      "None\n"
     ]
    }
   ],
   "source": [
    "\n",
    "name = 'hb_final'\n",
    "res = (0.4 * pd.read_parquet('hb_final_external.parquet').set_index('id').values + \n",
    "       0.6 * pd.read_parquet('hb_final_no_external.parquet').set_index('id').values )\n",
    "res = np.clip(res, 0, 1)\n",
    "res = pd.DataFrame(res, columns=['reactivity_DMS_MaP', 'reactivity_2A3_MaP'], index=pd.read_parquet('exp_16_ft_exp_19_ft_no_clip.parquet').set_index('id').index)\n",
    "res.reset_index().to_parquet(f'{name}.parquet', index=False)\n",
    "print(print(f\"kaggle competitions submit stanford-ribonanza-rna-folding -f {name}.parquet -m '{name}'\"))\n",
    "plot_test_example(name)"
   ]
  },
  {
   "cell_type": "code",
   "execution_count": null,
   "metadata": {},
   "outputs": [],
   "source": [
    "plot_test_example('hb_final_no_external')"
   ]
  },
  {
   "cell_type": "code",
   "execution_count": 8,
   "metadata": {},
   "outputs": [
    {
     "data": {
      "text/plain": [
       "(                    reactivity_DMS_MaP  reactivity_DMS_MaP\n",
       " reactivity_DMS_MaP            1.000000            0.927508\n",
       " reactivity_DMS_MaP            0.927508            1.000000,\n",
       "                     reactivity_2A3_MaP  reactivity_2A3_MaP\n",
       " reactivity_2A3_MaP            1.000000            0.929018\n",
       " reactivity_2A3_MaP            0.929018            1.000000)"
      ]
     },
     "execution_count": 8,
     "metadata": {},
     "output_type": "execute_result"
    }
   ],
   "source": [
    "calculate_separate_correlations([\n",
    "    pd.read_parquet(\"all_ex1.parquet\").set_index('id'),\n",
    "    pd.read_parquet(\"miracle.parquet\").set_index('id')])"
   ]
  },
  {
   "cell_type": "code",
   "execution_count": 13,
   "metadata": {},
   "outputs": [
    {
     "ename": "AttributeError",
     "evalue": "'NoneType' object has no attribute 'query'",
     "output_type": "error",
     "traceback": [
      "\u001b[0;31m---------------------------------------------------------------------------\u001b[0m",
      "\u001b[0;31mAttributeError\u001b[0m                            Traceback (most recent call last)",
      "Cell \u001b[0;32mIn[13], line 1\u001b[0m\n\u001b[0;32m----> 1\u001b[0m \u001b[43mplot_test_example\u001b[49m\u001b[43m(\u001b[49m\u001b[38;5;124;43m'\u001b[39;49m\u001b[38;5;124;43mall_ex1\u001b[39;49m\u001b[38;5;124;43m'\u001b[39;49m\u001b[43m)\u001b[49m\u001b[38;5;241;43m.\u001b[39;49m\u001b[43mquery\u001b[49m(\u001b[38;5;124m\"\u001b[39m\u001b[38;5;124mid_min==269545321\u001b[39m\u001b[38;5;124m\"\u001b[39m)\n",
      "\u001b[0;31mAttributeError\u001b[0m: 'NoneType' object has no attribute 'query'"
     ]
    }
   ],
   "source": [
    "plot_test_example('all_ex1')"
   ]
  },
  {
   "cell_type": "code",
   "execution_count": 14,
   "metadata": {},
   "outputs": [
    {
     "data": {
      "text/html": [
       "<div>\n",
       "<style scoped>\n",
       "    .dataframe tbody tr th:only-of-type {\n",
       "        vertical-align: middle;\n",
       "    }\n",
       "\n",
       "    .dataframe tbody tr th {\n",
       "        vertical-align: top;\n",
       "    }\n",
       "\n",
       "    .dataframe thead th {\n",
       "        text-align: right;\n",
       "    }\n",
       "</style>\n",
       "<table border=\"1\" class=\"dataframe\">\n",
       "  <thead>\n",
       "    <tr style=\"text-align: right;\">\n",
       "      <th></th>\n",
       "      <th>id_min</th>\n",
       "      <th>id_max</th>\n",
       "      <th>sequence_id</th>\n",
       "      <th>sequence</th>\n",
       "      <th>future</th>\n",
       "      <th>bpp</th>\n",
       "      <th>ss_roi</th>\n",
       "      <th>ss_full</th>\n",
       "    </tr>\n",
       "  </thead>\n",
       "  <tbody>\n",
       "    <tr>\n",
       "      <th>1343273</th>\n",
       "      <td>269545321</td>\n",
       "      <td>269545777</td>\n",
       "      <td>bb8b1ae22c99</td>\n",
       "      <td>GGGAACGACUCGAGUAGAGUCGAAAAGGAGGGAAAAGUUAUCAGGCAUGCACCUGGUAGCUAGUCUUUAAACCAAUAGAUUGCAUCGGUUUAAAAGGCAAGACCGUCAAAUUGCGGGAAAGGGGUCAACAGCCGUUCAGUACCAAGUCUCAGGGGAAACUUUGAGAUGGCCUUGCAAAGGGUAUGGUAAUAAGCUGACGGACAUGGUCCUAACCACGCAGCCAAGUCCUAAGUCAACAGAUCUUCUGUUGAUAUGGAUGCAGUUCACAGACUAAAUGUCGGUCGGGGAAGAUGUAUUCUUCUCAUAAGAUAUAGUCGGACCUCUCCUUAAUGGGAGCUAGCGGAUGAAGUGAUGCAACACUGGAGCCGCUGGGAACUAAUUUGUAUGCGAAAGUAUAUUGAUUAGUUUUGGAGAAACAUACUGCUUCGGCAGUAUGAAAAGAAACAACAACAACAAC</td>\n",
       "      <td>1</td>\n",
       "      <td>../data/Ribonanza_bpp_files/extra_data/f/f/e/bb8b1ae22c99.txt</td>\n",
       "      <td>..(((((..((((((((((......))))))))))..)))))...(((...((((((((((((((........)))))......(((((((...(((((((....((((.((((((((.(((((((((....))))))))).(((((....))))).)))).....))))))))...)))))))..)).)))))...........(((((((((...)))))))))...)))))))))....(((((..((((.....(((((((.....)))))))....)))))))))......(((((....)))))(((((((....((((......))))....)))))))(((((((((.((((((....)))))).)))))))))))).....((((((((....))))))))</td>\n",
       "      <td>.....((((((.....))))))..((((((((...((((((((((......)))))))))).(((((((((((.............))))).)))))).............((((((...(((((((....((((.((((((((.(((((((((....))))))))).(((((....))))).)))).....))))))))...)))))))..)).))))((...((((...(((((((((...)))))))))..)))))).((((...(((((..((((.....(((((((.....)))))))....)))))))))))))))))))))........(((((((....((((......))))....)))))))(((((((((.((((((....)))))).)))))))))........((((((((....)))))))).....................</td>\n",
       "    </tr>\n",
       "  </tbody>\n",
       "</table>\n",
       "</div>"
      ],
      "text/plain": [
       "            id_min     id_max   sequence_id  \\\n",
       "1343273  269545321  269545777  bb8b1ae22c99   \n",
       "\n",
       "                                                                                                                                                                                                                                                                                                                                                                                                                                                                          sequence  \\\n",
       "1343273  GGGAACGACUCGAGUAGAGUCGAAAAGGAGGGAAAAGUUAUCAGGCAUGCACCUGGUAGCUAGUCUUUAAACCAAUAGAUUGCAUCGGUUUAAAAGGCAAGACCGUCAAAUUGCGGGAAAGGGGUCAACAGCCGUUCAGUACCAAGUCUCAGGGGAAACUUUGAGAUGGCCUUGCAAAGGGUAUGGUAAUAAGCUGACGGACAUGGUCCUAACCACGCAGCCAAGUCCUAAGUCAACAGAUCUUCUGUUGAUAUGGAUGCAGUUCACAGACUAAAUGUCGGUCGGGGAAGAUGUAUUCUUCUCAUAAGAUAUAGUCGGACCUCUCCUUAAUGGGAGCUAGCGGAUGAAGUGAUGCAACACUGGAGCCGCUGGGAACUAAUUUGUAUGCGAAAGUAUAUUGAUUAGUUUUGGAGAAACAUACUGCUUCGGCAGUAUGAAAAGAAACAACAACAACAAC   \n",
       "\n",
       "         future  \\\n",
       "1343273       1   \n",
       "\n",
       "                                                                   bpp  \\\n",
       "1343273  ../data/Ribonanza_bpp_files/extra_data/f/f/e/bb8b1ae22c99.txt   \n",
       "\n",
       "                                                                                                                                                                                                                                                                                                                                                                                                                             ss_roi  \\\n",
       "1343273  ..(((((..((((((((((......))))))))))..)))))...(((...((((((((((((((........)))))......(((((((...(((((((....((((.((((((((.(((((((((....))))))))).(((((....))))).)))).....))))))))...)))))))..)).)))))...........(((((((((...)))))))))...)))))))))....(((((..((((.....(((((((.....)))))))....)))))))))......(((((....)))))(((((((....((((......))))....)))))))(((((((((.((((((....)))))).)))))))))))).....((((((((....))))))))   \n",
       "\n",
       "                                                                                                                                                                                                                                                                                                                                                                                                                                                                           ss_full  \n",
       "1343273  .....((((((.....))))))..((((((((...((((((((((......)))))))))).(((((((((((.............))))).)))))).............((((((...(((((((....((((.((((((((.(((((((((....))))))))).(((((....))))).)))).....))))))))...)))))))..)).))))((...((((...(((((((((...)))))))))..)))))).((((...(((((..((((.....(((((((.....)))))))....)))))))))))))))))))))........(((((((....((((......))))....)))))))(((((((((.((((((....)))))).)))))))))........((((((((....)))))))).....................  "
      ]
     },
     "execution_count": 14,
     "metadata": {},
     "output_type": "execute_result"
    }
   ],
   "source": [
    "df_test.query(\"id_min==269545321\")"
   ]
  },
  {
   "cell_type": "code",
   "execution_count": 37,
   "metadata": {},
   "outputs": [
    {
     "data": {
      "text/html": [
       "<div>\n",
       "<style scoped>\n",
       "    .dataframe tbody tr th:only-of-type {\n",
       "        vertical-align: middle;\n",
       "    }\n",
       "\n",
       "    .dataframe tbody tr th {\n",
       "        vertical-align: top;\n",
       "    }\n",
       "\n",
       "    .dataframe thead th {\n",
       "        text-align: right;\n",
       "    }\n",
       "</style>\n",
       "<table border=\"1\" class=\"dataframe\">\n",
       "  <thead>\n",
       "    <tr style=\"text-align: right;\">\n",
       "      <th></th>\n",
       "      <th>id_min</th>\n",
       "      <th>id_max</th>\n",
       "      <th>sequence_id</th>\n",
       "      <th>sequence</th>\n",
       "      <th>future</th>\n",
       "      <th>bpp</th>\n",
       "      <th>ss_roi</th>\n",
       "      <th>ss_full</th>\n",
       "    </tr>\n",
       "  </thead>\n",
       "  <tbody>\n",
       "    <tr>\n",
       "      <th>1343273</th>\n",
       "      <td>269545321</td>\n",
       "      <td>269545777</td>\n",
       "      <td>bb8b1ae22c99</td>\n",
       "      <td>GGGAACGACUCGAGUAGAGUCGAAAAGGAGGGAAAAGUUAUCAGGCAUGCACCUGGUAGCUAGUCUUUAAACCAAUAGAUUGCAUCGGUUUAAAAGGCAAGACCGUCAAAUUGCGGGAAAGGGGUCAACAGCCGUUCAGUACCAAGUCUCAGGGGAAACUUUGAGAUGGCCUUGCAAAGGGUAUGGUAAUAAGCUGACGGACAUGGUCCUAACCACGCAGCCAAGUCCUAAGUCAACAGAUCUUCUGUUGAUAUGGAUGCAGUUCACAGACUAAAUGUCGGUCGGGGAAGAUGUAUUCUUCUCAUAAGAUAUAGUCGGACCUCUCCUUAAUGGGAGCUAGCGGAUGAAGUGAUGCAACACUGGAGCCGCUGGGAACUAAUUUGUAUGCGAAAGUAUAUUGAUUAGUUUUGGAGAAACAUACUGCUUCGGCAGUAUGAAAAGAAACAACAACAACAAC</td>\n",
       "      <td>1</td>\n",
       "      <td>../data/Ribonanza_bpp_files/extra_data/f/f/e/bb8b1ae22c99.txt</td>\n",
       "      <td>..(((((..((((((((((......))))))))))..)))))...(((...((((((((((((((........)))))......(((((((...(((((((....((((.((((((((.(((((((((....))))))))).(((((....))))).)))).....))))))))...)))))))..)).)))))...........(((((((((...)))))))))...)))))))))....(((((..((((.....(((((((.....)))))))....)))))))))......(((((....)))))(((((((....((((......))))....)))))))(((((((((.((((((....)))))).)))))))))))).....((((((((....))))))))</td>\n",
       "      <td>.....((((((.....))))))..((((((((...((((((((((......)))))))))).(((((((((((.............))))).)))))).............((((((...(((((((....((((.((((((((.(((((((((....))))))))).(((((....))))).)))).....))))))))...)))))))..)).))))((...((((...(((((((((...)))))))))..)))))).((((...(((((..((((.....(((((((.....)))))))....)))))))))))))))))))))........(((((((....((((......))))....)))))))(((((((((.((((((....)))))).)))))))))........((((((((....)))))))).....................</td>\n",
       "    </tr>\n",
       "    <tr>\n",
       "      <th>1343274</th>\n",
       "      <td>269545778</td>\n",
       "      <td>269546234</td>\n",
       "      <td>3616168771f4</td>\n",
       "      <td>GGGAACGACUCGAGUAGAGUCGAAAACGAGGGAAAAGUUAUCAGGCAUGCACCUGGUAGCUAGUCUUUAAACCAAUAGAUUGCAUCGGUUUAAAAGGCAAGACCGUCAAAUUGCGGGAAAGGGGUCAACAGCCGUUCAGUACCAAGUCUCAGGGGAAACUUUGAGAUGGCCUUGCAAAGGGUAUGGUAAUAAGCUGACGGACAUGGUCCUAACCACGCAGCCAAGUCCUAAGUCAACAGAUCUUCUGUUGAUAUGGAUGCAGUUCACAGACUAAAUGUCGGUCGGGGAAGAUGUAUUCUUCUCAUAAGAUAUAGUCGGACCUCUCCUUAAUGGGAGCUAGCGGAUGAAGUGAUGCAACACUGGAGCCGCUGGGAACUAAUUUGUAUGCGAAAGUAUAUUGAUUAGUUUUGGAGAAAGAGGCCGGUUCGCCGGCCUCAAAAGAAACAACAACAACAAC</td>\n",
       "      <td>1</td>\n",
       "      <td>../data/Ribonanza_bpp_files/extra_data/f/f/e/3616168771f4.txt</td>\n",
       "      <td>..(((((..((((((((((......))))))))))..)))))...(((...((((((((((((((........)))))......(((((((...(((((((....((((.((((((((.(((((((((....))))))))).(((((....))))).)))).....))))))))...)))))))..)).)))))...........(((((((((...)))))))))...)))))))))....(((((..((((.....(((((((.....)))))))....)))))))))......(((((....)))))(((((((....((((......))))....)))))))(((((((((.((((((....)))))).)))))))))))).....((((((((....))))))))</td>\n",
       "      <td>.....((((((.....))))))......(((((..((((((((((......))))))))))..)))))...(((...((((((((((((((........)))))......(((((((...(((((((....((((.((((((((.(((((((((....))))))))).(((((....))))).)))).....))))))))...)))))))..)).)))))...........(((((((((...)))))))))...)))))))))....(((((..((((.....(((((((.....)))))))....)))))))))......(((((....)))))(((((((....((((......))))....)))))))(((((((((.((((((....)))))).)))))))))))).....((((((((....)))))))).....................</td>\n",
       "    </tr>\n",
       "    <tr>\n",
       "      <th>1343275</th>\n",
       "      <td>269546235</td>\n",
       "      <td>269546691</td>\n",
       "      <td>7da5a42c2e0a</td>\n",
       "      <td>GGGAACGACUCGAGUAGAGUCGAAAAGCAGGGAAAAGUUAUCAGGCAUGCACCUGGUAGCUAGUCUUUAAACCAAUAGAUUGCAUCGGUUUAAAAGGCAAGACCGUCAAAUUGCGGGAAAGGGGUCAACAGCCGUUCAGUACCAAGUCUCAGGGGAAACUUUGAGAUGGCCUUGCAAAGGGUAUGGUAAUAAGCUGACGGACAUGGUCCUAACCACGCAGCCAAGUCCUAAGUCAACAGAUCUUCUGUUGAUAUGGAUGCAGUUCACAGACUAAAUGUCGGUCGGGGAAGAUGUAUUCUUCUCAUAAGAUAUAGUCGGACCUCUCCUUAAUGGGAGCUAGCGGAUGAAGUGAUGCAACACUGGAGCCGCUGGGAACUAAUUUGUAUGCGAAAGUAUAUUGAUUAGUUUUGGAGAAACAUCCGCCUUCGGGCGGAUGAAAAGAAACAACAACAACAAC</td>\n",
       "      <td>1</td>\n",
       "      <td>../data/Ribonanza_bpp_files/extra_data/f/f/e/7da5a42c2e0a.txt</td>\n",
       "      <td>..(((((..((((((((((......))))))))))..)))))...(((...((((((((((((((........)))))......(((((((...(((((((....((((.((((((((.(((((((((....))))))))).(((((....))))).)))).....))))))))...)))))))..)).)))))...........(((((((((...)))))))))...)))))))))....(((((..((((.....(((((((.....)))))))....)))))))))......(((((....)))))(((((((....((((......))))....)))))))(((((((((.((((((....)))))).)))))))))))).....((((((((....))))))))</td>\n",
       "      <td>.....((((((.....))))))......(((((..((((((((((......))))))))))..)))))...(((...((((((((((((((........)))))......(((((((...(((((((....((((.((((((((.(((((((((....))))))))).(((((....))))).)))).....))))))))...)))))))..)).)))))...........(((((((((...)))))))))...)))))))))....(((((..((((.....(((((((.....)))))))....)))))))))......(((((....)))))(((((((....((((......))))....)))))))(((((((((.((((((....)))))).)))))))))))).....((((((((....)))))))).....................</td>\n",
       "    </tr>\n",
       "    <tr>\n",
       "      <th>1343276</th>\n",
       "      <td>269546692</td>\n",
       "      <td>269547148</td>\n",
       "      <td>6b7aeabaacc3</td>\n",
       "      <td>GGGAACGACUCGAGUAGAGUCGAAAAGGUGGGAAAAGUUAUCAGGCAUGCACCUGGUAGCUAGUCUUUAAACCAAUAGAUUGCAUCGGUUUAAAAGGCAAGACCGUCAAAUUGCGGGAAAGGGGUCAACAGCCGUUCAGUACCAAGUCUCAGGGGAAACUUUGAGAUGGCCUUGCAAAGGGUAUGGUAAUAAGCUGACGGACAUGGUCCUAACCACGCAGCCAAGUCCUAAGUCAACAGAUCUUCUGUUGAUAUGGAUGCAGUUCACAGACUAAAUGUCGGUCGGGGAAGAUGUAUUCUUCUCAUAAGAUAUAGUCGGACCUCUCCUUAAUGGGAGCUAGCGGAUGAAGUGAUGCAACACUGGAGCCGCUGGGAACUAAUUUGUAUGCGAAAGUAUAUUGAUUAGUUUUGGAGAAAGAAAACCCUUCGGGGUUUUCAAAAGAAACAACAACAACAAC</td>\n",
       "      <td>1</td>\n",
       "      <td>../data/Ribonanza_bpp_files/extra_data/f/f/e/6b7aeabaacc3.txt</td>\n",
       "      <td>.((((....((((((((((......)))))))))).(((((((((((.............))))).))))))....((((......))))....(((((((....((((.((((((((.(((((((((....))))))))).(((((....))))).)))).....))))))))...)))))))..))))....(((.((((...(((((((((...)))))))))..))))...((((...(((((..((((.....(((((((.....)))))))....)))))))))))))..(((((....)))))(((((((....((((......))))....)))))))(((((((((.((((((....)))))).)))))))))))).....((((((((....))))))))</td>\n",
       "      <td>(....((((((.....))))))....(((((((..((((((((((......))))))))))..))))...)))....((((((((((((((........)))))......(((((((...(((((((....((((.((((((((.(((((((((....))))))))).(((((....))))).)))).....))))))))...)))))))..)).)))))...........(((((((((...)))))))))...)))))))))....(((((..((((.....(((((((.....)))))))....)))))))))......(((((....)))))(((((((....((((......))))....)))))))(((((((((.((((((....)))))).)))))))))........((((((((....))))))))........)............</td>\n",
       "    </tr>\n",
       "    <tr>\n",
       "      <th>1343277</th>\n",
       "      <td>269547149</td>\n",
       "      <td>269547605</td>\n",
       "      <td>580811d88bed</td>\n",
       "      <td>GGGAACGACUCGAGUAGAGUCGAAAAGGACGGAAAAGUUAUCAGGCAUGCACCUGGUAGCUAGUCUUUAAACCAAUAGAUUGCAUCGGUUUAAAAGGCAAGACCGUCAAAUUGCGGGAAAGGGGUCAACAGCCGUUCAGUACCAAGUCUCAGGGGAAACUUUGAGAUGGCCUUGCAAAGGGUAUGGUAAUAAGCUGACGGACAUGGUCCUAACCACGCAGCCAAGUCCUAAGUCAACAGAUCUUCUGUUGAUAUGGAUGCAGUUCACAGACUAAAUGUCGGUCGGGGAAGAUGUAUUCUUCUCAUAAGAUAUAGUCGGACCUCUCCUUAAUGGGAGCUAGCGGAUGAAGUGAUGCAACACUGGAGCCGCUGGGAACUAAUUUGUAUGCGAAAGUAUAUUGAUUAGUUUUGGAGAAACCUAUCACUUCGGUGAUAGGAAAAGAAACAACAACAACAAC</td>\n",
       "      <td>1</td>\n",
       "      <td>../data/Ribonanza_bpp_files/extra_data/f/f/e/580811d88bed.txt</td>\n",
       "      <td>.(((((...((((((((((......)))))))))).(((((((((((.............))))).))))))....)))))...(((((((...(((((((....((((.((((((((.(((((((((....))))))))).(((((....))))).)))).....))))))))...)))))))..)).)))))(((.((((...(((((((((...)))))))))..))))...((((...(((((..((((.....(((((((.....)))))))....)))))))))))))..(((((....)))))(((((((....((((......))))....)))))))(((((((((.((((((....)))))).)))))))))))).....((((((((....))))))))</td>\n",
       "      <td>(....((((((.....)))))).....(((((...((((((((((......)))))))))).(((((((((((.............))))).))))))....)))))....((((((...(((((((....((((.((((((((.(((((((((....))))))))).(((((....))))).)))).....))))))))...)))))))..)).))))((...((((...(((((((((...)))))))))..)))))).((((...(((((..((((.....(((((((.....)))))))....)))))))))))))..(((((....)))))(((((((....((((......))))....)))))))(((((((((.((((((....)))))).)))))))))........((((((((....))))))))........)............</td>\n",
       "    </tr>\n",
       "    <tr>\n",
       "      <th>...</th>\n",
       "      <td>...</td>\n",
       "      <td>...</td>\n",
       "      <td>...</td>\n",
       "      <td>...</td>\n",
       "      <td>...</td>\n",
       "      <td>...</td>\n",
       "      <td>...</td>\n",
       "      <td>...</td>\n",
       "    </tr>\n",
       "    <tr>\n",
       "      <th>1343659</th>\n",
       "      <td>269721723</td>\n",
       "      <td>269722179</td>\n",
       "      <td>ac082717bac8</td>\n",
       "      <td>GGGAACGACUCGAGUAGAGUCGAAAAGGAGGGAAAAGUUAUCAGGCAUGCACCUGGUAGCUAGUCUUUAAACCAAUAGAUUGCAUCGGUUUAAAAGGCAAGACCGUCAAAUUGCGGGAAAGGGGUCAACAGCCGUUCAGUACCAAGUCUCAGGGGAAACUUUGAGAUGGCCUUGCAAAGGGUAUGGUAAUAAGCUGACGGACAUGGUCCUAACCACGCAGCCAAGUCCUAAGUCAACAGAUCUUCUGUUGAUAUGGAUGCAGUUCACAGACUAAAUGUCGGUCGGGGAAGAUGUAUUCUUCUCAUAAGAUAUAGUCGGACCUCUCCUUAAUGGGAGCUAGCGGAUGAAGUGAUGCAACACUGGAGCCGCUGGGAACUAAUUUGUAUGCGAAAGUAUAUUGAUUAGUUUUGGUGAAAGUACUGAGUUCGCUCAGUACAAAAGAAACAACAACAACAAC</td>\n",
       "      <td>1</td>\n",
       "      <td>../data/Ribonanza_bpp_files/extra_data/f/f/f/ac082717bac8.txt</td>\n",
       "      <td>..(((((..((((((((((......))))))))))..)))))..((((...((((((((((((((........)))))......(((((((...(((((((....((((.((((((((.(((((((((....))))))))).(((((....))))).)))).....))))))))...)))))))..)).)))))...........(((((((((...)))))))))...)))))))))....(((((..((((.....(((((((.....)))))))....)))))))))......(((((....)))))(((((((....((((......))))....)))))))(((((((((.((((((....)))))).)))))))))))))....((((((((....))))))))</td>\n",
       "      <td>.....((((((.....))))))......(((((..((((((((((......))))))))))..)))))..((((...((((((((((((((........)))))......(((((((...(((((((....((((.((((((((.(((((((((....))))))))).(((((....))))).)))).....))))))))...)))))))..)).)))))...........(((((((((...)))))))))...)))))))))....(((((..((((.....(((((((.....)))))))....)))))))))......(((((....)))))(((((((....((((......))))....)))))))(((((((((.((((((....)))))).)))))))))))))....((((((((....)))))))).....................</td>\n",
       "    </tr>\n",
       "    <tr>\n",
       "      <th>1343660</th>\n",
       "      <td>269722180</td>\n",
       "      <td>269722636</td>\n",
       "      <td>459157d01383</td>\n",
       "      <td>GGGAACGACUCGAGUAGAGUCGAAAAGGAGGGAAAAGUUAUCAGGCAUGCACCUGGUAGCUAGUCUUUAAACCAAUAGAUUGCAUCGGUUUAAAAGGCAAGACCGUCAAAUUGCGGGAAAGGGGUCAACAGCCGUUCAGUACCAAGUCUCAGGGGAAACUUUGAGAUGGCCUUGCAAAGGGUAUGGUAAUAAGCUGACGGACAUGGUCCUAACCACGCAGCCAAGUCCUAAGUCAACAGAUCUUCUGUUGAUAUGGAUGCAGUUCACAGACUAAAUGUCGGUCGGGGAAGAUGUAUUCUUCUCAUAAGAUAUAGUCGGACCUCUCCUUAAUGGGAGCUAGCGGAUGAAGUGAUGCAACACUGGAGCCGCUGGGAACUAAUUUGUAUGCGAAAGUAUAUUGAUUAGUUUUGGACAAACCGGGACGUUCGCGUCCCGGAAAAGAAACAACAACAACAAC</td>\n",
       "      <td>1</td>\n",
       "      <td>../data/Ribonanza_bpp_files/extra_data/f/f/f/459157d01383.txt</td>\n",
       "      <td>..(((((..((((((((((......))))))))))..)))))...(((...((((((((((((((........)))))......(((((((...(((((((....((((.((((((((.(((((((((....))))))))).(((((....))))).)))).....))))))))...)))))))..)).)))))...........(((((((((...)))))))))...)))))))))....(((((..((((.....(((((((.....)))))))....)))))))))......(((((....)))))(((((((....((((......))))....)))))))(((((((((.((((((....)))))).)))))))))))).....((((((((....))))))))</td>\n",
       "      <td>.....((((((.....))))))..((((((((...((((((((((......)))))))))).(((((((((((.............))))).)))))).............((((((...(((((((....((((.((((((((.(((((((((....))))))))).(((((....))))).)))).....))))))))...)))))))..)).))))((...((((...(((((((((...)))))))))..)))))).((((...(((((..((((.....(((((((.....)))))))....)))))))))))))))))))))........(((((((....((((......))))....)))))))(((((((((.((((((....)))))).)))))))))........((((((((....)))))))).....................</td>\n",
       "    </tr>\n",
       "    <tr>\n",
       "      <th>1343661</th>\n",
       "      <td>269722637</td>\n",
       "      <td>269723093</td>\n",
       "      <td>3da5e179b245</td>\n",
       "      <td>GGGAACGACUCGAGUAGAGUCGAAAAGGAGGGAAAAGUUAUCAGGCAUGCACCUGGUAGCUAGUCUUUAAACCAAUAGAUUGCAUCGGUUUAAAAGGCAAGACCGUCAAAUUGCGGGAAAGGGGUCAACAGCCGUUCAGUACCAAGUCUCAGGGGAAACUUUGAGAUGGCCUUGCAAAGGGUAUGGUAAUAAGCUGACGGACAUGGUCCUAACCACGCAGCCAAGUCCUAAGUCAACAGAUCUUCUGUUGAUAUGGAUGCAGUUCACAGACUAAAUGUCGGUCGGGGAAGAUGUAUUCUUCUCAUAAGAUAUAGUCGGACCUCUCCUUAAUGGGAGCUAGCGGAUGAAGUGAUGCAACACUGGAGCCGCUGGGAACUAAUUUGUAUGCGAAAGUAUAUUGAUUAGUUUUGGAGUAACUUAUCGGUUCGCCGAUAAGAAAAGAAACAACAACAACAAC</td>\n",
       "      <td>1</td>\n",
       "      <td>../data/Ribonanza_bpp_files/extra_data/f/f/f/3da5e179b245.txt</td>\n",
       "      <td>..(((((..((((((((((......))))))))))..)))))...(((...((((((((((((((........)))))......(((((((...(((((((....((((.((((((((.(((((((((....))))))))).(((((....))))).)))).....))))))))...)))))))..)).)))))...........(((((((((...)))))))))...)))))))))....(((((..((((.....(((((((.....)))))))....)))))))))......(((((....)))))(((((((....((((......))))....)))))))(((((((((.((((((....)))))).)))))))))))).....((((((((....))))))))</td>\n",
       "      <td>.....((((((.....))))))..((((((((...((((((((((......)))))))))).(((((((((((.............))))).)))))).............((((((...(((((((....((((.((((((((.(((((((((....))))))))).(((((....))))).)))).....))))))))...)))))))..)).))))((...((((...(((((((((...)))))))))..)))))).((((...(((((..((((.....(((((((.....)))))))....)))))))))))))))))))))........(((((((....((((......))))....)))))))(((((((((.((((((....)))))).)))))))))........((((((((....)))))))).....................</td>\n",
       "    </tr>\n",
       "    <tr>\n",
       "      <th>1343662</th>\n",
       "      <td>269723094</td>\n",
       "      <td>269723550</td>\n",
       "      <td>9483180d3d8d</td>\n",
       "      <td>GGGAACGACUCGAGUAGAGUCGAAAAGGAGGGAAAAGUUAUCAGGCAUGCACCUGGUAGCUAGUCUUUAAACCAAUAGAUUGCAUCGGUUUAAAAGGCAAGACCGUCAAAUUGCGGGAAAGGGGUCAACAGCCGUUCAGUACCAAGUCUCAGGGGAAACUUUGAGAUGGCCUUGCAAAGGGUAUGGUAAUAAGCUGACGGACAUGGUCCUAACCACGCAGCCAAGUCCUAAGUCAACAGAUCUUCUGUUGAUAUGGAUGCAGUUCACAGACUAAAUGUCGGUCGGGGAAGAUGUAUUCUUCUCAUAAGAUAUAGUCGGACCUCUCCUUAAUGGGAGCUAGCGGAUGAAGUGAUGCAACACUGGAGCCGCUGGGAACUAAUUUGUAUGCGAAAGUAUAUUGAUUAGUUUUGGAGAUAGCAACGUGUUCGCACGUUGCAAAAGAAACAACAACAACAAC</td>\n",
       "      <td>1</td>\n",
       "      <td>../data/Ribonanza_bpp_files/extra_data/f/f/f/9483180d3d8d.txt</td>\n",
       "      <td>..(((((..((((((((((......))))))))))..)))))...(((...((((((((((((((........)))))......(((((((...(((((((....((((.((((((((.(((((((((....))))))))).(((((....))))).)))).....))))))))...)))))))..)).)))))...........(((((((((...)))))))))...)))))))))....(((((..((((.....(((((((.....)))))))....)))))))))......(((((....)))))(((((((....((((......))))....)))))))(((((((((.((((((....)))))).)))))))))))).....((((((((....))))))))</td>\n",
       "      <td>.....((((((.....))))))..((((((((...((((((((((......)))))))))).(((((((((((.............))))).)))))).............((((((...(((((((....((((.((((((((.(((((((((....))))))))).(((((....))))).)))).....))))))))...)))))))..)).))))((...((((...(((((((((...)))))))))..)))))).((((...(((((..((((.....(((((((.....)))))))....)))))))))))))))))))))........(((((((....((((......))))....)))))))(((((((((.((((((....)))))).)))))))))........((((((((....)))))))).....................</td>\n",
       "    </tr>\n",
       "    <tr>\n",
       "      <th>1343663</th>\n",
       "      <td>269723551</td>\n",
       "      <td>269724007</td>\n",
       "      <td>e418ef1fda2d</td>\n",
       "      <td>GGGAACGACUCGAGUAGAGUCGAAAAGGAGGGAAAAGUUAUCAGGCAUGCACCUGGUAGCUAGUCUUUAAACCAAUAGAUUGCAUCGGUUUAAAAGGCAAGACCGUCAAAUUGCGGGAAAGGGGUCAACAGCCGUUCAGUACCAAGUCUCAGGGGAAACUUUGAGAUGGCCUUGCAAAGGGUAUGGUAAUAAGCUGACGGACAUGGUCCUAACCACGCAGCCAAGUCCUAAGUCAACAGAUCUUCUGUUGAUAUGGAUGCAGUUCACAGACUAAAUGUCGGUCGGGGAAGAUGUAUUCUUCUCAUAAGAUAUAGUCGGACCUCUCCUUAAUGGGAGCUAGCGGAUGAAGUGAUGCAACACUGGAGCCGCUGGGAACUAAUUUGUAUGCGAAAGUAUAUUGAUUAGUUUUGGAGAAUGAUGGGUCUUCGGACCCAUCAAAAGAAACAACAACAACAAC</td>\n",
       "      <td>1</td>\n",
       "      <td>../data/Ribonanza_bpp_files/extra_data/f/f/f/e418ef1fda2d.txt</td>\n",
       "      <td>..(((((..((((((((((......))))))))))..)))))...(((...((((((((((((((........)))))......(((((((...(((((((....((((.((((((((.(((((((((....))))))))).(((((....))))).)))).....))))))))...)))))))..)).)))))...........(((((((((...)))))))))...)))))))))....(((((..((((.....(((((((.....)))))))....)))))))))......(((((....)))))(((((((....((((......))))....)))))))(((((((((.((((((....)))))).)))))))))))).....((((((((....))))))))</td>\n",
       "      <td>.....((((((.....))))))..((((((((...((((((((((......)))))))))).(((((((((((.............))))).)))))).............((((((...(((((((....((((.((((((((.(((((((((....))))))))).(((((....))))).)))).....))))))))...)))))))..)).))))((...((((...(((((((((...)))))))))..)))))).((((...(((((..((((.....(((((((.....)))))))....)))))))))))))))))))))........(((((((....((((......))))....)))))))(((((((((.((((((....)))))).))))))))).......(((((((((....)))))))))....................</td>\n",
       "    </tr>\n",
       "  </tbody>\n",
       "</table>\n",
       "<p>391 rows × 8 columns</p>\n",
       "</div>"
      ],
      "text/plain": [
       "            id_min     id_max   sequence_id  \\\n",
       "1343273  269545321  269545777  bb8b1ae22c99   \n",
       "1343274  269545778  269546234  3616168771f4   \n",
       "1343275  269546235  269546691  7da5a42c2e0a   \n",
       "1343276  269546692  269547148  6b7aeabaacc3   \n",
       "1343277  269547149  269547605  580811d88bed   \n",
       "...            ...        ...           ...   \n",
       "1343659  269721723  269722179  ac082717bac8   \n",
       "1343660  269722180  269722636  459157d01383   \n",
       "1343661  269722637  269723093  3da5e179b245   \n",
       "1343662  269723094  269723550  9483180d3d8d   \n",
       "1343663  269723551  269724007  e418ef1fda2d   \n",
       "\n",
       "                                                                                                                                                                                                                                                                                                                                                                                                                                                                          sequence  \\\n",
       "1343273  GGGAACGACUCGAGUAGAGUCGAAAAGGAGGGAAAAGUUAUCAGGCAUGCACCUGGUAGCUAGUCUUUAAACCAAUAGAUUGCAUCGGUUUAAAAGGCAAGACCGUCAAAUUGCGGGAAAGGGGUCAACAGCCGUUCAGUACCAAGUCUCAGGGGAAACUUUGAGAUGGCCUUGCAAAGGGUAUGGUAAUAAGCUGACGGACAUGGUCCUAACCACGCAGCCAAGUCCUAAGUCAACAGAUCUUCUGUUGAUAUGGAUGCAGUUCACAGACUAAAUGUCGGUCGGGGAAGAUGUAUUCUUCUCAUAAGAUAUAGUCGGACCUCUCCUUAAUGGGAGCUAGCGGAUGAAGUGAUGCAACACUGGAGCCGCUGGGAACUAAUUUGUAUGCGAAAGUAUAUUGAUUAGUUUUGGAGAAACAUACUGCUUCGGCAGUAUGAAAAGAAACAACAACAACAAC   \n",
       "1343274  GGGAACGACUCGAGUAGAGUCGAAAACGAGGGAAAAGUUAUCAGGCAUGCACCUGGUAGCUAGUCUUUAAACCAAUAGAUUGCAUCGGUUUAAAAGGCAAGACCGUCAAAUUGCGGGAAAGGGGUCAACAGCCGUUCAGUACCAAGUCUCAGGGGAAACUUUGAGAUGGCCUUGCAAAGGGUAUGGUAAUAAGCUGACGGACAUGGUCCUAACCACGCAGCCAAGUCCUAAGUCAACAGAUCUUCUGUUGAUAUGGAUGCAGUUCACAGACUAAAUGUCGGUCGGGGAAGAUGUAUUCUUCUCAUAAGAUAUAGUCGGACCUCUCCUUAAUGGGAGCUAGCGGAUGAAGUGAUGCAACACUGGAGCCGCUGGGAACUAAUUUGUAUGCGAAAGUAUAUUGAUUAGUUUUGGAGAAAGAGGCCGGUUCGCCGGCCUCAAAAGAAACAACAACAACAAC   \n",
       "1343275  GGGAACGACUCGAGUAGAGUCGAAAAGCAGGGAAAAGUUAUCAGGCAUGCACCUGGUAGCUAGUCUUUAAACCAAUAGAUUGCAUCGGUUUAAAAGGCAAGACCGUCAAAUUGCGGGAAAGGGGUCAACAGCCGUUCAGUACCAAGUCUCAGGGGAAACUUUGAGAUGGCCUUGCAAAGGGUAUGGUAAUAAGCUGACGGACAUGGUCCUAACCACGCAGCCAAGUCCUAAGUCAACAGAUCUUCUGUUGAUAUGGAUGCAGUUCACAGACUAAAUGUCGGUCGGGGAAGAUGUAUUCUUCUCAUAAGAUAUAGUCGGACCUCUCCUUAAUGGGAGCUAGCGGAUGAAGUGAUGCAACACUGGAGCCGCUGGGAACUAAUUUGUAUGCGAAAGUAUAUUGAUUAGUUUUGGAGAAACAUCCGCCUUCGGGCGGAUGAAAAGAAACAACAACAACAAC   \n",
       "1343276  GGGAACGACUCGAGUAGAGUCGAAAAGGUGGGAAAAGUUAUCAGGCAUGCACCUGGUAGCUAGUCUUUAAACCAAUAGAUUGCAUCGGUUUAAAAGGCAAGACCGUCAAAUUGCGGGAAAGGGGUCAACAGCCGUUCAGUACCAAGUCUCAGGGGAAACUUUGAGAUGGCCUUGCAAAGGGUAUGGUAAUAAGCUGACGGACAUGGUCCUAACCACGCAGCCAAGUCCUAAGUCAACAGAUCUUCUGUUGAUAUGGAUGCAGUUCACAGACUAAAUGUCGGUCGGGGAAGAUGUAUUCUUCUCAUAAGAUAUAGUCGGACCUCUCCUUAAUGGGAGCUAGCGGAUGAAGUGAUGCAACACUGGAGCCGCUGGGAACUAAUUUGUAUGCGAAAGUAUAUUGAUUAGUUUUGGAGAAAGAAAACCCUUCGGGGUUUUCAAAAGAAACAACAACAACAAC   \n",
       "1343277  GGGAACGACUCGAGUAGAGUCGAAAAGGACGGAAAAGUUAUCAGGCAUGCACCUGGUAGCUAGUCUUUAAACCAAUAGAUUGCAUCGGUUUAAAAGGCAAGACCGUCAAAUUGCGGGAAAGGGGUCAACAGCCGUUCAGUACCAAGUCUCAGGGGAAACUUUGAGAUGGCCUUGCAAAGGGUAUGGUAAUAAGCUGACGGACAUGGUCCUAACCACGCAGCCAAGUCCUAAGUCAACAGAUCUUCUGUUGAUAUGGAUGCAGUUCACAGACUAAAUGUCGGUCGGGGAAGAUGUAUUCUUCUCAUAAGAUAUAGUCGGACCUCUCCUUAAUGGGAGCUAGCGGAUGAAGUGAUGCAACACUGGAGCCGCUGGGAACUAAUUUGUAUGCGAAAGUAUAUUGAUUAGUUUUGGAGAAACCUAUCACUUCGGUGAUAGGAAAAGAAACAACAACAACAAC   \n",
       "...                                                                                                                                                                                                                                                                                                                                                                                                                                                                            ...   \n",
       "1343659  GGGAACGACUCGAGUAGAGUCGAAAAGGAGGGAAAAGUUAUCAGGCAUGCACCUGGUAGCUAGUCUUUAAACCAAUAGAUUGCAUCGGUUUAAAAGGCAAGACCGUCAAAUUGCGGGAAAGGGGUCAACAGCCGUUCAGUACCAAGUCUCAGGGGAAACUUUGAGAUGGCCUUGCAAAGGGUAUGGUAAUAAGCUGACGGACAUGGUCCUAACCACGCAGCCAAGUCCUAAGUCAACAGAUCUUCUGUUGAUAUGGAUGCAGUUCACAGACUAAAUGUCGGUCGGGGAAGAUGUAUUCUUCUCAUAAGAUAUAGUCGGACCUCUCCUUAAUGGGAGCUAGCGGAUGAAGUGAUGCAACACUGGAGCCGCUGGGAACUAAUUUGUAUGCGAAAGUAUAUUGAUUAGUUUUGGUGAAAGUACUGAGUUCGCUCAGUACAAAAGAAACAACAACAACAAC   \n",
       "1343660  GGGAACGACUCGAGUAGAGUCGAAAAGGAGGGAAAAGUUAUCAGGCAUGCACCUGGUAGCUAGUCUUUAAACCAAUAGAUUGCAUCGGUUUAAAAGGCAAGACCGUCAAAUUGCGGGAAAGGGGUCAACAGCCGUUCAGUACCAAGUCUCAGGGGAAACUUUGAGAUGGCCUUGCAAAGGGUAUGGUAAUAAGCUGACGGACAUGGUCCUAACCACGCAGCCAAGUCCUAAGUCAACAGAUCUUCUGUUGAUAUGGAUGCAGUUCACAGACUAAAUGUCGGUCGGGGAAGAUGUAUUCUUCUCAUAAGAUAUAGUCGGACCUCUCCUUAAUGGGAGCUAGCGGAUGAAGUGAUGCAACACUGGAGCCGCUGGGAACUAAUUUGUAUGCGAAAGUAUAUUGAUUAGUUUUGGACAAACCGGGACGUUCGCGUCCCGGAAAAGAAACAACAACAACAAC   \n",
       "1343661  GGGAACGACUCGAGUAGAGUCGAAAAGGAGGGAAAAGUUAUCAGGCAUGCACCUGGUAGCUAGUCUUUAAACCAAUAGAUUGCAUCGGUUUAAAAGGCAAGACCGUCAAAUUGCGGGAAAGGGGUCAACAGCCGUUCAGUACCAAGUCUCAGGGGAAACUUUGAGAUGGCCUUGCAAAGGGUAUGGUAAUAAGCUGACGGACAUGGUCCUAACCACGCAGCCAAGUCCUAAGUCAACAGAUCUUCUGUUGAUAUGGAUGCAGUUCACAGACUAAAUGUCGGUCGGGGAAGAUGUAUUCUUCUCAUAAGAUAUAGUCGGACCUCUCCUUAAUGGGAGCUAGCGGAUGAAGUGAUGCAACACUGGAGCCGCUGGGAACUAAUUUGUAUGCGAAAGUAUAUUGAUUAGUUUUGGAGUAACUUAUCGGUUCGCCGAUAAGAAAAGAAACAACAACAACAAC   \n",
       "1343662  GGGAACGACUCGAGUAGAGUCGAAAAGGAGGGAAAAGUUAUCAGGCAUGCACCUGGUAGCUAGUCUUUAAACCAAUAGAUUGCAUCGGUUUAAAAGGCAAGACCGUCAAAUUGCGGGAAAGGGGUCAACAGCCGUUCAGUACCAAGUCUCAGGGGAAACUUUGAGAUGGCCUUGCAAAGGGUAUGGUAAUAAGCUGACGGACAUGGUCCUAACCACGCAGCCAAGUCCUAAGUCAACAGAUCUUCUGUUGAUAUGGAUGCAGUUCACAGACUAAAUGUCGGUCGGGGAAGAUGUAUUCUUCUCAUAAGAUAUAGUCGGACCUCUCCUUAAUGGGAGCUAGCGGAUGAAGUGAUGCAACACUGGAGCCGCUGGGAACUAAUUUGUAUGCGAAAGUAUAUUGAUUAGUUUUGGAGAUAGCAACGUGUUCGCACGUUGCAAAAGAAACAACAACAACAAC   \n",
       "1343663  GGGAACGACUCGAGUAGAGUCGAAAAGGAGGGAAAAGUUAUCAGGCAUGCACCUGGUAGCUAGUCUUUAAACCAAUAGAUUGCAUCGGUUUAAAAGGCAAGACCGUCAAAUUGCGGGAAAGGGGUCAACAGCCGUUCAGUACCAAGUCUCAGGGGAAACUUUGAGAUGGCCUUGCAAAGGGUAUGGUAAUAAGCUGACGGACAUGGUCCUAACCACGCAGCCAAGUCCUAAGUCAACAGAUCUUCUGUUGAUAUGGAUGCAGUUCACAGACUAAAUGUCGGUCGGGGAAGAUGUAUUCUUCUCAUAAGAUAUAGUCGGACCUCUCCUUAAUGGGAGCUAGCGGAUGAAGUGAUGCAACACUGGAGCCGCUGGGAACUAAUUUGUAUGCGAAAGUAUAUUGAUUAGUUUUGGAGAAUGAUGGGUCUUCGGACCCAUCAAAAGAAACAACAACAACAAC   \n",
       "\n",
       "         future  \\\n",
       "1343273       1   \n",
       "1343274       1   \n",
       "1343275       1   \n",
       "1343276       1   \n",
       "1343277       1   \n",
       "...         ...   \n",
       "1343659       1   \n",
       "1343660       1   \n",
       "1343661       1   \n",
       "1343662       1   \n",
       "1343663       1   \n",
       "\n",
       "                                                                   bpp  \\\n",
       "1343273  ../data/Ribonanza_bpp_files/extra_data/f/f/e/bb8b1ae22c99.txt   \n",
       "1343274  ../data/Ribonanza_bpp_files/extra_data/f/f/e/3616168771f4.txt   \n",
       "1343275  ../data/Ribonanza_bpp_files/extra_data/f/f/e/7da5a42c2e0a.txt   \n",
       "1343276  ../data/Ribonanza_bpp_files/extra_data/f/f/e/6b7aeabaacc3.txt   \n",
       "1343277  ../data/Ribonanza_bpp_files/extra_data/f/f/e/580811d88bed.txt   \n",
       "...                                                                ...   \n",
       "1343659  ../data/Ribonanza_bpp_files/extra_data/f/f/f/ac082717bac8.txt   \n",
       "1343660  ../data/Ribonanza_bpp_files/extra_data/f/f/f/459157d01383.txt   \n",
       "1343661  ../data/Ribonanza_bpp_files/extra_data/f/f/f/3da5e179b245.txt   \n",
       "1343662  ../data/Ribonanza_bpp_files/extra_data/f/f/f/9483180d3d8d.txt   \n",
       "1343663  ../data/Ribonanza_bpp_files/extra_data/f/f/f/e418ef1fda2d.txt   \n",
       "\n",
       "                                                                                                                                                                                                                                                                                                                                                                                                                             ss_roi  \\\n",
       "1343273  ..(((((..((((((((((......))))))))))..)))))...(((...((((((((((((((........)))))......(((((((...(((((((....((((.((((((((.(((((((((....))))))))).(((((....))))).)))).....))))))))...)))))))..)).)))))...........(((((((((...)))))))))...)))))))))....(((((..((((.....(((((((.....)))))))....)))))))))......(((((....)))))(((((((....((((......))))....)))))))(((((((((.((((((....)))))).)))))))))))).....((((((((....))))))))   \n",
       "1343274  ..(((((..((((((((((......))))))))))..)))))...(((...((((((((((((((........)))))......(((((((...(((((((....((((.((((((((.(((((((((....))))))))).(((((....))))).)))).....))))))))...)))))))..)).)))))...........(((((((((...)))))))))...)))))))))....(((((..((((.....(((((((.....)))))))....)))))))))......(((((....)))))(((((((....((((......))))....)))))))(((((((((.((((((....)))))).)))))))))))).....((((((((....))))))))   \n",
       "1343275  ..(((((..((((((((((......))))))))))..)))))...(((...((((((((((((((........)))))......(((((((...(((((((....((((.((((((((.(((((((((....))))))))).(((((....))))).)))).....))))))))...)))))))..)).)))))...........(((((((((...)))))))))...)))))))))....(((((..((((.....(((((((.....)))))))....)))))))))......(((((....)))))(((((((....((((......))))....)))))))(((((((((.((((((....)))))).)))))))))))).....((((((((....))))))))   \n",
       "1343276  .((((....((((((((((......)))))))))).(((((((((((.............))))).))))))....((((......))))....(((((((....((((.((((((((.(((((((((....))))))))).(((((....))))).)))).....))))))))...)))))))..))))....(((.((((...(((((((((...)))))))))..))))...((((...(((((..((((.....(((((((.....)))))))....)))))))))))))..(((((....)))))(((((((....((((......))))....)))))))(((((((((.((((((....)))))).)))))))))))).....((((((((....))))))))   \n",
       "1343277  .(((((...((((((((((......)))))))))).(((((((((((.............))))).))))))....)))))...(((((((...(((((((....((((.((((((((.(((((((((....))))))))).(((((....))))).)))).....))))))))...)))))))..)).)))))(((.((((...(((((((((...)))))))))..))))...((((...(((((..((((.....(((((((.....)))))))....)))))))))))))..(((((....)))))(((((((....((((......))))....)))))))(((((((((.((((((....)))))).)))))))))))).....((((((((....))))))))   \n",
       "...                                                                                                                                                                                                                                                                                                                                                                                                                             ...   \n",
       "1343659  ..(((((..((((((((((......))))))))))..)))))..((((...((((((((((((((........)))))......(((((((...(((((((....((((.((((((((.(((((((((....))))))))).(((((....))))).)))).....))))))))...)))))))..)).)))))...........(((((((((...)))))))))...)))))))))....(((((..((((.....(((((((.....)))))))....)))))))))......(((((....)))))(((((((....((((......))))....)))))))(((((((((.((((((....)))))).)))))))))))))....((((((((....))))))))   \n",
       "1343660  ..(((((..((((((((((......))))))))))..)))))...(((...((((((((((((((........)))))......(((((((...(((((((....((((.((((((((.(((((((((....))))))))).(((((....))))).)))).....))))))))...)))))))..)).)))))...........(((((((((...)))))))))...)))))))))....(((((..((((.....(((((((.....)))))))....)))))))))......(((((....)))))(((((((....((((......))))....)))))))(((((((((.((((((....)))))).)))))))))))).....((((((((....))))))))   \n",
       "1343661  ..(((((..((((((((((......))))))))))..)))))...(((...((((((((((((((........)))))......(((((((...(((((((....((((.((((((((.(((((((((....))))))))).(((((....))))).)))).....))))))))...)))))))..)).)))))...........(((((((((...)))))))))...)))))))))....(((((..((((.....(((((((.....)))))))....)))))))))......(((((....)))))(((((((....((((......))))....)))))))(((((((((.((((((....)))))).)))))))))))).....((((((((....))))))))   \n",
       "1343662  ..(((((..((((((((((......))))))))))..)))))...(((...((((((((((((((........)))))......(((((((...(((((((....((((.((((((((.(((((((((....))))))))).(((((....))))).)))).....))))))))...)))))))..)).)))))...........(((((((((...)))))))))...)))))))))....(((((..((((.....(((((((.....)))))))....)))))))))......(((((....)))))(((((((....((((......))))....)))))))(((((((((.((((((....)))))).)))))))))))).....((((((((....))))))))   \n",
       "1343663  ..(((((..((((((((((......))))))))))..)))))...(((...((((((((((((((........)))))......(((((((...(((((((....((((.((((((((.(((((((((....))))))))).(((((....))))).)))).....))))))))...)))))))..)).)))))...........(((((((((...)))))))))...)))))))))....(((((..((((.....(((((((.....)))))))....)))))))))......(((((....)))))(((((((....((((......))))....)))))))(((((((((.((((((....)))))).)))))))))))).....((((((((....))))))))   \n",
       "\n",
       "                                                                                                                                                                                                                                                                                                                                                                                                                                                                           ss_full  \n",
       "1343273  .....((((((.....))))))..((((((((...((((((((((......)))))))))).(((((((((((.............))))).)))))).............((((((...(((((((....((((.((((((((.(((((((((....))))))))).(((((....))))).)))).....))))))))...)))))))..)).))))((...((((...(((((((((...)))))))))..)))))).((((...(((((..((((.....(((((((.....)))))))....)))))))))))))))))))))........(((((((....((((......))))....)))))))(((((((((.((((((....)))))).)))))))))........((((((((....)))))))).....................  \n",
       "1343274  .....((((((.....))))))......(((((..((((((((((......))))))))))..)))))...(((...((((((((((((((........)))))......(((((((...(((((((....((((.((((((((.(((((((((....))))))))).(((((....))))).)))).....))))))))...)))))))..)).)))))...........(((((((((...)))))))))...)))))))))....(((((..((((.....(((((((.....)))))))....)))))))))......(((((....)))))(((((((....((((......))))....)))))))(((((((((.((((((....)))))).)))))))))))).....((((((((....)))))))).....................  \n",
       "1343275  .....((((((.....))))))......(((((..((((((((((......))))))))))..)))))...(((...((((((((((((((........)))))......(((((((...(((((((....((((.((((((((.(((((((((....))))))))).(((((....))))).)))).....))))))))...)))))))..)).)))))...........(((((((((...)))))))))...)))))))))....(((((..((((.....(((((((.....)))))))....)))))))))......(((((....)))))(((((((....((((......))))....)))))))(((((((((.((((((....)))))).)))))))))))).....((((((((....)))))))).....................  \n",
       "1343276  (....((((((.....))))))....(((((((..((((((((((......))))))))))..))))...)))....((((((((((((((........)))))......(((((((...(((((((....((((.((((((((.(((((((((....))))))))).(((((....))))).)))).....))))))))...)))))))..)).)))))...........(((((((((...)))))))))...)))))))))....(((((..((((.....(((((((.....)))))))....)))))))))......(((((....)))))(((((((....((((......))))....)))))))(((((((((.((((((....)))))).)))))))))........((((((((....))))))))........)............  \n",
       "1343277  (....((((((.....)))))).....(((((...((((((((((......)))))))))).(((((((((((.............))))).))))))....)))))....((((((...(((((((....((((.((((((((.(((((((((....))))))))).(((((....))))).)))).....))))))))...)))))))..)).))))((...((((...(((((((((...)))))))))..)))))).((((...(((((..((((.....(((((((.....)))))))....)))))))))))))..(((((....)))))(((((((....((((......))))....)))))))(((((((((.((((((....)))))).)))))))))........((((((((....))))))))........)............  \n",
       "...                                                                                                                                                                                                                                                                                                                                                                                                                                                                            ...  \n",
       "1343659  .....((((((.....))))))......(((((..((((((((((......))))))))))..)))))..((((...((((((((((((((........)))))......(((((((...(((((((....((((.((((((((.(((((((((....))))))))).(((((....))))).)))).....))))))))...)))))))..)).)))))...........(((((((((...)))))))))...)))))))))....(((((..((((.....(((((((.....)))))))....)))))))))......(((((....)))))(((((((....((((......))))....)))))))(((((((((.((((((....)))))).)))))))))))))....((((((((....)))))))).....................  \n",
       "1343660  .....((((((.....))))))..((((((((...((((((((((......)))))))))).(((((((((((.............))))).)))))).............((((((...(((((((....((((.((((((((.(((((((((....))))))))).(((((....))))).)))).....))))))))...)))))))..)).))))((...((((...(((((((((...)))))))))..)))))).((((...(((((..((((.....(((((((.....)))))))....)))))))))))))))))))))........(((((((....((((......))))....)))))))(((((((((.((((((....)))))).)))))))))........((((((((....)))))))).....................  \n",
       "1343661  .....((((((.....))))))..((((((((...((((((((((......)))))))))).(((((((((((.............))))).)))))).............((((((...(((((((....((((.((((((((.(((((((((....))))))))).(((((....))))).)))).....))))))))...)))))))..)).))))((...((((...(((((((((...)))))))))..)))))).((((...(((((..((((.....(((((((.....)))))))....)))))))))))))))))))))........(((((((....((((......))))....)))))))(((((((((.((((((....)))))).)))))))))........((((((((....)))))))).....................  \n",
       "1343662  .....((((((.....))))))..((((((((...((((((((((......)))))))))).(((((((((((.............))))).)))))).............((((((...(((((((....((((.((((((((.(((((((((....))))))))).(((((....))))).)))).....))))))))...)))))))..)).))))((...((((...(((((((((...)))))))))..)))))).((((...(((((..((((.....(((((((.....)))))))....)))))))))))))))))))))........(((((((....((((......))))....)))))))(((((((((.((((((....)))))).)))))))))........((((((((....)))))))).....................  \n",
       "1343663  .....((((((.....))))))..((((((((...((((((((((......)))))))))).(((((((((((.............))))).)))))).............((((((...(((((((....((((.((((((((.(((((((((....))))))))).(((((....))))).)))).....))))))))...)))))))..)).))))((...((((...(((((((((...)))))))))..)))))).((((...(((((..((((.....(((((((.....)))))))....)))))))))))))))))))))........(((((((....((((......))))....)))))))(((((((((.((((((....)))))).))))))))).......(((((((((....)))))))))....................  \n",
       "\n",
       "[391 rows x 8 columns]"
      ]
     },
     "execution_count": 37,
     "metadata": {},
     "output_type": "execute_result"
    }
   ],
   "source": [
    "df_test.iloc[1343273:1343273+391]"
   ]
  },
  {
   "cell_type": "code",
   "execution_count": null,
   "metadata": {},
   "outputs": [],
   "source": []
  },
  {
   "cell_type": "code",
   "execution_count": 32,
   "metadata": {},
   "outputs": [],
   "source": [
    "res_org = [np.load(f'../eda/bpp/comb/{i}.npz')['bpp_org'] for i in df_test.iloc[1343273:1343273+391]['sequence_id'].to_list()]\n",
    "res_vienna = [np.load(f'../eda/bpp/comb/{i}.npz')['vienna_2'] for i in df_test.iloc[1343273:1343273+391]['sequence_id'].to_list()]\n",
    "res_rnaformer = [np.load(f'../eda/bpp/comb/{i}.npz')['rnaformer'] for i in df_test.iloc[1343273:1343273+391]['sequence_id'].to_list()]"
   ]
  },
  {
   "cell_type": "code",
   "execution_count": 35,
   "metadata": {},
   "outputs": [
    {
     "data": {
      "text/plain": [
       "<matplotlib.image.AxesImage at 0x7fc1de771450>"
      ]
     },
     "execution_count": 35,
     "metadata": {},
     "output_type": "execute_result"
    },
    {
     "data": {
      "image/png": "[encoded data removed]",
      "text/plain": [
       "<Figure size 640x480 with 1 Axes>"
      ]
     },
     "metadata": {},
     "output_type": "display_data"
    }
   ],
   "source": [
    "plt.imshow(np.stack([np.stack(res_rnaformer).mean(0), np.stack(res_vienna).mean(0), np.stack(res_org).mean(0)]).mean(0))"
   ]
  },
  {
   "cell_type": "code",
   "execution_count": 34,
   "metadata": {},
   "outputs": [
    {
     "data": {
      "text/plain": [
       "array([[0.      , 0.      , 0.      , ..., 0.      , 0.      , 0.002552],\n",
       "       [0.      , 0.      , 0.      , ..., 0.      , 0.      , 0.002314],\n",
       "       [0.      , 0.      , 0.      , ..., 0.      , 0.      , 0.001044],\n",
       "       ...,\n",
       "       [0.      , 0.      , 0.      , ..., 0.      , 0.      , 0.      ],\n",
       "       [0.      , 0.      , 0.      , ..., 0.      , 0.      , 0.      ],\n",
       "       [0.002552, 0.002314, 0.001044, ..., 0.      , 0.      , 0.      ]],\n",
       "      dtype=float16)"
      ]
     },
     "execution_count": 34,
     "metadata": {},
     "output_type": "execute_result"
    }
   ],
   "source": []
  },
  {
   "cell_type": "code",
   "execution_count": null,
   "metadata": {},
   "outputs": [],
   "source": []
  }
 ],
 "metadata": {
  "kernelspec": {
   "display_name": "Python 3 (ipykernel)",
   "language": "python",
   "name": "python3"
  },
  "language_info": {
   "codemirror_mode": {
    "name": "ipython",
    "version": 3
   },
   "file_extension": ".py",
   "mimetype": "text/x-python",
   "name": "python",
   "nbconvert_exporter": "python",
   "pygments_lexer": "ipython3",
   "version": "3.10.12"
  }
 },
 "nbformat": 4,
 "nbformat_minor": 4
}
