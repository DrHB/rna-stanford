{
 "cells": [
  {
   "cell_type": "code",
   "execution_count": null,
   "metadata": {},
   "outputs": [],
   "source": [
    "%load_ext autoreload\n",
    "%autoreload 2\n",
    "import sys\n",
    "sys.path.append('..')\n",
    "import os\n",
    "os.environ[\"CUDA_VISIBLE_DEVICES\"]=\"0\""
   ]
  },
  {
   "cell_type": "code",
   "execution_count": null,
   "metadata": {},
   "outputs": [],
   "source": [
    "import rnacomp\n",
    "import rnacomp.models\n",
    "from rnacomp.fastai_fit import *\n",
    "from rnacomp.dataset import LenMatchBatchSampler, DeviceDataLoader\n",
    "from rnacomp.utils import seed_everything, MAE, loss_laplace\n",
    "import gc\n",
    "from tqdm import tqdm_notebook as tqdm"
   ]
  },
  {
   "cell_type": "code",
   "execution_count": null,
   "metadata": {},
   "outputs": [],
   "source": [
    "class CFG_test:\n",
    "    dataset_name = 'RNA_Dataset_Test'\n",
    "    bs = 512\n",
    "    num_workers = 16\n",
    "    device = 'cuda'\n",
    "    \n",
    "    "
   ]
  },
  {
   "cell_type": "code",
   "execution_count": null,
   "metadata": {},
   "outputs": [],
   "source": [
    "df_test = pd.read_csv(os.path.join('../data/','test_sequences.csv'))\n",
    "ds = getattr(rnacomp.dataset, CFG_test.dataset_name)(df_test)\n",
    "dl = DeviceDataLoader(torch.utils.data.DataLoader(ds, batch_size=CFG_test.bs, \n",
    "               shuffle=False, drop_last=False, num_workers=CFG_test.num_workers), CFG_test.device)\n",
    "del df_test\n",
    "gc.collect()\n",
    "\n"
   ]
  },
  {
   "cell_type": "code",
   "execution_count": null,
   "metadata": {},
   "outputs": [],
   "source": []
  },
  {
   "cell_type": "code",
   "execution_count": null,
   "metadata": {},
   "outputs": [],
   "source": [
    "def get_model_from_cfg(CFG):\n",
    "    md= getattr(rnacomp.models, CFG.model_name)()\n",
    "    mw = f'../exp/{CFG.out}/models/model.pth'\n",
    "    print(f\"loading : {mw}\")\n",
    "    md.load_state_dict(torch.load(mw))\n",
    "    return md\n",
    "\n",
    "def generate_sub(config_list, out_name):\n",
    "    models = []\n",
    "    for m in config_list:\n",
    "        model = get_model_from_cfg(m)\n",
    "        model = model.to(CFG_test.device)\n",
    "        model.eval()\n",
    "        models.append(model)\n",
    "\n",
    "    ids,preds = [],[]\n",
    "    for x,y in tqdm(dl):\n",
    "        with torch.no_grad(),torch.cuda.amp.autocast():\n",
    "            p = torch.stack([torch.nan_to_num(model(x)) for model in models]\n",
    "                            ,0).mean(0).clip(0,1)\n",
    "            \n",
    "        for idx, mask, pi in zip(y['ids'].cpu(), x['mask'].cpu(), p.cpu()):\n",
    "            ids.append(idx[mask])\n",
    "            preds.append(pi[mask[:pi.shape[0]]])\n",
    "\n",
    "    ids = torch.concat(ids)\n",
    "    preds = torch.concat(preds)\n",
    "\n",
    "    df = pd.DataFrame({'id':ids.numpy(), 'reactivity_DMS_MaP':preds[:,1].numpy(), \n",
    "                    'reactivity_2A3_MaP':preds[:,0].numpy()})\n",
    "    df[\"reactivity_DMS_MaP\"] = df[\"reactivity_DMS_MaP\"].astype(\"float32\")\n",
    "    df[\"reactivity_2A3_MaP\"] = df[\"reactivity_2A3_MaP\"].astype(\"float32\")\n",
    "    df.to_parquet(f'{out_name}.parquet', index=False) # 6.5GB\n",
    "    df.head()"
   ]
  },
  {
   "cell_type": "code",
   "execution_count": null,
   "metadata": {},
   "outputs": [],
   "source": [
    "class CFG:\n",
    "    path = Path(\"../data/\")\n",
    "    pathbb = Path(\"../data/Ribonanza_bpp_files\")\n",
    "    split_id = Path('../eda/fold_split.csv')\n",
    "    bs = 64\n",
    "    num_workers = 12\n",
    "    device = 'cuda'\n",
    "    seed = 2023\n",
    "    out = 'exp_04_ft'\n",
    "    dataset_name = 'RNA_DatasetBaselineSplit'\n",
    "    \n",
    "    model_name = 'RNA_ModelV2'\n",
    "    dim = 192\n",
    "    depth = 12\n",
    "    dim_head = 32\n",
    "   \n",
    "    epoch = 64\n",
    "    lr = 5e-4\n",
    "    wd = 0.05\n",
    "    pct_start = 0.02\n",
    "    \n",
    "out_name = CFG.out\n",
    "generate_sub([CFG], out_name)\n",
    "print(f\"kaggle competitions submit stanford-ribonanza-rna-folding -f {out_name}.parquet -m '{out_name}'\")"
   ]
  },
  {
   "cell_type": "code",
   "execution_count": null,
   "metadata": {},
   "outputs": [],
   "source": []
  },
  {
   "cell_type": "code",
   "execution_count": null,
   "metadata": {},
   "outputs": [],
   "source": [
    "((pd.read_parquet(\"exp_03_ft.parquet\").set_index('id') + pd.read_parquet(\"exp_04_ft.parquet\").set_index('id'))/2).to_parquet(f'cv3v4ft.parquet')"
   ]
  },
  {
   "cell_type": "code",
   "execution_count": null,
   "metadata": {},
   "outputs": [],
   "source": []
  },
  {
   "cell_type": "code",
   "execution_count": null,
   "metadata": {},
   "outputs": [],
   "source": []
  }
 ],
 "metadata": {
  "kernelspec": {
   "display_name": "base",
   "language": "python",
   "name": "python3"
  },
  "language_info": {
   "codemirror_mode": {
    "name": "ipython",
    "version": 3
   },
   "file_extension": ".py",
   "mimetype": "text/x-python",
   "name": "python",
   "nbconvert_exporter": "python",
   "pygments_lexer": "ipython3",
   "version": "3.10.12"
  },
  "orig_nbformat": 4
 },
 "nbformat": 4,
 "nbformat_minor": 2
}
