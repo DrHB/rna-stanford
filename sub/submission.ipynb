{
 "cells": [
  {
   "cell_type": "code",
   "execution_count": 1,
   "metadata": {
    "tags": []
   },
   "outputs": [],
   "source": [
    "%load_ext autoreload\n",
    "%autoreload 2\n",
    "import sys\n",
    "sys.path.append('..')\n",
    "import os\n",
    "os.environ[\"CUDA_VISIBLE_DEVICES\"]=\"0\""
   ]
  },
  {
   "cell_type": "code",
   "execution_count": 2,
   "metadata": {
    "tags": []
   },
   "outputs": [
    {
     "name": "stderr",
     "output_type": "stream",
     "text": [
      "/opt/conda/lib/python3.10/site-packages/scipy/__init__.py:146: UserWarning: A NumPy version >=1.16.5 and <1.23.0 is required for this version of SciPy (detected version 1.23.5\n",
      "  warnings.warn(f\"A NumPy version >={np_minversion} and <{np_maxversion}\"\n"
     ]
    }
   ],
   "source": [
    "import rnacomp\n",
    "import rnacomp.models\n",
    "from rnacomp.fastai_fit import *\n",
    "from rnacomp.dataset import LenMatchBatchSampler, DeviceDataLoader\n",
    "from rnacomp.utils import seed_everything, MAE, loss_laplace\n",
    "import gc\n",
    "from tqdm import tqdm_notebook as tqdm"
   ]
  },
  {
   "cell_type": "code",
   "execution_count": 3,
   "metadata": {
    "tags": []
   },
   "outputs": [],
   "source": [
    "class CFG_test:\n",
    "    dataset_name = 'RNA_Dataset_TestBppSSFullV2' #\"RNA_Dataset_TestBppSSFullV1\" #'RNA_Dataset_TestBppSSFullV0' #`RNA_Dataset_TestBppSS' #'\n",
    "    pathbb = Path(\"../data/Ribonanza_bpp_files\")\n",
    "    pathss = Path(\"../eda/test_ss_vienna_rna.parquet\")\n",
    "    bs = 256\n",
    "    num_workers = 16\n",
    "    device = 'cuda'\n",
    "    \n",
    "def plot_test_example(fn):\n",
    "    import polars as pl\n",
    "    import matplotlib.pyplot as plt\n",
    "    #read your sub here\n",
    "    df=pl.read_parquet(f\"{fn}.parquet\")\n",
    "    #some parameters\n",
    "    font_size=6\n",
    "    id1=269545321\n",
    "    id2=269724007\n",
    "    reshape1=391\n",
    "    reshape2=457\n",
    "    #get predictions\n",
    "    pred_DMS=df[id1:id2+1]['reactivity_DMS_MaP'].to_numpy().reshape(reshape1,reshape2)\n",
    "    pred_2A3=df[id1:id2+1]['reactivity_2A3_MaP'].to_numpy().reshape(reshape1,reshape2)\n",
    "    #plot mutate and map\n",
    "    fig = plt.figure()\n",
    "    plt.subplot(121)\n",
    "    plt.title(f'reactivity_DMS_MaP', fontsize=font_size)\n",
    "    plt.imshow(pred_DMS,vmin=0,vmax=1, cmap='gray_r')\n",
    "    plt.subplot(122)\n",
    "    plt.title(f'reactivity_2A3_MaP', fontsize=font_size)\n",
    "    plt.imshow(pred_2A3,vmin=0,vmax=1, cmap='gray_r')\n",
    "    plt.tight_layout()\n",
    "    plt.savefig(f\"plot.png\",dpi=500)\n",
    "    plt.clf()\n",
    "    plt.close()\n"
   ]
  },
  {
   "cell_type": "code",
   "execution_count": 4,
   "metadata": {
    "tags": []
   },
   "outputs": [
    {
     "name": "stdout",
     "output_type": "stream",
     "text": [
      "(1343823, 5)\n",
      "(1343823, 5)\n",
      "(1343823, 5)\n",
      "(1343823, 6)\n",
      "(1343823, 8)\n"
     ]
    },
    {
     "data": {
      "text/plain": [
       "0"
      ]
     },
     "execution_count": 4,
     "metadata": {},
     "output_type": "execute_result"
    }
   ],
   "source": [
    "df_test = pd.read_csv(os.path.join('../data/','test_sequences.csv'))\n",
    "print(df_test.shape)\n",
    "fns = list(CFG_test.pathbb.rglob(\"*.txt\"))\n",
    "bpp_df = pd.DataFrame({\"bpp\": fns})\n",
    "bpp_df['sequence_id'] = bpp_df['bpp'].apply(lambda x: x.stem)\n",
    "print(df_test.shape)\n",
    "bpp_df.drop_duplicates(subset=['sequence_id'], inplace=True)\n",
    "ss = pd.read_parquet(CFG_test.pathss)[[\"sequence_id\", \"ss_roi\", \"ss_full\"]]\n",
    "print(df_test.shape)\n",
    "df_test = pd.merge(df_test, bpp_df, on='sequence_id')\n",
    "print(df_test.shape)\n",
    "df_test = pd.merge(df_test, ss, on='sequence_id')\n",
    "print(df_test.shape)\n",
    "ds = getattr(rnacomp.dataset, CFG_test.dataset_name)(df_test)\n",
    "dl = DeviceDataLoader(torch.utils.data.DataLoader(ds, batch_size=CFG_test.bs, \n",
    "               shuffle=False, drop_last=False, num_workers=CFG_test.num_workers), CFG_test.device)\n",
    "del df_test\n",
    "gc.collect()\n",
    "\n"
   ]
  },
  {
   "cell_type": "code",
   "execution_count": null,
   "metadata": {},
   "outputs": [],
   "source": []
  },
  {
   "cell_type": "code",
   "execution_count": 5,
   "metadata": {
    "tags": []
   },
   "outputs": [],
   "source": [
    "def get_model_from_cfg(CFG):\n",
    "    if CFG.dim:\n",
    "        print('dim')\n",
    "        md= getattr(rnacomp.models, CFG.model_name)(dim = CFG.dim)\n",
    "    else: \n",
    "        print('kwargs')\n",
    "        md= getattr(rnacomp.models, CFG.model_name)(**CFG.model_kwargs)\n",
    "    mw = f'../exp/{CFG.out}/models/model.pth'\n",
    "    print(f\"loading : {mw}\")\n",
    "    md.load_state_dict(torch.load(mw))\n",
    "    return md\n",
    "\n",
    "def generate_sub(config_list, out_name, clip=True):\n",
    "    models = []\n",
    "    for m in config_list:\n",
    "        model = get_model_from_cfg(m)\n",
    "        model = model.to(CFG_test.device)\n",
    "        model.eval()\n",
    "        models.append(model)\n",
    "    if not clip: \n",
    "        out_name = out_name + '_no_clip'\n",
    "        print(f'generating sub with no cliping: {out_name}')\n",
    "    ids,preds = [],[]\n",
    "    for x,y in tqdm(dl):\n",
    "        with torch.no_grad(),torch.cuda.amp.autocast():\n",
    "            if clip:\n",
    "                p = torch.stack([torch.nan_to_num(model(x)) for model in models]\n",
    "                                ,0).mean(0).clip(0,1)\n",
    "            else:\n",
    "                p = torch.stack([torch.nan_to_num(model(x)) for model in models]\n",
    "                                ,0).mean(0)\n",
    "                \n",
    "    \n",
    "        for idx, mask, pi in zip(y['ids'].cpu(), x['mask'].cpu(), p.cpu()):\n",
    "            ids.append(idx[mask])\n",
    "            preds.append(pi[mask[:pi.shape[0]]])\n",
    "\n",
    "    ids = torch.concat(ids)\n",
    "    preds = torch.concat(preds)\n",
    "\n",
    "    df = pd.DataFrame({'id':ids.numpy(), 'reactivity_DMS_MaP':preds[:,1].numpy(), \n",
    "                    'reactivity_2A3_MaP':preds[:,0].numpy()})\n",
    "    df[\"reactivity_DMS_MaP\"] = df[\"reactivity_DMS_MaP\"].astype(\"float32\")\n",
    "    df[\"reactivity_2A3_MaP\"] = df[\"reactivity_2A3_MaP\"].astype(\"float32\")\n",
    "\n",
    "    df.to_parquet(f'{out_name}.parquet', index=False) # 6.5GB\n",
    "    df.head()"
   ]
  },
  {
   "cell_type": "code",
   "execution_count": 6,
   "metadata": {
    "tags": []
   },
   "outputs": [],
   "source": [
    "# # use this to generate submission\n",
    "# class CFG:\n",
    "#     path = Path(\"../data/\")\n",
    "#     pathbb = Path(\"../data/Ribonanza_bpp_files\")\n",
    "#     pathss = Path(\"../eda/train_ss_vienna_rna.parquet\")\n",
    "#     split_id = Path('../eda/fold_split.csv')\n",
    "#     bs = 64\n",
    "#     num_workers = 12\n",
    "#     device = 'cuda'\n",
    "#     seed = 2023\n",
    "#     out = 'exp_09_ft'\n",
    "#     dataset_name = 'RNA_DatasetBaselineSplitbppV0'\n",
    "#     sn_train = True\n",
    "    \n",
    "#     model_name = 'RNA_ModelV7'\n",
    "#     dim = 192\n",
    "#     depth = 12\n",
    "#     dim_head = 32\n",
    "   \n",
    "#     epoch = 12\n",
    "#     lr = 5e-5\n",
    "#     wd = 0.05\n",
    "#     pct_start = 0.01\n",
    "#     md_wt = 'exp_09/models/model.pth'\n",
    "    \n",
    "    \n",
    "# class CFGFT:\n",
    "#     path = Path(\"../data/\")\n",
    "#     pathbb = Path(\"../data/Ribonanza_bpp_files\")\n",
    "#     pathss = Path(\"../eda/train_ss_vienna_rna.parquet\")\n",
    "#     split_id = Path('../eda/fold_split.csv')\n",
    "#     bs = 64\n",
    "#     num_workers = 12\n",
    "#     device = 'cuda'\n",
    "#     seed = 2023\n",
    "#     out = 'exp_08_ft'\n",
    "#     dataset_name = 'RNA_DatasetBaselineSplitssV0'\n",
    "#     sn_train = True\n",
    "    \n",
    "#     model_name = 'RNA_ModelV3SS'\n",
    "#     dim = 192\n",
    "#     depth = 12\n",
    "#     dim_head = 32\n",
    "   \n",
    "#     epoch = 12\n",
    "#     lr = 5e-5\n",
    "#     wd = 0.05\n",
    "#     pct_start = 0.01\n",
    "#     md_wt = 'exp_08/models/model.pth'\n",
    "\n",
    "    \n",
    "    \n",
    "# out_name = CFG.out + '_' + CFGFT.out\n",
    "# generate_sub([CFG, CFGFT], out_name, clip=False)\n",
    "# print(f\"kaggle competitions submit stanford-ribonanza-rna-folding -f {out_name}.parquet -m '{out_name}'\")"
   ]
  },
  {
   "cell_type": "code",
   "execution_count": 7,
   "metadata": {
    "tags": []
   },
   "outputs": [],
   "source": [
    "# class CFG12:\n",
    "#     path = Path(\"../data/\")\n",
    "#     pathbb = Path(\"../data/Ribonanza_bpp_files\")\n",
    "#     pathss = Path(\"../eda/train_ss_vienna_rna.parquet\")\n",
    "#     split_id = Path('../eda/fold_split.csv')\n",
    "#     bs = 64\n",
    "#     num_workers = 12\n",
    "#     device = 'cuda'\n",
    "#     seed = 2023\n",
    "#     out = 'exp_12_ft'\n",
    "#     dataset_name = 'RNA_DatasetBaselineSplitbppV1'\n",
    "#     sn_train = True\n",
    "    \n",
    "#     model_name = 'RNA_ModelV7'\n",
    "#     dim = 192 * 2\n",
    "#     depth = 12\n",
    "#     dim_head = 32\n",
    "   \n",
    "#     epoch = 10\n",
    "#     lr = 5e-5\n",
    "#     wd = 0.05\n",
    "#     pct_start = 0.01\n",
    "    \n",
    "#     md_wt = 'exp_12/models/model.pth'\n",
    "    \n",
    "    \n",
    "# class CFG14:\n",
    "#     path = Path(\"../data/\")\n",
    "#     pathbb = Path(\"../data/Ribonanza_bpp_files\")\n",
    "#     pathss = Path(\"../eda/train_ss_vienna_rna.parquet\")\n",
    "#     split_id = Path('../eda/fold_split.csv')\n",
    "#     bs = 64\n",
    "#     num_workers = 12\n",
    "#     device = 'cuda'\n",
    "#     seed = 2023\n",
    "#     out = 'exp_14_ft'\n",
    "#     dataset_name = 'RNA_DatasetBaselineSplitssbppV0'\n",
    "#     sn_train = True\n",
    "    \n",
    "#     model_name = 'RNA_ModelV10'\n",
    "#     dim = 192 * 2\n",
    "#     depth = 12\n",
    "#     dim_head = 32\n",
    "   \n",
    "#     epoch = 8\n",
    "#     lr = 5e-6\n",
    "#     wd = 0.05\n",
    "#     pct_start = 0.02\n",
    "#     md_wt = 'exp_14/models/model.pth'\n",
    "    \n",
    "# out_name = CFG12.out + \"_\" + CFG14.out\n",
    "# generate_sub([CFG12, CFG14], out_name, clip=False)\n",
    "# print(f\"kaggle competitions submit stanford-ribonanza-rna-folding -f {out_name}.parquet -m '{out_name}'\")"
   ]
  },
  {
   "cell_type": "code",
   "execution_count": 8,
   "metadata": {
    "tags": []
   },
   "outputs": [],
   "source": [
    "# class CFG:\n",
    "#     path = Path(\"../data/\")\n",
    "#     pathbb = Path(\"../data/Ribonanza_bpp_files\")\n",
    "#     pathss = Path(\"../eda/train_ss_vienna_rna.parquet\")\n",
    "#     split_id = Path('../eda/fold_split.csv')\n",
    "#     bs = 64\n",
    "#     num_workers = 12\n",
    "#     device = 'cuda'\n",
    "#     seed = 2023\n",
    "#     out = 'exp_16_ft'\n",
    "#     dataset_name = 'RNA_DatasetBaselineSplitssbppV1'\n",
    "#     sn_train = True\n",
    "    \n",
    "#     model_name = 'RNA_ModelV11'\n",
    "#     dim = 192 * 2\n",
    "#     depth = 12\n",
    "#     dim_head = 32\n",
    "   \n",
    "#     epoch = 8\n",
    "#     lr = 5e-6\n",
    "#     wd = 0.05\n",
    "#     pct_start = 0.02\n",
    "    \n",
    "#     md_wt = 'exp_16/models/model.pth'\n",
    "    \n",
    "# class CFG19:\n",
    "#     path = Path(\"../data/\")\n",
    "#     pathbb = Path(\"../data/Ribonanza_bpp_files\")\n",
    "#     pathss = Path(\"../eda/train_ss_vienna_rna.parquet\")\n",
    "#     split_id = Path('../eda/fold_split.csv')\n",
    "#     bs = 64\n",
    "#     num_workers = 12\n",
    "#     device = 'cuda'\n",
    "#     seed = 2023\n",
    "#     out = 'exp_19_ft'\n",
    "#     dataset_name = 'RNA_DatasetBaselineSplitssbppV1'\n",
    "#     sn_train = True\n",
    "    \n",
    "#     model_name = 'RNA_ModelV14'\n",
    "#     dim = 192 * 2\n",
    "#     depth = 12\n",
    "#     dim_head = 32\n",
    "   \n",
    "#     epoch = 8\n",
    "#     lr = 5e-6\n",
    "#     wd = 0.05\n",
    "#     pct_start = 0.02\n",
    "    \n",
    "#     md_wt = 'exp_19/models/model.pth'\n",
    "    \n",
    "# out_name = CFG.out + \"_\" + CFG19.out\n",
    "# generate_sub([CFG, CFG19], out_name, clip=False)\n",
    "# print(f\"kaggle competitions submit stanford-ribonanza-rna-folding -f {out_name}.parquet -m '{out_name}'\")"
   ]
  },
  {
   "cell_type": "code",
   "execution_count": 9,
   "metadata": {},
   "outputs": [],
   "source": [
    "# class CFG:\n",
    "#     path = Path(\"../data/\")\n",
    "#     pathbb = Path(\"../data/Ribonanza_bpp_files\")\n",
    "#     pathss = Path(\"../eda/train_ss_vienna_rna.parquet\")\n",
    "#     split_id = Path('../eda/fold_split.csv')\n",
    "#     bs = 64\n",
    "#     num_workers = 12\n",
    "#     device = 'cuda'\n",
    "#     seed = 2023\n",
    "#     out = 'exp_22_ft'\n",
    "#     dataset_name = 'RNA_DatasetBaselineSplitssbppV1'\n",
    "#     sn_train = True\n",
    "    \n",
    "#     model_name = 'RNA_ModelV17'\n",
    "#     dim = 192 * 2\n",
    "#     depth = 12\n",
    "#     dim_head = 32\n",
    "   \n",
    "#     epoch = 24\n",
    "#     lr = 5e-6\n",
    "#     wd = 0.05\n",
    "#     pct_start = 0.01\n",
    "    \n",
    "#     md_wt = 'exp_22/models/model.pth'\n",
    "    \n",
    "# out_name = CFG.out\n",
    "# generate_sub([CFG], out_name, clip=False)\n",
    "# print(f\"kaggle competitions submit stanford-ribonanza-rna-folding -f {out_name}.parquet -m '{out_name}'\")"
   ]
  },
  {
   "cell_type": "code",
   "execution_count": 11,
   "metadata": {},
   "outputs": [
    {
     "name": "stdout",
     "output_type": "stream",
     "text": [
      "kwargs\n",
      "Non-A100 GPU detected, using math or mem efficient attention if input tensor is on cuda\n",
      "loading : ../exp/exp_23_ft/models/model.pth\n",
      "generating sub with no cliping: exp_23_ft_no_clip\n"
     ]
    },
    {
     "name": "stderr",
     "output_type": "stream",
     "text": [
      "/tmp/ipykernel_4591/254475423.py:24: TqdmDeprecationWarning: This function will be removed in tqdm==5.0.0\n",
      "Please use `tqdm.notebook.tqdm` instead of `tqdm.tqdm_notebook`\n",
      "  for x,y in tqdm(dl):\n"
     ]
    },
    {
     "data": {
      "application/vnd.jupyter.widget-view+json": {
       "model_id": "d5d5309be43b4cb19999387b7be0d54a",
       "version_major": 2,
       "version_minor": 0
      },
      "text/plain": [
       "  0%|          | 0/5250 [00:00<?, ?it/s]"
      ]
     },
     "metadata": {},
     "output_type": "display_data"
    },
    {
     "name": "stdout",
     "output_type": "stream",
     "text": [
      "kaggle competitions submit stanford-ribonanza-rna-folding -f exp_23_ft.parquet -m 'exp_23_ft'\n"
     ]
    }
   ],
   "source": [
    "# #RNA_Dataset_TestBppSSFullV1s\n",
    "# class CFG:\n",
    "#     path = Path(\"../data/\")\n",
    "#     pathbb = Path(\"../data/Ribonanza_bpp_files\")\n",
    "#     pathss = Path(\"../eda/train_ss_vienna_rna.parquet\")\n",
    "#     split_id = Path('../eda/fold_split.csv')\n",
    "#     bs = 64\n",
    "#     num_workers = 12\n",
    "#     device = 'cuda'\n",
    "#     seed = 2023\n",
    "#     out = 'exp_23_ft'\n",
    "#     dataset_name = 'RNA_DatasetBaselineSplitssbppV2'\n",
    "#     sn_train = True\n",
    "#     dim = False\n",
    "#     model_name = 'RNA_ModelV17'\n",
    "#     model_kwargs = {\"dim\" : 192 * 2, \n",
    "#                     \"depth\": 12,\n",
    "#                     \"layer_dropout\": 0.25,\n",
    "#                     \"attn_dropout\": 0.25,\n",
    "#                     \"drop_pat_dropout\": 0.25}\n",
    "\n",
    "   \n",
    "#     epoch = 24\n",
    "#     lr = 5e-6\n",
    "#     wd = 0.05\n",
    "#     pct_start = 0.01\n",
    "    \n",
    "#     md_wt = 'exp_23/models/model.pth'\n",
    "    \n",
    "# out_name = CFG.out\n",
    "# generate_sub([CFG], out_name, clip=False)\n",
    "\n",
    "# a = pd.read_parquet(f'{out_name}_no_clip.parquet').set_index('id')\n",
    "# a = a.clip(0,1)\n",
    "# a = a.reset_index()\n",
    "# a.to_parquet(f'{out_name}.parquet', index=False)\n",
    "# print(f\"kaggle competitions submit stanford-ribonanza-rna-folding -f {out_name}.parquet -m '{out_name}'\")\n"
   ]
  },
  {
   "cell_type": "code",
   "execution_count": 10,
   "metadata": {},
   "outputs": [
    {
     "name": "stdout",
     "output_type": "stream",
     "text": [
      "kwargs\n",
      "loading : ../exp/exp_26/models/model.pth\n",
      "generating sub with no cliping: exp_26_no_clip\n"
     ]
    },
    {
     "name": "stderr",
     "output_type": "stream",
     "text": [
      "/tmp/ipykernel_981356/254475423.py:24: TqdmDeprecationWarning: This function will be removed in tqdm==5.0.0\n",
      "Please use `tqdm.notebook.tqdm` instead of `tqdm.tqdm_notebook`\n",
      "  for x,y in tqdm(dl):\n"
     ]
    },
    {
     "data": {
      "application/vnd.jupyter.widget-view+json": {
       "model_id": "08ae6624ce2749f382df27471aa4a23f",
       "version_major": 2,
       "version_minor": 0
      },
      "text/plain": [
       "  0%|          | 0/5250 [00:00<?, ?it/s]"
      ]
     },
     "metadata": {},
     "output_type": "display_data"
    },
    {
     "name": "stdout",
     "output_type": "stream",
     "text": [
      "kaggle competitions submit stanford-ribonanza-rna-folding -f exp_26.parquet -m 'exp_26'\n"
     ]
    }
   ],
   "source": [
    "class CFG:\n",
    "    path = Path(\"../data/\")\n",
    "    pathbb = Path(\"../data/Ribonanza_bpp_files\")\n",
    "    pathss = Path(\"../eda/train_ss_vienna_rna.parquet\")\n",
    "    split_id = Path('../eda/fold_split.csv')\n",
    "    bs = 64\n",
    "    num_workers = 12\n",
    "    device = 'cuda'\n",
    "    seed = 2023\n",
    "    out = 'exp_26'\n",
    "    dataset_name = 'RNA_DatasetBaselineSplitssbppV3'\n",
    "    sn_train = True\n",
    "    \n",
    "    model_name = 'RNA_ModelV20'\n",
    "    model_kwargs = {\"dim\" : 192 * 2, \n",
    "                    \"depth\": 12,\n",
    "                    \"layer_dropout\": 0.25,\n",
    "                    \"attn_dropout\": 0.25,\n",
    "                    \"drop_pat_dropout\": 0.25}\n",
    "    dim =False\n",
    "   \n",
    "    epoch = 24\n",
    "    lr = 5e-6\n",
    "    wd = 0.05\n",
    "    pct_start = 0.01\n",
    "    \n",
    "    md_wt = 'exp_26/models/model.pth'\n",
    "    \n",
    "out_name = CFG.out\n",
    "generate_sub([CFG], out_name, clip=False)\n",
    "\n",
    "a = pd.read_parquet(f'{out_name}_no_clip.parquet').set_index('id')\n",
    "a = a.clip(0,1)\n",
    "a = a.reset_index()\n",
    "a.to_parquet(f'{out_name}.parquet', index=False)\n",
    "print(f\"kaggle competitions submit stanford-ribonanza-rna-folding -f {out_name}.parquet -m '{out_name}'\")\n"
   ]
  },
  {
   "cell_type": "code",
   "execution_count": null,
   "metadata": {},
   "outputs": [],
   "source": [
    "\n",
    "# a = pd.read_parquet('exp_22_ft_no_clip.parquet').set_index('id')\n",
    "# a = a.clip(0,1)\n",
    "# a = a.reset_index()\n",
    "# a.to_parquet(f'exp_22_ft.parquet', index=False)"
   ]
  },
  {
   "cell_type": "code",
   "execution_count": 5,
   "metadata": {},
   "outputs": [],
   "source": []
  },
  {
   "cell_type": "code",
   "execution_count": 12,
   "metadata": {},
   "outputs": [],
   "source": [
    "plot_test_example(out_name)"
   ]
  },
  {
   "cell_type": "code",
   "execution_count": null,
   "metadata": {},
   "outputs": [],
   "source": [
    "# name = 'comb_v1'\n",
    "# a  = (pd.read_parquet('exp_12_ft_exp_14_ft_no_clip.parquet').set_index('id') + pd.read_parquet('exp_09_ft_exp_08_ft.parquet').set_index('id'))/2\n",
    "# b = (a + pd.read_parquet('exp_16_ft_exp_19_ft_no_clip.parquet').set_index('id'))/2\n",
    "# b = b.clip(0,1)\n",
    "# b = b.reset_index()\n",
    "# b.to_parquet(f'{name}.parquet', index=False)\n",
    "# print(print(f\"kaggle competitions submit stanford-ribonanza-rna-folding -f {name}.parquet -m '{name}'\"))\n",
    "# pd.read_parquet(f'{name}.parquet')\n"
   ]
  },
  {
   "cell_type": "code",
   "execution_count": null,
   "metadata": {},
   "outputs": [],
   "source": [
    "#  a  = (pd.read_parquet('comb_v1.parquet').set_index('id') + pd.read_parquet('submission.parquet').set_index('id'))/2\n",
    "#  a = a.reset_index()\n",
    "#  a.to_parquet(f'comb_v2.parquet', index=False)\n",
    " "
   ]
  },
  {
   "cell_type": "code",
   "execution_count": 19,
   "metadata": {},
   "outputs": [
    {
     "name": "stdout",
     "output_type": "stream",
     "text": [
      "kaggle competitions submit stanford-ribonanza-rna-folding -f comb_v3.parquet -m 'comb_v3'\n",
      "None\n"
     ]
    }
   ],
   "source": [
    "# name = 'comb_v3'\n",
    "# res = (pd.read_parquet('exp_16_ft_exp_19_ft_no_clip.parquet').set_index('id').values + pd.read_parquet('exp_22_ft_no_clip.parquet').set_index('id').values)/2\n",
    "# res = np.clip(res, 0, 1)\n",
    "# res = pd.DataFrame(res, columns=['reactivity_DMS_MaP', 'reactivity_2A3_MaP'], index=pd.read_parquet('exp_16_ft_exp_19_ft_no_clip.parquet').set_index('id').index)\n",
    "# res.reset_index().to_parquet(f'{name}.parquet', index=False)\n",
    "# print(print(f\"kaggle competitions submit stanford-ribonanza-rna-folding -f {name}.parquet -m '{name}'\"))"
   ]
  },
  {
   "cell_type": "code",
   "execution_count": 29,
   "metadata": {},
   "outputs": [
    {
     "name": "stdout",
     "output_type": "stream",
     "text": [
      "kaggle competitions submit stanford-ribonanza-rna-folding -f comb_v4.parquet -m 'comb_v4'\n",
      "None\n"
     ]
    }
   ],
   "source": [
    "# name = \"comb_v4\"\n",
    "# res = 0.6 * pd.read_parquet(\"comb_v3.parquet\").set_index(\"id\").values +  0.4 * pd.read_parquet(\"submission.parquet\").set_index(\"id\").values\n",
    "# res = np.clip(res, 0, 1)\n",
    "# res = pd.DataFrame(\n",
    "#     res,\n",
    "#     columns=[\"reactivity_DMS_MaP\", \"reactivity_2A3_MaP\"],\n",
    "#     index=pd.read_parquet(\"exp_16_ft_exp_19_ft_no_clip.parquet\").set_index(\"id\").index,\n",
    "# )\n",
    "# res.reset_index().to_parquet(f\"{name}.parquet\", index=False)\n",
    "# print(\n",
    "#     print(\n",
    "#         f\"kaggle competitions submit stanford-ribonanza-rna-folding -f {name}.parquet -m '{name}'\"\n",
    "#     )\n",
    "# )\n",
    "# plot_test_example(name)"
   ]
  },
  {
   "cell_type": "code",
   "execution_count": 5,
   "metadata": {},
   "outputs": [
    {
     "name": "stdout",
     "output_type": "stream",
     "text": [
      "kaggle competitions submit stanford-ribonanza-rna-folding -f comb_v5.parquet -m 'comb_v5'\n",
      "None\n"
     ]
    }
   ],
   "source": [
    "# name = 'comb_v5'\n",
    "# res = (0.4 * pd.read_parquet('exp_16_ft_exp_19_ft_no_clip.parquet').set_index('id').values + 0.4 * pd.read_parquet('exp_22_ft_no_clip.parquet').set_index('id').values + 0.2* pd.read_parquet('exp_12_ft_exp_14_ft_no_clip.parquet').set_index('id').values)\n",
    "# res = np.clip(res, 0, 1)\n",
    "# res = pd.DataFrame(res, columns=['reactivity_DMS_MaP', 'reactivity_2A3_MaP'], index=pd.read_parquet('exp_16_ft_exp_19_ft_no_clip.parquet').set_index('id').index)\n",
    "# res.reset_index().to_parquet(f'{name}.parquet', index=False)\n",
    "# print(print(f\"kaggle competitions submit stanford-ribonanza-rna-folding -f {name}.parquet -m '{name}'\"))\n",
    "# plot_test_example(name)"
   ]
  },
  {
   "cell_type": "code",
   "execution_count": 20,
   "metadata": {},
   "outputs": [
    {
     "name": "stdout",
     "output_type": "stream",
     "text": [
      "kaggle competitions submit stanford-ribonanza-rna-folding -f comb_v6.parquet -m 'comb_v6'\n",
      "None\n"
     ]
    }
   ],
   "source": [
    "# name = 'comb_v6'\n",
    "# res = (pd.read_parquet('exp_22_ft_no_clip.parquet').set_index('id').values + pd.read_parquet('exp_23_ft_no_clip.parquet').set_index('id').values)/2\n",
    "# res = np.clip(res, 0, 1)\n",
    "# res = pd.DataFrame(res, columns=['reactivity_DMS_MaP', 'reactivity_2A3_MaP'], index=pd.read_parquet('exp_16_ft_exp_19_ft_no_clip.parquet').set_index('id').index)\n",
    "# res.reset_index().to_parquet(f'{name}.parquet', index=False)\n",
    "# print(print(f\"kaggle competitions submit stanford-ribonanza-rna-folding -f {name}.parquet -m '{name}'\"))\n",
    "# plot_test_example(name)"
   ]
  },
  {
   "cell_type": "code",
   "execution_count": 6,
   "metadata": {},
   "outputs": [
    {
     "name": "stdout",
     "output_type": "stream",
     "text": [
      "kaggle competitions submit stanford-ribonanza-rna-folding -f comb_v6_no_clip.parquet -m 'comb_v6_no_clip'\n",
      "None\n"
     ]
    }
   ],
   "source": [
    "# name = 'comb_v6_no_clip'\n",
    "# res = (pd.read_parquet('exp_22_ft_no_clip.parquet').set_index('id').values + pd.read_parquet('exp_23_ft_no_clip.parquet').set_index('id').values)/2\n",
    "# res = pd.DataFrame(res, columns=['reactivity_DMS_MaP', 'reactivity_2A3_MaP'], index=pd.read_parquet('exp_16_ft_exp_19_ft_no_clip.parquet').set_index('id').index)\n",
    "# res.reset_index().to_parquet(f'{name}.parquet', index=False)\n",
    "# print(print(f\"kaggle competitions submit stanford-ribonanza-rna-folding -f {name}.parquet -m '{name}'\"))\n",
    "# plot_test_example(name)"
   ]
  },
  {
   "cell_type": "code",
   "execution_count": 7,
   "metadata": {},
   "outputs": [
    {
     "name": "stdout",
     "output_type": "stream",
     "text": [
      "kaggle competitions submit stanford-ribonanza-rna-folding -f comb_v7.parquet -m 'comb_v7'\n",
      "None\n"
     ]
    }
   ],
   "source": [
    "# name = 'comb_v7'\n",
    "# res = (0.4 * pd.read_parquet('exp_16_ft_exp_19_ft_no_clip.parquet').set_index('id').values + 0.4 * pd.read_parquet('comb_v6_no_clip.parquet').set_index('id').values + 0.2* pd.read_parquet('exp_12_ft_exp_14_ft_no_clip.parquet').set_index('id').values)\n",
    "# res = np.clip(res, 0, 1)\n",
    "# res = pd.DataFrame(res, columns=['reactivity_DMS_MaP', 'reactivity_2A3_MaP'], index=pd.read_parquet('exp_16_ft_exp_19_ft_no_clip.parquet').set_index('id').index)\n",
    "# res.reset_index().to_parquet(f'{name}.parquet', index=False)\n",
    "# print(print(f\"kaggle competitions submit stanford-ribonanza-rna-folding -f {name}.parquet -m '{name}'\"))\n",
    "# plot_test_example(name)"
   ]
  },
  {
   "cell_type": "code",
   "execution_count": 7,
   "metadata": {},
   "outputs": [
    {
     "name": "stdout",
     "output_type": "stream",
     "text": [
      "kaggle competitions submit stanford-ribonanza-rna-folding -f comb_v8.parquet -m 'comb_v8'\n",
      "None\n"
     ]
    }
   ],
   "source": [
    "name = 'comb_v8'\n",
    "res = (0.5 * pd.read_parquet('comb_v7.parquet').set_index('id').values + 0.5 * pd.read_parquet('/opt/slh/rna/sub/submission_ft_14226.parquet').set_index('id').values)\n",
    "res = np.clip(res, 0, 1)\n",
    "res = pd.DataFrame(res, columns=['reactivity_DMS_MaP', 'reactivity_2A3_MaP'], index=pd.read_parquet('exp_16_ft_exp_19_ft_no_clip.parquet').set_index('id').index)\n",
    "res.reset_index().to_parquet(f'{name}.parquet', index=False)\n",
    "print(print(f\"kaggle competitions submit stanford-ribonanza-rna-folding -f {name}.parquet -m '{name}'\"))\n",
    "plot_test_example(name)"
   ]
  },
  {
   "cell_type": "code",
   "execution_count": 6,
   "metadata": {},
   "outputs": [
    {
     "name": "stdout",
     "output_type": "stream",
     "text": [
      "kaggle competitions submit stanford-ribonanza-rna-folding -f comb_v9.parquet -m 'comb_v9'\n",
      "None\n"
     ]
    }
   ],
   "source": [
    "name = 'comb_v9'\n",
    "res = (0.5 * pd.read_parquet('comb_v4.parquet').set_index('id').values + 0.5 * pd.read_parquet('/opt/slh/rna/sub/submission_ft_14226.parquet').set_index('id').values)\n",
    "res = np.clip(res, 0, 1)\n",
    "res = pd.DataFrame(res, columns=['reactivity_DMS_MaP', 'reactivity_2A3_MaP'], index=pd.read_parquet('exp_16_ft_exp_19_ft_no_clip.parquet').set_index('id').index)\n",
    "res.reset_index().to_parquet(f'{name}.parquet', index=False)\n",
    "print(print(f\"kaggle competitions submit stanford-ribonanza-rna-folding -f {name}.parquet -m '{name}'\"))\n",
    "plot_test_example(name)"
   ]
  },
  {
   "cell_type": "code",
   "execution_count": 7,
   "metadata": {},
   "outputs": [
    {
     "name": "stdout",
     "output_type": "stream",
     "text": [
      "kaggle competitions submit stanford-ribonanza-rna-folding -f comb_v10.parquet -m 'comb_v10'\n",
      "None\n"
     ]
    }
   ],
   "source": [
    "name = 'comb_v10'\n",
    "res = (0.65 * pd.read_parquet('comb_v4.parquet').set_index('id').values + 0.35 * pd.read_parquet('/opt/slh/rna/sub/submission_ft_14226.parquet').set_index('id').values)\n",
    "res = np.clip(res, 0, 1)\n",
    "res = pd.DataFrame(res, columns=['reactivity_DMS_MaP', 'reactivity_2A3_MaP'], index=pd.read_parquet('exp_16_ft_exp_19_ft_no_clip.parquet').set_index('id').index)\n",
    "res.reset_index().to_parquet(f'{name}.parquet', index=False)\n",
    "print(print(f\"kaggle competitions submit stanford-ribonanza-rna-folding -f {name}.parquet -m '{name}'\"))\n",
    "plot_test_example(name)"
   ]
  },
  {
   "cell_type": "code",
   "execution_count": null,
   "metadata": {},
   "outputs": [],
   "source": []
  }
 ],
 "metadata": {
  "kernelspec": {
   "display_name": "Python 3 (ipykernel)",
   "language": "python",
   "name": "python3"
  },
  "language_info": {
   "codemirror_mode": {
    "name": "ipython",
    "version": 3
   },
   "file_extension": ".py",
   "mimetype": "text/x-python",
   "name": "python",
   "nbconvert_exporter": "python",
   "pygments_lexer": "ipython3",
   "version": "3.10.12"
  }
 },
 "nbformat": 4,
 "nbformat_minor": 4
}
