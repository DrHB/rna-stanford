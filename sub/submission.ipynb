{
 "cells": [
  {
   "cell_type": "code",
   "execution_count": 1,
   "metadata": {
    "tags": []
   },
   "outputs": [],
   "source": [
    "%load_ext autoreload\n",
    "%autoreload 2\n",
    "import sys\n",
    "sys.path.append('..')\n",
    "import os\n",
    "os.environ[\"CUDA_VISIBLE_DEVICES\"]=\"1\""
   ]
  },
  {
   "cell_type": "code",
   "execution_count": 2,
   "metadata": {
    "tags": []
   },
   "outputs": [
    {
     "name": "stderr",
     "output_type": "stream",
     "text": [
      "/opt/conda/lib/python3.10/site-packages/scipy/__init__.py:146: UserWarning: A NumPy version >=1.16.5 and <1.23.0 is required for this version of SciPy (detected version 1.23.5\n",
      "  warnings.warn(f\"A NumPy version >={np_minversion} and <{np_maxversion}\"\n"
     ]
    }
   ],
   "source": [
    "import rnacomp\n",
    "import rnacomp.models\n",
    "from rnacomp.fastai_fit import *\n",
    "from rnacomp.dataset import LenMatchBatchSampler, DeviceDataLoader\n",
    "from rnacomp.utils import seed_everything, MAE, loss_laplace\n",
    "import gc\n",
    "from tqdm import tqdm_notebook as tqdm"
   ]
  },
  {
   "cell_type": "code",
   "execution_count": 3,
   "metadata": {
    "tags": []
   },
   "outputs": [],
   "source": [
    "class CFG_test:\n",
    "    dataset_name ='RNA_Dataset_TestBppSSFullV0' #`RNA_Dataset_TestBppSS' #'\n",
    "    pathbb = Path(\"../data/Ribonanza_bpp_files\")\n",
    "    pathss = Path(\"../eda/test_ss_vienna_rna.parquet\")\n",
    "    bs = 256\n",
    "    num_workers = 16\n",
    "    device = 'cuda'\n",
    "    \n",
    "    "
   ]
  },
  {
   "cell_type": "code",
   "execution_count": 4,
   "metadata": {
    "tags": []
   },
   "outputs": [
    {
     "name": "stdout",
     "output_type": "stream",
     "text": [
      "(1343823, 5)\n",
      "(1343823, 5)\n",
      "(1343823, 5)\n",
      "(1343823, 6)\n",
      "(1343823, 8)\n"
     ]
    },
    {
     "data": {
      "text/plain": [
       "0"
      ]
     },
     "execution_count": 4,
     "metadata": {},
     "output_type": "execute_result"
    }
   ],
   "source": [
    "df_test = pd.read_csv(os.path.join('../data/','test_sequences.csv'))\n",
    "print(df_test.shape)\n",
    "fns = list(CFG_test.pathbb.rglob(\"*.txt\"))\n",
    "bpp_df = pd.DataFrame({\"bpp\": fns})\n",
    "bpp_df['sequence_id'] = bpp_df['bpp'].apply(lambda x: x.stem)\n",
    "print(df_test.shape)\n",
    "bpp_df.drop_duplicates(subset=['sequence_id'], inplace=True)\n",
    "ss = pd.read_parquet(CFG_test.pathss)[[\"sequence_id\", \"ss_roi\", \"ss_full\"]]\n",
    "print(df_test.shape)\n",
    "df_test = pd.merge(df_test, bpp_df, on='sequence_id')\n",
    "print(df_test.shape)\n",
    "df_test = pd.merge(df_test, ss, on='sequence_id')\n",
    "print(df_test.shape)\n",
    "ds = getattr(rnacomp.dataset, CFG_test.dataset_name)(df_test)\n",
    "dl = DeviceDataLoader(torch.utils.data.DataLoader(ds, batch_size=CFG_test.bs, \n",
    "               shuffle=False, drop_last=False, num_workers=CFG_test.num_workers), CFG_test.device)\n",
    "del df_test\n",
    "gc.collect()\n",
    "\n"
   ]
  },
  {
   "cell_type": "code",
   "execution_count": 5,
   "metadata": {
    "tags": []
   },
   "outputs": [],
   "source": [
    "def get_model_from_cfg(CFG):\n",
    "    md= getattr(rnacomp.models, CFG.model_name)(dim = CFG.dim)\n",
    "    mw = f'../exp/{CFG.out}/models/model.pth'\n",
    "    print(f\"loading : {mw}\")\n",
    "    md.load_state_dict(torch.load(mw))\n",
    "    return md\n",
    "\n",
    "def generate_sub(config_list, out_name, clip=True):\n",
    "    models = []\n",
    "    for m in config_list:\n",
    "        model = get_model_from_cfg(m)\n",
    "        model = model.to(CFG_test.device)\n",
    "        model.eval()\n",
    "        models.append(model)\n",
    "    if not clip: \n",
    "        out_name = out_name + '_no_clip'\n",
    "        print(f'generating sub with no cliping: {out_name}')\n",
    "    ids,preds = [],[]\n",
    "    for x,y in tqdm(dl):\n",
    "        with torch.no_grad(),torch.cuda.amp.autocast():\n",
    "            if clip:\n",
    "                p = torch.stack([torch.nan_to_num(model(x)) for model in models]\n",
    "                                ,0).mean(0).clip(0,1)\n",
    "            else:\n",
    "                p = torch.stack([torch.nan_to_num(model(x)) for model in models]\n",
    "                                ,0).mean(0)\n",
    "                \n",
    "    \n",
    "        for idx, mask, pi in zip(y['ids'].cpu(), x['mask'].cpu(), p.cpu()):\n",
    "            ids.append(idx[mask])\n",
    "            preds.append(pi[mask[:pi.shape[0]]])\n",
    "\n",
    "    ids = torch.concat(ids)\n",
    "    preds = torch.concat(preds)\n",
    "\n",
    "    df = pd.DataFrame({'id':ids.numpy(), 'reactivity_DMS_MaP':preds[:,1].numpy(), \n",
    "                    'reactivity_2A3_MaP':preds[:,0].numpy()})\n",
    "    df[\"reactivity_DMS_MaP\"] = df[\"reactivity_DMS_MaP\"].astype(\"float32\")\n",
    "    df[\"reactivity_2A3_MaP\"] = df[\"reactivity_2A3_MaP\"].astype(\"float32\")\n",
    "\n",
    "    df.to_parquet(f'{out_name}.parquet', index=False) # 6.5GB\n",
    "    df.head()"
   ]
  },
  {
   "cell_type": "code",
   "execution_count": 6,
   "metadata": {
    "tags": []
   },
   "outputs": [],
   "source": [
    "# # use this to generate submission\n",
    "# class CFG:\n",
    "#     path = Path(\"../data/\")\n",
    "#     pathbb = Path(\"../data/Ribonanza_bpp_files\")\n",
    "#     pathss = Path(\"../eda/train_ss_vienna_rna.parquet\")\n",
    "#     split_id = Path('../eda/fold_split.csv')\n",
    "#     bs = 64\n",
    "#     num_workers = 12\n",
    "#     device = 'cuda'\n",
    "#     seed = 2023\n",
    "#     out = 'exp_09_ft'\n",
    "#     dataset_name = 'RNA_DatasetBaselineSplitbppV0'\n",
    "#     sn_train = True\n",
    "    \n",
    "#     model_name = 'RNA_ModelV7'\n",
    "#     dim = 192\n",
    "#     depth = 12\n",
    "#     dim_head = 32\n",
    "   \n",
    "#     epoch = 12\n",
    "#     lr = 5e-5\n",
    "#     wd = 0.05\n",
    "#     pct_start = 0.01\n",
    "#     md_wt = 'exp_09/models/model.pth'\n",
    "    \n",
    "    \n",
    "# class CFGFT:\n",
    "#     path = Path(\"../data/\")\n",
    "#     pathbb = Path(\"../data/Ribonanza_bpp_files\")\n",
    "#     pathss = Path(\"../eda/train_ss_vienna_rna.parquet\")\n",
    "#     split_id = Path('../eda/fold_split.csv')\n",
    "#     bs = 64\n",
    "#     num_workers = 12\n",
    "#     device = 'cuda'\n",
    "#     seed = 2023\n",
    "#     out = 'exp_08_ft'\n",
    "#     dataset_name = 'RNA_DatasetBaselineSplitssV0'\n",
    "#     sn_train = True\n",
    "    \n",
    "#     model_name = 'RNA_ModelV3SS'\n",
    "#     dim = 192\n",
    "#     depth = 12\n",
    "#     dim_head = 32\n",
    "   \n",
    "#     epoch = 12\n",
    "#     lr = 5e-5\n",
    "#     wd = 0.05\n",
    "#     pct_start = 0.01\n",
    "#     md_wt = 'exp_08/models/model.pth'\n",
    "\n",
    "    \n",
    "    \n",
    "# out_name = CFG.out + '_' + CFGFT.out\n",
    "# generate_sub([CFG, CFGFT], out_name, clip=False)\n",
    "# print(f\"kaggle competitions submit stanford-ribonanza-rna-folding -f {out_name}.parquet -m '{out_name}'\")"
   ]
  },
  {
   "cell_type": "code",
   "execution_count": 7,
   "metadata": {
    "tags": []
   },
   "outputs": [
    {
     "name": "stdout",
     "output_type": "stream",
     "text": [
      "loading : ../exp/exp_12_ft/models/model.pth\n",
      "loading : ../exp/exp_14_ft/models/model.pth\n",
      "generating sub with no cliping: exp_12_ft_exp_14_ft_no_clip\n"
     ]
    },
    {
     "name": "stderr",
     "output_type": "stream",
     "text": [
      "/tmp/ipykernel_43277/2162199118.py:19: TqdmDeprecationWarning: This function will be removed in tqdm==5.0.0\n",
      "Please use `tqdm.notebook.tqdm` instead of `tqdm.tqdm_notebook`\n",
      "  for x,y in tqdm(dl):\n"
     ]
    },
    {
     "data": {
      "application/vnd.jupyter.widget-view+json": {
       "model_id": "e935c70578d84245b4e7dccdb5aa6401",
       "version_major": 2,
       "version_minor": 0
      },
      "text/plain": [
       "  0%|          | 0/5250 [00:00<?, ?it/s]"
      ]
     },
     "metadata": {},
     "output_type": "display_data"
    },
    {
     "name": "stdout",
     "output_type": "stream",
     "text": [
      "kaggle competitions submit stanford-ribonanza-rna-folding -f exp_12_ft_exp_14_ft.parquet -m 'exp_12_ft_exp_14_ft'\n"
     ]
    }
   ],
   "source": [
    "# class CFG12:\n",
    "#     path = Path(\"../data/\")\n",
    "#     pathbb = Path(\"../data/Ribonanza_bpp_files\")\n",
    "#     pathss = Path(\"../eda/train_ss_vienna_rna.parquet\")\n",
    "#     split_id = Path('../eda/fold_split.csv')\n",
    "#     bs = 64\n",
    "#     num_workers = 12\n",
    "#     device = 'cuda'\n",
    "#     seed = 2023\n",
    "#     out = 'exp_12_ft'\n",
    "#     dataset_name = 'RNA_DatasetBaselineSplitbppV1'\n",
    "#     sn_train = True\n",
    "    \n",
    "#     model_name = 'RNA_ModelV7'\n",
    "#     dim = 192 * 2\n",
    "#     depth = 12\n",
    "#     dim_head = 32\n",
    "   \n",
    "#     epoch = 10\n",
    "#     lr = 5e-5\n",
    "#     wd = 0.05\n",
    "#     pct_start = 0.01\n",
    "    \n",
    "#     md_wt = 'exp_12/models/model.pth'\n",
    "    \n",
    "    \n",
    "# class CFG14:\n",
    "#     path = Path(\"../data/\")\n",
    "#     pathbb = Path(\"../data/Ribonanza_bpp_files\")\n",
    "#     pathss = Path(\"../eda/train_ss_vienna_rna.parquet\")\n",
    "#     split_id = Path('../eda/fold_split.csv')\n",
    "#     bs = 64\n",
    "#     num_workers = 12\n",
    "#     device = 'cuda'\n",
    "#     seed = 2023\n",
    "#     out = 'exp_14_ft'\n",
    "#     dataset_name = 'RNA_DatasetBaselineSplitssbppV0'\n",
    "#     sn_train = True\n",
    "    \n",
    "#     model_name = 'RNA_ModelV10'\n",
    "#     dim = 192 * 2\n",
    "#     depth = 12\n",
    "#     dim_head = 32\n",
    "   \n",
    "#     epoch = 8\n",
    "#     lr = 5e-6\n",
    "#     wd = 0.05\n",
    "#     pct_start = 0.02\n",
    "#     md_wt = 'exp_14/models/model.pth'\n",
    "    \n",
    "# out_name = CFG12.out + \"_\" + CFG14.out\n",
    "# generate_sub([CFG12, CFG14], out_name, clip=False)\n",
    "# print(f\"kaggle competitions submit stanford-ribonanza-rna-folding -f {out_name}.parquet -m '{out_name}'\")"
   ]
  },
  {
   "cell_type": "code",
   "execution_count": 7,
   "metadata": {
    "tags": []
   },
   "outputs": [
    {
     "name": "stdout",
     "output_type": "stream",
     "text": [
      "loading : ../exp/exp_16_ft/models/model.pth\n",
      "loading : ../exp/exp_19_ft/models/model.pth\n",
      "generating sub with no cliping: exp_16_ft_exp_19_ft_no_clip\n"
     ]
    },
    {
     "name": "stderr",
     "output_type": "stream",
     "text": [
      "/tmp/ipykernel_73696/2162199118.py:19: TqdmDeprecationWarning: This function will be removed in tqdm==5.0.0\n",
      "Please use `tqdm.notebook.tqdm` instead of `tqdm.tqdm_notebook`\n",
      "  for x,y in tqdm(dl):\n"
     ]
    },
    {
     "data": {
      "application/vnd.jupyter.widget-view+json": {
       "model_id": "566326ae75fa4e4a84ab12f859047756",
       "version_major": 2,
       "version_minor": 0
      },
      "text/plain": [
       "  0%|          | 0/5250 [00:00<?, ?it/s]"
      ]
     },
     "metadata": {},
     "output_type": "display_data"
    }
   ],
   "source": [
    "class CFG:\n",
    "    path = Path(\"../data/\")\n",
    "    pathbb = Path(\"../data/Ribonanza_bpp_files\")\n",
    "    pathss = Path(\"../eda/train_ss_vienna_rna.parquet\")\n",
    "    split_id = Path('../eda/fold_split.csv')\n",
    "    bs = 64\n",
    "    num_workers = 12\n",
    "    device = 'cuda'\n",
    "    seed = 2023\n",
    "    out = 'exp_16_ft'\n",
    "    dataset_name = 'RNA_DatasetBaselineSplitssbppV1'\n",
    "    sn_train = True\n",
    "    \n",
    "    model_name = 'RNA_ModelV11'\n",
    "    dim = 192 * 2\n",
    "    depth = 12\n",
    "    dim_head = 32\n",
    "   \n",
    "    epoch = 8\n",
    "    lr = 5e-6\n",
    "    wd = 0.05\n",
    "    pct_start = 0.02\n",
    "    \n",
    "    md_wt = 'exp_16/models/model.pth'\n",
    "    \n",
    "class CFG19:\n",
    "    path = Path(\"../data/\")\n",
    "    pathbb = Path(\"../data/Ribonanza_bpp_files\")\n",
    "    pathss = Path(\"../eda/train_ss_vienna_rna.parquet\")\n",
    "    split_id = Path('../eda/fold_split.csv')\n",
    "    bs = 64\n",
    "    num_workers = 12\n",
    "    device = 'cuda'\n",
    "    seed = 2023\n",
    "    out = 'exp_19_ft'\n",
    "    dataset_name = 'RNA_DatasetBaselineSplitssbppV1'\n",
    "    sn_train = True\n",
    "    \n",
    "    model_name = 'RNA_ModelV14'\n",
    "    dim = 192 * 2\n",
    "    depth = 12\n",
    "    dim_head = 32\n",
    "   \n",
    "    epoch = 8\n",
    "    lr = 5e-6\n",
    "    wd = 0.05\n",
    "    pct_start = 0.02\n",
    "    \n",
    "    md_wt = 'exp_19/models/model.pth'\n",
    "    \n",
    "out_name = CFG.out + \"_\" + CFG19.out\n",
    "generate_sub([CFG, CFG19], out_name, clip=False)\n",
    "print(f\"kaggle competitions submit stanford-ribonanza-rna-folding -f {out_name}.parquet -m '{out_name}'\")"
   ]
  },
  {
   "cell_type": "code",
   "execution_count": null,
   "metadata": {},
   "outputs": [],
   "source": [
    "import polars as pl\n",
    "import matplotlib.pyplot as plt\n",
    "#read your sub here\n",
    "df=pl.read_parquet(f\"{out_name}.parquet\")\n",
    "#some parameters\n",
    "font_size=6\n",
    "id1=269545321\n",
    "id2=269724007\n",
    "reshape1=391\n",
    "reshape2=457\n",
    "#get predictions\n",
    "pred_DMS=df[id1:id2+1]['reactivity_DMS_MaP'].to_numpy().reshape(reshape1,reshape2)\n",
    "pred_2A3=df[id1:id2+1]['reactivity_2A3_MaP'].to_numpy().reshape(reshape1,reshape2)\n",
    "#plot mutate and map\n",
    "fig = plt.figure()\n",
    "plt.subplot(121)\n",
    "plt.title(f'reactivity_DMS_MaP', fontsize=font_size)\n",
    "plt.imshow(pred_DMS,vmin=0,vmax=1, cmap='gray_r')\n",
    "plt.subplot(122)\n",
    "plt.title(f'reactivity_2A3_MaP', fontsize=font_size)\n",
    "plt.imshow(pred_2A3,vmin=0,vmax=1, cmap='gray_r')\n",
    "plt.tight_layout()\n",
    "plt.savefig(f\"plot.png\",dpi=500)\n",
    "plt.clf()\n",
    "plt.close()\n"
   ]
  },
  {
   "cell_type": "code",
   "execution_count": 11,
   "metadata": {},
   "outputs": [
    {
     "data": {
      "text/html": [
       "<div>\n",
       "<style scoped>\n",
       "    .dataframe tbody tr th:only-of-type {\n",
       "        vertical-align: middle;\n",
       "    }\n",
       "\n",
       "    .dataframe tbody tr th {\n",
       "        vertical-align: top;\n",
       "    }\n",
       "\n",
       "    .dataframe thead th {\n",
       "        text-align: right;\n",
       "    }\n",
       "</style>\n",
       "<table border=\"1\" class=\"dataframe\">\n",
       "  <thead>\n",
       "    <tr style=\"text-align: right;\">\n",
       "      <th></th>\n",
       "      <th>id</th>\n",
       "      <th>reactivity_DMS_MaP</th>\n",
       "      <th>reactivity_2A3_MaP</th>\n",
       "    </tr>\n",
       "  </thead>\n",
       "  <tbody>\n",
       "    <tr>\n",
       "      <th>0</th>\n",
       "      <td>0</td>\n",
       "      <td>0.016083</td>\n",
       "      <td>0.029724</td>\n",
       "    </tr>\n",
       "    <tr>\n",
       "      <th>1</th>\n",
       "      <td>1</td>\n",
       "      <td>0.000437</td>\n",
       "      <td>0.041595</td>\n",
       "    </tr>\n",
       "    <tr>\n",
       "      <th>2</th>\n",
       "      <td>2</td>\n",
       "      <td>0.000960</td>\n",
       "      <td>0.092957</td>\n",
       "    </tr>\n",
       "    <tr>\n",
       "      <th>3</th>\n",
       "      <td>3</td>\n",
       "      <td>0.876953</td>\n",
       "      <td>0.760742</td>\n",
       "    </tr>\n",
       "    <tr>\n",
       "      <th>4</th>\n",
       "      <td>4</td>\n",
       "      <td>0.995605</td>\n",
       "      <td>0.501465</td>\n",
       "    </tr>\n",
       "    <tr>\n",
       "      <th>...</th>\n",
       "      <td>...</td>\n",
       "      <td>...</td>\n",
       "      <td>...</td>\n",
       "    </tr>\n",
       "    <tr>\n",
       "      <th>269796666</th>\n",
       "      <td>269796666</td>\n",
       "      <td>0.203125</td>\n",
       "      <td>0.065125</td>\n",
       "    </tr>\n",
       "    <tr>\n",
       "      <th>269796667</th>\n",
       "      <td>269796667</td>\n",
       "      <td>0.241455</td>\n",
       "      <td>0.053101</td>\n",
       "    </tr>\n",
       "    <tr>\n",
       "      <th>269796668</th>\n",
       "      <td>269796668</td>\n",
       "      <td>0.209351</td>\n",
       "      <td>0.065491</td>\n",
       "    </tr>\n",
       "    <tr>\n",
       "      <th>269796669</th>\n",
       "      <td>269796669</td>\n",
       "      <td>0.272705</td>\n",
       "      <td>0.123047</td>\n",
       "    </tr>\n",
       "    <tr>\n",
       "      <th>269796670</th>\n",
       "      <td>269796670</td>\n",
       "      <td>0.249023</td>\n",
       "      <td>0.182129</td>\n",
       "    </tr>\n",
       "  </tbody>\n",
       "</table>\n",
       "<p>269796671 rows × 3 columns</p>\n",
       "</div>"
      ],
      "text/plain": [
       "                  id  reactivity_DMS_MaP  reactivity_2A3_MaP\n",
       "0                  0            0.016083            0.029724\n",
       "1                  1            0.000437            0.041595\n",
       "2                  2            0.000960            0.092957\n",
       "3                  3            0.876953            0.760742\n",
       "4                  4            0.995605            0.501465\n",
       "...              ...                 ...                 ...\n",
       "269796666  269796666            0.203125            0.065125\n",
       "269796667  269796667            0.241455            0.053101\n",
       "269796668  269796668            0.209351            0.065491\n",
       "269796669  269796669            0.272705            0.123047\n",
       "269796670  269796670            0.249023            0.182129\n",
       "\n",
       "[269796671 rows x 3 columns]"
      ]
     },
     "execution_count": 11,
     "metadata": {},
     "output_type": "execute_result"
    }
   ],
   "source": [
    "pd.read_parquet('exp_12_ft_exp_14_ft.parquet')"
   ]
  },
  {
   "cell_type": "code",
   "execution_count": 10,
   "metadata": {},
   "outputs": [
    {
     "data": {
      "text/html": [
       "<div>\n",
       "<style scoped>\n",
       "    .dataframe tbody tr th:only-of-type {\n",
       "        vertical-align: middle;\n",
       "    }\n",
       "\n",
       "    .dataframe tbody tr th {\n",
       "        vertical-align: top;\n",
       "    }\n",
       "\n",
       "    .dataframe thead th {\n",
       "        text-align: right;\n",
       "    }\n",
       "</style>\n",
       "<table border=\"1\" class=\"dataframe\">\n",
       "  <thead>\n",
       "    <tr style=\"text-align: right;\">\n",
       "      <th></th>\n",
       "      <th>id</th>\n",
       "      <th>reactivity_DMS_MaP</th>\n",
       "      <th>reactivity_2A3_MaP</th>\n",
       "    </tr>\n",
       "  </thead>\n",
       "  <tbody>\n",
       "    <tr>\n",
       "      <th>0</th>\n",
       "      <td>0</td>\n",
       "      <td>0.016052</td>\n",
       "      <td>0.029724</td>\n",
       "    </tr>\n",
       "    <tr>\n",
       "      <th>1</th>\n",
       "      <td>1</td>\n",
       "      <td>0.000444</td>\n",
       "      <td>0.041595</td>\n",
       "    </tr>\n",
       "    <tr>\n",
       "      <th>2</th>\n",
       "      <td>2</td>\n",
       "      <td>0.000968</td>\n",
       "      <td>0.093018</td>\n",
       "    </tr>\n",
       "    <tr>\n",
       "      <th>3</th>\n",
       "      <td>3</td>\n",
       "      <td>0.876953</td>\n",
       "      <td>0.760742</td>\n",
       "    </tr>\n",
       "    <tr>\n",
       "      <th>4</th>\n",
       "      <td>4</td>\n",
       "      <td>0.996094</td>\n",
       "      <td>0.501953</td>\n",
       "    </tr>\n",
       "    <tr>\n",
       "      <th>...</th>\n",
       "      <td>...</td>\n",
       "      <td>...</td>\n",
       "      <td>...</td>\n",
       "    </tr>\n",
       "    <tr>\n",
       "      <th>269796666</th>\n",
       "      <td>269796666</td>\n",
       "      <td>0.203125</td>\n",
       "      <td>0.065125</td>\n",
       "    </tr>\n",
       "    <tr>\n",
       "      <th>269796667</th>\n",
       "      <td>269796667</td>\n",
       "      <td>0.241455</td>\n",
       "      <td>0.053101</td>\n",
       "    </tr>\n",
       "    <tr>\n",
       "      <th>269796668</th>\n",
       "      <td>269796668</td>\n",
       "      <td>0.209351</td>\n",
       "      <td>0.065491</td>\n",
       "    </tr>\n",
       "    <tr>\n",
       "      <th>269796669</th>\n",
       "      <td>269796669</td>\n",
       "      <td>0.272705</td>\n",
       "      <td>0.123047</td>\n",
       "    </tr>\n",
       "    <tr>\n",
       "      <th>269796670</th>\n",
       "      <td>269796670</td>\n",
       "      <td>0.249023</td>\n",
       "      <td>0.182129</td>\n",
       "    </tr>\n",
       "  </tbody>\n",
       "</table>\n",
       "<p>269796671 rows × 3 columns</p>\n",
       "</div>"
      ],
      "text/plain": [
       "                  id  reactivity_DMS_MaP  reactivity_2A3_MaP\n",
       "0                  0            0.016052            0.029724\n",
       "1                  1            0.000444            0.041595\n",
       "2                  2            0.000968            0.093018\n",
       "3                  3            0.876953            0.760742\n",
       "4                  4            0.996094            0.501953\n",
       "...              ...                 ...                 ...\n",
       "269796666  269796666            0.203125            0.065125\n",
       "269796667  269796667            0.241455            0.053101\n",
       "269796668  269796668            0.209351            0.065491\n",
       "269796669  269796669            0.272705            0.123047\n",
       "269796670  269796670            0.249023            0.182129\n",
       "\n",
       "[269796671 rows x 3 columns]"
      ]
     },
     "execution_count": 10,
     "metadata": {},
     "output_type": "execute_result"
    }
   ],
   "source": [
    "pd.read_parquet('exp_12_ft_exp_14_ft_no_clip.parquet')"
   ]
  },
  {
   "cell_type": "code",
   "execution_count": null,
   "metadata": {},
   "outputs": [],
   "source": []
  }
 ],
 "metadata": {
  "kernelspec": {
   "display_name": "Python 3 (ipykernel)",
   "language": "python",
   "name": "python3"
  },
  "language_info": {
   "codemirror_mode": {
    "name": "ipython",
    "version": 3
   },
   "file_extension": ".py",
   "mimetype": "text/x-python",
   "name": "python",
   "nbconvert_exporter": "python",
   "pygments_lexer": "ipython3",
   "version": "3.10.12"
  }
 },
 "nbformat": 4,
 "nbformat_minor": 4
}
