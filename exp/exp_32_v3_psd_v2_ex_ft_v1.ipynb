{
 "cells": [
  {
   "cell_type": "code",
   "execution_count": 1,
   "id": "7593c524-0235-43f9-8e0c-d03b53c6457b",
   "metadata": {
    "tags": []
   },
   "outputs": [],
   "source": [
    "%load_ext autoreload\n",
    "%autoreload 2\n",
    "import sys\n",
    "sys.path.append('..')\n",
    "import os\n",
    "os.environ[\"CUDA_VISIBLE_DEVICES\"]=\"0\"\n",
    "os.environ[\"MKL_NUM_THREADS\"] = \"8\" \n",
    "os.environ[\"NUMEXPR_NUM_THREADS\"] = \"8\" \n",
    "os.environ[\"OMP_NUM_THREADS\"] = \"8\" "
   ]
  },
  {
   "cell_type": "code",
   "execution_count": 2,
   "id": "ed003110-5edc-4182-a7de-a20a46212479",
   "metadata": {
    "tags": []
   },
   "outputs": [],
   "source": [
    "import rnacomp\n",
    "import rnacomp.models\n",
    "from rnacomp.fastai_fit import *\n",
    "from rnacomp.dataset import LenMatchBatchSampler, DeviceDataLoader\n",
    "from rnacomp.utils import seed_everything, MAE, loss_laplace, LossDict, MAEDict\n",
    "import gc\n",
    "import wandb \n",
    "from fastai.callback.wandb import WandbCallback\n",
    "from fastxtend.vision.all import EMACallback"
   ]
  },
  {
   "cell_type": "code",
   "execution_count": 3,
   "id": "eab41fce-6005-4f74-bc43-7cc2bc3f87c3",
   "metadata": {
    "tags": []
   },
   "outputs": [],
   "source": [
    "class CFG:\n",
    "    path = Path(\"../data/\")\n",
    "    pathbb = Path(\"../data/Ribonanza_bpp_files\")\n",
    "    pathss = Path(\"../eda/train_ss_vienna_rna.parquet\")\n",
    "    split_id = Path('../eda/fold_split.csv')\n",
    "    path_extra = Path('../data/rmdb_data.v1.3.0.csv')\n",
    "    bs = 32\n",
    "    num_workers = 4\n",
    "    device = 'cuda'\n",
    "    seed = 2023\n",
    "    out = 'exp_32_v3_psd_v2_ex_ft_v1'\n",
    "    dataset_name = 'RNA_DatasetBaselineSplitssbppV6SAVEDwithFM'\n",
    "    dataset_external = 'RNA_DatasetEXV0'\n",
    "    sn_train = False\n",
    "\n",
    "    \n",
    "    model_name = 'RNA_ModelV25External'\n",
    "    model_kwargs = dict(dim=192 * 2,\n",
    "        depth=4,\n",
    "        head_size=32,\n",
    "        drop_pat_dropout=0.2,\n",
    "        dropout=0.2,\n",
    "        bpp_transfomer_depth = 6)\n",
    "\n",
    "    epoch = 9\n",
    "    lr = 4e-5\n",
    "    wd = 0.05\n",
    "    pct_start = 0.05\n",
    "    \n",
    "    md_wt = 'exp_32_v3_psd_v2_ex_ft/models/model.pth'\n",
    "    \n",
    "seed_everything(CFG.seed)\n",
    "os.makedirs(CFG.out, exist_ok=True)\n",
    "\n",
    "# wandb.init(\n",
    "#     # set the wandb project where this run will be logged\n",
    "#     project=\"my-awesome-project\",\n",
    "    \n",
    "#     # track hyperparameters and run metadata\n",
    "#     config={\n",
    "#     \"learning_rate\": 0.02,\n",
    "#     \"architecture\": \"CNN\",\n",
    "#     \"dataset\": \"CIFAR-100\",\n",
    "#     \"epochs\": 10,\n",
    "#     }\n",
    "# )"
   ]
  },
  {
   "cell_type": "code",
   "execution_count": null,
   "id": "e671399d-3988-47d6-bf0f-5a4096911147",
   "metadata": {
    "tags": []
   },
   "outputs": [],
   "source": []
  },
  {
   "cell_type": "code",
   "execution_count": 4,
   "id": "bee61bb4-c899-4a15-b2db-3ef0619aefc0",
   "metadata": {
    "tags": []
   },
   "outputs": [],
   "source": [
    "def class_to_dict(cls):\n",
    "    # Create a dictionary from the class attributes\n",
    "    return {key: value for key, value in cls.__dict__.items() if not key.startswith(\"__\") and not callable(value)}"
   ]
  },
  {
   "cell_type": "code",
   "execution_count": null,
   "id": "35f88211-12e3-408b-a9f2-cab30f03dfad",
   "metadata": {
    "tags": []
   },
   "outputs": [],
   "source": []
  },
  {
   "cell_type": "code",
   "execution_count": 5,
   "id": "43a4dbf3-a520-4969-8f41-6cc9d4e7334f",
   "metadata": {
    "tags": []
   },
   "outputs": [
    {
     "data": {
      "text/plain": [
       "62"
      ]
     },
     "execution_count": 5,
     "metadata": {},
     "output_type": "execute_result"
    }
   ],
   "source": [
    "\n",
    "\n",
    "\n",
    "split = pd.read_csv(CFG.split_id)\n",
    "df = pd.read_parquet(CFG.path/'train_corrected.parquet')\n",
    "df = pd.merge(df, split, on='sequence_id')\n",
    "#df = df.query(\"SN_filter==1\").reset_index(drop=True)\n",
    "df_train = df.query('is_train==True').reset_index(drop=True)\n",
    "df_valid = df.query('is_train==False').reset_index(drop=True)\n",
    "\n",
    "\n",
    "\n",
    "ds_train = torch.utils.data.ConcatDataset([getattr(rnacomp.dataset, CFG.dataset_name)(df_train, mode='train',sn_train=CFG.sn_train, Lmax=433), \n",
    "                                            getattr(rnacomp.dataset, CFG.dataset_external)(pd.read_csv(CFG.path_extra),\n",
    "                                                      mode='train',\n",
    "                                                      sn_train=CFG.sn_train, \n",
    "                                                      Lmax=433,\n",
    "                                                      repeat=4)])\n",
    "\n",
    "dl_train = DeviceDataLoader(torch.utils.data.DataLoader(ds_train, \n",
    "            batch_size=CFG.bs,\n",
    "            drop_last=True, \n",
    "            shuffle =True,\n",
    "            num_workers=CFG.num_workers,\n",
    "            persistent_workers=True), CFG.device)\n",
    "\n",
    "\n",
    "ds_val = getattr(rnacomp.dataset, CFG.dataset_name)(df_valid, mode='eval')\n",
    "dl_val= DeviceDataLoader(torch.utils.data.DataLoader(ds_val,  \n",
    "                                                     batch_size=CFG.bs, \n",
    "                                                       drop_last=False,\n",
    "                                                     num_workers=CFG.num_workers),\n",
    "                         CFG.device)\n",
    "\n",
    "\n",
    "data = DataLoaders(dl_train,dl_val)\n",
    "del split\n",
    "del df\n",
    "gc.collect()\n",
    "\n"
   ]
  },
  {
   "cell_type": "code",
   "execution_count": null,
   "id": "525c2718-4ef7-4b3d-ae04-846f323d72ad",
   "metadata": {
    "tags": []
   },
   "outputs": [
    {
     "data": {
      "text/html": [
       "\n",
       "<style>\n",
       "    /* Turns off some styling */\n",
       "    progress {\n",
       "        /* gets rid of default border in Firefox and Opera. */\n",
       "        border: none;\n",
       "        /* Needs to be in here for Safari polyfill so background images work as expected. */\n",
       "        background-size: auto;\n",
       "    }\n",
       "    progress:not([value]), progress:not([value])::-webkit-progress-bar {\n",
       "        background: repeating-linear-gradient(45deg, #7e7e7e, #7e7e7e 10px, #5c5c5c 10px, #5c5c5c 20px);\n",
       "    }\n",
       "    .progress-bar-interrupted, .progress-bar-interrupted::-webkit-progress-bar {\n",
       "        background: #F44336;\n",
       "    }\n",
       "</style>\n"
      ],
      "text/plain": [
       "<IPython.core.display.HTML object>"
      ]
     },
     "metadata": {},
     "output_type": "display_data"
    },
    {
     "data": {
      "text/html": [
       "\n",
       "    <div>\n",
       "      <progress value='7' class='' max='9' style='width:300px; height:20px; vertical-align: middle;'></progress>\n",
       "      77.78% [7/9 15:00:02&lt;4:17:09]\n",
       "    </div>\n",
       "    \n",
       "<table border=\"1\" class=\"dataframe\">\n",
       "  <thead>\n",
       "    <tr style=\"text-align: left;\">\n",
       "      <th>epoch</th>\n",
       "      <th>train_loss</th>\n",
       "      <th>valid_loss</th>\n",
       "      <th>mae_dict</th>\n",
       "      <th>time</th>\n",
       "    </tr>\n",
       "  </thead>\n",
       "  <tbody>\n",
       "    <tr>\n",
       "      <td>0</td>\n",
       "      <td>0.227326</td>\n",
       "      <td>0.116399</td>\n",
       "      <td>0.123770</td>\n",
       "      <td>2:08:31</td>\n",
       "    </tr>\n",
       "    <tr>\n",
       "      <td>1</td>\n",
       "      <td>0.223212</td>\n",
       "      <td>0.116512</td>\n",
       "      <td>0.123869</td>\n",
       "      <td>2:08:15</td>\n",
       "    </tr>\n",
       "    <tr>\n",
       "      <td>2</td>\n",
       "      <td>0.217893</td>\n",
       "      <td>0.116403</td>\n",
       "      <td>0.123766</td>\n",
       "      <td>2:08:32</td>\n",
       "    </tr>\n",
       "    <tr>\n",
       "      <td>3</td>\n",
       "      <td>0.218775</td>\n",
       "      <td>0.116368</td>\n",
       "      <td>0.123737</td>\n",
       "      <td>2:08:37</td>\n",
       "    </tr>\n",
       "    <tr>\n",
       "      <td>4</td>\n",
       "      <td>0.221657</td>\n",
       "      <td>0.116282</td>\n",
       "      <td>0.123631</td>\n",
       "      <td>2:08:47</td>\n",
       "    </tr>\n",
       "    <tr>\n",
       "      <td>5</td>\n",
       "      <td>0.215125</td>\n",
       "      <td>0.116245</td>\n",
       "      <td>0.123598</td>\n",
       "      <td>2:08:45</td>\n",
       "    </tr>\n",
       "    <tr>\n",
       "      <td>6</td>\n",
       "      <td>0.215681</td>\n",
       "      <td>0.116151</td>\n",
       "      <td>0.123498</td>\n",
       "      <td>2:08:26</td>\n",
       "    </tr>\n",
       "  </tbody>\n",
       "</table><p>\n",
       "\n",
       "    <div>\n",
       "      <progress value='11448' class='' max='28858' style='width:300px; height:20px; vertical-align: middle;'></progress>\n",
       "      39.67% [11448/28858 50:19&lt;1:16:31 0.2125]\n",
       "    </div>\n",
       "    "
      ],
      "text/plain": [
       "<IPython.core.display.HTML object>"
      ]
     },
     "metadata": {},
     "output_type": "display_data"
    },
    {
     "name": "stdout",
     "output_type": "stream",
     "text": [
      "Better model found at epoch 0 with mae_dict value: 0.12377019914104907.\n",
      "Better model found at epoch 2 with mae_dict value: 0.12376575286016037.\n",
      "Better model found at epoch 3 with mae_dict value: 0.12373651002618283.\n"
     ]
    },
    {
     "name": "stderr",
     "output_type": "stream",
     "text": [
      "IOPub message rate exceeded.\n",
      "The notebook server will temporarily stop sending output\n",
      "to the client in order to avoid crashing it.\n",
      "To change this limit, set the config variable\n",
      "`--NotebookApp.iopub_msg_rate_limit`.\n",
      "\n",
      "Current values:\n",
      "NotebookApp.iopub_msg_rate_limit=1000.0 (msgs/sec)\n",
      "NotebookApp.rate_limit_window=3.0 (secs)\n",
      "\n",
      "IOPub message rate exceeded.\n",
      "The notebook server will temporarily stop sending output\n",
      "to the client in order to avoid crashing it.\n",
      "To change this limit, set the config variable\n",
      "`--NotebookApp.iopub_msg_rate_limit`.\n",
      "\n",
      "Current values:\n",
      "NotebookApp.iopub_msg_rate_limit=1000.0 (msgs/sec)\n",
      "NotebookApp.rate_limit_window=3.0 (secs)\n",
      "\n"
     ]
    },
    {
     "name": "stdout",
     "output_type": "stream",
     "text": [
      "Better model found at epoch 5 with mae_dict value: 0.12359831842735733.\n"
     ]
    }
   ],
   "source": [
    "#the training was interepeted on epoch 3 \n",
    "#so i had to restart from scratch but loading weights from epoch 3\n",
    "learn = Learner(data,\n",
    "                getattr(rnacomp.models, CFG.model_name)(**CFG.model_kwargs).cuda(), \n",
    "                path = CFG.out, \n",
    "                loss_func=LossDict(),\n",
    "                cbs=[GradientClip(3.0),\n",
    "                    #WandbCallback(log_preds=False),\n",
    "                    CSVLogger(),\n",
    "                     EMACallback(replace_weights=True),\n",
    "                    SaveModelCallback(monitor='mae_dict',comp=np.less,at_end=True)],\n",
    "                metrics=[MAEDict()]).to_fp16() \n",
    "learn.model.load_state_dict(torch.load(CFG.md_wt), strict=False)\n",
    "learn.fit_one_cycle(CFG.epoch, lr_max=CFG.lr, wd=CFG.wd, pct_start=CFG.pct_start)\n",
    "wandb.finish()\n",
    "\n",
    "\n"
   ]
  },
  {
   "cell_type": "code",
   "execution_count": null,
   "id": "3585aebe-fdfe-4fe4-8ae8-0c530cc4a236",
   "metadata": {},
   "outputs": [],
   "source": [
    "# res = dict()\n",
    "# for l in df_valid[\"L\"].unique():\n",
    "#     ds_val = getattr(rnacomp.dataset, CFG.dataset_name)(df_valid.query(\"L==@l\").copy(), mode='eval')\n",
    "#     ds_val_len = getattr(rnacomp.dataset, CFG.dataset_name)(df_valid.query(\"L==@l\").copy(), mode='eval', mask_only=True)\n",
    "#     sampler_val = torch.utils.data.SequentialSampler(ds_val_len)\n",
    "#     len_sampler_val = LenMatchBatchSampler(sampler_val, batch_size=CFG.bs, \n",
    "#                    drop_last=False)\n",
    "#     dl_val= DeviceDataLoader(torch.utils.data.DataLoader(ds_val, \n",
    "#                    batch_sampler=len_sampler_val, num_workers=CFG.num_workers), CFG.device)\n",
    "\n",
    "#     data = DataLoaders(dl_val,dl_val)\n",
    "#     learn = Learner(data,\n",
    "#                     getattr(rnacomp.models, CFG.model_name)(**CFG.model_kwargs).cuda(),\n",
    "#                     path = CFG.out, \n",
    "#                     loss_func=loss_laplace,\n",
    "#                     metrics=[MAE()]).to_fp16() \n",
    "#     learn.load('model')\n",
    "#     learn.eval()\n",
    "#     loss_, score_ = learn.validate()\n",
    "#     res[l]= score_\n",
    "\n",
    "# res = pd.DataFrame(pd.Series(res)).reset_index()\n",
    "# res.columns = ['L', 'mae']\n",
    "# res.sort_values(by=\"L\")"
   ]
  },
  {
   "cell_type": "code",
   "execution_count": null,
   "id": "cf0465d8-164a-467b-9b46-8376f250e468",
   "metadata": {
    "tags": []
   },
   "outputs": [],
   "source": [
    "res"
   ]
  },
  {
   "cell_type": "code",
   "execution_count": null,
   "id": "25c96894-8952-46b3-a4bf-835182776df2",
   "metadata": {},
   "outputs": [],
   "source": []
  },
  {
   "cell_type": "code",
   "execution_count": null,
   "id": "b51eb652",
   "metadata": {},
   "outputs": [],
   "source": []
  }
 ],
 "metadata": {
  "kernelspec": {
   "display_name": "Python 3 (ipykernel)",
   "language": "python",
   "name": "python3"
  },
  "language_info": {
   "codemirror_mode": {
    "name": "ipython",
    "version": 3
   },
   "file_extension": ".py",
   "mimetype": "text/x-python",
   "name": "python",
   "nbconvert_exporter": "python",
   "pygments_lexer": "ipython3",
   "version": "3.10.12"
  }
 },
 "nbformat": 4,
 "nbformat_minor": 5
}
