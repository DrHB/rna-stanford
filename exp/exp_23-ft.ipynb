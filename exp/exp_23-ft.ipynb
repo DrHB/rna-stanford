{
 "cells": [
  {
   "cell_type": "code",
   "execution_count": 1,
   "id": "7593c524-0235-43f9-8e0c-d03b53c6457b",
   "metadata": {
    "tags": []
   },
   "outputs": [],
   "source": [
    "%load_ext autoreload\n",
    "%autoreload 2\n",
    "import sys\n",
    "sys.path.append('..')\n",
    "import os\n",
    "os.environ[\"CUDA_VISIBLE_DEVICES\"]=\"0\""
   ]
  },
  {
   "cell_type": "code",
   "execution_count": 2,
   "id": "ed003110-5edc-4182-a7de-a20a46212479",
   "metadata": {
    "tags": []
   },
   "outputs": [
    {
     "name": "stderr",
     "output_type": "stream",
     "text": [
      "/opt/conda/lib/python3.10/site-packages/scipy/__init__.py:146: UserWarning: A NumPy version >=1.16.5 and <1.23.0 is required for this version of SciPy (detected version 1.23.5\n",
      "  warnings.warn(f\"A NumPy version >={np_minversion} and <{np_maxversion}\"\n",
      "/opt/conda/lib/python3.10/site-packages/tensorflow_io/python/ops/__init__.py:98: UserWarning: unable to load libtensorflow_io_plugins.so: unable to open file: libtensorflow_io_plugins.so, from paths: ['/opt/conda/lib/python3.10/site-packages/tensorflow_io/python/ops/libtensorflow_io_plugins.so']\n",
      "caused by: ['/opt/conda/lib/python3.10/site-packages/tensorflow_io/python/ops/libtensorflow_io_plugins.so: undefined symbol: _ZN3tsl6StatusC1EN10tensorflow5error4CodeESt17basic_string_viewIcSt11char_traitsIcEENS_14SourceLocationE']\n",
      "  warnings.warn(f\"unable to load libtensorflow_io_plugins.so: {e}\")\n",
      "/opt/conda/lib/python3.10/site-packages/tensorflow_io/python/ops/__init__.py:104: UserWarning: file system plugins are not loaded: unable to open file: libtensorflow_io.so, from paths: ['/opt/conda/lib/python3.10/site-packages/tensorflow_io/python/ops/libtensorflow_io.so']\n",
      "caused by: ['/opt/conda/lib/python3.10/site-packages/tensorflow_io/python/ops/libtensorflow_io.so: undefined symbol: _ZTVN10tensorflow13GcsFileSystemE']\n",
      "  warnings.warn(f\"file system plugins are not loaded: {e}\")\n"
     ]
    }
   ],
   "source": [
    "import rnacomp\n",
    "import rnacomp.models\n",
    "from rnacomp.fastai_fit import *\n",
    "from rnacomp.dataset import LenMatchBatchSampler, DeviceDataLoader\n",
    "from rnacomp.utils import seed_everything, MAE, loss_laplace\n",
    "import gc\n",
    "import wandb \n",
    "from fastai.callback.wandb import WandbCallback\n",
    "from fastxtend.vision.all import EMACallback"
   ]
  },
  {
   "cell_type": "code",
   "execution_count": 3,
   "id": "eab41fce-6005-4f74-bc43-7cc2bc3f87c3",
   "metadata": {
    "tags": []
   },
   "outputs": [],
   "source": [
    "class CFG:\n",
    "    path = Path(\"../data/\")\n",
    "    pathbb = Path(\"../data/Ribonanza_bpp_files\")\n",
    "    pathss = Path(\"../eda/train_ss_vienna_rna.parquet\")\n",
    "    split_id = Path('../eda/fold_split.csv')\n",
    "    bs = 64\n",
    "    num_workers = 12\n",
    "    device = 'cuda'\n",
    "    seed = 2023\n",
    "    out = 'exp_23_ft'\n",
    "    dataset_name = 'RNA_DatasetBaselineSplitssbppV2'\n",
    "    sn_train = True\n",
    "    \n",
    "    model_name = 'RNA_ModelV17'\n",
    "    model_kwargs = {\"dim\" : 192 * 2, \n",
    "                    \"depth\": 12,\n",
    "                    \"layer_dropout\": 0.25,\n",
    "                    \"attn_dropout\": 0.25,\n",
    "                    \"drop_pat_dropout\": 0.25}\n",
    "\n",
    "   \n",
    "    epoch = 24\n",
    "    lr = 5e-6\n",
    "    wd = 0.05\n",
    "    pct_start = 0.01\n",
    "    \n",
    "    md_wt = 'exp_23/models/model.pth'\n",
    "    \n",
    "\n",
    "    \n",
    "seed_everything(CFG.seed)\n",
    "os.makedirs(CFG.out, exist_ok=True)\n",
    "\n",
    "# wandb.init(\n",
    "#     # set the wandb project where this run will be logged\n",
    "#     project=\"my-awesome-project\",\n",
    "    \n",
    "#     # track hyperparameters and run metadata\n",
    "#     config={\n",
    "#     \"learning_rate\": 0.02,\n",
    "#     \"architecture\": \"CNN\",\n",
    "#     \"dataset\": \"CIFAR-100\",\n",
    "#     \"epochs\": 10,\n",
    "#     }\n",
    "# )"
   ]
  },
  {
   "cell_type": "code",
   "execution_count": 4,
   "id": "bee61bb4-c899-4a15-b2db-3ef0619aefc0",
   "metadata": {
    "tags": []
   },
   "outputs": [],
   "source": [
    "def class_to_dict(cls):\n",
    "    # Create a dictionary from the class attributes\n",
    "    return {key: value for key, value in cls.__dict__.items() if not key.startswith(\"__\") and not callable(value)}"
   ]
  },
  {
   "cell_type": "code",
   "execution_count": null,
   "id": "35f88211-12e3-408b-a9f2-cab30f03dfad",
   "metadata": {
    "tags": []
   },
   "outputs": [],
   "source": []
  },
  {
   "cell_type": "code",
   "execution_count": 5,
   "id": "43a4dbf3-a520-4969-8f41-6cc9d4e7334f",
   "metadata": {
    "tags": []
   },
   "outputs": [
    {
     "data": {
      "text/plain": [
       "16"
      ]
     },
     "execution_count": 5,
     "metadata": {},
     "output_type": "execute_result"
    }
   ],
   "source": [
    "fns = list(CFG.pathbb.rglob(\"*.txt\"))\n",
    "bpp_df = pd.DataFrame({\"bpp\": fns})\n",
    "bpp_df['sequence_id'] = bpp_df['bpp'].apply(lambda x: x.stem)\n",
    "bpp_df.drop_duplicates(subset = 'sequence_id', inplace=True)\n",
    "ss = pd.read_parquet(CFG.pathss)[[\"sequence_id\", \"ss_full\"]]\n",
    "df = pd.read_parquet(CFG.path/'train_data.parquet')\n",
    "split = pd.read_csv(CFG.split_id)\n",
    "df = pd.merge(df, split, on='sequence_id')\n",
    "df = pd.merge(df, bpp_df, on='sequence_id')\n",
    "df = pd.merge(df, ss,  on='sequence_id')\n",
    "#df = df.query(\"SN_filter==1\").reset_index(drop=True)\n",
    "df_train = df.query('is_train==True').reset_index(drop=True)\n",
    "df_valid = df.query('is_train==False').reset_index(drop=True)\n",
    "\n",
    "\n",
    "ds_train = getattr(rnacomp.dataset, CFG.dataset_name)(df_train, mode='train',sn_train=CFG.sn_train)\n",
    "ds_train_len = getattr(rnacomp.dataset, CFG.dataset_name)(df_train, mode='train', mask_only=True,sn_train=CFG.sn_train)\n",
    "sampler_train = torch.utils.data.RandomSampler(ds_train_len)\n",
    "len_sampler_train = LenMatchBatchSampler(sampler_train, batch_size=CFG.bs,\n",
    "            drop_last=True)\n",
    "dl_train = DeviceDataLoader(torch.utils.data.DataLoader(ds_train, \n",
    "            batch_sampler=len_sampler_train, num_workers=CFG.num_workers,\n",
    "            persistent_workers=True), CFG.device)\n",
    "\n",
    "\n",
    "ds_val = getattr(rnacomp.dataset, CFG.dataset_name)(df_valid, mode='eval')\n",
    "ds_val_len = getattr(rnacomp.dataset, CFG.dataset_name)(df_valid, mode='eval', mask_only=True)\n",
    "sampler_val = torch.utils.data.SequentialSampler(ds_val_len)\n",
    "len_sampler_val = LenMatchBatchSampler(sampler_val, batch_size=CFG.bs, \n",
    "               drop_last=False)\n",
    "dl_val= DeviceDataLoader(torch.utils.data.DataLoader(ds_val, \n",
    "               batch_sampler=len_sampler_val, num_workers=CFG.num_workers), CFG.device)\n",
    "\n",
    "data = DataLoaders(dl_train,dl_val)\n",
    "del bpp_df\n",
    "del ss\n",
    "del split\n",
    "del df\n",
    "gc.collect()\n"
   ]
  },
  {
   "cell_type": "code",
   "execution_count": 6,
   "id": "525c2718-4ef7-4b3d-ae04-846f323d72ad",
   "metadata": {
    "tags": []
   },
   "outputs": [
    {
     "name": "stdout",
     "output_type": "stream",
     "text": [
      "Non-A100 GPU detected, using math or mem efficient attention if input tensor is on cuda\n"
     ]
    },
    {
     "data": {
      "text/html": [
       "\n",
       "<style>\n",
       "    /* Turns off some styling */\n",
       "    progress {\n",
       "        /* gets rid of default border in Firefox and Opera. */\n",
       "        border: none;\n",
       "        /* Needs to be in here for Safari polyfill so background images work as expected. */\n",
       "        background-size: auto;\n",
       "    }\n",
       "    progress:not([value]), progress:not([value])::-webkit-progress-bar {\n",
       "        background: repeating-linear-gradient(45deg, #7e7e7e, #7e7e7e 10px, #5c5c5c 10px, #5c5c5c 20px);\n",
       "    }\n",
       "    .progress-bar-interrupted, .progress-bar-interrupted::-webkit-progress-bar {\n",
       "        background: #F44336;\n",
       "    }\n",
       "</style>\n"
      ],
      "text/plain": [
       "<IPython.core.display.HTML object>"
      ]
     },
     "metadata": {},
     "output_type": "display_data"
    },
    {
     "data": {
      "text/html": [
       "<table border=\"1\" class=\"dataframe\">\n",
       "  <thead>\n",
       "    <tr style=\"text-align: left;\">\n",
       "      <th>epoch</th>\n",
       "      <th>train_loss</th>\n",
       "      <th>valid_loss</th>\n",
       "      <th>mae</th>\n",
       "      <th>time</th>\n",
       "    </tr>\n",
       "  </thead>\n",
       "  <tbody>\n",
       "    <tr>\n",
       "      <td>0</td>\n",
       "      <td>0.109232</td>\n",
       "      <td>0.118048</td>\n",
       "      <td>0.127308</td>\n",
       "      <td>07:13</td>\n",
       "    </tr>\n",
       "    <tr>\n",
       "      <td>1</td>\n",
       "      <td>0.108741</td>\n",
       "      <td>0.118033</td>\n",
       "      <td>0.127289</td>\n",
       "      <td>07:09</td>\n",
       "    </tr>\n",
       "    <tr>\n",
       "      <td>2</td>\n",
       "      <td>0.108405</td>\n",
       "      <td>0.118026</td>\n",
       "      <td>0.127282</td>\n",
       "      <td>07:09</td>\n",
       "    </tr>\n",
       "    <tr>\n",
       "      <td>3</td>\n",
       "      <td>0.108883</td>\n",
       "      <td>0.118026</td>\n",
       "      <td>0.127285</td>\n",
       "      <td>07:10</td>\n",
       "    </tr>\n",
       "    <tr>\n",
       "      <td>4</td>\n",
       "      <td>0.107623</td>\n",
       "      <td>0.118015</td>\n",
       "      <td>0.127272</td>\n",
       "      <td>07:10</td>\n",
       "    </tr>\n",
       "    <tr>\n",
       "      <td>5</td>\n",
       "      <td>0.108783</td>\n",
       "      <td>0.118001</td>\n",
       "      <td>0.127255</td>\n",
       "      <td>07:13</td>\n",
       "    </tr>\n",
       "    <tr>\n",
       "      <td>6</td>\n",
       "      <td>0.108041</td>\n",
       "      <td>0.118000</td>\n",
       "      <td>0.127255</td>\n",
       "      <td>07:12</td>\n",
       "    </tr>\n",
       "    <tr>\n",
       "      <td>7</td>\n",
       "      <td>0.107902</td>\n",
       "      <td>0.117990</td>\n",
       "      <td>0.127241</td>\n",
       "      <td>07:12</td>\n",
       "    </tr>\n",
       "    <tr>\n",
       "      <td>8</td>\n",
       "      <td>0.108482</td>\n",
       "      <td>0.117988</td>\n",
       "      <td>0.127242</td>\n",
       "      <td>07:13</td>\n",
       "    </tr>\n",
       "    <tr>\n",
       "      <td>9</td>\n",
       "      <td>0.108198</td>\n",
       "      <td>0.117975</td>\n",
       "      <td>0.127225</td>\n",
       "      <td>07:15</td>\n",
       "    </tr>\n",
       "    <tr>\n",
       "      <td>10</td>\n",
       "      <td>0.108926</td>\n",
       "      <td>0.117972</td>\n",
       "      <td>0.127223</td>\n",
       "      <td>07:12</td>\n",
       "    </tr>\n",
       "    <tr>\n",
       "      <td>11</td>\n",
       "      <td>0.108285</td>\n",
       "      <td>0.117969</td>\n",
       "      <td>0.127220</td>\n",
       "      <td>07:11</td>\n",
       "    </tr>\n",
       "    <tr>\n",
       "      <td>12</td>\n",
       "      <td>0.108218</td>\n",
       "      <td>0.117963</td>\n",
       "      <td>0.127211</td>\n",
       "      <td>07:15</td>\n",
       "    </tr>\n",
       "    <tr>\n",
       "      <td>13</td>\n",
       "      <td>0.108732</td>\n",
       "      <td>0.117964</td>\n",
       "      <td>0.127214</td>\n",
       "      <td>07:15</td>\n",
       "    </tr>\n",
       "    <tr>\n",
       "      <td>14</td>\n",
       "      <td>0.107023</td>\n",
       "      <td>0.117963</td>\n",
       "      <td>0.127214</td>\n",
       "      <td>07:13</td>\n",
       "    </tr>\n",
       "    <tr>\n",
       "      <td>15</td>\n",
       "      <td>0.107531</td>\n",
       "      <td>0.117964</td>\n",
       "      <td>0.127216</td>\n",
       "      <td>07:13</td>\n",
       "    </tr>\n",
       "    <tr>\n",
       "      <td>16</td>\n",
       "      <td>0.109032</td>\n",
       "      <td>0.117968</td>\n",
       "      <td>0.127221</td>\n",
       "      <td>07:13</td>\n",
       "    </tr>\n",
       "    <tr>\n",
       "      <td>17</td>\n",
       "      <td>0.107898</td>\n",
       "      <td>0.117958</td>\n",
       "      <td>0.127207</td>\n",
       "      <td>07:12</td>\n",
       "    </tr>\n",
       "    <tr>\n",
       "      <td>18</td>\n",
       "      <td>0.108866</td>\n",
       "      <td>0.117959</td>\n",
       "      <td>0.127211</td>\n",
       "      <td>07:13</td>\n",
       "    </tr>\n",
       "    <tr>\n",
       "      <td>19</td>\n",
       "      <td>0.107292</td>\n",
       "      <td>0.117956</td>\n",
       "      <td>0.127206</td>\n",
       "      <td>07:13</td>\n",
       "    </tr>\n",
       "    <tr>\n",
       "      <td>20</td>\n",
       "      <td>0.107836</td>\n",
       "      <td>0.117953</td>\n",
       "      <td>0.127201</td>\n",
       "      <td>07:13</td>\n",
       "    </tr>\n",
       "    <tr>\n",
       "      <td>21</td>\n",
       "      <td>0.107004</td>\n",
       "      <td>0.117959</td>\n",
       "      <td>0.127210</td>\n",
       "      <td>07:12</td>\n",
       "    </tr>\n",
       "    <tr>\n",
       "      <td>22</td>\n",
       "      <td>0.108232</td>\n",
       "      <td>0.117958</td>\n",
       "      <td>0.127209</td>\n",
       "      <td>07:12</td>\n",
       "    </tr>\n",
       "    <tr>\n",
       "      <td>23</td>\n",
       "      <td>0.107746</td>\n",
       "      <td>0.117956</td>\n",
       "      <td>0.127207</td>\n",
       "      <td>07:13</td>\n",
       "    </tr>\n",
       "  </tbody>\n",
       "</table>"
      ],
      "text/plain": [
       "<IPython.core.display.HTML object>"
      ]
     },
     "metadata": {},
     "output_type": "display_data"
    },
    {
     "name": "stdout",
     "output_type": "stream",
     "text": [
      "Better model found at epoch 0 with mae value: 0.12730837320654353.\n",
      "Better model found at epoch 1 with mae value: 0.12728916400830198.\n",
      "Better model found at epoch 2 with mae value: 0.12728171495221877.\n"
     ]
    },
    {
     "name": "stderr",
     "output_type": "stream",
     "text": [
      "IOPub message rate exceeded.\n",
      "The Jupyter server will temporarily stop sending output\n",
      "to the client in order to avoid crashing it.\n",
      "To change this limit, set the config variable\n",
      "`--ServerApp.iopub_msg_rate_limit`.\n",
      "\n",
      "Current values:\n",
      "ServerApp.iopub_msg_rate_limit=1000.0 (msgs/sec)\n",
      "ServerApp.rate_limit_window=3.0 (secs)\n",
      "\n"
     ]
    },
    {
     "name": "stdout",
     "output_type": "stream",
     "text": [
      "Better model found at epoch 5 with mae value: 0.12725451948757546.\n",
      "Better model found at epoch 7 with mae value: 0.1272414841796674.\n",
      "Better model found at epoch 9 with mae value: 0.12722492086060372.\n",
      "Better model found at epoch 10 with mae value: 0.12722264743855238.\n"
     ]
    },
    {
     "name": "stderr",
     "output_type": "stream",
     "text": [
      "IOPub message rate exceeded.\n",
      "The Jupyter server will temporarily stop sending output\n",
      "to the client in order to avoid crashing it.\n",
      "To change this limit, set the config variable\n",
      "`--ServerApp.iopub_msg_rate_limit`.\n",
      "\n",
      "Current values:\n",
      "ServerApp.iopub_msg_rate_limit=1000.0 (msgs/sec)\n",
      "ServerApp.rate_limit_window=3.0 (secs)\n",
      "\n"
     ]
    },
    {
     "name": "stdout",
     "output_type": "stream",
     "text": [
      "Better model found at epoch 12 with mae value: 0.12721065764297637.\n",
      "Better model found at epoch 17 with mae value: 0.12720706608704746.\n",
      "Better model found at epoch 19 with mae value: 0.1272062741507397.\n",
      "Better model found at epoch 20 with mae value: 0.12720142707394455.\n"
     ]
    }
   ],
   "source": [
    "learn = Learner(data,\n",
    "                getattr(rnacomp.models, CFG.model_name)(**CFG.model_kwargs).cuda(), \n",
    "                path = CFG.out, \n",
    "                loss_func=loss_laplace,\n",
    "                cbs=[GradientClip(3.0),\n",
    "                    EMACallback(),\n",
    "                    CSVLogger(),\n",
    "                    SaveModelCallback(monitor='mae',comp=np.less,at_end=True)],\n",
    "                metrics=[MAE()]).to_fp16() \n",
    "learn.model.load_state_dict(torch.load(CFG.md_wt))\n",
    "#learn.load('model')\n",
    "learn.fit_one_cycle(CFG.epoch, lr_max=CFG.lr, wd=CFG.wd, pct_start=CFG.pct_start)"
   ]
  },
  {
   "cell_type": "code",
   "execution_count": 6,
   "id": "3585aebe-fdfe-4fe4-8ae8-0c530cc4a236",
   "metadata": {},
   "outputs": [
    {
     "name": "stdout",
     "output_type": "stream",
     "text": [
      "Non-A100 GPU detected, using math or mem efficient attention if input tensor is on cuda\n"
     ]
    },
    {
     "name": "stderr",
     "output_type": "stream",
     "text": [
      "/opt/conda/lib/python3.10/site-packages/fastai/learner.py:59: UserWarning: Saved filed doesn't contain an optimizer state.\n",
      "  elif with_opt: warn(\"Saved filed doesn't contain an optimizer state.\")\n"
     ]
    },
    {
     "data": {
      "text/html": [
       "\n",
       "<style>\n",
       "    /* Turns off some styling */\n",
       "    progress {\n",
       "        /* gets rid of default border in Firefox and Opera. */\n",
       "        border: none;\n",
       "        /* Needs to be in here for Safari polyfill so background images work as expected. */\n",
       "        background-size: auto;\n",
       "    }\n",
       "    progress:not([value]), progress:not([value])::-webkit-progress-bar {\n",
       "        background: repeating-linear-gradient(45deg, #7e7e7e, #7e7e7e 10px, #5c5c5c 10px, #5c5c5c 20px);\n",
       "    }\n",
       "    .progress-bar-interrupted, .progress-bar-interrupted::-webkit-progress-bar {\n",
       "        background: #F44336;\n",
       "    }\n",
       "</style>\n"
      ],
      "text/plain": [
       "<IPython.core.display.HTML object>"
      ]
     },
     "metadata": {},
     "output_type": "display_data"
    },
    {
     "data": {
      "text/html": [],
      "text/plain": [
       "<IPython.core.display.HTML object>"
      ]
     },
     "metadata": {},
     "output_type": "display_data"
    },
    {
     "name": "stderr",
     "output_type": "stream",
     "text": [
      "/opt/conda/lib/python3.10/site-packages/fastai/learner.py:59: UserWarning: Saved filed doesn't contain an optimizer state.\n",
      "  elif with_opt: warn(\"Saved filed doesn't contain an optimizer state.\")\n"
     ]
    },
    {
     "data": {
      "text/html": [
       "\n",
       "<style>\n",
       "    /* Turns off some styling */\n",
       "    progress {\n",
       "        /* gets rid of default border in Firefox and Opera. */\n",
       "        border: none;\n",
       "        /* Needs to be in here for Safari polyfill so background images work as expected. */\n",
       "        background-size: auto;\n",
       "    }\n",
       "    progress:not([value]), progress:not([value])::-webkit-progress-bar {\n",
       "        background: repeating-linear-gradient(45deg, #7e7e7e, #7e7e7e 10px, #5c5c5c 10px, #5c5c5c 20px);\n",
       "    }\n",
       "    .progress-bar-interrupted, .progress-bar-interrupted::-webkit-progress-bar {\n",
       "        background: #F44336;\n",
       "    }\n",
       "</style>\n"
      ],
      "text/plain": [
       "<IPython.core.display.HTML object>"
      ]
     },
     "metadata": {},
     "output_type": "display_data"
    },
    {
     "data": {
      "text/html": [],
      "text/plain": [
       "<IPython.core.display.HTML object>"
      ]
     },
     "metadata": {},
     "output_type": "display_data"
    },
    {
     "name": "stderr",
     "output_type": "stream",
     "text": [
      "/opt/conda/lib/python3.10/site-packages/fastai/learner.py:59: UserWarning: Saved filed doesn't contain an optimizer state.\n",
      "  elif with_opt: warn(\"Saved filed doesn't contain an optimizer state.\")\n"
     ]
    },
    {
     "data": {
      "text/html": [
       "\n",
       "<style>\n",
       "    /* Turns off some styling */\n",
       "    progress {\n",
       "        /* gets rid of default border in Firefox and Opera. */\n",
       "        border: none;\n",
       "        /* Needs to be in here for Safari polyfill so background images work as expected. */\n",
       "        background-size: auto;\n",
       "    }\n",
       "    progress:not([value]), progress:not([value])::-webkit-progress-bar {\n",
       "        background: repeating-linear-gradient(45deg, #7e7e7e, #7e7e7e 10px, #5c5c5c 10px, #5c5c5c 20px);\n",
       "    }\n",
       "    .progress-bar-interrupted, .progress-bar-interrupted::-webkit-progress-bar {\n",
       "        background: #F44336;\n",
       "    }\n",
       "</style>\n"
      ],
      "text/plain": [
       "<IPython.core.display.HTML object>"
      ]
     },
     "metadata": {},
     "output_type": "display_data"
    },
    {
     "data": {
      "text/html": [],
      "text/plain": [
       "<IPython.core.display.HTML object>"
      ]
     },
     "metadata": {},
     "output_type": "display_data"
    },
    {
     "name": "stderr",
     "output_type": "stream",
     "text": [
      "/opt/conda/lib/python3.10/site-packages/fastai/learner.py:59: UserWarning: Saved filed doesn't contain an optimizer state.\n",
      "  elif with_opt: warn(\"Saved filed doesn't contain an optimizer state.\")\n"
     ]
    },
    {
     "data": {
      "text/html": [
       "\n",
       "<style>\n",
       "    /* Turns off some styling */\n",
       "    progress {\n",
       "        /* gets rid of default border in Firefox and Opera. */\n",
       "        border: none;\n",
       "        /* Needs to be in here for Safari polyfill so background images work as expected. */\n",
       "        background-size: auto;\n",
       "    }\n",
       "    progress:not([value]), progress:not([value])::-webkit-progress-bar {\n",
       "        background: repeating-linear-gradient(45deg, #7e7e7e, #7e7e7e 10px, #5c5c5c 10px, #5c5c5c 20px);\n",
       "    }\n",
       "    .progress-bar-interrupted, .progress-bar-interrupted::-webkit-progress-bar {\n",
       "        background: #F44336;\n",
       "    }\n",
       "</style>\n"
      ],
      "text/plain": [
       "<IPython.core.display.HTML object>"
      ]
     },
     "metadata": {},
     "output_type": "display_data"
    },
    {
     "data": {
      "text/html": [],
      "text/plain": [
       "<IPython.core.display.HTML object>"
      ]
     },
     "metadata": {},
     "output_type": "display_data"
    },
    {
     "name": "stderr",
     "output_type": "stream",
     "text": [
      "/opt/conda/lib/python3.10/site-packages/fastai/learner.py:59: UserWarning: Saved filed doesn't contain an optimizer state.\n",
      "  elif with_opt: warn(\"Saved filed doesn't contain an optimizer state.\")\n"
     ]
    },
    {
     "data": {
      "text/html": [
       "\n",
       "<style>\n",
       "    /* Turns off some styling */\n",
       "    progress {\n",
       "        /* gets rid of default border in Firefox and Opera. */\n",
       "        border: none;\n",
       "        /* Needs to be in here for Safari polyfill so background images work as expected. */\n",
       "        background-size: auto;\n",
       "    }\n",
       "    progress:not([value]), progress:not([value])::-webkit-progress-bar {\n",
       "        background: repeating-linear-gradient(45deg, #7e7e7e, #7e7e7e 10px, #5c5c5c 10px, #5c5c5c 20px);\n",
       "    }\n",
       "    .progress-bar-interrupted, .progress-bar-interrupted::-webkit-progress-bar {\n",
       "        background: #F44336;\n",
       "    }\n",
       "</style>\n"
      ],
      "text/plain": [
       "<IPython.core.display.HTML object>"
      ]
     },
     "metadata": {},
     "output_type": "display_data"
    },
    {
     "data": {
      "text/html": [],
      "text/plain": [
       "<IPython.core.display.HTML object>"
      ]
     },
     "metadata": {},
     "output_type": "display_data"
    },
    {
     "data": {
      "text/html": [
       "<div>\n",
       "<style scoped>\n",
       "    .dataframe tbody tr th:only-of-type {\n",
       "        vertical-align: middle;\n",
       "    }\n",
       "\n",
       "    .dataframe tbody tr th {\n",
       "        vertical-align: top;\n",
       "    }\n",
       "\n",
       "    .dataframe thead th {\n",
       "        text-align: right;\n",
       "    }\n",
       "</style>\n",
       "<table border=\"1\" class=\"dataframe\">\n",
       "  <thead>\n",
       "    <tr style=\"text-align: right;\">\n",
       "      <th></th>\n",
       "      <th>L</th>\n",
       "      <th>mae</th>\n",
       "    </tr>\n",
       "  </thead>\n",
       "  <tbody>\n",
       "    <tr>\n",
       "      <th>2</th>\n",
       "      <td>115</td>\n",
       "      <td>0.095432</td>\n",
       "    </tr>\n",
       "    <tr>\n",
       "      <th>3</th>\n",
       "      <td>155</td>\n",
       "      <td>0.107040</td>\n",
       "    </tr>\n",
       "    <tr>\n",
       "      <th>0</th>\n",
       "      <td>170</td>\n",
       "      <td>0.157793</td>\n",
       "    </tr>\n",
       "    <tr>\n",
       "      <th>1</th>\n",
       "      <td>177</td>\n",
       "      <td>0.127913</td>\n",
       "    </tr>\n",
       "    <tr>\n",
       "      <th>4</th>\n",
       "      <td>206</td>\n",
       "      <td>0.093899</td>\n",
       "    </tr>\n",
       "  </tbody>\n",
       "</table>\n",
       "</div>"
      ],
      "text/plain": [
       "     L       mae\n",
       "2  115  0.095432\n",
       "3  155  0.107040\n",
       "0  170  0.157793\n",
       "1  177  0.127913\n",
       "4  206  0.093899"
      ]
     },
     "execution_count": 6,
     "metadata": {},
     "output_type": "execute_result"
    }
   ],
   "source": [
    "res = dict()\n",
    "for l in df_valid[\"L\"].unique():\n",
    "    ds_val = getattr(rnacomp.dataset, CFG.dataset_name)(df_valid.query(\"L==@l\").copy(), mode='eval')\n",
    "    ds_val_len = getattr(rnacomp.dataset, CFG.dataset_name)(df_valid.query(\"L==@l\").copy(), mode='eval', mask_only=True)\n",
    "    sampler_val = torch.utils.data.SequentialSampler(ds_val_len)\n",
    "    len_sampler_val = LenMatchBatchSampler(sampler_val, batch_size=CFG.bs, \n",
    "                   drop_last=False)\n",
    "    dl_val= DeviceDataLoader(torch.utils.data.DataLoader(ds_val, \n",
    "                   batch_sampler=len_sampler_val, num_workers=CFG.num_workers), CFG.device)\n",
    "\n",
    "    data = DataLoaders(dl_val,dl_val)\n",
    "    learn = Learner(data,\n",
    "                    getattr(rnacomp.models, CFG.model_name)(**CFG.model_kwargs).cuda(), \n",
    "                    path = CFG.out, \n",
    "                    loss_func=loss_laplace,\n",
    "                    metrics=[MAE()]).to_fp16() \n",
    "    learn.load('model')\n",
    "    learn.eval()\n",
    "    loss_, score_ = learn.validate()\n",
    "    res[l]= score_\n",
    "\n",
    "res = pd.DataFrame(pd.Series(res)).reset_index()\n",
    "res.columns = ['L', 'mae']\n",
    "res.sort_values(by=\"L\")"
   ]
  },
  {
   "cell_type": "code",
   "execution_count": null,
   "id": "cf0465d8-164a-467b-9b46-8376f250e468",
   "metadata": {
    "tags": []
   },
   "outputs": [],
   "source": [
    "res"
   ]
  },
  {
   "cell_type": "code",
   "execution_count": null,
   "id": "25c96894-8952-46b3-a4bf-835182776df2",
   "metadata": {},
   "outputs": [],
   "source": []
  },
  {
   "cell_type": "code",
   "execution_count": null,
   "id": "cbe57a49-a796-4f26-83f5-4a2c2b3d89c0",
   "metadata": {
    "tags": []
   },
   "outputs": [],
   "source": [
    "res"
   ]
  },
  {
   "cell_type": "code",
   "execution_count": null,
   "id": "da6c47d4-f1aa-4a52-a67d-41c2d6c8326a",
   "metadata": {},
   "outputs": [],
   "source": []
  }
 ],
 "metadata": {
  "kernelspec": {
   "display_name": "Python 3 (ipykernel)",
   "language": "python",
   "name": "python3"
  },
  "language_info": {
   "codemirror_mode": {
    "name": "ipython",
    "version": 3
   },
   "file_extension": ".py",
   "mimetype": "text/x-python",
   "name": "python",
   "nbconvert_exporter": "python",
   "pygments_lexer": "ipython3",
   "version": "3.10.12"
  }
 },
 "nbformat": 4,
 "nbformat_minor": 5
}
