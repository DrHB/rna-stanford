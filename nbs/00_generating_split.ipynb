{
 "cells": [
  {
   "cell_type": "code",
   "execution_count": 1,
   "metadata": {},
   "outputs": [],
   "source": [
    "from pathlib import Path\n",
    "import polars as pl\n",
    "import os\n",
    "import torch\n",
    "import random\n",
    "import numpy as np"
   ]
  },
  {
   "cell_type": "code",
   "execution_count": 2,
   "metadata": {},
   "outputs": [],
   "source": [
    "def seed_everything(seed):\n",
    "    random.seed(seed)\n",
    "    os.environ['PYTHONHASHSEED'] = str(seed)\n",
    "    np.random.seed(seed)\n",
    "    torch.manual_seed(seed)\n",
    "    torch.cuda.manual_seed(seed)\n",
    "    torch.backends.cudnn.deterministic = True\n",
    "    torch.backends.cudnn.benchmark = True\n",
    "seed_everything(32)"
   ]
  },
  {
   "cell_type": "code",
   "execution_count": 3,
   "metadata": {},
   "outputs": [],
   "source": [
    "class CFG:\n",
    "    path = Path('../data/')\n",
    "    split_path = Path('../data/split/')\n",
    "os.makedirs(CFG.split_path, exist_ok=True)\n"
   ]
  },
  {
   "cell_type": "code",
   "execution_count": 4,
   "metadata": {},
   "outputs": [],
   "source": [
    "name = \"v0\"\n",
    "df = pl.read_parquet(CFG.path/'train_data.parquet', use_pyarrow=True)\n",
    "seq_ids_206 = df.filter(df['sequence'].apply(len) == 206).select(\"sequence_id\").unique().to_series().to_list()\n",
    "seq_ids_177 = df.filter(df['sequence'].apply(len) == 177).select(\"sequence_id\").unique().to_series().to_list()\n",
    "seq_ids_170 = df.filter(df['sequence'].apply(len) == 170).select(\"sequence_id\").unique().to_series().to_list()\n",
    "valid_ids_206 = seq_ids_206\n",
    "valid_ids_177 = np.random.choice(seq_ids_177, int(0.03 * len(seq_ids_177)), replace=False).tolist()\n",
    "valid_ids_170 = seq_ids_170\n",
    "valid_seq_ids = valid_ids_206 + valid_ids_177 + valid_ids_170\n",
    "valid_df = df.filter(pl.col('sequence_id').is_in(valid_seq_ids))\n",
    "train_df = df.filter(~pl.col('sequence_id').is_in(valid_seq_ids))\n",
    "valid_df.to_pandas().to_parquet(CFG.split_path/f'valid_data_{name}.parquet')\n",
    "train_df.to_pandas().to_parquet(CFG.split_path/f'train_data_{name}.parquet')"
   ]
  },
  {
   "cell_type": "code",
   "execution_count": null,
   "metadata": {},
   "outputs": [],
   "source": []
  },
  {
   "cell_type": "code",
   "execution_count": 5,
   "metadata": {},
   "outputs": [
    {
     "data": {
      "text/plain": [
       "(2499, 23525, 15000)"
      ]
     },
     "execution_count": 5,
     "metadata": {},
     "output_type": "execute_result"
    }
   ],
   "source": [
    "len(valid_ids_206), len(valid_ids_177), len(valid_ids_170)"
   ]
  },
  {
   "cell_type": "code",
   "execution_count": null,
   "metadata": {},
   "outputs": [],
   "source": []
  }
 ],
 "metadata": {
  "kernelspec": {
   "display_name": "base",
   "language": "python",
   "name": "python3"
  },
  "language_info": {
   "codemirror_mode": {
    "name": "ipython",
    "version": 3
   },
   "file_extension": ".py",
   "mimetype": "text/x-python",
   "name": "python",
   "nbconvert_exporter": "python",
   "pygments_lexer": "ipython3",
   "version": "3.10.12"
  },
  "orig_nbformat": 4
 },
 "nbformat": 4,
 "nbformat_minor": 2
}
