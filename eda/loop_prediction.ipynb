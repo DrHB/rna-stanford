{
 "cells": [
  {
   "cell_type": "code",
   "execution_count": 6,
   "id": "6786e69e",
   "metadata": {},
   "outputs": [
    {
     "ename": "RuntimeError",
     "evalue": "Error: Parameters not found at /opt/conda/lib/eternafold-lib/parameters/EternaFoldParams.v1",
     "output_type": "error",
     "traceback": [
      "\u001b[0;31m---------------------------------------------------------------------------\u001b[0m",
      "\u001b[0;31mRuntimeError\u001b[0m                              Traceback (most recent call last)",
      "\u001b[1;32m/opt/slh/rna/eda/loop_prediction.ipynb Cell 1\u001b[0m line \u001b[0;36m3\n\u001b[1;32m      <a href='vscode-notebook-cell://attached-container%2B7b22636f6e7461696e65724e616d65223a222f6772617068222c2273657474696e6773223a7b22686f7374223a227373683a2f2f31302e302e302e323533227d7d/opt/slh/rna/eda/loop_prediction.ipynb#W5sdnNjb2RlLXJlbW90ZQ%3D%3D?line=0'>1</a>\u001b[0m \u001b[39mfrom\u001b[39;00m \u001b[39marnie\u001b[39;00m\u001b[39m.\u001b[39;00m\u001b[39mmfe\u001b[39;00m \u001b[39mimport\u001b[39;00m mfe\n\u001b[1;32m      <a href='vscode-notebook-cell://attached-container%2B7b22636f6e7461696e65724e616d65223a222f6772617068222c2273657474696e6773223a7b22686f7374223a227373683a2f2f31302e302e302e323533227d7d/opt/slh/rna/eda/loop_prediction.ipynb#W5sdnNjb2RlLXJlbW90ZQ%3D%3D?line=1'>2</a>\u001b[0m sequence \u001b[39m=\u001b[39m \u001b[39m\"\u001b[39m\u001b[39mCGCUGUCUGUACUUGUAUCAGUACACUGACGAGUCCCUAAAGGACGAAACAGCG\u001b[39m\u001b[39m\"\u001b[39m\n\u001b[0;32m----> <a href='vscode-notebook-cell://attached-container%2B7b22636f6e7461696e65724e616d65223a222f6772617068222c2273657474696e6773223a7b22686f7374223a227373683a2f2f31302e302e302e323533227d7d/opt/slh/rna/eda/loop_prediction.ipynb#W5sdnNjb2RlLXJlbW90ZQ%3D%3D?line=2'>3</a>\u001b[0m structure \u001b[39m=\u001b[39m mfe(sequence,package\u001b[39m=\u001b[39;49m\u001b[39m\"\u001b[39;49m\u001b[39meternafold\u001b[39;49m\u001b[39m\"\u001b[39;49m)\n\u001b[1;32m      <a href='vscode-notebook-cell://attached-container%2B7b22636f6e7461696e65724e616d65223a222f6772617068222c2273657474696e6773223a7b22686f7374223a227373683a2f2f31302e302e302e323533227d7d/opt/slh/rna/eda/loop_prediction.ipynb#W5sdnNjb2RlLXJlbW90ZQ%3D%3D?line=3'>4</a>\u001b[0m \u001b[39mprint\u001b[39m(structure)\n",
      "File \u001b[0;32m/usr/local/lib/python3.10/dist-packages/arnie/mfe.py:108\u001b[0m, in \u001b[0;36mmfe\u001b[0;34m(seq, package, T, constraint, motif, linear, return_dG_MFE, dangles, noncanonical, beam_size, bpps, param_file, coaxial, reweight, viterbi, probing_signal, probing_kws, pseudo, shape_signal, dms_signal, shape_file, dms_file, **kwargs)\u001b[0m\n\u001b[1;32m    106\u001b[0m efold_param_file \u001b[39m=\u001b[39m os\u001b[39m.\u001b[39menviron[\u001b[39m'\u001b[39m\u001b[39mETERNAFOLD_PARAMETERS\u001b[39m\u001b[39m'\u001b[39m] \u001b[39mif\u001b[39;00m os\u001b[39m.\u001b[39menviron\u001b[39m.\u001b[39mget(\u001b[39m'\u001b[39m\u001b[39mETERNAFOLD_PARAMETERS\u001b[39m\u001b[39m'\u001b[39m) \u001b[39melse\u001b[39;00m package_locs[\u001b[39m'\u001b[39m\u001b[39meternafold\u001b[39m\u001b[39m'\u001b[39m]\u001b[39m+\u001b[39m\u001b[39m'\u001b[39m\u001b[39m/../parameters/EternaFoldParams.v1\u001b[39m\u001b[39m'\u001b[39m\n\u001b[1;32m    107\u001b[0m \u001b[39mif\u001b[39;00m \u001b[39mnot\u001b[39;00m os\u001b[39m.\u001b[39mpath\u001b[39m.\u001b[39mexists(efold_param_file):\n\u001b[0;32m--> 108\u001b[0m     \u001b[39mraise\u001b[39;00m \u001b[39mRuntimeError\u001b[39;00m(\u001b[39m'\u001b[39m\u001b[39mError: Parameters not found at \u001b[39m\u001b[39m%s\u001b[39;00m\u001b[39m'\u001b[39m \u001b[39m%\u001b[39m efold_param_file)\n\u001b[1;32m    109\u001b[0m \u001b[39melse\u001b[39;00m:\n\u001b[1;32m    110\u001b[0m     struct \u001b[39m=\u001b[39m mfe_contrafold_(seq, version\u001b[39m=\u001b[39mversion, T\u001b[39m=\u001b[39mT, constraint\u001b[39m=\u001b[39mconstraint, DIRLOC\u001b[39m=\u001b[39mpackage_locs[\u001b[39m'\u001b[39m\u001b[39meternafold\u001b[39m\u001b[39m'\u001b[39m],\n\u001b[1;32m    111\u001b[0m         param_file\u001b[39m=\u001b[39mefold_param_file,viterbi\u001b[39m=\u001b[39mviterbi, probing_signal\u001b[39m=\u001b[39mprobing_signal, probing_kws\u001b[39m=\u001b[39mprobing_kws)\n",
      "\u001b[0;31mRuntimeError\u001b[0m: Error: Parameters not found at /opt/conda/lib/eternafold-lib/parameters/EternaFoldParams.v1"
     ]
    }
   ],
   "source": [
    "from arnie.mfe import mfe\n",
    "sequence = \"CGCUGUCUGUACUUGUAUCAGUACACUGACGAGUCCCUAAAGGACGAAACAGCG\"\n",
    "structure = mfe(sequence,package=\"eternafold\")\n",
    "print(structure)"
   ]
  },
  {
   "cell_type": "code",
   "execution_count": 5,
   "id": "8cf3e9b5",
   "metadata": {},
   "outputs": [
    {
     "name": "stdout",
     "output_type": "stream",
     "text": [
      "\u001b[31mERROR: Could not find a version that satisfies the requirement eternafold (from versions: none)\u001b[0m\u001b[31m\n",
      "\u001b[0m\u001b[31mERROR: No matching distribution found for eternafold\u001b[0m\u001b[31m\n",
      "\u001b[0m"
     ]
    }
   ],
   "source": [
    "!pip install eternafold"
   ]
  },
  {
   "cell_type": "code",
   "execution_count": null,
   "id": "3a895cfe",
   "metadata": {},
   "outputs": [],
   "source": []
  }
 ],
 "metadata": {
  "kernelspec": {
   "display_name": "base",
   "language": "python",
   "name": "python3"
  },
  "language_info": {
   "codemirror_mode": {
    "name": "ipython",
    "version": 3
   },
   "file_extension": ".py",
   "mimetype": "text/x-python",
   "name": "python",
   "nbconvert_exporter": "python",
   "pygments_lexer": "ipython3",
   "version": "3.10.6"
  }
 },
 "nbformat": 4,
 "nbformat_minor": 5
}
