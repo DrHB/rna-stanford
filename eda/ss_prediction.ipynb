{
 "cells": [
  {
   "cell_type": "code",
   "execution_count": 4,
   "id": "3ede3d22-42d4-436e-912b-837bdd197d10",
   "metadata": {
    "tags": []
   },
   "outputs": [
    {
     "ename": "NameError",
     "evalue": "name 'f' is not defined",
     "output_type": "error",
     "traceback": [
      "\u001b[0;31m---------------------------------------------------------------------------\u001b[0m",
      "\u001b[0;31mNameError\u001b[0m                                 Traceback (most recent call last)",
      "\u001b[1;32m/mnt/e22b12fe-f946-49d6-be2c-4bd0bb62c767/slh/rna/eda/ss_prediction.ipynb Cell 1\u001b[0m line \u001b[0;36m1\n\u001b[0;32m----> <a href='vscode-notebook-cell://ssh-remote%2B10.0.0.253/mnt/e22b12fe-f946-49d6-be2c-4bd0bb62c767/slh/rna/eda/ss_prediction.ipynb#W0sdnNjb2RlLXJlbW90ZQ%3D%3D?line=0'>1</a>\u001b[0m f\n",
      "\u001b[0;31mNameError\u001b[0m: name 'f' is not defined"
     ]
    }
   ],
   "source": [
    "f"
   ]
  },
  {
   "cell_type": "code",
   "execution_count": 7,
   "id": "6d356807",
   "metadata": {},
   "outputs": [
    {
     "name": "stdout",
     "output_type": "stream",
     "text": [
      "48\n"
     ]
    }
   ],
   "source": [
    "import numpy as np\n",
    "#import dask\n",
    "from pathlib import Path\n",
    "from ViennaRNA import RNA\n",
    "import pandas as pd\n",
    "#from dask.distributed import Client\n",
    "from multiprocessing import cpu_count\n",
    "n_cores = cpu_count()\n",
    "print(n_cores)\n",
    "#from dask.distributed import progress\n",
    "# client = Client()\n",
    "# client"
   ]
  },
  {
   "cell_type": "markdown",
   "id": "85663524-300c-4a01-8028-2af86f6817a7",
   "metadata": {
    "tags": []
   },
   "source": [
    "### client"
   ]
  },
  {
   "cell_type": "code",
   "execution_count": 8,
   "id": "f959a4ae-9412-44d9-ab30-00af1827cbb7",
   "metadata": {
    "tags": []
   },
   "outputs": [],
   "source": [
    "class CFG:\n",
    "    path = Path('../data/')"
   ]
  },
  {
   "cell_type": "code",
   "execution_count": 5,
   "id": "72bc7e01-8e42-4c0f-acdf-bfb0ee5f76a4",
   "metadata": {
    "tags": []
   },
   "outputs": [],
   "source": [
    "\n",
    "\n",
    "# # Function to perform RNA secondary structure prediction on a Pandas DataFrame\n",
    "# def predict_structure(df):\n",
    "#     df['ss_full'], df['ss_full_mfe'] = zip(*df['sequence'].apply(lambda x: RNA.fold_compound(x).mfe()))\n",
    "#     return df\n",
    "\n"
   ]
  },
  {
   "cell_type": "code",
   "execution_count": 6,
   "id": "8586f849-c50a-4ed4-b43d-542448af1823",
   "metadata": {
    "tags": []
   },
   "outputs": [
    {
     "ename": "ValueError",
     "evalue": "No clients found\nStart a client and point it to the scheduler address\n  from distributed import Client\n  client = Client('ip-addr-of-scheduler:8786')\n",
     "output_type": "error",
     "traceback": [
      "\u001b[0;31m---------------------------------------------------------------------------\u001b[0m",
      "\u001b[0;31mValueError\u001b[0m                                Traceback (most recent call last)",
      "\u001b[1;32m/opt/slh/rna/eda/ss_prediction.ipynb Cell 7\u001b[0m line \u001b[0;36m3\n\u001b[1;32m     <a href='vscode-notebook-cell://attached-container%2B7b22636f6e7461696e65724e616d65223a222f6772617068222c2273657474696e6773223a7b22686f7374223a227373683a2f2f31302e302e302e323533227d7d/opt/slh/rna/eda/ss_prediction.ipynb#W5sdnNjb2RlLXJlbW90ZQ%3D%3D?line=30'>31</a>\u001b[0m predicted_dask_df \u001b[39m=\u001b[39m sampled_dask_df\u001b[39m.\u001b[39mmap_partitions(predict_structure, meta\u001b[39m=\u001b[39mmeta)\n\u001b[1;32m     <a href='vscode-notebook-cell://attached-container%2B7b22636f6e7461696e65724e616d65223a222f6772617068222c2273657474696e6773223a7b22686f7374223a227373683a2f2f31302e302e302e323533227d7d/opt/slh/rna/eda/ss_prediction.ipynb#W5sdnNjb2RlLXJlbW90ZQ%3D%3D?line=32'>33</a>\u001b[0m \u001b[39m# Show progress (this will work if you are in a Jupyter Notebook)\u001b[39;00m\n\u001b[0;32m---> <a href='vscode-notebook-cell://attached-container%2B7b22636f6e7461696e65724e616d65223a222f6772617068222c2273657474696e6773223a7b22686f7374223a227373683a2f2f31302e302e302e323533227d7d/opt/slh/rna/eda/ss_prediction.ipynb#W5sdnNjb2RlLXJlbW90ZQ%3D%3D?line=33'>34</a>\u001b[0m progress(predicted_dask_df)\n\u001b[1;32m     <a href='vscode-notebook-cell://attached-container%2B7b22636f6e7461696e65724e616d65223a222f6772617068222c2273657474696e6773223a7b22686f7374223a227373683a2f2f31302e302e302e323533227d7d/opt/slh/rna/eda/ss_prediction.ipynb#W5sdnNjb2RlLXJlbW90ZQ%3D%3D?line=35'>36</a>\u001b[0m \u001b[39m# Compute to get the result\u001b[39;00m\n\u001b[1;32m     <a href='vscode-notebook-cell://attached-container%2B7b22636f6e7461696e65724e616d65223a222f6772617068222c2273657474696e6773223a7b22686f7374223a227373683a2f2f31302e302e302e323533227d7d/opt/slh/rna/eda/ss_prediction.ipynb#W5sdnNjb2RlLXJlbW90ZQ%3D%3D?line=36'>37</a>\u001b[0m predicted_df \u001b[39m=\u001b[39m predicted_dask_df\u001b[39m.\u001b[39mcompute()\n",
      "File \u001b[0;32m/opt/conda/lib/python3.10/site-packages/distributed/diagnostics/progressbar.py:501\u001b[0m, in \u001b[0;36mprogress\u001b[0;34m(notebook, multi, complete, group_by, *futures, **kwargs)\u001b[0m\n\u001b[1;32m    499\u001b[0m \u001b[39mif\u001b[39;00m notebook:\n\u001b[1;32m    500\u001b[0m     \u001b[39mif\u001b[39;00m multi:\n\u001b[0;32m--> 501\u001b[0m         bar \u001b[39m=\u001b[39m MultiProgressWidget(\n\u001b[1;32m    502\u001b[0m             futures, complete\u001b[39m=\u001b[39;49mcomplete, group_by\u001b[39m=\u001b[39;49mgroup_by, \u001b[39m*\u001b[39;49m\u001b[39m*\u001b[39;49mkwargs\n\u001b[1;32m    503\u001b[0m         )\n\u001b[1;32m    504\u001b[0m     \u001b[39melse\u001b[39;00m:\n\u001b[1;32m    505\u001b[0m         bar \u001b[39m=\u001b[39m ProgressWidget(futures, complete\u001b[39m=\u001b[39mcomplete, \u001b[39m*\u001b[39m\u001b[39m*\u001b[39mkwargs)\n",
      "File \u001b[0;32m/opt/conda/lib/python3.10/site-packages/distributed/diagnostics/progressbar.py:361\u001b[0m, in \u001b[0;36mMultiProgressWidget.__init__\u001b[0;34m(self, keys, scheduler, minimum, **kwargs)\u001b[0m\n\u001b[1;32m    354\u001b[0m \u001b[39mdef\u001b[39;00m \u001b[39m__init__\u001b[39m(\n\u001b[1;32m    355\u001b[0m     \u001b[39mself\u001b[39m,\n\u001b[1;32m    356\u001b[0m     keys,\n\u001b[0;32m   (...)\u001b[0m\n\u001b[1;32m    359\u001b[0m     \u001b[39m*\u001b[39m\u001b[39m*\u001b[39mkwargs,\n\u001b[1;32m    360\u001b[0m ):\n\u001b[0;32m--> 361\u001b[0m     \u001b[39msuper\u001b[39;49m()\u001b[39m.\u001b[39;49m\u001b[39m__init__\u001b[39;49m(keys, scheduler, \u001b[39m*\u001b[39;49m\u001b[39m*\u001b[39;49mkwargs)\n\u001b[1;32m    362\u001b[0m     \u001b[39mfrom\u001b[39;00m \u001b[39mipywidgets\u001b[39;00m \u001b[39mimport\u001b[39;00m VBox\n\u001b[1;32m    364\u001b[0m     \u001b[39mself\u001b[39m\u001b[39m.\u001b[39mwidget \u001b[39m=\u001b[39m VBox([])\n",
      "File \u001b[0;32m/opt/conda/lib/python3.10/site-packages/distributed/diagnostics/progressbar.py:254\u001b[0m, in \u001b[0;36mMultiProgressBar.__init__\u001b[0;34m(self, keys, scheduler, func, group_by, interval, complete, **kwargs)\u001b[0m\n\u001b[1;32m    243\u001b[0m \u001b[39mdef\u001b[39;00m \u001b[39m__init__\u001b[39m(\n\u001b[1;32m    244\u001b[0m     \u001b[39mself\u001b[39m,\n\u001b[1;32m    245\u001b[0m     keys,\n\u001b[0;32m   (...)\u001b[0m\n\u001b[1;32m    252\u001b[0m     \u001b[39m*\u001b[39m\u001b[39m*\u001b[39mkwargs,\n\u001b[1;32m    253\u001b[0m ):\n\u001b[0;32m--> 254\u001b[0m     \u001b[39mself\u001b[39m\u001b[39m.\u001b[39mscheduler \u001b[39m=\u001b[39m get_scheduler(scheduler)\n\u001b[1;32m    256\u001b[0m     \u001b[39mself\u001b[39m\u001b[39m.\u001b[39mclient \u001b[39m=\u001b[39m \u001b[39mNone\u001b[39;00m\n\u001b[1;32m    257\u001b[0m     \u001b[39mfor\u001b[39;00m key \u001b[39min\u001b[39;00m keys:\n",
      "File \u001b[0;32m/opt/conda/lib/python3.10/site-packages/distributed/diagnostics/progressbar.py:34\u001b[0m, in \u001b[0;36mget_scheduler\u001b[0;34m(scheduler)\u001b[0m\n\u001b[1;32m     32\u001b[0m \u001b[39mdef\u001b[39;00m \u001b[39mget_scheduler\u001b[39m(scheduler):\n\u001b[1;32m     33\u001b[0m     \u001b[39mif\u001b[39;00m scheduler \u001b[39mis\u001b[39;00m \u001b[39mNone\u001b[39;00m:\n\u001b[0;32m---> 34\u001b[0m         \u001b[39mreturn\u001b[39;00m default_client()\u001b[39m.\u001b[39mscheduler\u001b[39m.\u001b[39maddress\n\u001b[1;32m     35\u001b[0m     \u001b[39mreturn\u001b[39;00m coerce_to_address(scheduler)\n",
      "File \u001b[0;32m/opt/conda/lib/python3.10/site-packages/distributed/client.py:5594\u001b[0m, in \u001b[0;36mdefault_client\u001b[0;34m(c)\u001b[0m\n\u001b[1;32m   5592\u001b[0m     \u001b[39mreturn\u001b[39;00m c\n\u001b[1;32m   5593\u001b[0m \u001b[39melse\u001b[39;00m:\n\u001b[0;32m-> 5594\u001b[0m     \u001b[39mraise\u001b[39;00m \u001b[39mValueError\u001b[39;00m(\n\u001b[1;32m   5595\u001b[0m         \u001b[39m\"\u001b[39m\u001b[39mNo clients found\u001b[39m\u001b[39m\\n\u001b[39;00m\u001b[39m\"\u001b[39m\n\u001b[1;32m   5596\u001b[0m         \u001b[39m\"\u001b[39m\u001b[39mStart a client and point it to the scheduler address\u001b[39m\u001b[39m\\n\u001b[39;00m\u001b[39m\"\u001b[39m\n\u001b[1;32m   5597\u001b[0m         \u001b[39m\"\u001b[39m\u001b[39m  from distributed import Client\u001b[39m\u001b[39m\\n\u001b[39;00m\u001b[39m\"\u001b[39m\n\u001b[1;32m   5598\u001b[0m         \u001b[39m\"\u001b[39m\u001b[39m  client = Client(\u001b[39m\u001b[39m'\u001b[39m\u001b[39mip-addr-of-scheduler:8786\u001b[39m\u001b[39m'\u001b[39m\u001b[39m)\u001b[39m\u001b[39m\\n\u001b[39;00m\u001b[39m\"\u001b[39m\n\u001b[1;32m   5599\u001b[0m     )\n",
      "\u001b[0;31mValueError\u001b[0m: No clients found\nStart a client and point it to the scheduler address\n  from distributed import Client\n  client = Client('ip-addr-of-scheduler:8786')\n"
     ]
    }
   ],
   "source": [
    "\n",
    "\n",
    "def read_and_filter_parquet(file_path):\n",
    "    df = dd.read_parquet(file_path)\n",
    "    df_filtered = df[['sequence_id', 'sequence']]\n",
    "    df_filtered = df_filtered.drop_duplicates(subset=['sequence_id'])\n",
    "    return df_filtered\n",
    "\n",
    "def predict_structure(df):\n",
    "    df['ss_full'], df['ss_full_mfe'] = zip(*df['sequence'].apply(lambda x: RNA.fold_compound(x).mfe()))\n",
    "    df['ss_roi'], df['ss_roi_mfe'] = zip(*df['sequence'].apply(lambda x: RNA.fold_compound(x[26:-21]).mfe()))\n",
    "    return df\n",
    "\n",
    "# File path configuration (replace with your own path)\n",
    "# Read and filter the DataFrame\n",
    "dask_df_filtered = read_and_filter_parquet(CFG.path/'train_data.parquet')\n",
    "\n",
    "# Repartition DataFrame to have as many partitions as cores\n",
    "dask_df_filtered = dask_df_filtered.repartition(npartitions=32)\n",
    "\n",
    "# Sample 100% of the rows (i.e., keep all rows)\n",
    "sampled_dask_df = dask_df_filtered.sample(frac=1.0, random_state=42)\n",
    "\n",
    "# Metadata for new columns\n",
    "meta = sampled_dask_df._meta.assign(\n",
    "    ss_full=pd.Series(dtype='str'), \n",
    "    ss_full_mfe=pd.Series(dtype='float64'),\n",
    "    ss_roi=pd.Series(dtype='str'),\n",
    "    ss_roi_mfe=pd.Series(dtype='float64')\n",
    ")\n",
    "\n",
    "# Apply RNA secondary structure prediction\n",
    "predicted_dask_df = sampled_dask_df.map_partitions(predict_structure, meta=meta)\n",
    "\n",
    "# Show progress (this will work if you are in a Jupyter Notebook)\n",
    "progress(predicted_dask_df)\n",
    "\n",
    "# Compute to get the result\n",
    "predicted_df = predicted_dask_df.compute()\n",
    "\n",
    "# Print the result\n",
    "print(predicted_df)\n",
    "\n",
    "# Close the Dask Client\n",
    "client.close()\n",
    "predicted_df.to_parquet('train_ss_vienna_rna.parquet', index=False)"
   ]
  },
  {
   "cell_type": "code",
   "execution_count": null,
   "id": "755b56f4-9ea6-49d9-b701-c3a4b743550d",
   "metadata": {
    "tags": []
   },
   "outputs": [],
   "source": []
  },
  {
   "cell_type": "code",
   "execution_count": null,
   "id": "6921f23f-7906-420b-a42b-5db0f8094e5d",
   "metadata": {
    "tags": []
   },
   "outputs": [],
   "source": [
    "\n",
    "\n",
    "def read_and_filter_parquet(file_path):\n",
    "    df = dd.read_csv(file_path)\n",
    "    df_filtered = df[['sequence_id', 'sequence']]\n",
    "    df_filtered = df_filtered.drop_duplicates(subset=['sequence_id'])\n",
    "    return df_filtered\n",
    "\n",
    "def predict_structure(df):\n",
    "    df['ss_full'], df['ss_full_mfe'] = zip(*df['sequence'].apply(lambda x: RNA.fold_compound(x).mfe()))\n",
    "    df['ss_roi'], df['ss_roi_mfe'] = zip(*df['sequence'].apply(lambda x: RNA.fold_compound(x[26:-21]).mfe()))\n",
    "    return df\n",
    "\n",
    "# File path configuration (replace with your own path)\n",
    "# Read and filter the DataFrame\n",
    "dask_df_filtered = read_and_filter_parquet(CFG.path/'test_sequences.csv')\n",
    "\n",
    "# Repartition DataFrame to have as many partitions as cores\n",
    "dask_df_filtered = dask_df_filtered.repartition(npartitions=32)\n",
    "\n",
    "# Sample 100% of the rows (i.e., keep all rows)\n",
    "sampled_dask_df = dask_df_filtered\n",
    "\n",
    "# Metadata for new columns\n",
    "meta = sampled_dask_df._meta.assign(\n",
    "    ss_full=pd.Series(dtype='str'), \n",
    "    ss_full_mfe=pd.Series(dtype='float64'),\n",
    "    ss_roi=pd.Series(dtype='str'),\n",
    "    ss_roi_mfe=pd.Series(dtype='float64')\n",
    ")\n",
    "\n",
    "# Apply RNA secondary structure prediction\n",
    "predicted_dask_df = sampled_dask_df.map_partitions(predict_structure, meta=meta)\n",
    "\n",
    "# Show progress (this will work if you are in a Jupyter Notebook)\n",
    "progress(predicted_dask_df)\n",
    "\n",
    "# Compute to get the result\n",
    "predicted_df = predicted_dask_df.compute()\n",
    "\n",
    "# Print the result\n",
    "print(predicted_df)\n",
    "\n",
    "# Close the Dask Client\n",
    "client.close()\n",
    "predicted_df.to_parquet('test_ss_vienna_rna.parquet', index=False)"
   ]
  },
  {
   "cell_type": "code",
   "execution_count": null,
   "id": "51fe3083-c78a-48e0-b022-71f8da041991",
   "metadata": {
    "tags": []
   },
   "outputs": [],
   "source": [
    "predicted_df"
   ]
  },
  {
   "cell_type": "code",
   "execution_count": 7,
   "id": "899e29df",
   "metadata": {},
   "outputs": [],
   "source": []
  },
  {
   "cell_type": "code",
   "execution_count": 9,
   "id": "9d79ef2a",
   "metadata": {},
   "outputs": [],
   "source": [
    "def predict_structure(df):\n",
    "    df['ss_full'], df['ss_full_mfe'] = zip(*df['sequence'].apply(lambda x: RNA.fold_compound(x).mfe()))\n",
    "    return df\n",
    "\n",
    "df = pd.read_csv('../data/rmdb_data.v1.3.0.csv')[['sequence_id', 'sequence']].drop_duplicates(subset=['sequence_id'])\n",
    "df = predict_structure(df)"
   ]
  },
  {
   "cell_type": "code",
   "execution_count": 11,
   "id": "c0d70539",
   "metadata": {},
   "outputs": [],
   "source": [
    "df.to_parquet('rmdb_data.v1.3.0_ss.parquet', index=False)"
   ]
  },
  {
   "cell_type": "code",
   "execution_count": 10,
   "id": "aaabeaeb",
   "metadata": {},
   "outputs": [],
   "source": [
    "def predict_structure(df):\n",
    "    df['ss_full'], df['ss_full_mfe'] = zip(*df['sequence'].apply(lambda x: RNA.fold_compound(x).mfe()))\n",
    "    return df\n",
    "\n",
    "df = pd.read_csv('../data/R1138v1_m2.csv')[['sequence_id', 'sequence']]\n",
    "df = predict_structure(df)\n",
    "df.to_parquet('R1138v1_m2.csv.parquet', index=False)"
   ]
  },
  {
   "cell_type": "code",
   "execution_count": null,
   "id": "b53f7367",
   "metadata": {},
   "outputs": [],
   "source": []
  }
 ],
 "metadata": {
  "kernelspec": {
   "display_name": "Python 3 (ipykernel)",
   "language": "python",
   "name": "python3"
  },
  "language_info": {
   "codemirror_mode": {
    "name": "ipython",
    "version": 3
   },
   "file_extension": ".py",
   "mimetype": "text/x-python",
   "name": "python",
   "nbconvert_exporter": "python",
   "pygments_lexer": "ipython3",
   "version": "3.10.12"
  }
 },
 "nbformat": 4,
 "nbformat_minor": 5
}
