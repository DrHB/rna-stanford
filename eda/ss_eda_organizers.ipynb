{
 "cells": [
  {
   "cell_type": "code",
   "execution_count": 1,
   "metadata": {},
   "outputs": [],
   "source": [
    "from pathlib import Path\n",
    "import numpy as np\n",
    "import pandas as pd\n",
    "import matplotlib.pyplot as plt"
   ]
  },
  {
   "cell_type": "code",
   "execution_count": 19,
   "metadata": {},
   "outputs": [],
   "source": [
    "fns = list(Path('../data/eterna_openknot_metadata').glob('*.tsv'))"
   ]
  },
  {
   "cell_type": "code",
   "execution_count": 20,
   "metadata": {},
   "outputs": [
    {
     "data": {
      "text/plain": [
       "[PosixPath('../data/eterna_openknot_metadata/puzzle_11387276_RYOP90_with_description.tsv'),\n",
       " PosixPath('../data/eterna_openknot_metadata/Positives240-2000.tsv'),\n",
       " PosixPath('../data/eterna_openknot_metadata/puzzle_11836497_with_description.tsv'),\n",
       " PosixPath('../data/eterna_openknot_metadata/puzzle_11318423_RYOP50_with_description.tsv'),\n",
       " PosixPath('../data/eterna_openknot_metadata/puzzle_11627601_with_descriptions_PLUS_RFAM.tsv'),\n",
       " PosixPath('../data/eterna_openknot_metadata/puzzle 12378132.tsv')]"
      ]
     },
     "execution_count": 20,
     "metadata": {},
     "output_type": "execute_result"
    }
   ],
   "source": [
    "fns"
   ]
  },
  {
   "cell_type": "code",
   "execution_count": null,
   "metadata": {},
   "outputs": [],
   "source": []
  }
 ],
 "metadata": {
  "kernelspec": {
   "display_name": "base",
   "language": "python",
   "name": "python3"
  },
  "language_info": {
   "codemirror_mode": {
    "name": "ipython",
    "version": 3
   },
   "file_extension": ".py",
   "mimetype": "text/x-python",
   "name": "python",
   "nbconvert_exporter": "python",
   "pygments_lexer": "ipython3",
   "version": "3.10.12"
  }
 },
 "nbformat": 4,
 "nbformat_minor": 2
}
