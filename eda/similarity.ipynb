{
 "cells": [
  {
   "cell_type": "code",
   "execution_count": null,
   "metadata": {},
   "outputs": [],
   "source": [
    "from Bio import SeqIO\n",
    "from sklearn.cluster import KMeans\n",
    "from collections import Counter\n",
    "import numpy as np\n",
    "from Bio import pairwise2\n",
    "import pandas as pd\n",
    "from collections import defaultdict\n",
    "import multiprocessing\n",
    "import itertools\n",
    "# Step 1: Read FASTA File and Convert Sequences to Feature Vectors\n",
    "\n",
    "# Function to convert a sequence to a k-mer frequency vector\n",
    "def seq_to_kmer_freq(seq, k=3):\n",
    "    kmer_list = [seq[i:i+k] for i in range(len(seq) - k + 1)]\n",
    "    kmer_freq = Counter(kmer_list)\n",
    "    return np.array([kmer_freq.get(kmer, 0) for kmer in all_kmers])\n",
    "\n",
    "# Read sequences\n",
    "fasta_file = \"../data/sequence_libraries/pseudoknot90_puzzle_11387276.tsv.RNA_sequences.fa\"\n",
    "sequences = {}\n",
    "for record in SeqIO.parse(fasta_file, \"fasta\"):\n",
    "    sequences[record.id] = str(record.seq)\n",
    "\n",
    "# Generate all possible k-mers of length 3\n",
    "nucleotides = ['A', 'C', 'G', 'U']\n",
    "all_kmers = [''.join(p) for p in itertools.product(nucleotides, repeat=3)]\n",
    "\n",
    "# Convert sequences to k-mer frequency vectors\n",
    "X = np.array([seq_to_kmer_freq(seq) for seq in sequences.values()])\n",
    "\n",
    "# Step 2: Cluster Sequences Using k-means\n",
    "kmeans = KMeans(n_clusters=10)  # Choose an appropriate number of clusters\n",
    "labels = kmeans.fit_predict(X)\n",
    "\n",
    "# Group sequences by their cluster label\n",
    "clustered_sequences = defaultdict(list)\n",
    "for label, seq_id in zip(labels, sequences.keys()):\n",
    "    clustered_sequences[label].append(seq_id)\n",
    "\n",
    "# Step 3: Calculate Pairwise Sequence Similarities Within Each Cluster\n",
    "\n",
    "def calc_similarities(cluster):\n",
    "    seq_ids = clustered_sequences[cluster]\n",
    "    similarities = {}\n",
    "    for i, seq_id1 in enumerate(seq_ids):\n",
    "        sim_scores = []\n",
    "        for j, seq_id2 in enumerate(seq_ids):\n",
    "            if i != j:\n",
    "                alignment = pairwise2.align.globalxx(sequences[seq_id1], sequences[seq_id2])\n",
    "                sim_scores.append((seq_id2, alignment[0].score))\n",
    "        similarities[seq_id1] = sorted(sim_scores, key=lambda x: x[1], reverse=True)[:5]\n",
    "    return similarities\n",
    "\n",
    "# Step 4: Use Multiprocessing to Speed Up the Calculations with 8 CPUs\n",
    "with multiprocessing.Pool(processes=8) as pool:\n",
    "    all_similarities = pool.map(calc_similarities, clustered_sequences.keys())\n",
    "\n",
    "\n",
    "# Convert the result to a Pandas DataFrame and save as CSV\n",
    "df_rows = [(seq_id, *sim) for cluster_sim in all_similarities for seq_id, top5 in cluster_sim.items() for sim in top5]\n",
    "df = pd.DataFrame(df_rows, columns=[\"seq_id\", \"similar_seq_id\", \"score\"])\n",
    "#df.to_csv(\"top5_similar_sequences.csv\", index=False)\n"
   ]
  },
  {
   "cell_type": "code",
   "execution_count": null,
   "metadata": {},
   "outputs": [],
   "source": [
    "df.query(\"score>90\")"
   ]
  },
  {
   "cell_type": "code",
   "execution_count": null,
   "metadata": {},
   "outputs": [],
   "source": []
  },
  {
   "cell_type": "code",
   "execution_count": null,
   "metadata": {},
   "outputs": [],
   "source": [
    "df.to_csv(\"top5_similar_sequences.csv\", index=False)"
   ]
  },
  {
   "cell_type": "code",
   "execution_count": null,
   "metadata": {},
   "outputs": [],
   "source": [
    "df.groupby('seq_id').agg(list)"
   ]
  },
  {
   "cell_type": "code",
   "execution_count": null,
   "metadata": {},
   "outputs": [],
   "source": [
    "import pandas as pd\n",
    "import polars as pl"
   ]
  },
  {
   "cell_type": "code",
   "execution_count": null,
   "metadata": {},
   "outputs": [],
   "source": [
    "df = pd.read_csv(\"top5_similar_sequences.csv\")"
   ]
  },
  {
   "cell_type": "code",
   "execution_count": null,
   "metadata": {},
   "outputs": [],
   "source": [
    "df['score'] = df['score']/157"
   ]
  },
  {
   "cell_type": "code",
   "execution_count": null,
   "metadata": {},
   "outputs": [],
   "source": [
    "df.sort_values(by='score',ascending=False, inplace=True)"
   ]
  },
  {
   "cell_type": "code",
   "execution_count": null,
   "metadata": {},
   "outputs": [],
   "source": [
    "df.query(\"score>0.95\")['seq_id'].unique().shape"
   ]
  },
  {
   "cell_type": "code",
   "execution_count": null,
   "metadata": {},
   "outputs": [],
   "source": [
    "df['seq_id'].unique().shape"
   ]
  },
  {
   "cell_type": "code",
   "execution_count": null,
   "metadata": {},
   "outputs": [],
   "source": [
    "from Bio import SeqIO\n",
    "from sklearn.cluster import KMeans\n",
    "from collections import Counter\n",
    "import numpy as np\n",
    "from Bio import pairwise2\n",
    "import pandas as pd\n",
    "from collections import defaultdict\n",
    "import multiprocessing\n"
   ]
  },
  {
   "cell_type": "code",
   "execution_count": null,
   "metadata": {},
   "outputs": [],
   "source": [
    "fasta_file = \"../data/sequence_libraries/pseudoknot90_puzzle_11387276.tsv.RNA_sequences.fa\"\n",
    "sequences = {}\n",
    "for record in SeqIO.parse(fasta_file, \"fasta\"):\n",
    "    sequences[record.id] = str(record.seq)"
   ]
  },
  {
   "cell_type": "code",
   "execution_count": null,
   "metadata": {},
   "outputs": [],
   "source": [
    "seq1= sequences['11445334']\n",
    "seq2 = sequences['11445332']"
   ]
  },
  {
   "cell_type": "code",
   "execution_count": null,
   "metadata": {},
   "outputs": [],
   "source": [
    "df.head(40)"
   ]
  },
  {
   "cell_type": "code",
   "execution_count": null,
   "metadata": {},
   "outputs": [],
   "source": [
    "import matplotlib.pyplot as plt\n",
    "\n",
    "def plot_nucleotide_match(seq1, seq2):\n",
    "    min_length = min(len(seq1), len(seq2))\n",
    "\n",
    "    colors = ['g' if seq1[i] == seq2[i] else 'r' for i in range(min_length)]\n",
    "\n",
    "    plt.figure(figsize=(10, 1))  # Width x Height\n",
    "    plt.ylim(0.5, 1.5)  # Adjust the y-axis limits\n",
    "\n",
    "    plt.scatter(range(min_length), [1]*min_length, c=colors)\n",
    "    plt.yticks([])  # Hide the y-axis\n",
    "    plt.xlabel('Nucleotide Position')\n",
    "    plt.title('Nucleotide Match between seq1 and seq2')\n",
    "\n",
    "\n",
    "\n",
    "    plt.show()\n"
   ]
  },
  {
   "cell_type": "code",
   "execution_count": null,
   "metadata": {},
   "outputs": [],
   "source": [
    "for i, k in zip(df[\"seq_id\"], df[\"similar_seq_id\"]):\n",
    "    plot_nucleotide_match(sequences[str(i)], sequences[str(k)])\n",
    "    plt.pause(0.1)"
   ]
  },
  {
   "cell_type": "code",
   "execution_count": null,
   "metadata": {},
   "outputs": [],
   "source": [
    "sequences[str(i)]"
   ]
  },
  {
   "cell_type": "code",
   "execution_count": null,
   "metadata": {
    "tags": []
   },
   "outputs": [],
   "source": [
    "!ls "
   ]
  },
  {
   "cell_type": "code",
   "execution_count": null,
   "metadata": {
    "tags": []
   },
   "outputs": [],
   "source": [
    "from Bio import SeqIO\n",
    "import pandas as pd\n",
    "\n",
    "fasta_file = \"../data/sequence_libraries/pseudoknot90_puzzle_11387276.tsv.RNA_sequences.fa\"\n",
    "sequences = []\n",
    "\n",
    "for record in SeqIO.parse(fasta_file, \"fasta\"):\n",
    "    sequences.append({\"sequence_id\": record.id, \"sequence\": str(record.seq)})\n",
    "\n",
    "df = pd.DataFrame(sequences)\n",
    "from collections import defaultdict\n",
    "\n",
    "clstr_file = \"cdhit_output.clstr\"\n",
    "\n",
    "# Initialize a dictionary to hold sequence IDs and their corresponding cluster IDs\n",
    "seq_to_cluster = defaultdict(str)\n",
    "\n",
    "# Read and parse the .clstr file\n",
    "current_cluster_id = None\n",
    "with open(clstr_file, 'r') as f:\n",
    "    for line in f:\n",
    "        line = line.strip()\n",
    "        if line.startswith(\">Cluster\"):\n",
    "            current_cluster_id = line.split(\" \")[1]\n",
    "        else:\n",
    "            sequence_id = line.split(\" \")[1].split(\">\")[1].split(\"...\")[0]\n",
    "            seq_to_cluster[sequence_id] = current_cluster_id\n",
    "            \n",
    "from Bio import pairwise2\n",
    "from collections import defaultdict\n",
    "import numpy as np\n",
    "\n",
    "def calculate_similarity(sub_df):\n",
    "    sequences = sub_df['sequence'].tolist()\n",
    "    sequence_ids = sub_df['sequence_id'].tolist()\n",
    "    avg_similarity_scores = defaultdict(float)\n",
    "    \n",
    "    for i in range(len(sequences)):\n",
    "        scores = []\n",
    "        for j in range(len(sequences)):\n",
    "            if i != j:\n",
    "                alignments = pairwise2.align.globalxx(sequences[i], sequences[j])\n",
    "                scores.append(alignments[0].score / min(len(sequences[i]), len(sequences[j])))  # Normalized by sequence length\n",
    "        avg_similarity_scores[sequence_ids[i]] = np.mean(scores)\n",
    "        \n",
    "    return avg_similarity_scores\n",
    "\n",
    "import matplotlib.pyplot as plt\n",
    "import numpy as np\n",
    "\n",
    "def plot_sequence_similarity(sequences):\n",
    "    num_sequences = len(sequences)\n",
    "    sequence_length = len(sequences[0])  # Assumes all sequences have the same length\n",
    "    \n",
    "    fig, ax = plt.subplots(figsize=(20, num_sequences))\n",
    "    \n",
    "    for i, seq in enumerate(sequences):\n",
    "        for j in range(sequence_length):\n",
    "            nucleotide = seq[j]\n",
    "            \n",
    "            # Check if the nucleotide at this position is the same in all sequences\n",
    "            if all(s[j] == nucleotide for s in sequences):\n",
    "                color = 'g'  # green\n",
    "            else:\n",
    "                color = 'r'  # red\n",
    "            \n",
    "            ax.add_patch(plt.Rectangle((j, i), 1, 1, color=color))\n",
    "\n",
    "    ax.set_xlim(0, sequence_length)\n",
    "    ax.set_ylim(0, num_sequences)\n",
    "    ax.set_aspect('auto')\n",
    "    \n",
    "    plt.show()\n"
   ]
  },
  {
   "cell_type": "code",
   "execution_count": null,
   "metadata": {
    "tags": []
   },
   "outputs": [],
   "source": [
    "df[\"cluster_id\"] = df[\"sequence_id\"].map(seq_to_cluster)\n",
    "df[\"cluster_id\"] = df[\"cluster_id\"].apply(int)"
   ]
  },
  {
   "cell_type": "code",
   "execution_count": null,
   "metadata": {
    "tags": []
   },
   "outputs": [],
   "source": [
    "df.query(\"cluster_id==1\")"
   ]
  },
  {
   "cell_type": "code",
   "execution_count": null,
   "metadata": {
    "tags": []
   },
   "outputs": [],
   "source": [
    "df"
   ]
  },
  {
   "cell_type": "code",
   "execution_count": null,
   "metadata": {
    "tags": []
   },
   "outputs": [],
   "source": [
    "calculate_similarity(df.query(\"cluster_id==3\"))"
   ]
  },
  {
   "cell_type": "code",
   "execution_count": null,
   "metadata": {
    "tags": []
   },
   "outputs": [],
   "source": [
    "plot_sequence_similarity(df.query(\"cluster_id==1\")['sequence'].tolist())"
   ]
  },
  {
   "cell_type": "code",
   "execution_count": null,
   "metadata": {
    "tags": []
   },
   "outputs": [],
   "source": [
    "np.unique(df[\"cluster_id\"].values).shape"
   ]
  },
  {
   "cell_type": "code",
   "execution_count": null,
   "metadata": {},
   "outputs": [],
   "source": []
  },
  {
   "cell_type": "code",
   "execution_count": null,
   "metadata": {},
   "outputs": [],
   "source": []
  },
  {
   "cell_type": "code",
   "execution_count": null,
   "metadata": {
    "tags": []
   },
   "outputs": [],
   "source": []
  },
  {
   "cell_type": "code",
   "execution_count": 8,
   "metadata": {
    "tags": []
   },
   "outputs": [],
   "source": [
    "import polars as pl\n",
    "\n",
    "def parquet_to_fasta(parquet_file_path, fasta_file_path):\n",
    "    # Read the parquet file using Polars\n",
    "    df = pl.read_parquet(parquet_file_path)\n",
    "    \n",
    "    # Check if the required columns are present in the DataFrame\n",
    "    if \"sequence_id\" not in df.columns or \"sequence\" not in df.columns:\n",
    "        raise ValueError(\"The Parquet file must contain 'sequence_id' and 'sequence' columns.\")\n",
    "\n",
    "    # Open a file to write the FASTA format\n",
    "    with open(fasta_file_path, 'w') as fasta_file:\n",
    "        # Iterate through each row in the DataFrame\n",
    "        for index, row in df.iterrows():\n",
    "            sequence_id = row['sequence_id']\n",
    "            sequence = row['sequence']\n",
    "\n",
    "            # Write each sequence to the FASTA file in the format:\n",
    "            # >sequence_id\n",
    "            # sequence\n",
    "            fasta_file.write(f\">{sequence_id}\\n\")\n",
    "            fasta_file.write(f\"{sequence}\\n\")\n"
   ]
  },
  {
   "cell_type": "code",
   "execution_count": 7,
   "metadata": {
    "tags": []
   },
   "outputs": [
    {
     "data": {
      "text/html": [
       "<div><style>\n",
       ".dataframe > thead > tr > th,\n",
       ".dataframe > tbody > tr > td {\n",
       "  text-align: right;\n",
       "}\n",
       "</style>\n",
       "<small>shape: (806_573, 6)</small><table border=\"1\" class=\"dataframe\"><thead><tr><th>sequence_id</th><th>sequence</th><th>ss_full</th><th>ss_full_mfe</th><th>ss_roi</th><th>ss_roi_mfe</th></tr><tr><td>str</td><td>str</td><td>str</td><td>f64</td><td>str</td><td>f64</td></tr></thead><tbody><tr><td>&quot;182b58b24008&quot;</td><td>&quot;GGGAACGACUCGAG…</td><td>&quot;.(((.((((((...…</td><td>-34.200001</td><td>&quot;..............…</td><td>-23.1</td></tr><tr><td>&quot;cd185aaf6004&quot;</td><td>&quot;GGGAACGACUCGAG…</td><td>&quot;.....((((((...…</td><td>-48.0</td><td>&quot;(((((((..(((..…</td><td>-37.299999</td></tr><tr><td>&quot;78262f2fb07a&quot;</td><td>&quot;GGGAACGACUCGAG…</td><td>&quot;.....((((((...…</td><td>-38.799999</td><td>&quot;....((((.(((((…</td><td>-28.200001</td></tr><tr><td>&quot;3418ecb4a0df&quot;</td><td>&quot;GGGAACGACUCGAG…</td><td>&quot;.....((((((...…</td><td>-63.099998</td><td>&quot;((((((.....)))…</td><td>-50.200001</td></tr><tr><td>&quot;d3f087530d0b&quot;</td><td>&quot;GGGAACGACUCGAG…</td><td>&quot;.....((((((...…</td><td>-65.599998</td><td>&quot;((((((...((((.…</td><td>-55.299999</td></tr><tr><td>&quot;29a830d3f7e9&quot;</td><td>&quot;GGGAACGACUCGAG…</td><td>&quot;.(((.((((((...…</td><td>-41.900002</td><td>&quot;..............…</td><td>-30.6</td></tr><tr><td>&quot;f00e92d44902&quot;</td><td>&quot;GGGAACGACUCGAG…</td><td>&quot;.....((((((...…</td><td>-49.0</td><td>&quot;(((.(((((...((…</td><td>-38.900002</td></tr><tr><td>&quot;22d14a849330&quot;</td><td>&quot;GGGAACGACUCGAG…</td><td>&quot;((...((((((...…</td><td>-49.099998</td><td>&quot;(((((....)))))…</td><td>-36.799999</td></tr><tr><td>&quot;2454e1d567ce&quot;</td><td>&quot;GGGAACGACUCGAG…</td><td>&quot;((((.((((((...…</td><td>-48.799999</td><td>&quot;....(((((((((.…</td><td>-36.0</td></tr><tr><td>&quot;29f02a9d8de1&quot;</td><td>&quot;GGGAACGACUCGAG…</td><td>&quot;(((((((((((...…</td><td>-62.299999</td><td>&quot;.........(((((…</td><td>-50.299999</td></tr><tr><td>&quot;794649a25391&quot;</td><td>&quot;GGGAACGACUCGAG…</td><td>&quot;.....((((((...…</td><td>-64.199997</td><td>&quot;((((((((((((((…</td><td>-52.299999</td></tr><tr><td>&quot;0569a538cac9&quot;</td><td>&quot;GGGAACGACUCGAG…</td><td>&quot;.....((((((...…</td><td>-53.700001</td><td>&quot;.......(((((((…</td><td>-43.200001</td></tr><tr><td>&hellip;</td><td>&hellip;</td><td>&hellip;</td><td>&hellip;</td><td>&hellip;</td><td>&hellip;</td></tr><tr><td>&quot;0bbe65f29480&quot;</td><td>&quot;GGGAACGACUCGAG…</td><td>&quot;.....((((((...…</td><td>-42.150002</td><td>&quot;.............(…</td><td>-30.950001</td></tr><tr><td>&quot;a2cbc0b32307&quot;</td><td>&quot;GGGAACGACUCGAG…</td><td>&quot;.((((((((((...…</td><td>-64.0</td><td>&quot;..(((((((((...…</td><td>-52.900002</td></tr><tr><td>&quot;54e3870d2a51&quot;</td><td>&quot;GGGAACGACUCGAG…</td><td>&quot;.....((((((...…</td><td>-80.0</td><td>&quot;((((((.(.((.((…</td><td>-70.5</td></tr><tr><td>&quot;59f5c0a86cfa&quot;</td><td>&quot;GGGAACGACUCGAG…</td><td>&quot;((...((((((...…</td><td>-51.799999</td><td>&quot;(((......)))((…</td><td>-41.200001</td></tr><tr><td>&quot;4244f3ae6531&quot;</td><td>&quot;GGGAACGACUCGAG…</td><td>&quot;.....((((((...…</td><td>-48.299999</td><td>&quot;....(((.((((..…</td><td>-37.799999</td></tr><tr><td>&quot;0da54ff118b8&quot;</td><td>&quot;GGGAACGACUCGAG…</td><td>&quot;(((..((((((...…</td><td>-52.700001</td><td>&quot;.........(((((…</td><td>-40.400002</td></tr><tr><td>&quot;af84f7c9d4a9&quot;</td><td>&quot;GGGAACGACUCGAG…</td><td>&quot;.....((((((...…</td><td>-50.400002</td><td>&quot;.((((.(((.....…</td><td>-40.0</td></tr><tr><td>&quot;d65fe31114e0&quot;</td><td>&quot;GGGAACGACUCGAG…</td><td>&quot;.....((((((...…</td><td>-35.099998</td><td>&quot;..((..(.((((.(…</td><td>-24.6</td></tr><tr><td>&quot;153af8f0b4c7&quot;</td><td>&quot;GGGAACGACUCGAG…</td><td>&quot;.....((((((...…</td><td>-54.5</td><td>&quot;..((((((((((.(…</td><td>-44.700001</td></tr><tr><td>&quot;6ddd6230a9cd&quot;</td><td>&quot;GGGAACGACUCGAG…</td><td>&quot;.....((((((...…</td><td>-39.400002</td><td>&quot;.....(((((....…</td><td>-29.6</td></tr><tr><td>&quot;24453d984e3f&quot;</td><td>&quot;GGGAACGACUCGAG…</td><td>&quot;.....((((((...…</td><td>-23.6</td><td>&quot;.............(…</td><td>-13.8</td></tr><tr><td>&quot;280f48ef8ed0&quot;</td><td>&quot;GGGAACGACUCGAG…</td><td>&quot;.....((((((...…</td><td>-41.400002</td><td>&quot;..((((((((((.(…</td><td>-31.6</td></tr></tbody></table></div>"
      ],
      "text/plain": [
       "shape: (806_573, 6)\n",
       "┌──────────────┬──────────────────┬──────────────────┬─────────────┬──────────────────┬────────────┐\n",
       "│ sequence_id  ┆ sequence         ┆ ss_full          ┆ ss_full_mfe ┆ ss_roi           ┆ ss_roi_mfe │\n",
       "│ ---          ┆ ---              ┆ ---              ┆ ---         ┆ ---              ┆ ---        │\n",
       "│ str          ┆ str              ┆ str              ┆ f64         ┆ str              ┆ f64        │\n",
       "╞══════════════╪══════════════════╪══════════════════╪═════════════╪══════════════════╪════════════╡\n",
       "│ 182b58b24008 ┆ GGGAACGACUCGAGUA ┆ .(((.((((((..... ┆ -34.200001  ┆ ..............(( ┆ -23.1      │\n",
       "│              ┆ GAGUCGAAAACAAAUU ┆ )))))).......... ┆             ┆ ((((((.........) ┆            │\n",
       "│              ┆ …                ┆ …                ┆             ┆ …                ┆            │\n",
       "│ cd185aaf6004 ┆ GGGAACGACUCGAGUA ┆ .....((((((..... ┆ -48.0       ┆ (((((((..(((..(( ┆ -37.299999 │\n",
       "│              ┆ GAGUCGAAAAUCUUAU ┆ ))))))....(((((( ┆             ┆ (((((....))))))) ┆            │\n",
       "│              ┆ …                ┆ …                ┆             ┆ …                ┆            │\n",
       "│ 78262f2fb07a ┆ GGGAACGACUCGAGUA ┆ .....((((((..... ┆ -38.799999  ┆ ....((((.((((((( ┆ -28.200001 │\n",
       "│              ┆ GAGUCGAAAAUGAUAC ┆ ))))))........(( ┆             ┆ ((((.....)))).)) ┆            │\n",
       "│              ┆ …                ┆ …                ┆             ┆ …                ┆            │\n",
       "│ 3418ecb4a0df ┆ GGGAACGACUCGAGUA ┆ .....((((((..... ┆ -63.099998  ┆ ((((((.....))))) ┆ -50.200001 │\n",
       "│              ┆ GAGUCGAAAAUCUUUC ┆ ))))))...((((((( ┆             ┆ )...(((......))) ┆            │\n",
       "│              ┆ …                ┆ …                ┆             ┆ …                ┆            │\n",
       "│ …            ┆ …                ┆ …                ┆ …           ┆ …                ┆ …          │\n",
       "│ 153af8f0b4c7 ┆ GGGAACGACUCGAGUA ┆ .....((((((..... ┆ -54.5       ┆ ..((((((((((.((( ┆ -44.700001 │\n",
       "│              ┆ GAGUCGAAAAGGAACU ┆ ))))))......(((( ┆             ┆ (((.........)))) ┆            │\n",
       "│              ┆ …                ┆ …                ┆             ┆ …                ┆            │\n",
       "│ 6ddd6230a9cd ┆ GGGAACGACUCGAGUA ┆ .....((((((..... ┆ -39.400002  ┆ .....(((((.....( ┆ -29.6      │\n",
       "│              ┆ GAGUCGAAAAGAGAAG ┆ )))))).........( ┆             ┆ (...((...))...)) ┆            │\n",
       "│              ┆ …                ┆ …                ┆             ┆ …                ┆            │\n",
       "│ 24453d984e3f ┆ GGGAACGACUCGAGUA ┆ .....((((((..... ┆ -23.6       ┆ .............((( ┆ -13.8      │\n",
       "│              ┆ GAGUCGAAAAUGACGA ┆ )))))).......... ┆             ┆ ((..(.((........ ┆            │\n",
       "│              ┆ …                ┆ …                ┆             ┆ …                ┆            │\n",
       "│ 280f48ef8ed0 ┆ GGGAACGACUCGAGUA ┆ .....((((((..... ┆ -41.400002  ┆ ..((((((((((.((( ┆ -31.6      │\n",
       "│              ┆ GAGUCGAAAACAGCCU ┆ ))))))......(((( ┆             ┆ (........))))..( ┆            │\n",
       "│              ┆ …                ┆ …                ┆             ┆ …                ┆            │\n",
       "└──────────────┴──────────────────┴──────────────────┴─────────────┴──────────────────┴────────────┘"
      ]
     },
     "execution_count": 7,
     "metadata": {},
     "output_type": "execute_result"
    }
   ],
   "source": [
    "    pl.read_parquet(\"train_ss_vienna_rna.parquet\")"
   ]
  },
  {
   "cell_type": "code",
   "execution_count": null,
   "metadata": {},
   "outputs": [],
   "source": []
  }
 ],
 "metadata": {
  "kernelspec": {
   "display_name": "Python 3 (ipykernel)",
   "language": "python",
   "name": "python3"
  },
  "language_info": {
   "codemirror_mode": {
    "name": "ipython",
    "version": 3
   },
   "file_extension": ".py",
   "mimetype": "text/x-python",
   "name": "python",
   "nbconvert_exporter": "python",
   "pygments_lexer": "ipython3",
   "version": "3.10.12"
  }
 },
 "nbformat": 4,
 "nbformat_minor": 4
}
