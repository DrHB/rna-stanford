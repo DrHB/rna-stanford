{
 "cells": [
  {
   "cell_type": "code",
   "execution_count": 1,
   "metadata": {},
   "outputs": [
    {
     "name": "stderr",
     "output_type": "stream",
     "text": [
      "/opt/conda/lib/python3.10/site-packages/scipy/__init__.py:146: UserWarning: A NumPy version >=1.16.5 and <1.23.0 is required for this version of SciPy (detected version 1.23.5\n",
      "  warnings.warn(f\"A NumPy version >={np_minversion} and <{np_maxversion}\"\n"
     ]
    }
   ],
   "source": [
    "import polars as pl\n",
    "from pathlib import Path\n",
    "import pandas as pd\n",
    "import matplotlib.pyplot as plt\n",
    "import seaborn as sns\n",
    "import numpy as np"
   ]
  },
  {
   "cell_type": "code",
   "execution_count": 2,
   "metadata": {},
   "outputs": [
    {
     "name": "stdout",
     "output_type": "stream",
     "text": [
      "Ribonanza_bpp_files\t  sequence_libraries\t\t    train_data.csv\n",
      "eterna_openknot_metadata  supplementary_silico_predictions\n",
      "sample_submission.csv\t  test_sequences.csv\n"
     ]
    }
   ],
   "source": [
    "!ls ../data/"
   ]
  },
  {
   "cell_type": "code",
   "execution_count": 3,
   "metadata": {},
   "outputs": [],
   "source": [
    "path = Path('../data/')"
   ]
  },
  {
   "cell_type": "code",
   "execution_count": 4,
   "metadata": {},
   "outputs": [
    {
     "data": {
      "text/html": [
       "<div><style>\n",
       ".dataframe > thead > tr > th,\n",
       ".dataframe > tbody > tr > td {\n",
       "  text-align: right;\n",
       "}\n",
       "</style>\n",
       "<small>shape: (1_643_680, 420)</small><table border=\"1\" class=\"dataframe\"><thead><tr><th>sequence_id</th><th>sequence</th><th>experiment_type</th><th>dataset_name</th><th>reads</th><th>signal_to_noise</th><th>SN_filter</th><th>reactivity_0001</th><th>reactivity_0002</th><th>reactivity_0003</th><th>reactivity_0004</th><th>reactivity_0005</th><th>reactivity_0006</th><th>reactivity_0007</th><th>reactivity_0008</th><th>reactivity_0009</th><th>reactivity_0010</th><th>reactivity_0011</th><th>reactivity_0012</th><th>reactivity_0013</th><th>reactivity_0014</th><th>reactivity_0015</th><th>reactivity_0016</th><th>reactivity_0017</th><th>reactivity_0018</th><th>reactivity_0019</th><th>reactivity_0020</th><th>reactivity_0021</th><th>reactivity_0022</th><th>reactivity_0023</th><th>reactivity_0024</th><th>reactivity_0025</th><th>reactivity_0026</th><th>reactivity_0027</th><th>reactivity_0028</th><th>reactivity_0029</th><th>reactivity_0030</th><th>&hellip;</th><th>reactivity_0200</th><th>reactivity_0201</th><th>reactivity_0202</th><th>reactivity_0203</th><th>reactivity_0204</th><th>reactivity_0205</th><th>reactivity_0206</th><th>reactivity_error_0178</th><th>reactivity_error_0179</th><th>reactivity_error_0180</th><th>reactivity_error_0181</th><th>reactivity_error_0182</th><th>reactivity_error_0183</th><th>reactivity_error_0184</th><th>reactivity_error_0185</th><th>reactivity_error_0186</th><th>reactivity_error_0187</th><th>reactivity_error_0188</th><th>reactivity_error_0189</th><th>reactivity_error_0190</th><th>reactivity_error_0191</th><th>reactivity_error_0192</th><th>reactivity_error_0193</th><th>reactivity_error_0194</th><th>reactivity_error_0195</th><th>reactivity_error_0196</th><th>reactivity_error_0197</th><th>reactivity_error_0198</th><th>reactivity_error_0199</th><th>reactivity_error_0200</th><th>reactivity_error_0201</th><th>reactivity_error_0202</th><th>reactivity_error_0203</th><th>reactivity_error_0204</th><th>reactivity_error_0205</th><th>reactivity_error_0206</th><th>rna_length</th></tr><tr><td>str</td><td>str</td><td>str</td><td>str</td><td>i64</td><td>f64</td><td>i64</td><td>str</td><td>str</td><td>str</td><td>str</td><td>str</td><td>str</td><td>str</td><td>str</td><td>str</td><td>str</td><td>str</td><td>str</td><td>str</td><td>str</td><td>str</td><td>str</td><td>str</td><td>str</td><td>str</td><td>str</td><td>str</td><td>str</td><td>str</td><td>str</td><td>str</td><td>str</td><td>f64</td><td>f64</td><td>f64</td><td>f64</td><td>&hellip;</td><td>str</td><td>str</td><td>str</td><td>str</td><td>str</td><td>str</td><td>str</td><td>str</td><td>str</td><td>str</td><td>str</td><td>str</td><td>str</td><td>str</td><td>str</td><td>str</td><td>str</td><td>str</td><td>str</td><td>str</td><td>str</td><td>str</td><td>str</td><td>str</td><td>str</td><td>str</td><td>str</td><td>str</td><td>str</td><td>str</td><td>str</td><td>str</td><td>str</td><td>str</td><td>str</td><td>str</td><td>i64</td></tr></thead><tbody><tr><td>&quot;8cdfeef009ea&quot;</td><td>&quot;GGGAACGACUCGAG…</td><td>&quot;2A3_MaP&quot;</td><td>&quot;15k_2A3&quot;</td><td>2343</td><td>0.944</td><td>0</td><td>null</td><td>null</td><td>null</td><td>null</td><td>null</td><td>null</td><td>null</td><td>null</td><td>null</td><td>null</td><td>null</td><td>null</td><td>null</td><td>null</td><td>null</td><td>null</td><td>null</td><td>null</td><td>null</td><td>null</td><td>null</td><td>null</td><td>null</td><td>null</td><td>null</td><td>null</td><td>-0.039</td><td>0.455</td><td>-0.207</td><td>-0.098</td><td>&hellip;</td><td>null</td><td>null</td><td>null</td><td>null</td><td>null</td><td>null</td><td>null</td><td>null</td><td>null</td><td>null</td><td>null</td><td>null</td><td>null</td><td>null</td><td>null</td><td>null</td><td>null</td><td>null</td><td>null</td><td>null</td><td>null</td><td>null</td><td>null</td><td>null</td><td>null</td><td>null</td><td>null</td><td>null</td><td>null</td><td>null</td><td>null</td><td>null</td><td>null</td><td>null</td><td>null</td><td>null</td><td>170</td></tr><tr><td>&quot;51e61fbde94d&quot;</td><td>&quot;GGGAACGACUCGAG…</td><td>&quot;2A3_MaP&quot;</td><td>&quot;15k_2A3&quot;</td><td>5326</td><td>1.933</td><td>1</td><td>null</td><td>null</td><td>null</td><td>null</td><td>null</td><td>null</td><td>null</td><td>null</td><td>null</td><td>null</td><td>null</td><td>null</td><td>null</td><td>null</td><td>null</td><td>null</td><td>null</td><td>null</td><td>null</td><td>null</td><td>null</td><td>null</td><td>null</td><td>null</td><td>null</td><td>null</td><td>-0.036</td><td>0.683</td><td>0.189</td><td>-0.005</td><td>&hellip;</td><td>null</td><td>null</td><td>null</td><td>null</td><td>null</td><td>null</td><td>null</td><td>null</td><td>null</td><td>null</td><td>null</td><td>null</td><td>null</td><td>null</td><td>null</td><td>null</td><td>null</td><td>null</td><td>null</td><td>null</td><td>null</td><td>null</td><td>null</td><td>null</td><td>null</td><td>null</td><td>null</td><td>null</td><td>null</td><td>null</td><td>null</td><td>null</td><td>null</td><td>null</td><td>null</td><td>null</td><td>170</td></tr><tr><td>&quot;25ce8d5109cd&quot;</td><td>&quot;GGGAACGACUCGAG…</td><td>&quot;2A3_MaP&quot;</td><td>&quot;15k_2A3&quot;</td><td>4647</td><td>2.347</td><td>1</td><td>null</td><td>null</td><td>null</td><td>null</td><td>null</td><td>null</td><td>null</td><td>null</td><td>null</td><td>null</td><td>null</td><td>null</td><td>null</td><td>null</td><td>null</td><td>null</td><td>null</td><td>null</td><td>null</td><td>null</td><td>null</td><td>null</td><td>null</td><td>null</td><td>null</td><td>null</td><td>-0.039</td><td>0.354</td><td>-0.573</td><td>-0.061</td><td>&hellip;</td><td>null</td><td>null</td><td>null</td><td>null</td><td>null</td><td>null</td><td>null</td><td>null</td><td>null</td><td>null</td><td>null</td><td>null</td><td>null</td><td>null</td><td>null</td><td>null</td><td>null</td><td>null</td><td>null</td><td>null</td><td>null</td><td>null</td><td>null</td><td>null</td><td>null</td><td>null</td><td>null</td><td>null</td><td>null</td><td>null</td><td>null</td><td>null</td><td>null</td><td>null</td><td>null</td><td>null</td><td>170</td></tr><tr><td>&quot;07dcfb6d1965&quot;</td><td>&quot;GGGAACGACUCGAG…</td><td>&quot;2A3_MaP&quot;</td><td>&quot;15k_2A3&quot;</td><td>102843</td><td>11.824</td><td>1</td><td>null</td><td>null</td><td>null</td><td>null</td><td>null</td><td>null</td><td>null</td><td>null</td><td>null</td><td>null</td><td>null</td><td>null</td><td>null</td><td>null</td><td>null</td><td>null</td><td>null</td><td>null</td><td>null</td><td>null</td><td>null</td><td>null</td><td>null</td><td>null</td><td>null</td><td>null</td><td>0.156</td><td>0.435</td><td>0.138</td><td>0.16</td><td>&hellip;</td><td>null</td><td>null</td><td>null</td><td>null</td><td>null</td><td>null</td><td>null</td><td>null</td><td>null</td><td>null</td><td>null</td><td>null</td><td>null</td><td>null</td><td>null</td><td>null</td><td>null</td><td>null</td><td>null</td><td>null</td><td>null</td><td>null</td><td>null</td><td>null</td><td>null</td><td>null</td><td>null</td><td>null</td><td>null</td><td>null</td><td>null</td><td>null</td><td>null</td><td>null</td><td>null</td><td>null</td><td>170</td></tr><tr><td>&quot;e561cc042a4c&quot;</td><td>&quot;GGGAACGACUCGAG…</td><td>&quot;2A3_MaP&quot;</td><td>&quot;15k_2A3&quot;</td><td>7665</td><td>3.519</td><td>1</td><td>null</td><td>null</td><td>null</td><td>null</td><td>null</td><td>null</td><td>null</td><td>null</td><td>null</td><td>null</td><td>null</td><td>null</td><td>null</td><td>null</td><td>null</td><td>null</td><td>null</td><td>null</td><td>null</td><td>null</td><td>null</td><td>null</td><td>null</td><td>null</td><td>null</td><td>null</td><td>-0.086</td><td>1.018</td><td>0.354</td><td>0.577</td><td>&hellip;</td><td>null</td><td>null</td><td>null</td><td>null</td><td>null</td><td>null</td><td>null</td><td>null</td><td>null</td><td>null</td><td>null</td><td>null</td><td>null</td><td>null</td><td>null</td><td>null</td><td>null</td><td>null</td><td>null</td><td>null</td><td>null</td><td>null</td><td>null</td><td>null</td><td>null</td><td>null</td><td>null</td><td>null</td><td>null</td><td>null</td><td>null</td><td>null</td><td>null</td><td>null</td><td>null</td><td>null</td><td>170</td></tr><tr><td>&quot;aa948762535f&quot;</td><td>&quot;GGGAACGACUCGAG…</td><td>&quot;2A3_MaP&quot;</td><td>&quot;15k_2A3&quot;</td><td>14018</td><td>3.219</td><td>1</td><td>null</td><td>null</td><td>null</td><td>null</td><td>null</td><td>null</td><td>null</td><td>null</td><td>null</td><td>null</td><td>null</td><td>null</td><td>null</td><td>null</td><td>null</td><td>null</td><td>null</td><td>null</td><td>null</td><td>null</td><td>null</td><td>null</td><td>null</td><td>null</td><td>null</td><td>null</td><td>-0.055</td><td>0.641</td><td>-0.123</td><td>-0.419</td><td>&hellip;</td><td>null</td><td>null</td><td>null</td><td>null</td><td>null</td><td>null</td><td>null</td><td>null</td><td>null</td><td>null</td><td>null</td><td>null</td><td>null</td><td>null</td><td>null</td><td>null</td><td>null</td><td>null</td><td>null</td><td>null</td><td>null</td><td>null</td><td>null</td><td>null</td><td>null</td><td>null</td><td>null</td><td>null</td><td>null</td><td>null</td><td>null</td><td>null</td><td>null</td><td>null</td><td>null</td><td>null</td><td>170</td></tr><tr><td>&quot;060560e13efc&quot;</td><td>&quot;GGGAACGACUCGAG…</td><td>&quot;2A3_MaP&quot;</td><td>&quot;15k_2A3&quot;</td><td>16762</td><td>4.356</td><td>1</td><td>null</td><td>null</td><td>null</td><td>null</td><td>null</td><td>null</td><td>null</td><td>null</td><td>null</td><td>null</td><td>null</td><td>null</td><td>null</td><td>null</td><td>null</td><td>null</td><td>null</td><td>null</td><td>null</td><td>null</td><td>null</td><td>null</td><td>null</td><td>null</td><td>null</td><td>null</td><td>-0.198</td><td>0.844</td><td>0.312</td><td>-0.737</td><td>&hellip;</td><td>null</td><td>null</td><td>null</td><td>null</td><td>null</td><td>null</td><td>null</td><td>null</td><td>null</td><td>null</td><td>null</td><td>null</td><td>null</td><td>null</td><td>null</td><td>null</td><td>null</td><td>null</td><td>null</td><td>null</td><td>null</td><td>null</td><td>null</td><td>null</td><td>null</td><td>null</td><td>null</td><td>null</td><td>null</td><td>null</td><td>null</td><td>null</td><td>null</td><td>null</td><td>null</td><td>null</td><td>170</td></tr><tr><td>&quot;fcc4f8255a75&quot;</td><td>&quot;GGGAACGACUCGAG…</td><td>&quot;2A3_MaP&quot;</td><td>&quot;15k_2A3&quot;</td><td>29872</td><td>4.606</td><td>1</td><td>null</td><td>null</td><td>null</td><td>null</td><td>null</td><td>null</td><td>null</td><td>null</td><td>null</td><td>null</td><td>null</td><td>null</td><td>null</td><td>null</td><td>null</td><td>null</td><td>null</td><td>null</td><td>null</td><td>null</td><td>null</td><td>null</td><td>null</td><td>null</td><td>null</td><td>null</td><td>-0.036</td><td>0.854</td><td>0.237</td><td>0.358</td><td>&hellip;</td><td>null</td><td>null</td><td>null</td><td>null</td><td>null</td><td>null</td><td>null</td><td>null</td><td>null</td><td>null</td><td>null</td><td>null</td><td>null</td><td>null</td><td>null</td><td>null</td><td>null</td><td>null</td><td>null</td><td>null</td><td>null</td><td>null</td><td>null</td><td>null</td><td>null</td><td>null</td><td>null</td><td>null</td><td>null</td><td>null</td><td>null</td><td>null</td><td>null</td><td>null</td><td>null</td><td>null</td><td>170</td></tr><tr><td>&quot;470c8b446927&quot;</td><td>&quot;GGGAACGACUCGAG…</td><td>&quot;2A3_MaP&quot;</td><td>&quot;15k_2A3&quot;</td><td>142531</td><td>5.465</td><td>1</td><td>null</td><td>null</td><td>null</td><td>null</td><td>null</td><td>null</td><td>null</td><td>null</td><td>null</td><td>null</td><td>null</td><td>null</td><td>null</td><td>null</td><td>null</td><td>null</td><td>null</td><td>null</td><td>null</td><td>null</td><td>null</td><td>null</td><td>null</td><td>null</td><td>null</td><td>null</td><td>0.115</td><td>0.754</td><td>0.055</td><td>0.146</td><td>&hellip;</td><td>null</td><td>null</td><td>null</td><td>null</td><td>null</td><td>null</td><td>null</td><td>null</td><td>null</td><td>null</td><td>null</td><td>null</td><td>null</td><td>null</td><td>null</td><td>null</td><td>null</td><td>null</td><td>null</td><td>null</td><td>null</td><td>null</td><td>null</td><td>null</td><td>null</td><td>null</td><td>null</td><td>null</td><td>null</td><td>null</td><td>null</td><td>null</td><td>null</td><td>null</td><td>null</td><td>null</td><td>170</td></tr><tr><td>&quot;c7712b3f912d&quot;</td><td>&quot;GGGAACGACUCGAG…</td><td>&quot;2A3_MaP&quot;</td><td>&quot;15k_2A3&quot;</td><td>8934</td><td>2.705</td><td>1</td><td>null</td><td>null</td><td>null</td><td>null</td><td>null</td><td>null</td><td>null</td><td>null</td><td>null</td><td>null</td><td>null</td><td>null</td><td>null</td><td>null</td><td>null</td><td>null</td><td>null</td><td>null</td><td>null</td><td>null</td><td>null</td><td>null</td><td>null</td><td>null</td><td>null</td><td>null</td><td>0.276</td><td>0.663</td><td>0.083</td><td>0.353</td><td>&hellip;</td><td>null</td><td>null</td><td>null</td><td>null</td><td>null</td><td>null</td><td>null</td><td>null</td><td>null</td><td>null</td><td>null</td><td>null</td><td>null</td><td>null</td><td>null</td><td>null</td><td>null</td><td>null</td><td>null</td><td>null</td><td>null</td><td>null</td><td>null</td><td>null</td><td>null</td><td>null</td><td>null</td><td>null</td><td>null</td><td>null</td><td>null</td><td>null</td><td>null</td><td>null</td><td>null</td><td>null</td><td>170</td></tr><tr><td>&quot;61a357b74f51&quot;</td><td>&quot;GGGAACGACUCGAG…</td><td>&quot;2A3_MaP&quot;</td><td>&quot;15k_2A3&quot;</td><td>49408</td><td>4.448</td><td>1</td><td>null</td><td>null</td><td>null</td><td>null</td><td>null</td><td>null</td><td>null</td><td>null</td><td>null</td><td>null</td><td>null</td><td>null</td><td>null</td><td>null</td><td>null</td><td>null</td><td>null</td><td>null</td><td>null</td><td>null</td><td>null</td><td>null</td><td>null</td><td>null</td><td>null</td><td>null</td><td>-0.018</td><td>0.75</td><td>-0.014</td><td>0.102</td><td>&hellip;</td><td>null</td><td>null</td><td>null</td><td>null</td><td>null</td><td>null</td><td>null</td><td>null</td><td>null</td><td>null</td><td>null</td><td>null</td><td>null</td><td>null</td><td>null</td><td>null</td><td>null</td><td>null</td><td>null</td><td>null</td><td>null</td><td>null</td><td>null</td><td>null</td><td>null</td><td>null</td><td>null</td><td>null</td><td>null</td><td>null</td><td>null</td><td>null</td><td>null</td><td>null</td><td>null</td><td>null</td><td>170</td></tr><tr><td>&quot;db844b9f1869&quot;</td><td>&quot;GGGAACGACUCGAG…</td><td>&quot;2A3_MaP&quot;</td><td>&quot;15k_2A3&quot;</td><td>2391</td><td>1.295</td><td>1</td><td>null</td><td>null</td><td>null</td><td>null</td><td>null</td><td>null</td><td>null</td><td>null</td><td>null</td><td>null</td><td>null</td><td>null</td><td>null</td><td>null</td><td>null</td><td>null</td><td>null</td><td>null</td><td>null</td><td>null</td><td>null</td><td>null</td><td>null</td><td>null</td><td>null</td><td>null</td><td>-0.015</td><td>0.703</td><td>0.09</td><td>0.27</td><td>&hellip;</td><td>null</td><td>null</td><td>null</td><td>null</td><td>null</td><td>null</td><td>null</td><td>null</td><td>null</td><td>null</td><td>null</td><td>null</td><td>null</td><td>null</td><td>null</td><td>null</td><td>null</td><td>null</td><td>null</td><td>null</td><td>null</td><td>null</td><td>null</td><td>null</td><td>null</td><td>null</td><td>null</td><td>null</td><td>null</td><td>null</td><td>null</td><td>null</td><td>null</td><td>null</td><td>null</td><td>null</td><td>170</td></tr><tr><td>&hellip;</td><td>&hellip;</td><td>&hellip;</td><td>&hellip;</td><td>&hellip;</td><td>&hellip;</td><td>&hellip;</td><td>&hellip;</td><td>&hellip;</td><td>&hellip;</td><td>&hellip;</td><td>&hellip;</td><td>&hellip;</td><td>&hellip;</td><td>&hellip;</td><td>&hellip;</td><td>&hellip;</td><td>&hellip;</td><td>&hellip;</td><td>&hellip;</td><td>&hellip;</td><td>&hellip;</td><td>&hellip;</td><td>&hellip;</td><td>&hellip;</td><td>&hellip;</td><td>&hellip;</td><td>&hellip;</td><td>&hellip;</td><td>&hellip;</td><td>&hellip;</td><td>&hellip;</td><td>&hellip;</td><td>&hellip;</td><td>&hellip;</td><td>&hellip;</td><td>&hellip;</td><td>&hellip;</td><td>&hellip;</td><td>&hellip;</td><td>&hellip;</td><td>&hellip;</td><td>&hellip;</td><td>&hellip;</td><td>&hellip;</td><td>&hellip;</td><td>&hellip;</td><td>&hellip;</td><td>&hellip;</td><td>&hellip;</td><td>&hellip;</td><td>&hellip;</td><td>&hellip;</td><td>&hellip;</td><td>&hellip;</td><td>&hellip;</td><td>&hellip;</td><td>&hellip;</td><td>&hellip;</td><td>&hellip;</td><td>&hellip;</td><td>&hellip;</td><td>&hellip;</td><td>&hellip;</td><td>&hellip;</td><td>&hellip;</td><td>&hellip;</td><td>&hellip;</td><td>&hellip;</td><td>&hellip;</td><td>&hellip;</td><td>&hellip;</td><td>&hellip;</td><td>&hellip;</td><td>&hellip;</td></tr><tr><td>&quot;e1ae1ba76734&quot;</td><td>&quot;GGGAACGACUCGAG…</td><td>&quot;DMS_MaP&quot;</td><td>&quot;SL5_M2seq_DMS&quot;</td><td>170051</td><td>14.562</td><td>1</td><td>null</td><td>null</td><td>null</td><td>null</td><td>null</td><td>null</td><td>null</td><td>null</td><td>null</td><td>null</td><td>null</td><td>null</td><td>null</td><td>null</td><td>null</td><td>null</td><td>null</td><td>null</td><td>null</td><td>null</td><td>null</td><td>null</td><td>null</td><td>null</td><td>null</td><td>null</td><td>-0.13</td><td>0.034</td><td>0.066</td><td>0.068</td><td>&hellip;</td><td>null</td><td>null</td><td>null</td><td>null</td><td>null</td><td>null</td><td>null</td><td>null</td><td>null</td><td>null</td><td>null</td><td>null</td><td>null</td><td>null</td><td>null</td><td>null</td><td>null</td><td>null</td><td>null</td><td>null</td><td>null</td><td>null</td><td>null</td><td>null</td><td>null</td><td>null</td><td>null</td><td>null</td><td>null</td><td>null</td><td>null</td><td>null</td><td>null</td><td>null</td><td>null</td><td>null</td><td>206</td></tr><tr><td>&quot;9adf3cdceead&quot;</td><td>&quot;GGGAACGACUCGAG…</td><td>&quot;DMS_MaP&quot;</td><td>&quot;SL5_M2seq_DMS&quot;</td><td>49716</td><td>8.223</td><td>1</td><td>null</td><td>null</td><td>null</td><td>null</td><td>null</td><td>null</td><td>null</td><td>null</td><td>null</td><td>null</td><td>null</td><td>null</td><td>null</td><td>null</td><td>null</td><td>null</td><td>null</td><td>null</td><td>null</td><td>null</td><td>null</td><td>null</td><td>null</td><td>null</td><td>null</td><td>null</td><td>-0.239</td><td>-0.125</td><td>0.3</td><td>-0.074</td><td>&hellip;</td><td>null</td><td>null</td><td>null</td><td>null</td><td>null</td><td>null</td><td>null</td><td>null</td><td>null</td><td>null</td><td>null</td><td>null</td><td>null</td><td>null</td><td>null</td><td>null</td><td>null</td><td>null</td><td>null</td><td>null</td><td>null</td><td>null</td><td>null</td><td>null</td><td>null</td><td>null</td><td>null</td><td>null</td><td>null</td><td>null</td><td>null</td><td>null</td><td>null</td><td>null</td><td>null</td><td>null</td><td>206</td></tr><tr><td>&quot;6a932b9a2a46&quot;</td><td>&quot;GGGAACGACUCGAG…</td><td>&quot;DMS_MaP&quot;</td><td>&quot;SL5_M2seq_DMS&quot;</td><td>120475</td><td>12.432</td><td>1</td><td>null</td><td>null</td><td>null</td><td>null</td><td>null</td><td>null</td><td>null</td><td>null</td><td>null</td><td>null</td><td>null</td><td>null</td><td>null</td><td>null</td><td>null</td><td>null</td><td>null</td><td>null</td><td>null</td><td>null</td><td>null</td><td>null</td><td>null</td><td>null</td><td>null</td><td>null</td><td>-0.009</td><td>-0.024</td><td>0.096</td><td>0.042</td><td>&hellip;</td><td>null</td><td>null</td><td>null</td><td>null</td><td>null</td><td>null</td><td>null</td><td>null</td><td>null</td><td>null</td><td>null</td><td>null</td><td>null</td><td>null</td><td>null</td><td>null</td><td>null</td><td>null</td><td>null</td><td>null</td><td>null</td><td>null</td><td>null</td><td>null</td><td>null</td><td>null</td><td>null</td><td>null</td><td>null</td><td>null</td><td>null</td><td>null</td><td>null</td><td>null</td><td>null</td><td>null</td><td>206</td></tr><tr><td>&quot;d89191f84a0b&quot;</td><td>&quot;GGGAACGACUCGAG…</td><td>&quot;DMS_MaP&quot;</td><td>&quot;SL5_M2seq_DMS&quot;</td><td>21705</td><td>4.563</td><td>1</td><td>null</td><td>null</td><td>null</td><td>null</td><td>null</td><td>null</td><td>null</td><td>null</td><td>null</td><td>null</td><td>null</td><td>null</td><td>null</td><td>null</td><td>null</td><td>null</td><td>null</td><td>null</td><td>null</td><td>null</td><td>null</td><td>null</td><td>null</td><td>null</td><td>null</td><td>null</td><td>-0.046</td><td>0.293</td><td>-0.098</td><td>0.07</td><td>&hellip;</td><td>null</td><td>null</td><td>null</td><td>null</td><td>null</td><td>null</td><td>null</td><td>null</td><td>null</td><td>null</td><td>null</td><td>null</td><td>null</td><td>null</td><td>null</td><td>null</td><td>null</td><td>null</td><td>null</td><td>null</td><td>null</td><td>null</td><td>null</td><td>null</td><td>null</td><td>null</td><td>null</td><td>null</td><td>null</td><td>null</td><td>null</td><td>null</td><td>null</td><td>null</td><td>null</td><td>null</td><td>206</td></tr><tr><td>&quot;c768b0c625e3&quot;</td><td>&quot;GGGAACGACUCGAG…</td><td>&quot;DMS_MaP&quot;</td><td>&quot;SL5_M2seq_DMS&quot;</td><td>17765</td><td>5.429</td><td>1</td><td>null</td><td>null</td><td>null</td><td>null</td><td>null</td><td>null</td><td>null</td><td>null</td><td>null</td><td>null</td><td>null</td><td>null</td><td>null</td><td>null</td><td>null</td><td>null</td><td>null</td><td>null</td><td>null</td><td>null</td><td>null</td><td>null</td><td>null</td><td>null</td><td>null</td><td>null</td><td>0.243</td><td>-0.108</td><td>-0.036</td><td>-0.044</td><td>&hellip;</td><td>null</td><td>null</td><td>null</td><td>null</td><td>null</td><td>null</td><td>null</td><td>null</td><td>null</td><td>null</td><td>null</td><td>null</td><td>null</td><td>null</td><td>null</td><td>null</td><td>null</td><td>null</td><td>null</td><td>null</td><td>null</td><td>null</td><td>null</td><td>null</td><td>null</td><td>null</td><td>null</td><td>null</td><td>null</td><td>null</td><td>null</td><td>null</td><td>null</td><td>null</td><td>null</td><td>null</td><td>206</td></tr><tr><td>&quot;7faa34c36042&quot;</td><td>&quot;GGGAACGACUCGAG…</td><td>&quot;DMS_MaP&quot;</td><td>&quot;SL5_M2seq_DMS&quot;</td><td>231137</td><td>14.723</td><td>1</td><td>null</td><td>null</td><td>null</td><td>null</td><td>null</td><td>null</td><td>null</td><td>null</td><td>null</td><td>null</td><td>null</td><td>null</td><td>null</td><td>null</td><td>null</td><td>null</td><td>null</td><td>null</td><td>null</td><td>null</td><td>null</td><td>null</td><td>null</td><td>null</td><td>null</td><td>null</td><td>0.227</td><td>0.054</td><td>0.239</td><td>0.079</td><td>&hellip;</td><td>null</td><td>null</td><td>null</td><td>null</td><td>null</td><td>null</td><td>null</td><td>null</td><td>null</td><td>null</td><td>null</td><td>null</td><td>null</td><td>null</td><td>null</td><td>null</td><td>null</td><td>null</td><td>null</td><td>null</td><td>null</td><td>null</td><td>null</td><td>null</td><td>null</td><td>null</td><td>null</td><td>null</td><td>null</td><td>null</td><td>null</td><td>null</td><td>null</td><td>null</td><td>null</td><td>null</td><td>206</td></tr><tr><td>&quot;5e8dde7da049&quot;</td><td>&quot;GGGAACGACUCGAG…</td><td>&quot;DMS_MaP&quot;</td><td>&quot;SL5_M2seq_DMS&quot;</td><td>76273</td><td>9.583</td><td>1</td><td>null</td><td>null</td><td>null</td><td>null</td><td>null</td><td>null</td><td>null</td><td>null</td><td>null</td><td>null</td><td>null</td><td>null</td><td>null</td><td>null</td><td>null</td><td>null</td><td>null</td><td>null</td><td>null</td><td>null</td><td>null</td><td>null</td><td>null</td><td>null</td><td>null</td><td>null</td><td>-0.048</td><td>-0.004</td><td>0.078</td><td>0.152</td><td>&hellip;</td><td>null</td><td>null</td><td>null</td><td>null</td><td>null</td><td>null</td><td>null</td><td>null</td><td>null</td><td>null</td><td>null</td><td>null</td><td>null</td><td>null</td><td>null</td><td>null</td><td>null</td><td>null</td><td>null</td><td>null</td><td>null</td><td>null</td><td>null</td><td>null</td><td>null</td><td>null</td><td>null</td><td>null</td><td>null</td><td>null</td><td>null</td><td>null</td><td>null</td><td>null</td><td>null</td><td>null</td><td>206</td></tr><tr><td>&quot;7951fb2f47f1&quot;</td><td>&quot;GGGAACGACUCGAG…</td><td>&quot;DMS_MaP&quot;</td><td>&quot;SL5_M2seq_DMS&quot;</td><td>37530</td><td>7.248</td><td>1</td><td>null</td><td>null</td><td>null</td><td>null</td><td>null</td><td>null</td><td>null</td><td>null</td><td>null</td><td>null</td><td>null</td><td>null</td><td>null</td><td>null</td><td>null</td><td>null</td><td>null</td><td>null</td><td>null</td><td>null</td><td>null</td><td>null</td><td>null</td><td>null</td><td>null</td><td>null</td><td>0.115</td><td>-0.089</td><td>0.226</td><td>0.17</td><td>&hellip;</td><td>null</td><td>null</td><td>null</td><td>null</td><td>null</td><td>null</td><td>null</td><td>null</td><td>null</td><td>null</td><td>null</td><td>null</td><td>null</td><td>null</td><td>null</td><td>null</td><td>null</td><td>null</td><td>null</td><td>null</td><td>null</td><td>null</td><td>null</td><td>null</td><td>null</td><td>null</td><td>null</td><td>null</td><td>null</td><td>null</td><td>null</td><td>null</td><td>null</td><td>null</td><td>null</td><td>null</td><td>206</td></tr><tr><td>&quot;e0dc5823e5e1&quot;</td><td>&quot;GGGAACGACUCGAG…</td><td>&quot;DMS_MaP&quot;</td><td>&quot;SL5_M2seq_DMS&quot;</td><td>337248</td><td>17.902</td><td>1</td><td>null</td><td>null</td><td>null</td><td>null</td><td>null</td><td>null</td><td>null</td><td>null</td><td>null</td><td>null</td><td>null</td><td>null</td><td>null</td><td>null</td><td>null</td><td>null</td><td>null</td><td>null</td><td>null</td><td>null</td><td>null</td><td>null</td><td>null</td><td>null</td><td>null</td><td>null</td><td>-0.008</td><td>0.023</td><td>-0.038</td><td>-0.006</td><td>&hellip;</td><td>null</td><td>null</td><td>null</td><td>null</td><td>null</td><td>null</td><td>null</td><td>null</td><td>null</td><td>null</td><td>null</td><td>null</td><td>null</td><td>null</td><td>null</td><td>null</td><td>null</td><td>null</td><td>null</td><td>null</td><td>null</td><td>null</td><td>null</td><td>null</td><td>null</td><td>null</td><td>null</td><td>null</td><td>null</td><td>null</td><td>null</td><td>null</td><td>null</td><td>null</td><td>null</td><td>null</td><td>206</td></tr><tr><td>&quot;0d6036529b42&quot;</td><td>&quot;GGGAACGACUCGAG…</td><td>&quot;DMS_MaP&quot;</td><td>&quot;SL5_M2seq_DMS&quot;</td><td>44053</td><td>6.7</td><td>1</td><td>null</td><td>null</td><td>null</td><td>null</td><td>null</td><td>null</td><td>null</td><td>null</td><td>null</td><td>null</td><td>null</td><td>null</td><td>null</td><td>null</td><td>null</td><td>null</td><td>null</td><td>null</td><td>null</td><td>null</td><td>null</td><td>null</td><td>null</td><td>null</td><td>null</td><td>null</td><td>-0.269</td><td>-0.053</td><td>0.092</td><td>0.034</td><td>&hellip;</td><td>null</td><td>null</td><td>null</td><td>null</td><td>null</td><td>null</td><td>null</td><td>null</td><td>null</td><td>null</td><td>null</td><td>null</td><td>null</td><td>null</td><td>null</td><td>null</td><td>null</td><td>null</td><td>null</td><td>null</td><td>null</td><td>null</td><td>null</td><td>null</td><td>null</td><td>null</td><td>null</td><td>null</td><td>null</td><td>null</td><td>null</td><td>null</td><td>null</td><td>null</td><td>null</td><td>null</td><td>206</td></tr><tr><td>&quot;46d1f07d723b&quot;</td><td>&quot;GGGAACGACUCGAG…</td><td>&quot;DMS_MaP&quot;</td><td>&quot;SL5_M2seq_DMS&quot;</td><td>108600</td><td>11.716</td><td>1</td><td>null</td><td>null</td><td>null</td><td>null</td><td>null</td><td>null</td><td>null</td><td>null</td><td>null</td><td>null</td><td>null</td><td>null</td><td>null</td><td>null</td><td>null</td><td>null</td><td>null</td><td>null</td><td>null</td><td>null</td><td>null</td><td>null</td><td>null</td><td>null</td><td>null</td><td>null</td><td>-0.056</td><td>-0.065</td><td>0.121</td><td>0.088</td><td>&hellip;</td><td>null</td><td>null</td><td>null</td><td>null</td><td>null</td><td>null</td><td>null</td><td>null</td><td>null</td><td>null</td><td>null</td><td>null</td><td>null</td><td>null</td><td>null</td><td>null</td><td>null</td><td>null</td><td>null</td><td>null</td><td>null</td><td>null</td><td>null</td><td>null</td><td>null</td><td>null</td><td>null</td><td>null</td><td>null</td><td>null</td><td>null</td><td>null</td><td>null</td><td>null</td><td>null</td><td>null</td><td>206</td></tr><tr><td>&quot;60db72cc009f&quot;</td><td>&quot;GGGAACGACUCGAG…</td><td>&quot;DMS_MaP&quot;</td><td>&quot;SL5_M2seq_DMS&quot;</td><td>107394</td><td>10.888</td><td>1</td><td>null</td><td>null</td><td>null</td><td>null</td><td>null</td><td>null</td><td>null</td><td>null</td><td>null</td><td>null</td><td>null</td><td>null</td><td>null</td><td>null</td><td>null</td><td>null</td><td>null</td><td>null</td><td>null</td><td>null</td><td>null</td><td>null</td><td>null</td><td>null</td><td>null</td><td>null</td><td>-0.043</td><td>-0.007</td><td>0.036</td><td>-0.004</td><td>&hellip;</td><td>null</td><td>null</td><td>null</td><td>null</td><td>null</td><td>null</td><td>null</td><td>null</td><td>null</td><td>null</td><td>null</td><td>null</td><td>null</td><td>null</td><td>null</td><td>null</td><td>null</td><td>null</td><td>null</td><td>null</td><td>null</td><td>null</td><td>null</td><td>null</td><td>null</td><td>null</td><td>null</td><td>null</td><td>null</td><td>null</td><td>null</td><td>null</td><td>null</td><td>null</td><td>null</td><td>null</td><td>206</td></tr></tbody></table></div>"
      ],
      "text/plain": [
       "shape: (1_643_680, 420)\n",
       "┌───────────┬──────┬────────────┬────────────┬───┬────────────┬────────────┬────────────┬──────────┐\n",
       "│ sequence_ ┆ sequ ┆ experiment ┆ dataset_na ┆ … ┆ reactivity ┆ reactivity ┆ reactivity ┆ rna_leng │\n",
       "│ id        ┆ ence ┆ _type      ┆ me         ┆   ┆ _error_020 ┆ _error_020 ┆ _error_020 ┆ th       │\n",
       "│ ---       ┆ ---  ┆ ---        ┆ ---        ┆   ┆ 4          ┆ 5          ┆ 6          ┆ ---      │\n",
       "│ str       ┆ str  ┆ str        ┆ str        ┆   ┆ ---        ┆ ---        ┆ ---        ┆ i64      │\n",
       "│           ┆      ┆            ┆            ┆   ┆ str        ┆ str        ┆ str        ┆          │\n",
       "╞═══════════╪══════╪════════════╪════════════╪═══╪════════════╪════════════╪════════════╪══════════╡\n",
       "│ 8cdfeef00 ┆ GGGA ┆ 2A3_MaP    ┆ 15k_2A3    ┆ … ┆ null       ┆ null       ┆ null       ┆ 170      │\n",
       "│ 9ea       ┆ ACGA ┆            ┆            ┆   ┆            ┆            ┆            ┆          │\n",
       "│           ┆ CUCG ┆            ┆            ┆   ┆            ┆            ┆            ┆          │\n",
       "│           ┆ AGUA ┆            ┆            ┆   ┆            ┆            ┆            ┆          │\n",
       "│           ┆ GAGU ┆            ┆            ┆   ┆            ┆            ┆            ┆          │\n",
       "│           ┆ CGAA ┆            ┆            ┆   ┆            ┆            ┆            ┆          │\n",
       "│           ┆ AAAC ┆            ┆            ┆   ┆            ┆            ┆            ┆          │\n",
       "│           ┆ GUUG ┆            ┆            ┆   ┆            ┆            ┆            ┆          │\n",
       "│           ┆ …    ┆            ┆            ┆   ┆            ┆            ┆            ┆          │\n",
       "│ 51e61fbde ┆ GGGA ┆ 2A3_MaP    ┆ 15k_2A3    ┆ … ┆ null       ┆ null       ┆ null       ┆ 170      │\n",
       "│ 94d       ┆ ACGA ┆            ┆            ┆   ┆            ┆            ┆            ┆          │\n",
       "│           ┆ CUCG ┆            ┆            ┆   ┆            ┆            ┆            ┆          │\n",
       "│           ┆ AGUA ┆            ┆            ┆   ┆            ┆            ┆            ┆          │\n",
       "│           ┆ GAGU ┆            ┆            ┆   ┆            ┆            ┆            ┆          │\n",
       "│           ┆ CGAA ┆            ┆            ┆   ┆            ┆            ┆            ┆          │\n",
       "│           ┆ AAAC ┆            ┆            ┆   ┆            ┆            ┆            ┆          │\n",
       "│           ┆ AUUG ┆            ┆            ┆   ┆            ┆            ┆            ┆          │\n",
       "│           ┆ …    ┆            ┆            ┆   ┆            ┆            ┆            ┆          │\n",
       "│ 25ce8d510 ┆ GGGA ┆ 2A3_MaP    ┆ 15k_2A3    ┆ … ┆ null       ┆ null       ┆ null       ┆ 170      │\n",
       "│ 9cd       ┆ ACGA ┆            ┆            ┆   ┆            ┆            ┆            ┆          │\n",
       "│           ┆ CUCG ┆            ┆            ┆   ┆            ┆            ┆            ┆          │\n",
       "│           ┆ AGUA ┆            ┆            ┆   ┆            ┆            ┆            ┆          │\n",
       "│           ┆ GAGU ┆            ┆            ┆   ┆            ┆            ┆            ┆          │\n",
       "│           ┆ CGAA ┆            ┆            ┆   ┆            ┆            ┆            ┆          │\n",
       "│           ┆ AAAC ┆            ┆            ┆   ┆            ┆            ┆            ┆          │\n",
       "│           ┆ CUUG ┆            ┆            ┆   ┆            ┆            ┆            ┆          │\n",
       "│           ┆ …    ┆            ┆            ┆   ┆            ┆            ┆            ┆          │\n",
       "│ 07dcfb6d1 ┆ GGGA ┆ 2A3_MaP    ┆ 15k_2A3    ┆ … ┆ null       ┆ null       ┆ null       ┆ 170      │\n",
       "│ 965       ┆ ACGA ┆            ┆            ┆   ┆            ┆            ┆            ┆          │\n",
       "│           ┆ CUCG ┆            ┆            ┆   ┆            ┆            ┆            ┆          │\n",
       "│           ┆ AGUA ┆            ┆            ┆   ┆            ┆            ┆            ┆          │\n",
       "│           ┆ GAGU ┆            ┆            ┆   ┆            ┆            ┆            ┆          │\n",
       "│           ┆ CGAA ┆            ┆            ┆   ┆            ┆            ┆            ┆          │\n",
       "│           ┆ AAAC ┆            ┆            ┆   ┆            ┆            ┆            ┆          │\n",
       "│           ┆ UUUG ┆            ┆            ┆   ┆            ┆            ┆            ┆          │\n",
       "│           ┆ …    ┆            ┆            ┆   ┆            ┆            ┆            ┆          │\n",
       "│ …         ┆ …    ┆ …          ┆ …          ┆ … ┆ …          ┆ …          ┆ …          ┆ …        │\n",
       "│ e0dc5823e ┆ GGGA ┆ DMS_MaP    ┆ SL5_M2seq_ ┆ … ┆ null       ┆ null       ┆ null       ┆ 206      │\n",
       "│ 5e1       ┆ ACGA ┆            ┆ DMS        ┆   ┆            ┆            ┆            ┆          │\n",
       "│           ┆ CUCG ┆            ┆            ┆   ┆            ┆            ┆            ┆          │\n",
       "│           ┆ AGUA ┆            ┆            ┆   ┆            ┆            ┆            ┆          │\n",
       "│           ┆ GAGU ┆            ┆            ┆   ┆            ┆            ┆            ┆          │\n",
       "│           ┆ CGAA ┆            ┆            ┆   ┆            ┆            ┆            ┆          │\n",
       "│           ┆ AAGG ┆            ┆            ┆   ┆            ┆            ┆            ┆          │\n",
       "│           ┆ AGCG ┆            ┆            ┆   ┆            ┆            ┆            ┆          │\n",
       "│           ┆ …    ┆            ┆            ┆   ┆            ┆            ┆            ┆          │\n",
       "│ 0d6036529 ┆ GGGA ┆ DMS_MaP    ┆ SL5_M2seq_ ┆ … ┆ null       ┆ null       ┆ null       ┆ 206      │\n",
       "│ b42       ┆ ACGA ┆            ┆ DMS        ┆   ┆            ┆            ┆            ┆          │\n",
       "│           ┆ CUCG ┆            ┆            ┆   ┆            ┆            ┆            ┆          │\n",
       "│           ┆ AGUA ┆            ┆            ┆   ┆            ┆            ┆            ┆          │\n",
       "│           ┆ GAGU ┆            ┆            ┆   ┆            ┆            ┆            ┆          │\n",
       "│           ┆ CGAA ┆            ┆            ┆   ┆            ┆            ┆            ┆          │\n",
       "│           ┆ AAGG ┆            ┆            ┆   ┆            ┆            ┆            ┆          │\n",
       "│           ┆ AGCG ┆            ┆            ┆   ┆            ┆            ┆            ┆          │\n",
       "│           ┆ …    ┆            ┆            ┆   ┆            ┆            ┆            ┆          │\n",
       "│ 46d1f07d7 ┆ GGGA ┆ DMS_MaP    ┆ SL5_M2seq_ ┆ … ┆ null       ┆ null       ┆ null       ┆ 206      │\n",
       "│ 23b       ┆ ACGA ┆            ┆ DMS        ┆   ┆            ┆            ┆            ┆          │\n",
       "│           ┆ CUCG ┆            ┆            ┆   ┆            ┆            ┆            ┆          │\n",
       "│           ┆ AGUA ┆            ┆            ┆   ┆            ┆            ┆            ┆          │\n",
       "│           ┆ GAGU ┆            ┆            ┆   ┆            ┆            ┆            ┆          │\n",
       "│           ┆ CGAA ┆            ┆            ┆   ┆            ┆            ┆            ┆          │\n",
       "│           ┆ AAGG ┆            ┆            ┆   ┆            ┆            ┆            ┆          │\n",
       "│           ┆ AGCG ┆            ┆            ┆   ┆            ┆            ┆            ┆          │\n",
       "│           ┆ …    ┆            ┆            ┆   ┆            ┆            ┆            ┆          │\n",
       "│ 60db72cc0 ┆ GGGA ┆ DMS_MaP    ┆ SL5_M2seq_ ┆ … ┆ null       ┆ null       ┆ null       ┆ 206      │\n",
       "│ 09f       ┆ ACGA ┆            ┆ DMS        ┆   ┆            ┆            ┆            ┆          │\n",
       "│           ┆ CUCG ┆            ┆            ┆   ┆            ┆            ┆            ┆          │\n",
       "│           ┆ AGUA ┆            ┆            ┆   ┆            ┆            ┆            ┆          │\n",
       "│           ┆ GAGU ┆            ┆            ┆   ┆            ┆            ┆            ┆          │\n",
       "│           ┆ CGAA ┆            ┆            ┆   ┆            ┆            ┆            ┆          │\n",
       "│           ┆ AAGG ┆            ┆            ┆   ┆            ┆            ┆            ┆          │\n",
       "│           ┆ AGCG ┆            ┆            ┆   ┆            ┆            ┆            ┆          │\n",
       "│           ┆ …    ┆            ┆            ┆   ┆            ┆            ┆            ┆          │\n",
       "└───────────┴──────┴────────────┴────────────┴───┴────────────┴────────────┴────────────┴──────────┘"
      ]
     },
     "execution_count": 4,
     "metadata": {},
     "output_type": "execute_result"
    }
   ],
   "source": [
    "df = pl.read_csv(path/'train_data.csv')\n",
    "df = df.with_columns(df['sequence'].apply(len).alias('rna_length'))\n",
    "grouped_df = df.groupby('rna_length').agg(pl.col('rna_length').count().alias('count_sequences'))\n",
    "df"
   ]
  },
  {
   "cell_type": "code",
   "execution_count": 4,
   "metadata": {},
   "outputs": [],
   "source": [
    "df = pd.read_csv(path/'train_data.csv')"
   ]
  },
  {
   "cell_type": "code",
   "execution_count": 7,
   "metadata": {},
   "outputs": [
    {
     "data": {
      "text/html": [
       "<div>\n",
       "<style scoped>\n",
       "    .dataframe tbody tr th:only-of-type {\n",
       "        vertical-align: middle;\n",
       "    }\n",
       "\n",
       "    .dataframe tbody tr th {\n",
       "        vertical-align: top;\n",
       "    }\n",
       "\n",
       "    .dataframe thead th {\n",
       "        text-align: right;\n",
       "    }\n",
       "</style>\n",
       "<table border=\"1\" class=\"dataframe\">\n",
       "  <thead>\n",
       "    <tr style=\"text-align: right;\">\n",
       "      <th></th>\n",
       "      <th>sequence_id</th>\n",
       "      <th>sequence</th>\n",
       "      <th>experiment_type</th>\n",
       "      <th>dataset_name</th>\n",
       "      <th>reads</th>\n",
       "      <th>signal_to_noise</th>\n",
       "      <th>SN_filter</th>\n",
       "      <th>reactivity_0001</th>\n",
       "      <th>reactivity_0002</th>\n",
       "      <th>reactivity_0003</th>\n",
       "      <th>...</th>\n",
       "      <th>reactivity_error_0197</th>\n",
       "      <th>reactivity_error_0198</th>\n",
       "      <th>reactivity_error_0199</th>\n",
       "      <th>reactivity_error_0200</th>\n",
       "      <th>reactivity_error_0201</th>\n",
       "      <th>reactivity_error_0202</th>\n",
       "      <th>reactivity_error_0203</th>\n",
       "      <th>reactivity_error_0204</th>\n",
       "      <th>reactivity_error_0205</th>\n",
       "      <th>reactivity_error_0206</th>\n",
       "    </tr>\n",
       "  </thead>\n",
       "  <tbody>\n",
       "    <tr>\n",
       "      <th>1641179</th>\n",
       "      <td>46d1f07d723b</td>\n",
       "      <td>GGGAACGACUCGAGUAGAGUCGAAAAGGAGCGUCGUGUCUCUUGUA...</td>\n",
       "      <td>2A3_MaP</td>\n",
       "      <td>SL5_M2seq_2A3</td>\n",
       "      <td>85934</td>\n",
       "      <td>15.995</td>\n",
       "      <td>1</td>\n",
       "      <td>NaN</td>\n",
       "      <td>NaN</td>\n",
       "      <td>NaN</td>\n",
       "      <td>...</td>\n",
       "      <td>NaN</td>\n",
       "      <td>NaN</td>\n",
       "      <td>NaN</td>\n",
       "      <td>NaN</td>\n",
       "      <td>NaN</td>\n",
       "      <td>NaN</td>\n",
       "      <td>NaN</td>\n",
       "      <td>NaN</td>\n",
       "      <td>NaN</td>\n",
       "      <td>NaN</td>\n",
       "    </tr>\n",
       "    <tr>\n",
       "      <th>1643678</th>\n",
       "      <td>46d1f07d723b</td>\n",
       "      <td>GGGAACGACUCGAGUAGAGUCGAAAAGGAGCGUCGUGUCUCUUGUA...</td>\n",
       "      <td>DMS_MaP</td>\n",
       "      <td>SL5_M2seq_DMS</td>\n",
       "      <td>108600</td>\n",
       "      <td>11.716</td>\n",
       "      <td>1</td>\n",
       "      <td>NaN</td>\n",
       "      <td>NaN</td>\n",
       "      <td>NaN</td>\n",
       "      <td>...</td>\n",
       "      <td>NaN</td>\n",
       "      <td>NaN</td>\n",
       "      <td>NaN</td>\n",
       "      <td>NaN</td>\n",
       "      <td>NaN</td>\n",
       "      <td>NaN</td>\n",
       "      <td>NaN</td>\n",
       "      <td>NaN</td>\n",
       "      <td>NaN</td>\n",
       "      <td>NaN</td>\n",
       "    </tr>\n",
       "  </tbody>\n",
       "</table>\n",
       "<p>2 rows × 419 columns</p>\n",
       "</div>"
      ],
      "text/plain": [
       "          sequence_id                                           sequence  \\\n",
       "1641179  46d1f07d723b  GGGAACGACUCGAGUAGAGUCGAAAAGGAGCGUCGUGUCUCUUGUA...   \n",
       "1643678  46d1f07d723b  GGGAACGACUCGAGUAGAGUCGAAAAGGAGCGUCGUGUCUCUUGUA...   \n",
       "\n",
       "        experiment_type   dataset_name   reads  signal_to_noise  SN_filter  \\\n",
       "1641179         2A3_MaP  SL5_M2seq_2A3   85934           15.995          1   \n",
       "1643678         DMS_MaP  SL5_M2seq_DMS  108600           11.716          1   \n",
       "\n",
       "         reactivity_0001  reactivity_0002  reactivity_0003  ...  \\\n",
       "1641179              NaN              NaN              NaN  ...   \n",
       "1643678              NaN              NaN              NaN  ...   \n",
       "\n",
       "         reactivity_error_0197  reactivity_error_0198  reactivity_error_0199  \\\n",
       "1641179                    NaN                    NaN                    NaN   \n",
       "1643678                    NaN                    NaN                    NaN   \n",
       "\n",
       "         reactivity_error_0200  reactivity_error_0201  reactivity_error_0202  \\\n",
       "1641179                    NaN                    NaN                    NaN   \n",
       "1643678                    NaN                    NaN                    NaN   \n",
       "\n",
       "         reactivity_error_0203  reactivity_error_0204  reactivity_error_0205  \\\n",
       "1641179                    NaN                    NaN                    NaN   \n",
       "1643678                    NaN                    NaN                    NaN   \n",
       "\n",
       "         reactivity_error_0206  \n",
       "1641179                    NaN  \n",
       "1643678                    NaN  \n",
       "\n",
       "[2 rows x 419 columns]"
      ]
     },
     "execution_count": 7,
     "metadata": {},
     "output_type": "execute_result"
    }
   ],
   "source": [
    "df.query('sequence_id==\"46d1f07d723b\"')"
   ]
  },
  {
   "cell_type": "code",
   "execution_count": 8,
   "metadata": {},
   "outputs": [
    {
     "ename": "ArrowInvalid",
     "evalue": "Could not open Parquet input source '<Buffer>': Parquet magic bytes not found in footer. Either the file is corrupted or this is not a parquet file.",
     "output_type": "error",
     "traceback": [
      "\u001b[0;31m---------------------------------------------------------------------------\u001b[0m",
      "\u001b[0;31mArrowInvalid\u001b[0m                              Traceback (most recent call last)",
      "Cell \u001b[0;32mIn[8], line 1\u001b[0m\n\u001b[0;32m----> 1\u001b[0m pd\u001b[39m.\u001b[39;49mread_parquet(path\u001b[39m/\u001b[39;49m\u001b[39m'\u001b[39;49m\u001b[39mtrain_data.csv\u001b[39;49m\u001b[39m'\u001b[39;49m)\n",
      "File \u001b[0;32m/opt/conda/lib/python3.10/site-packages/pandas/io/parquet.py:503\u001b[0m, in \u001b[0;36mread_parquet\u001b[0;34m(path, engine, columns, storage_options, use_nullable_dtypes, **kwargs)\u001b[0m\n\u001b[1;32m    456\u001b[0m \u001b[39m\u001b[39m\u001b[39m\"\"\"\u001b[39;00m\n\u001b[1;32m    457\u001b[0m \u001b[39mLoad a parquet object from the file path, returning a DataFrame.\u001b[39;00m\n\u001b[1;32m    458\u001b[0m \n\u001b[0;32m   (...)\u001b[0m\n\u001b[1;32m    499\u001b[0m \u001b[39mDataFrame\u001b[39;00m\n\u001b[1;32m    500\u001b[0m \u001b[39m\"\"\"\u001b[39;00m\n\u001b[1;32m    501\u001b[0m impl \u001b[39m=\u001b[39m get_engine(engine)\n\u001b[0;32m--> 503\u001b[0m \u001b[39mreturn\u001b[39;00m impl\u001b[39m.\u001b[39;49mread(\n\u001b[1;32m    504\u001b[0m     path,\n\u001b[1;32m    505\u001b[0m     columns\u001b[39m=\u001b[39;49mcolumns,\n\u001b[1;32m    506\u001b[0m     storage_options\u001b[39m=\u001b[39;49mstorage_options,\n\u001b[1;32m    507\u001b[0m     use_nullable_dtypes\u001b[39m=\u001b[39;49muse_nullable_dtypes,\n\u001b[1;32m    508\u001b[0m     \u001b[39m*\u001b[39;49m\u001b[39m*\u001b[39;49mkwargs,\n\u001b[1;32m    509\u001b[0m )\n",
      "File \u001b[0;32m/opt/conda/lib/python3.10/site-packages/pandas/io/parquet.py:251\u001b[0m, in \u001b[0;36mPyArrowImpl.read\u001b[0;34m(self, path, columns, use_nullable_dtypes, storage_options, **kwargs)\u001b[0m\n\u001b[1;32m    244\u001b[0m path_or_handle, handles, kwargs[\u001b[39m\"\u001b[39m\u001b[39mfilesystem\u001b[39m\u001b[39m\"\u001b[39m] \u001b[39m=\u001b[39m _get_path_or_handle(\n\u001b[1;32m    245\u001b[0m     path,\n\u001b[1;32m    246\u001b[0m     kwargs\u001b[39m.\u001b[39mpop(\u001b[39m\"\u001b[39m\u001b[39mfilesystem\u001b[39m\u001b[39m\"\u001b[39m, \u001b[39mNone\u001b[39;00m),\n\u001b[1;32m    247\u001b[0m     storage_options\u001b[39m=\u001b[39mstorage_options,\n\u001b[1;32m    248\u001b[0m     mode\u001b[39m=\u001b[39m\u001b[39m\"\u001b[39m\u001b[39mrb\u001b[39m\u001b[39m\"\u001b[39m,\n\u001b[1;32m    249\u001b[0m )\n\u001b[1;32m    250\u001b[0m \u001b[39mtry\u001b[39;00m:\n\u001b[0;32m--> 251\u001b[0m     result \u001b[39m=\u001b[39m \u001b[39mself\u001b[39;49m\u001b[39m.\u001b[39;49mapi\u001b[39m.\u001b[39;49mparquet\u001b[39m.\u001b[39;49mread_table(\n\u001b[1;32m    252\u001b[0m         path_or_handle, columns\u001b[39m=\u001b[39;49mcolumns, \u001b[39m*\u001b[39;49m\u001b[39m*\u001b[39;49mkwargs\n\u001b[1;32m    253\u001b[0m     )\u001b[39m.\u001b[39mto_pandas(\u001b[39m*\u001b[39m\u001b[39m*\u001b[39mto_pandas_kwargs)\n\u001b[1;32m    254\u001b[0m     \u001b[39mif\u001b[39;00m manager \u001b[39m==\u001b[39m \u001b[39m\"\u001b[39m\u001b[39marray\u001b[39m\u001b[39m\"\u001b[39m:\n\u001b[1;32m    255\u001b[0m         result \u001b[39m=\u001b[39m result\u001b[39m.\u001b[39m_as_manager(\u001b[39m\"\u001b[39m\u001b[39marray\u001b[39m\u001b[39m\"\u001b[39m, copy\u001b[39m=\u001b[39m\u001b[39mFalse\u001b[39;00m)\n",
      "File \u001b[0;32m/opt/conda/lib/python3.10/site-packages/pyarrow/parquet/core.py:2926\u001b[0m, in \u001b[0;36mread_table\u001b[0;34m(source, columns, use_threads, metadata, schema, use_pandas_metadata, read_dictionary, memory_map, buffer_size, partitioning, filesystem, filters, use_legacy_dataset, ignore_prefixes, pre_buffer, coerce_int96_timestamp_unit, decryption_properties, thrift_string_size_limit, thrift_container_size_limit)\u001b[0m\n\u001b[1;32m   2919\u001b[0m     \u001b[39mraise\u001b[39;00m \u001b[39mValueError\u001b[39;00m(\n\u001b[1;32m   2920\u001b[0m         \u001b[39m\"\u001b[39m\u001b[39mThe \u001b[39m\u001b[39m'\u001b[39m\u001b[39mmetadata\u001b[39m\u001b[39m'\u001b[39m\u001b[39m keyword is no longer supported with the new \u001b[39m\u001b[39m\"\u001b[39m\n\u001b[1;32m   2921\u001b[0m         \u001b[39m\"\u001b[39m\u001b[39mdatasets-based implementation. Specify \u001b[39m\u001b[39m\"\u001b[39m\n\u001b[1;32m   2922\u001b[0m         \u001b[39m\"\u001b[39m\u001b[39m'\u001b[39m\u001b[39muse_legacy_dataset=True\u001b[39m\u001b[39m'\u001b[39m\u001b[39m to temporarily recover the old \u001b[39m\u001b[39m\"\u001b[39m\n\u001b[1;32m   2923\u001b[0m         \u001b[39m\"\u001b[39m\u001b[39mbehaviour.\u001b[39m\u001b[39m\"\u001b[39m\n\u001b[1;32m   2924\u001b[0m     )\n\u001b[1;32m   2925\u001b[0m \u001b[39mtry\u001b[39;00m:\n\u001b[0;32m-> 2926\u001b[0m     dataset \u001b[39m=\u001b[39m _ParquetDatasetV2(\n\u001b[1;32m   2927\u001b[0m         source,\n\u001b[1;32m   2928\u001b[0m         schema\u001b[39m=\u001b[39;49mschema,\n\u001b[1;32m   2929\u001b[0m         filesystem\u001b[39m=\u001b[39;49mfilesystem,\n\u001b[1;32m   2930\u001b[0m         partitioning\u001b[39m=\u001b[39;49mpartitioning,\n\u001b[1;32m   2931\u001b[0m         memory_map\u001b[39m=\u001b[39;49mmemory_map,\n\u001b[1;32m   2932\u001b[0m         read_dictionary\u001b[39m=\u001b[39;49mread_dictionary,\n\u001b[1;32m   2933\u001b[0m         buffer_size\u001b[39m=\u001b[39;49mbuffer_size,\n\u001b[1;32m   2934\u001b[0m         filters\u001b[39m=\u001b[39;49mfilters,\n\u001b[1;32m   2935\u001b[0m         ignore_prefixes\u001b[39m=\u001b[39;49mignore_prefixes,\n\u001b[1;32m   2936\u001b[0m         pre_buffer\u001b[39m=\u001b[39;49mpre_buffer,\n\u001b[1;32m   2937\u001b[0m         coerce_int96_timestamp_unit\u001b[39m=\u001b[39;49mcoerce_int96_timestamp_unit,\n\u001b[1;32m   2938\u001b[0m         thrift_string_size_limit\u001b[39m=\u001b[39;49mthrift_string_size_limit,\n\u001b[1;32m   2939\u001b[0m         thrift_container_size_limit\u001b[39m=\u001b[39;49mthrift_container_size_limit,\n\u001b[1;32m   2940\u001b[0m     )\n\u001b[1;32m   2941\u001b[0m \u001b[39mexcept\u001b[39;00m \u001b[39mImportError\u001b[39;00m:\n\u001b[1;32m   2942\u001b[0m     \u001b[39m# fall back on ParquetFile for simple cases when pyarrow.dataset\u001b[39;00m\n\u001b[1;32m   2943\u001b[0m     \u001b[39m# module is not available\u001b[39;00m\n\u001b[1;32m   2944\u001b[0m     \u001b[39mif\u001b[39;00m filters \u001b[39mis\u001b[39;00m \u001b[39mnot\u001b[39;00m \u001b[39mNone\u001b[39;00m:\n",
      "File \u001b[0;32m/opt/conda/lib/python3.10/site-packages/pyarrow/parquet/core.py:2466\u001b[0m, in \u001b[0;36m_ParquetDatasetV2.__init__\u001b[0;34m(self, path_or_paths, filesystem, filters, partitioning, read_dictionary, buffer_size, memory_map, ignore_prefixes, pre_buffer, coerce_int96_timestamp_unit, schema, decryption_properties, thrift_string_size_limit, thrift_container_size_limit, **kwargs)\u001b[0m\n\u001b[1;32m   2462\u001b[0m \u001b[39mif\u001b[39;00m single_file \u001b[39mis\u001b[39;00m \u001b[39mnot\u001b[39;00m \u001b[39mNone\u001b[39;00m:\n\u001b[1;32m   2463\u001b[0m     fragment \u001b[39m=\u001b[39m parquet_format\u001b[39m.\u001b[39mmake_fragment(single_file, filesystem)\n\u001b[1;32m   2465\u001b[0m     \u001b[39mself\u001b[39m\u001b[39m.\u001b[39m_dataset \u001b[39m=\u001b[39m ds\u001b[39m.\u001b[39mFileSystemDataset(\n\u001b[0;32m-> 2466\u001b[0m         [fragment], schema\u001b[39m=\u001b[39mschema \u001b[39mor\u001b[39;00m fragment\u001b[39m.\u001b[39;49mphysical_schema,\n\u001b[1;32m   2467\u001b[0m         \u001b[39mformat\u001b[39m\u001b[39m=\u001b[39mparquet_format,\n\u001b[1;32m   2468\u001b[0m         filesystem\u001b[39m=\u001b[39mfragment\u001b[39m.\u001b[39mfilesystem\n\u001b[1;32m   2469\u001b[0m     )\n\u001b[1;32m   2470\u001b[0m     \u001b[39mreturn\u001b[39;00m\n\u001b[1;32m   2472\u001b[0m \u001b[39m# check partitioning to enable dictionary encoding\u001b[39;00m\n",
      "File \u001b[0;32m/opt/conda/lib/python3.10/site-packages/pyarrow/_dataset.pyx:1004\u001b[0m, in \u001b[0;36mpyarrow._dataset.Fragment.physical_schema.__get__\u001b[0;34m()\u001b[0m\n",
      "File \u001b[0;32m/opt/conda/lib/python3.10/site-packages/pyarrow/error.pxi:144\u001b[0m, in \u001b[0;36mpyarrow.lib.pyarrow_internal_check_status\u001b[0;34m()\u001b[0m\n",
      "File \u001b[0;32m/opt/conda/lib/python3.10/site-packages/pyarrow/error.pxi:100\u001b[0m, in \u001b[0;36mpyarrow.lib.check_status\u001b[0;34m()\u001b[0m\n",
      "\u001b[0;31mArrowInvalid\u001b[0m: Could not open Parquet input source '<Buffer>': Parquet magic bytes not found in footer. Either the file is corrupted or this is not a parquet file."
     ]
    }
   ],
   "source": [
    "pd.read_parquet(path/'train_data.csv')"
   ]
  },
  {
   "cell_type": "code",
   "execution_count": null,
   "metadata": {},
   "outputs": [],
   "source": [
    "df_test = pl.read_csv(path/'test_sequences.csv')\n",
    "df_test = df_test.with_columns(df_test['sequence'].apply(len).alias('rna_length'))\n",
    "grouped_df_test = df_test.groupby('rna_length').agg(pl.col('rna_length').count().alias('count_sequences'))"
   ]
  },
  {
   "cell_type": "code",
   "execution_count": null,
   "metadata": {},
   "outputs": [],
   "source": [
    "print(grouped_df_test)"
   ]
  },
  {
   "cell_type": "code",
   "execution_count": null,
   "metadata": {},
   "outputs": [],
   "source": [
    "grouped_df = (df.groupby(['experiment_type', 'rna_length'])\n",
    "                   .agg(pl.col('rna_length').count().alias('count_sequences'))\n",
    "                   .sort(['experiment_type', 'rna_length']))"
   ]
  },
  {
   "cell_type": "code",
   "execution_count": null,
   "metadata": {},
   "outputs": [],
   "source": [
    "grouped_df"
   ]
  },
  {
   "cell_type": "code",
   "execution_count": null,
   "metadata": {},
   "outputs": [],
   "source": [
    "df.select(pl.col(\"sequence_id\").arg_unique())"
   ]
  },
  {
   "cell_type": "code",
   "execution_count": null,
   "metadata": {},
   "outputs": [],
   "source": [
    "filtered_df = df.filter(df['sequence_id'] == '8cdfeef009ea').to_pandas()"
   ]
  },
  {
   "cell_type": "code",
   "execution_count": null,
   "metadata": {},
   "outputs": [],
   "source": [
    "filtered_df.to_pandas()"
   ]
  },
  {
   "cell_type": "code",
   "execution_count": null,
   "metadata": {},
   "outputs": [],
   "source": [
    "# Extract columns that start with 'reactivity_' but not 'reactivity_error_'\n",
    "reactivity_columns = [col for col in filtered_df.columns if col.startswith('reactivity_') and not col.startswith('reactivity_error_')]\n",
    "reactivity_df = filtered_df[reactivity_columns]\n",
    "\n",
    "# Extract columns that start with 'reactivity_error_'\n",
    "error_columns = [col for col in filtered_df.columns if col.startswith('reactivity_error_')]\n",
    "error_df = filtered_df[error_columns]\n",
    "\n"
   ]
  },
  {
   "cell_type": "code",
   "execution_count": null,
   "metadata": {},
   "outputs": [],
   "source": [
    "reactivity_df"
   ]
  },
  {
   "cell_type": "code",
   "execution_count": null,
   "metadata": {},
   "outputs": [],
   "source": [
    "reactivity_df.T[0]"
   ]
  },
  {
   "cell_type": "code",
   "execution_count": null,
   "metadata": {},
   "outputs": [],
   "source": [
    "df_test"
   ]
  },
  {
   "cell_type": "code",
   "execution_count": null,
   "metadata": {},
   "outputs": [],
   "source": [
    "df_length = df.filter(df['sequence'].apply(len) == 170)"
   ]
  },
  {
   "cell_type": "code",
   "execution_count": null,
   "metadata": {},
   "outputs": [],
   "source": [
    "reactivity_cols = [col for col in df.columns if 'reactivity_' in col]\n",
    "df_reactivity = df_length.select(reactivity_cols)"
   ]
  },
  {
   "cell_type": "code",
   "execution_count": null,
   "metadata": {},
   "outputs": [],
   "source": [
    "\n",
    "    \n",
    "norm_arra(reactivity_df.values[0])"
   ]
  },
  {
   "cell_type": "code",
   "execution_count": null,
   "metadata": {},
   "outputs": [],
   "source": [
    "def norm_arra(x):\n",
    "    mask = x.nonzero()\n",
    "    x_ = np.copy(x)\n",
    "    x_/= x_.max()\n",
    "    x_[mask] = 1 - x_[mask]\n",
    "    return x_\n",
    "\n",
    "def plot_bars(reactivity_df, error_df, rna_length):\n",
    "    positions = np.arange(rna_length)\n",
    "    \n",
    "    # Plotting reactivity values\n",
    "    plt.figure(figsize=(15, 6))\n",
    "    plt.bar(positions, norm_arra(reactivity_df.values[0]), color='blue', alpha=0.7, label='Reactivity')\n",
    "    plt.title(f'Reactivity Distribution for RNA Length {rna_length}')\n",
    "    plt.xlabel('Position in Sequence')\n",
    "    plt.ylabel('dist')\n",
    "    plt.legend()\n",
    "    plt.grid(True, which='both', linestyle='--', linewidth=0.5)\n",
    "    plt.show()\n",
    "    \n",
    "    # Plotting reactivity error values\n",
    "    plt.figure(figsize=(15, 6))\n",
    "    plt.bar(positions, norm_arra(error_df.values[0]), color='red', alpha=0.7, label='Reactivity Error')\n",
    "    plt.title(f'Reactivity Error Distribution for RNA Length {rna_length}')\n",
    "    plt.xlabel('Position in Sequence')\n",
    "    plt.ylabel('dist')\n",
    "    plt.legend()\n",
    "    plt.grid(True, which='both', linestyle='--', linewidth=0.5)\n",
    "    plt.show()"
   ]
  },
  {
   "cell_type": "code",
   "execution_count": null,
   "metadata": {},
   "outputs": [],
   "source": [
    "l = 177\n",
    "reactivity_df, error_df = plot_reactivity_distribution(df, l)\n",
    "plot_bars(reactivity_df, error_df, l)"
   ]
  },
  {
   "cell_type": "code",
   "execution_count": null,
   "metadata": {},
   "outputs": [],
   "source": [
    "l = 177\n",
    "reactivity_df, error_df = plot_reactivity_distribution(df, l)\n",
    "print(f\"lenth: {l} start_index: {reactivity_df.values[0].nonzero()[0][0]}, end_index: {reactivity_df.values[0].nonzero()[0][-1]}\")\n",
    "\n",
    "l = 155\n",
    "reactivity_df, error_df = plot_reactivity_distribution(df, l)\n",
    "print(f\"lenth: {l} start_index: {reactivity_df.values[0].nonzero()[0][0]}, end_index: {reactivity_df.values[0].nonzero()[0][-1]}\")\n",
    "\n",
    "l = 115\n",
    "reactivity_df, error_df = plot_reactivity_distribution(df, l)\n",
    "print(f\"lenth: {l} start_index: {reactivity_df.values[0].nonzero()[0][0]}, end_index: {reactivity_df.values[0].nonzero()[0][-1]}\")\n",
    "\n",
    "l = 206\n",
    "reactivity_df, error_df = plot_reactivity_distribution(df, l)\n",
    "print(f\"lenth: {l} start_index: {reactivity_df.values[0].nonzero()[0][0]}, end_index: {reactivity_df.values[0].nonzero()[0][-1]}\")\n",
    "\n",
    "l = 170\n",
    "reactivity_df, error_df = plot_reactivity_distribution(df, l)\n",
    "print(f\"lenth: {l} start_index: {reactivity_df.values[0].nonzero()[0][0]}, end_index: {reactivity_df.values[0].nonzero()[0][-1]}\")\n"
   ]
  },
  {
   "cell_type": "code",
   "execution_count": null,
   "metadata": {},
   "outputs": [],
   "source": [
    "file_list = list(Path('../data/Ribonanza_bpp_files/').rglob('*.txt'))\n",
    "len(file_list) == df.select(pl.col(\"sequence_id\").arg_unique()).shape[0] + df_test.select(pl.col(\"sequence_id\").arg_unique()).shape[0]"
   ]
  },
  {
   "cell_type": "code",
   "execution_count": null,
   "metadata": {},
   "outputs": [],
   "source": [
    "from Bio import SeqIO\n",
    "def read_fasta(file_path):\n",
    "    \"\"\"\n",
    "    Read a FASTA file and return a list of SeqRecord objects.\n",
    "\n",
    "    Parameters:\n",
    "    - file_path (str): Path to the FASTA file.\n",
    "\n",
    "    Returns:\n",
    "    - List of SeqRecord objects.\n",
    "    \"\"\"\n",
    "    with open(file_path, \"r\") as handle:\n",
    "        records = list(SeqIO.parse(handle, \"fasta\"))\n",
    "    return records\n"
   ]
  },
  {
   "cell_type": "code",
   "execution_count": null,
   "metadata": {},
   "outputs": [],
   "source": [
    "!ls ../data/sequence_libraries/\n"
   ]
  },
  {
   "cell_type": "code",
   "execution_count": null,
   "metadata": {},
   "outputs": [],
   "source": [
    "ls ../data/supplementary_silico_predictions"
   ]
  },
  {
   "cell_type": "code",
   "execution_count": null,
   "metadata": {},
   "outputs": [],
   "source": [
    "import os\n",
    "\n",
    "def read_and_concat_ids(directory_path):\n",
    "    # List all CSV files in the directory\n",
    "    files = list(Path(directory_path).glob('*.csv'))\n",
    "    \n",
    "    # Initialize an empty list to store unique IDs\n",
    "    all_ids = []\n",
    "    \n",
    "    # Loop through each file, read it, extract unique IDs, and append to the list\n",
    "    for file in files:\n",
    "        try:\n",
    "            df = pl.read_csv(file)\n",
    "            unique_ids = df['id'].unique().to_list()\n",
    "            all_ids.extend(unique_ids)\n",
    "        except:\n",
    "            pass\n",
    "    \n",
    "    # Return the concatenated list of unique IDs\n",
    "    return list(set(all_ids))\n",
    "\n",
    "def extract_ids_from_file(file_path):\n",
    "    df = pl.read_csv(file_path)\n",
    "    return df['sequence_id'].unique().to_list()\n",
    "\n",
    "# Extract IDs\n",
    "silico_ids = read_and_concat_ids('../data/supplementary_silico_predictions')\n",
    "train_ids = extract_ids_from_file('../data/train_data.csv')\n",
    "test_ids = extract_ids_from_file('../data/test_sequences.csv')"
   ]
  },
  {
   "cell_type": "code",
   "execution_count": null,
   "metadata": {},
   "outputs": [],
   "source": [
    "# Find missing IDs\n",
    "missing_ids = set(silico_ids) - set(train_ids) - set(test_ids)\n",
    "\n",
    "# Determine if they belong to train or test\n",
    "missing_in_train = [id for id in missing_ids if id in train_ids]\n",
    "missing_in_test = [id for id in missing_ids if id in test_ids]"
   ]
  },
  {
   "cell_type": "code",
   "execution_count": null,
   "metadata": {},
   "outputs": [],
   "source": [
    "len(silico_ids)"
   ]
  },
  {
   "cell_type": "code",
   "execution_count": null,
   "metadata": {},
   "outputs": [],
   "source": [
    "df"
   ]
  },
  {
   "cell_type": "code",
   "execution_count": null,
   "metadata": {},
   "outputs": [],
   "source": [
    "import polars as pl\n",
    "from Bio import motifs\n",
    "from Bio.Seq import Seq\n",
    "\n",
    "def find_motif_in_first_26(df, sequence_column='sequence', n_samples=100000, length=26):\n",
    "    # Sample sequences\n",
    "    sampled_df = df.sample(n=n_samples)\n",
    "    sampled_sequences = sampled_df[sequence_column].to_list()\n",
    "\n",
    "    # Extract the specified nucleotides from each sequence and convert U to T\n",
    "    first_n_nucleotides = [Seq(seq[:length].replace('U', 'T')) for seq in sampled_sequences]\n",
    "\n",
    "    # Create a motif object\n",
    "    m = motifs.create(first_n_nucleotides)\n",
    "\n",
    "    # Find consensus sequence and convert T back to U\n",
    "    consensus = m.consensus\n",
    "    consensus_rna = str(consensus).replace('T', 'U')\n",
    "\n",
    "    # Check if the consensus motif is present in all sequences\n",
    "    for seq in first_n_nucleotides:\n",
    "        if consensus_rna.replace('U', 'T') not in str(seq):\n",
    "            return None  # Return None if the motif is not universal\n",
    "\n",
    "    return consensus_rna\n",
    "\n",
    "# Use the function\n",
    "\n",
    "\n",
    "def find_motif_from_end(df, sequence_column='sequence', n_samples=10000, length=26):\n",
    "    # Sample sequences\n",
    "    sampled_df = df.sample(n=n_samples)\n",
    "    sampled_sequences = sampled_df[sequence_column].to_list()\n",
    "\n",
    "    # Extract the last 'length' nucleotides from each sequence and convert U to T\n",
    "    last_n_nucleotides = [Seq(seq[-length:].replace('U', 'T')) for seq in sampled_sequences]\n",
    "\n",
    "    # Create a motif object\n",
    "    m = motifs.create(last_n_nucleotides)\n",
    "\n",
    "    # Find consensus sequence and convert T back to U\n",
    "    consensus = m.consensus\n",
    "    consensus_rna = str(consensus).replace('T', 'U')\n",
    "\n",
    "    # Check if the consensus motif is present in all sequences\n",
    "    for seq in last_n_nucleotides:\n",
    "        if consensus_rna.replace('U', 'T') not in str(seq):\n",
    "            return None  # Return None if the motif is not universal\n",
    "\n",
    "    return consensus_rna\n",
    "\n",
    "\n",
    "consensus_motif = find_motif_in_first_26(df_test)\n",
    "if consensus_motif:\n",
    "    print(consensus_motif)\n",
    "else:\n",
    "    print(\"No universal motif found.\")\n"
   ]
  },
  {
   "cell_type": "code",
   "execution_count": null,
   "metadata": {},
   "outputs": [],
   "source": [
    "consensus_motif = find_motif_from_end(df_test, length=21, n_samples=100000)\n",
    "if consensus_motif:\n",
    "    print(consensus_motif)\n",
    "else:\n",
    "    print(\"No universal motif found.\")"
   ]
  },
  {
   "cell_type": "code",
   "execution_count": null,
   "metadata": {},
   "outputs": [],
   "source": [
    "sequences = SeqIO.parse('../data/sequence_libraries/Positives240-2000.tsv.fa', 'fasta')\n",
    "print(next(sequences))\n"
   ]
  },
  {
   "cell_type": "code",
   "execution_count": null,
   "metadata": {},
   "outputs": [],
   "source": [
    "!ls ../data/sequence_libraries/1Mround2_all.fasta"
   ]
  },
  {
   "cell_type": "code",
   "execution_count": null,
   "metadata": {},
   "outputs": [],
   "source": [
    "df"
   ]
  },
  {
   "cell_type": "code",
   "execution_count": null,
   "metadata": {},
   "outputs": [],
   "source": [
    "df_test.filter(df_test['sequence_id'] == \"32603ab2acc6\")"
   ]
  },
  {
   "cell_type": "code",
   "execution_count": null,
   "metadata": {},
   "outputs": [],
   "source": [
    "file_list = list(Path('../data/Ribonanza_bpp_files/').rglob('*.txt'))\n",
    "file_list[0]"
   ]
  },
  {
   "cell_type": "code",
   "execution_count": null,
   "metadata": {},
   "outputs": [],
   "source": [
    "def read_base_pair_probabilities(file_path):\n",
    "    \"\"\"\n",
    "    Reads a TXT file of base pair probabilities.\n",
    "    \n",
    "    Args:\n",
    "    - file_path (str): Path to the TXT file.\n",
    "    \n",
    "    Returns:\n",
    "    - dict: A dictionary where keys are (Position 1, Position 2) tuples and values are base pair probabilities.\n",
    "    \"\"\"\n",
    "    with open(file_path, 'r') as file:\n",
    "        lines = file.readlines()\n",
    "\n",
    "    data = {}\n",
    "    for line in lines:\n",
    "        values = line.strip().split()\n",
    "        if len(values) == 3:\n",
    "            pos1, pos2, prob = values\n",
    "            data[(int(pos1), int(pos2))] = float(prob)\n",
    "\n",
    "    return data\n",
    "\n",
    "def generate_matrix(base_pair_probabilities, n):\n",
    "    \"\"\"\n",
    "    Generates an n x n matrix from base pair probabilities.\n",
    "    \n",
    "    Args:\n",
    "    - base_pair_probabilities (dict): Dictionary where keys are (Position 1, Position 2) tuples and values are base pair probabilities.\n",
    "    - n (int): Size of the matrix.\n",
    "    \n",
    "    Returns:\n",
    "    - np.array: An n x n matrix of base pair probabilities.\n",
    "    \"\"\"\n",
    "    matrix = np.zeros((n, n))\n",
    "    for (pos1, pos2), prob in base_pair_probabilities.items():\n",
    "        matrix[pos1-1, pos2-1] = prob  # Adjusting for 0-based indexing\n",
    "        matrix[pos2-1, pos1-1] = prob  # Since the matrix is symmetric\n",
    "\n",
    "    return matrix\n",
    "\n"
   ]
  },
  {
   "cell_type": "code",
   "execution_count": null,
   "metadata": {},
   "outputs": [],
   "source": [
    "base_pair_probabilities = read_base_pair_probabilities(file_list[0])\n",
    "n = max(max(key) for key in base_pair_probabilities.keys())  # Assuming the maximum position in the file is the size of the matrix\n",
    "matrix = generate_matrix(base_pair_probabilities, n)\n"
   ]
  },
  {
   "cell_type": "code",
   "execution_count": null,
   "metadata": {},
   "outputs": [],
   "source": [
    "sns.heatmap(matrix)"
   ]
  },
  {
   "cell_type": "code",
   "execution_count": null,
   "metadata": {},
   "outputs": [],
   "source": [
    "def generate_base_pair_matrix(file_path):\n",
    "    \"\"\"\n",
    "    Reads a TXT file of base pair probabilities and generates an n x n matrix.\n",
    "    \n",
    "    Args:\n",
    "    - file_path (str): Path to the TXT file.\n",
    "    \n",
    "    Returns:\n",
    "    - np.array: An n x n matrix of base pair probabilities.\n",
    "    \"\"\"\n",
    "    # Read the data using pandas\n",
    "    data = pd.read_csv(file_path, sep=\" \", header=None, names=[\"pos1\", \"pos2\", \"prob\"])\n",
    "    \n",
    "    # Determine the size of the matrix\n",
    "    max_position = max(data[\"pos1\"].max(), data[\"pos2\"].max())\n",
    "    \n",
    "    # Initialize the matrix\n",
    "    matrix = np.zeros((max_position, max_position))\n",
    "    \n",
    "    # Populate the matrix\n",
    "    for _, row in data.iterrows():\n",
    "        pos1, pos2, prob = int(row[\"pos1\"]), int(row[\"pos2\"]), row[\"prob\"]\n",
    "        matrix[pos1-1, pos2-1] = prob\n",
    "        matrix[pos2-1, pos1-1] = prob\n",
    "\n",
    "    return matrix"
   ]
  },
  {
   "cell_type": "code",
   "execution_count": null,
   "metadata": {},
   "outputs": [],
   "source": [
    "matrix = generate_base_pair_matrix(file_list[567])"
   ]
  },
  {
   "cell_type": "code",
   "execution_count": null,
   "metadata": {},
   "outputs": [],
   "source": [
    "sns.heatmap(matrix)"
   ]
  },
  {
   "cell_type": "code",
   "execution_count": 6,
   "metadata": {},
   "outputs": [],
   "source": [
    "df = pl.read_csv(path/'train_data.csv')\n",
    "df = df.with_columns(df['sequence'].apply(len).alias('rna_length'))\n",
    "reactivity_columns = [\"experiment_type\"] + [col for col in df.columns if col.startswith('reactivity_') and not col.startswith('reactivity_error_')]\n",
    "error_columns = [\"experiment_type\"] +  [col for col in df.columns if col.startswith('reactivity_error_')]"
   ]
  },
  {
   "cell_type": "code",
   "execution_count": null,
   "metadata": {},
   "outputs": [],
   "source": [
    "df.to_pandas().groupby('sequence_id').agg(list)"
   ]
  },
  {
   "cell_type": "code",
   "execution_count": 7,
   "metadata": {},
   "outputs": [
    {
     "ename": "AttributeError",
     "evalue": "'DataFrame' object has no attribute 'distinct'",
     "output_type": "error",
     "traceback": [
      "\u001b[0;31m---------------------------------------------------------------------------\u001b[0m",
      "\u001b[0;31mAttributeError\u001b[0m                            Traceback (most recent call last)",
      "Cell \u001b[0;32mIn[7], line 1\u001b[0m\n\u001b[0;32m----> 1\u001b[0m unique_combinations \u001b[39m=\u001b[39m df\u001b[39m.\u001b[39;49mselect([\u001b[39m'\u001b[39;49m\u001b[39msequence_id\u001b[39;49m\u001b[39m'\u001b[39;49m])\u001b[39m.\u001b[39;49mdistinct()\n",
      "\u001b[0;31mAttributeError\u001b[0m: 'DataFrame' object has no attribute 'distinct'"
     ]
    }
   ],
   "source": [
    "unique_combinations = df.select(['sequence_id']).distinct()"
   ]
  },
  {
   "cell_type": "code",
   "execution_count": 18,
   "metadata": {},
   "outputs": [],
   "source": [
    "def get_one(df, seq_id):\n",
    "    one_seq = df.filter(df['sequence_id'] == seq_id)\n",
    "    seq = one_seq['sequence'].to_list()[0]\n",
    "    seq_lenth = one_seq['rna_length'].to_list()[0]\n",
    "    k_ = one_seq[reactivity_columns[:seq_lenth]].to_pandas().set_index('experiment_type').T\n",
    "    lbl_2a3 = k_[\"2A3_MaP\"].astype('float32').fillna(-2).values\n",
    "    lbl_dms = k_[\"DMS_MaP\"].astype('float32').fillna(-2).values\n",
    "    mask = lbl_2a3 != -2\n",
    "    return {\"sequnce_id\": seq_id, \"sequnce\": seq, \"value_2a3\": lbl_2a3, \"value_dms\": lbl_dms, \"mask\": mask, \"sequence_lenth\": seq_lenth}"
   ]
  },
  {
   "cell_type": "code",
   "execution_count": null,
   "metadata": {},
   "outputs": [],
   "source": [
    "unique_seq_ids = df['sequence_id'].unique().to_list()"
   ]
  },
  {
   "cell_type": "code",
   "execution_count": 16,
   "metadata": {},
   "outputs": [],
   "source": [
    "from tqdm import tqdm"
   ]
  },
  {
   "cell_type": "code",
   "execution_count": 20,
   "metadata": {},
   "outputs": [
    {
     "name": "stderr",
     "output_type": "stream",
     "text": [
      "  0%|          | 4/806573 [00:59<3893:17:51, 17.38s/it]"
     ]
    },
    {
     "ename": "KeyboardInterrupt",
     "evalue": "",
     "output_type": "error",
     "traceback": [
      "\u001b[0;31m---------------------------------------------------------------------------\u001b[0m",
      "\u001b[0;31mKeyboardInterrupt\u001b[0m                         Traceback (most recent call last)",
      "Cell \u001b[0;32mIn[20], line 12\u001b[0m\n\u001b[1;32m      9\u001b[0m sequence_ids \u001b[39m=\u001b[39m df\u001b[39m.\u001b[39mselect(pl\u001b[39m.\u001b[39mcol(\u001b[39m\"\u001b[39m\u001b[39msequence_id\u001b[39m\u001b[39m\"\u001b[39m)\u001b[39m.\u001b[39munique())\u001b[39m.\u001b[39mto_series()\u001b[39m.\u001b[39mto_list()\n\u001b[1;32m     11\u001b[0m \u001b[39m# Parallelize using joblib\u001b[39;00m\n\u001b[0;32m---> 12\u001b[0m results \u001b[39m=\u001b[39m Parallel(n_jobs\u001b[39m=\u001b[39;49m\u001b[39m2\u001b[39;49m)(delayed(process)(seq_id) \u001b[39mfor\u001b[39;49;00m seq_id \u001b[39min\u001b[39;49;00m tqdm(sequence_ids))\n",
      "File \u001b[0;32m/opt/conda/lib/python3.10/site-packages/joblib/parallel.py:1944\u001b[0m, in \u001b[0;36mParallel.__call__\u001b[0;34m(self, iterable)\u001b[0m\n\u001b[1;32m   1938\u001b[0m \u001b[39m# The first item from the output is blank, but it makes the interpreter\u001b[39;00m\n\u001b[1;32m   1939\u001b[0m \u001b[39m# progress until it enters the Try/Except block of the generator and\u001b[39;00m\n\u001b[1;32m   1940\u001b[0m \u001b[39m# reach the first `yield` statement. This starts the aynchronous\u001b[39;00m\n\u001b[1;32m   1941\u001b[0m \u001b[39m# dispatch of the tasks to the workers.\u001b[39;00m\n\u001b[1;32m   1942\u001b[0m \u001b[39mnext\u001b[39m(output)\n\u001b[0;32m-> 1944\u001b[0m \u001b[39mreturn\u001b[39;00m output \u001b[39mif\u001b[39;00m \u001b[39mself\u001b[39m\u001b[39m.\u001b[39mreturn_generator \u001b[39melse\u001b[39;00m \u001b[39mlist\u001b[39;49m(output)\n",
      "File \u001b[0;32m/opt/conda/lib/python3.10/site-packages/joblib/parallel.py:1587\u001b[0m, in \u001b[0;36mParallel._get_outputs\u001b[0;34m(self, iterator, pre_dispatch)\u001b[0m\n\u001b[1;32m   1584\u001b[0m     \u001b[39myield\u001b[39;00m\n\u001b[1;32m   1586\u001b[0m     \u001b[39mwith\u001b[39;00m \u001b[39mself\u001b[39m\u001b[39m.\u001b[39m_backend\u001b[39m.\u001b[39mretrieval_context():\n\u001b[0;32m-> 1587\u001b[0m         \u001b[39myield from\u001b[39;00m \u001b[39mself\u001b[39m\u001b[39m.\u001b[39m_retrieve()\n\u001b[1;32m   1589\u001b[0m \u001b[39mexcept\u001b[39;00m \u001b[39mGeneratorExit\u001b[39;00m:\n\u001b[1;32m   1590\u001b[0m     \u001b[39m# The generator has been garbage collected before being fully\u001b[39;00m\n\u001b[1;32m   1591\u001b[0m     \u001b[39m# consumed. This aborts the remaining tasks if possible and warn\u001b[39;00m\n\u001b[1;32m   1592\u001b[0m     \u001b[39m# the user if necessary.\u001b[39;00m\n\u001b[1;32m   1593\u001b[0m     \u001b[39mself\u001b[39m\u001b[39m.\u001b[39m_exception \u001b[39m=\u001b[39m \u001b[39mTrue\u001b[39;00m\n",
      "File \u001b[0;32m/opt/conda/lib/python3.10/site-packages/joblib/parallel.py:1699\u001b[0m, in \u001b[0;36mParallel._retrieve\u001b[0;34m(self)\u001b[0m\n\u001b[1;32m   1694\u001b[0m \u001b[39m# If the next job is not ready for retrieval yet, we just wait for\u001b[39;00m\n\u001b[1;32m   1695\u001b[0m \u001b[39m# async callbacks to progress.\u001b[39;00m\n\u001b[1;32m   1696\u001b[0m \u001b[39mif\u001b[39;00m ((\u001b[39mlen\u001b[39m(\u001b[39mself\u001b[39m\u001b[39m.\u001b[39m_jobs) \u001b[39m==\u001b[39m \u001b[39m0\u001b[39m) \u001b[39mor\u001b[39;00m\n\u001b[1;32m   1697\u001b[0m     (\u001b[39mself\u001b[39m\u001b[39m.\u001b[39m_jobs[\u001b[39m0\u001b[39m]\u001b[39m.\u001b[39mget_status(\n\u001b[1;32m   1698\u001b[0m         timeout\u001b[39m=\u001b[39m\u001b[39mself\u001b[39m\u001b[39m.\u001b[39mtimeout) \u001b[39m==\u001b[39m TASK_PENDING)):\n\u001b[0;32m-> 1699\u001b[0m     time\u001b[39m.\u001b[39;49msleep(\u001b[39m0.01\u001b[39;49m)\n\u001b[1;32m   1700\u001b[0m     \u001b[39mcontinue\u001b[39;00m\n\u001b[1;32m   1702\u001b[0m \u001b[39m# We need to be careful: the job list can be filling up as\u001b[39;00m\n\u001b[1;32m   1703\u001b[0m \u001b[39m# we empty it and Python list are not thread-safe by\u001b[39;00m\n\u001b[1;32m   1704\u001b[0m \u001b[39m# default hence the use of the lock\u001b[39;00m\n",
      "\u001b[0;31mKeyboardInterrupt\u001b[0m: "
     ]
    }
   ],
   "source": [
    "from joblib import Parallel, delayed\n",
    "from tqdm import tqdm\n",
    "\n",
    "# Define the function you want to parallelize\n",
    "def process(seq_id):\n",
    "    return get_one(df, seq_id)\n",
    "\n",
    "# Get the list of unique sequence_ids\n",
    "sequence_ids = df.select(pl.col(\"sequence_id\").unique()).to_series().to_list()\n",
    "\n",
    "# Parallelize using joblib\n",
    "results = Parallel(n_jobs=2)(delayed(process)(seq_id) for seq_id in tqdm(sequence_ids))\n"
   ]
  },
  {
   "cell_type": "code",
   "execution_count": 9,
   "metadata": {},
   "outputs": [
    {
     "data": {
      "text/html": [
       "<div><style>\n",
       ".dataframe > thead > tr > th,\n",
       ".dataframe > tbody > tr > td {\n",
       "  text-align: right;\n",
       "}\n",
       "</style>\n",
       "<small>shape: (1_643_680, 420)</small><table border=\"1\" class=\"dataframe\"><thead><tr><th>sequence_id</th><th>sequence</th><th>experiment_type</th><th>dataset_name</th><th>reads</th><th>signal_to_noise</th><th>SN_filter</th><th>reactivity_0001</th><th>reactivity_0002</th><th>reactivity_0003</th><th>reactivity_0004</th><th>reactivity_0005</th><th>reactivity_0006</th><th>reactivity_0007</th><th>reactivity_0008</th><th>reactivity_0009</th><th>reactivity_0010</th><th>reactivity_0011</th><th>reactivity_0012</th><th>reactivity_0013</th><th>reactivity_0014</th><th>reactivity_0015</th><th>reactivity_0016</th><th>reactivity_0017</th><th>reactivity_0018</th><th>reactivity_0019</th><th>reactivity_0020</th><th>reactivity_0021</th><th>reactivity_0022</th><th>reactivity_0023</th><th>reactivity_0024</th><th>reactivity_0025</th><th>reactivity_0026</th><th>reactivity_0027</th><th>reactivity_0028</th><th>reactivity_0029</th><th>reactivity_0030</th><th>&hellip;</th><th>reactivity_0200</th><th>reactivity_0201</th><th>reactivity_0202</th><th>reactivity_0203</th><th>reactivity_0204</th><th>reactivity_0205</th><th>reactivity_0206</th><th>reactivity_error_0178</th><th>reactivity_error_0179</th><th>reactivity_error_0180</th><th>reactivity_error_0181</th><th>reactivity_error_0182</th><th>reactivity_error_0183</th><th>reactivity_error_0184</th><th>reactivity_error_0185</th><th>reactivity_error_0186</th><th>reactivity_error_0187</th><th>reactivity_error_0188</th><th>reactivity_error_0189</th><th>reactivity_error_0190</th><th>reactivity_error_0191</th><th>reactivity_error_0192</th><th>reactivity_error_0193</th><th>reactivity_error_0194</th><th>reactivity_error_0195</th><th>reactivity_error_0196</th><th>reactivity_error_0197</th><th>reactivity_error_0198</th><th>reactivity_error_0199</th><th>reactivity_error_0200</th><th>reactivity_error_0201</th><th>reactivity_error_0202</th><th>reactivity_error_0203</th><th>reactivity_error_0204</th><th>reactivity_error_0205</th><th>reactivity_error_0206</th><th>rna_length</th></tr><tr><td>str</td><td>str</td><td>str</td><td>str</td><td>i64</td><td>f64</td><td>i64</td><td>str</td><td>str</td><td>str</td><td>str</td><td>str</td><td>str</td><td>str</td><td>str</td><td>str</td><td>str</td><td>str</td><td>str</td><td>str</td><td>str</td><td>str</td><td>str</td><td>str</td><td>str</td><td>str</td><td>str</td><td>str</td><td>str</td><td>str</td><td>str</td><td>str</td><td>str</td><td>f64</td><td>f64</td><td>f64</td><td>f64</td><td>&hellip;</td><td>str</td><td>str</td><td>str</td><td>str</td><td>str</td><td>str</td><td>str</td><td>str</td><td>str</td><td>str</td><td>str</td><td>str</td><td>str</td><td>str</td><td>str</td><td>str</td><td>str</td><td>str</td><td>str</td><td>str</td><td>str</td><td>str</td><td>str</td><td>str</td><td>str</td><td>str</td><td>str</td><td>str</td><td>str</td><td>str</td><td>str</td><td>str</td><td>str</td><td>str</td><td>str</td><td>str</td><td>i64</td></tr></thead><tbody><tr><td>&quot;8cdfeef009ea&quot;</td><td>&quot;GGGAACGACUCGAG…</td><td>&quot;2A3_MaP&quot;</td><td>&quot;15k_2A3&quot;</td><td>2343</td><td>0.944</td><td>0</td><td>null</td><td>null</td><td>null</td><td>null</td><td>null</td><td>null</td><td>null</td><td>null</td><td>null</td><td>null</td><td>null</td><td>null</td><td>null</td><td>null</td><td>null</td><td>null</td><td>null</td><td>null</td><td>null</td><td>null</td><td>null</td><td>null</td><td>null</td><td>null</td><td>null</td><td>null</td><td>-0.039</td><td>0.455</td><td>-0.207</td><td>-0.098</td><td>&hellip;</td><td>null</td><td>null</td><td>null</td><td>null</td><td>null</td><td>null</td><td>null</td><td>null</td><td>null</td><td>null</td><td>null</td><td>null</td><td>null</td><td>null</td><td>null</td><td>null</td><td>null</td><td>null</td><td>null</td><td>null</td><td>null</td><td>null</td><td>null</td><td>null</td><td>null</td><td>null</td><td>null</td><td>null</td><td>null</td><td>null</td><td>null</td><td>null</td><td>null</td><td>null</td><td>null</td><td>null</td><td>170</td></tr><tr><td>&quot;51e61fbde94d&quot;</td><td>&quot;GGGAACGACUCGAG…</td><td>&quot;2A3_MaP&quot;</td><td>&quot;15k_2A3&quot;</td><td>5326</td><td>1.933</td><td>1</td><td>null</td><td>null</td><td>null</td><td>null</td><td>null</td><td>null</td><td>null</td><td>null</td><td>null</td><td>null</td><td>null</td><td>null</td><td>null</td><td>null</td><td>null</td><td>null</td><td>null</td><td>null</td><td>null</td><td>null</td><td>null</td><td>null</td><td>null</td><td>null</td><td>null</td><td>null</td><td>-0.036</td><td>0.683</td><td>0.189</td><td>-0.005</td><td>&hellip;</td><td>null</td><td>null</td><td>null</td><td>null</td><td>null</td><td>null</td><td>null</td><td>null</td><td>null</td><td>null</td><td>null</td><td>null</td><td>null</td><td>null</td><td>null</td><td>null</td><td>null</td><td>null</td><td>null</td><td>null</td><td>null</td><td>null</td><td>null</td><td>null</td><td>null</td><td>null</td><td>null</td><td>null</td><td>null</td><td>null</td><td>null</td><td>null</td><td>null</td><td>null</td><td>null</td><td>null</td><td>170</td></tr><tr><td>&quot;25ce8d5109cd&quot;</td><td>&quot;GGGAACGACUCGAG…</td><td>&quot;2A3_MaP&quot;</td><td>&quot;15k_2A3&quot;</td><td>4647</td><td>2.347</td><td>1</td><td>null</td><td>null</td><td>null</td><td>null</td><td>null</td><td>null</td><td>null</td><td>null</td><td>null</td><td>null</td><td>null</td><td>null</td><td>null</td><td>null</td><td>null</td><td>null</td><td>null</td><td>null</td><td>null</td><td>null</td><td>null</td><td>null</td><td>null</td><td>null</td><td>null</td><td>null</td><td>-0.039</td><td>0.354</td><td>-0.573</td><td>-0.061</td><td>&hellip;</td><td>null</td><td>null</td><td>null</td><td>null</td><td>null</td><td>null</td><td>null</td><td>null</td><td>null</td><td>null</td><td>null</td><td>null</td><td>null</td><td>null</td><td>null</td><td>null</td><td>null</td><td>null</td><td>null</td><td>null</td><td>null</td><td>null</td><td>null</td><td>null</td><td>null</td><td>null</td><td>null</td><td>null</td><td>null</td><td>null</td><td>null</td><td>null</td><td>null</td><td>null</td><td>null</td><td>null</td><td>170</td></tr><tr><td>&quot;07dcfb6d1965&quot;</td><td>&quot;GGGAACGACUCGAG…</td><td>&quot;2A3_MaP&quot;</td><td>&quot;15k_2A3&quot;</td><td>102843</td><td>11.824</td><td>1</td><td>null</td><td>null</td><td>null</td><td>null</td><td>null</td><td>null</td><td>null</td><td>null</td><td>null</td><td>null</td><td>null</td><td>null</td><td>null</td><td>null</td><td>null</td><td>null</td><td>null</td><td>null</td><td>null</td><td>null</td><td>null</td><td>null</td><td>null</td><td>null</td><td>null</td><td>null</td><td>0.156</td><td>0.435</td><td>0.138</td><td>0.16</td><td>&hellip;</td><td>null</td><td>null</td><td>null</td><td>null</td><td>null</td><td>null</td><td>null</td><td>null</td><td>null</td><td>null</td><td>null</td><td>null</td><td>null</td><td>null</td><td>null</td><td>null</td><td>null</td><td>null</td><td>null</td><td>null</td><td>null</td><td>null</td><td>null</td><td>null</td><td>null</td><td>null</td><td>null</td><td>null</td><td>null</td><td>null</td><td>null</td><td>null</td><td>null</td><td>null</td><td>null</td><td>null</td><td>170</td></tr><tr><td>&quot;e561cc042a4c&quot;</td><td>&quot;GGGAACGACUCGAG…</td><td>&quot;2A3_MaP&quot;</td><td>&quot;15k_2A3&quot;</td><td>7665</td><td>3.519</td><td>1</td><td>null</td><td>null</td><td>null</td><td>null</td><td>null</td><td>null</td><td>null</td><td>null</td><td>null</td><td>null</td><td>null</td><td>null</td><td>null</td><td>null</td><td>null</td><td>null</td><td>null</td><td>null</td><td>null</td><td>null</td><td>null</td><td>null</td><td>null</td><td>null</td><td>null</td><td>null</td><td>-0.086</td><td>1.018</td><td>0.354</td><td>0.577</td><td>&hellip;</td><td>null</td><td>null</td><td>null</td><td>null</td><td>null</td><td>null</td><td>null</td><td>null</td><td>null</td><td>null</td><td>null</td><td>null</td><td>null</td><td>null</td><td>null</td><td>null</td><td>null</td><td>null</td><td>null</td><td>null</td><td>null</td><td>null</td><td>null</td><td>null</td><td>null</td><td>null</td><td>null</td><td>null</td><td>null</td><td>null</td><td>null</td><td>null</td><td>null</td><td>null</td><td>null</td><td>null</td><td>170</td></tr><tr><td>&quot;aa948762535f&quot;</td><td>&quot;GGGAACGACUCGAG…</td><td>&quot;2A3_MaP&quot;</td><td>&quot;15k_2A3&quot;</td><td>14018</td><td>3.219</td><td>1</td><td>null</td><td>null</td><td>null</td><td>null</td><td>null</td><td>null</td><td>null</td><td>null</td><td>null</td><td>null</td><td>null</td><td>null</td><td>null</td><td>null</td><td>null</td><td>null</td><td>null</td><td>null</td><td>null</td><td>null</td><td>null</td><td>null</td><td>null</td><td>null</td><td>null</td><td>null</td><td>-0.055</td><td>0.641</td><td>-0.123</td><td>-0.419</td><td>&hellip;</td><td>null</td><td>null</td><td>null</td><td>null</td><td>null</td><td>null</td><td>null</td><td>null</td><td>null</td><td>null</td><td>null</td><td>null</td><td>null</td><td>null</td><td>null</td><td>null</td><td>null</td><td>null</td><td>null</td><td>null</td><td>null</td><td>null</td><td>null</td><td>null</td><td>null</td><td>null</td><td>null</td><td>null</td><td>null</td><td>null</td><td>null</td><td>null</td><td>null</td><td>null</td><td>null</td><td>null</td><td>170</td></tr><tr><td>&quot;060560e13efc&quot;</td><td>&quot;GGGAACGACUCGAG…</td><td>&quot;2A3_MaP&quot;</td><td>&quot;15k_2A3&quot;</td><td>16762</td><td>4.356</td><td>1</td><td>null</td><td>null</td><td>null</td><td>null</td><td>null</td><td>null</td><td>null</td><td>null</td><td>null</td><td>null</td><td>null</td><td>null</td><td>null</td><td>null</td><td>null</td><td>null</td><td>null</td><td>null</td><td>null</td><td>null</td><td>null</td><td>null</td><td>null</td><td>null</td><td>null</td><td>null</td><td>-0.198</td><td>0.844</td><td>0.312</td><td>-0.737</td><td>&hellip;</td><td>null</td><td>null</td><td>null</td><td>null</td><td>null</td><td>null</td><td>null</td><td>null</td><td>null</td><td>null</td><td>null</td><td>null</td><td>null</td><td>null</td><td>null</td><td>null</td><td>null</td><td>null</td><td>null</td><td>null</td><td>null</td><td>null</td><td>null</td><td>null</td><td>null</td><td>null</td><td>null</td><td>null</td><td>null</td><td>null</td><td>null</td><td>null</td><td>null</td><td>null</td><td>null</td><td>null</td><td>170</td></tr><tr><td>&quot;fcc4f8255a75&quot;</td><td>&quot;GGGAACGACUCGAG…</td><td>&quot;2A3_MaP&quot;</td><td>&quot;15k_2A3&quot;</td><td>29872</td><td>4.606</td><td>1</td><td>null</td><td>null</td><td>null</td><td>null</td><td>null</td><td>null</td><td>null</td><td>null</td><td>null</td><td>null</td><td>null</td><td>null</td><td>null</td><td>null</td><td>null</td><td>null</td><td>null</td><td>null</td><td>null</td><td>null</td><td>null</td><td>null</td><td>null</td><td>null</td><td>null</td><td>null</td><td>-0.036</td><td>0.854</td><td>0.237</td><td>0.358</td><td>&hellip;</td><td>null</td><td>null</td><td>null</td><td>null</td><td>null</td><td>null</td><td>null</td><td>null</td><td>null</td><td>null</td><td>null</td><td>null</td><td>null</td><td>null</td><td>null</td><td>null</td><td>null</td><td>null</td><td>null</td><td>null</td><td>null</td><td>null</td><td>null</td><td>null</td><td>null</td><td>null</td><td>null</td><td>null</td><td>null</td><td>null</td><td>null</td><td>null</td><td>null</td><td>null</td><td>null</td><td>null</td><td>170</td></tr><tr><td>&quot;470c8b446927&quot;</td><td>&quot;GGGAACGACUCGAG…</td><td>&quot;2A3_MaP&quot;</td><td>&quot;15k_2A3&quot;</td><td>142531</td><td>5.465</td><td>1</td><td>null</td><td>null</td><td>null</td><td>null</td><td>null</td><td>null</td><td>null</td><td>null</td><td>null</td><td>null</td><td>null</td><td>null</td><td>null</td><td>null</td><td>null</td><td>null</td><td>null</td><td>null</td><td>null</td><td>null</td><td>null</td><td>null</td><td>null</td><td>null</td><td>null</td><td>null</td><td>0.115</td><td>0.754</td><td>0.055</td><td>0.146</td><td>&hellip;</td><td>null</td><td>null</td><td>null</td><td>null</td><td>null</td><td>null</td><td>null</td><td>null</td><td>null</td><td>null</td><td>null</td><td>null</td><td>null</td><td>null</td><td>null</td><td>null</td><td>null</td><td>null</td><td>null</td><td>null</td><td>null</td><td>null</td><td>null</td><td>null</td><td>null</td><td>null</td><td>null</td><td>null</td><td>null</td><td>null</td><td>null</td><td>null</td><td>null</td><td>null</td><td>null</td><td>null</td><td>170</td></tr><tr><td>&quot;c7712b3f912d&quot;</td><td>&quot;GGGAACGACUCGAG…</td><td>&quot;2A3_MaP&quot;</td><td>&quot;15k_2A3&quot;</td><td>8934</td><td>2.705</td><td>1</td><td>null</td><td>null</td><td>null</td><td>null</td><td>null</td><td>null</td><td>null</td><td>null</td><td>null</td><td>null</td><td>null</td><td>null</td><td>null</td><td>null</td><td>null</td><td>null</td><td>null</td><td>null</td><td>null</td><td>null</td><td>null</td><td>null</td><td>null</td><td>null</td><td>null</td><td>null</td><td>0.276</td><td>0.663</td><td>0.083</td><td>0.353</td><td>&hellip;</td><td>null</td><td>null</td><td>null</td><td>null</td><td>null</td><td>null</td><td>null</td><td>null</td><td>null</td><td>null</td><td>null</td><td>null</td><td>null</td><td>null</td><td>null</td><td>null</td><td>null</td><td>null</td><td>null</td><td>null</td><td>null</td><td>null</td><td>null</td><td>null</td><td>null</td><td>null</td><td>null</td><td>null</td><td>null</td><td>null</td><td>null</td><td>null</td><td>null</td><td>null</td><td>null</td><td>null</td><td>170</td></tr><tr><td>&quot;61a357b74f51&quot;</td><td>&quot;GGGAACGACUCGAG…</td><td>&quot;2A3_MaP&quot;</td><td>&quot;15k_2A3&quot;</td><td>49408</td><td>4.448</td><td>1</td><td>null</td><td>null</td><td>null</td><td>null</td><td>null</td><td>null</td><td>null</td><td>null</td><td>null</td><td>null</td><td>null</td><td>null</td><td>null</td><td>null</td><td>null</td><td>null</td><td>null</td><td>null</td><td>null</td><td>null</td><td>null</td><td>null</td><td>null</td><td>null</td><td>null</td><td>null</td><td>-0.018</td><td>0.75</td><td>-0.014</td><td>0.102</td><td>&hellip;</td><td>null</td><td>null</td><td>null</td><td>null</td><td>null</td><td>null</td><td>null</td><td>null</td><td>null</td><td>null</td><td>null</td><td>null</td><td>null</td><td>null</td><td>null</td><td>null</td><td>null</td><td>null</td><td>null</td><td>null</td><td>null</td><td>null</td><td>null</td><td>null</td><td>null</td><td>null</td><td>null</td><td>null</td><td>null</td><td>null</td><td>null</td><td>null</td><td>null</td><td>null</td><td>null</td><td>null</td><td>170</td></tr><tr><td>&quot;db844b9f1869&quot;</td><td>&quot;GGGAACGACUCGAG…</td><td>&quot;2A3_MaP&quot;</td><td>&quot;15k_2A3&quot;</td><td>2391</td><td>1.295</td><td>1</td><td>null</td><td>null</td><td>null</td><td>null</td><td>null</td><td>null</td><td>null</td><td>null</td><td>null</td><td>null</td><td>null</td><td>null</td><td>null</td><td>null</td><td>null</td><td>null</td><td>null</td><td>null</td><td>null</td><td>null</td><td>null</td><td>null</td><td>null</td><td>null</td><td>null</td><td>null</td><td>-0.015</td><td>0.703</td><td>0.09</td><td>0.27</td><td>&hellip;</td><td>null</td><td>null</td><td>null</td><td>null</td><td>null</td><td>null</td><td>null</td><td>null</td><td>null</td><td>null</td><td>null</td><td>null</td><td>null</td><td>null</td><td>null</td><td>null</td><td>null</td><td>null</td><td>null</td><td>null</td><td>null</td><td>null</td><td>null</td><td>null</td><td>null</td><td>null</td><td>null</td><td>null</td><td>null</td><td>null</td><td>null</td><td>null</td><td>null</td><td>null</td><td>null</td><td>null</td><td>170</td></tr><tr><td>&hellip;</td><td>&hellip;</td><td>&hellip;</td><td>&hellip;</td><td>&hellip;</td><td>&hellip;</td><td>&hellip;</td><td>&hellip;</td><td>&hellip;</td><td>&hellip;</td><td>&hellip;</td><td>&hellip;</td><td>&hellip;</td><td>&hellip;</td><td>&hellip;</td><td>&hellip;</td><td>&hellip;</td><td>&hellip;</td><td>&hellip;</td><td>&hellip;</td><td>&hellip;</td><td>&hellip;</td><td>&hellip;</td><td>&hellip;</td><td>&hellip;</td><td>&hellip;</td><td>&hellip;</td><td>&hellip;</td><td>&hellip;</td><td>&hellip;</td><td>&hellip;</td><td>&hellip;</td><td>&hellip;</td><td>&hellip;</td><td>&hellip;</td><td>&hellip;</td><td>&hellip;</td><td>&hellip;</td><td>&hellip;</td><td>&hellip;</td><td>&hellip;</td><td>&hellip;</td><td>&hellip;</td><td>&hellip;</td><td>&hellip;</td><td>&hellip;</td><td>&hellip;</td><td>&hellip;</td><td>&hellip;</td><td>&hellip;</td><td>&hellip;</td><td>&hellip;</td><td>&hellip;</td><td>&hellip;</td><td>&hellip;</td><td>&hellip;</td><td>&hellip;</td><td>&hellip;</td><td>&hellip;</td><td>&hellip;</td><td>&hellip;</td><td>&hellip;</td><td>&hellip;</td><td>&hellip;</td><td>&hellip;</td><td>&hellip;</td><td>&hellip;</td><td>&hellip;</td><td>&hellip;</td><td>&hellip;</td><td>&hellip;</td><td>&hellip;</td><td>&hellip;</td><td>&hellip;</td><td>&hellip;</td></tr><tr><td>&quot;e1ae1ba76734&quot;</td><td>&quot;GGGAACGACUCGAG…</td><td>&quot;DMS_MaP&quot;</td><td>&quot;SL5_M2seq_DMS&quot;</td><td>170051</td><td>14.562</td><td>1</td><td>null</td><td>null</td><td>null</td><td>null</td><td>null</td><td>null</td><td>null</td><td>null</td><td>null</td><td>null</td><td>null</td><td>null</td><td>null</td><td>null</td><td>null</td><td>null</td><td>null</td><td>null</td><td>null</td><td>null</td><td>null</td><td>null</td><td>null</td><td>null</td><td>null</td><td>null</td><td>-0.13</td><td>0.034</td><td>0.066</td><td>0.068</td><td>&hellip;</td><td>null</td><td>null</td><td>null</td><td>null</td><td>null</td><td>null</td><td>null</td><td>null</td><td>null</td><td>null</td><td>null</td><td>null</td><td>null</td><td>null</td><td>null</td><td>null</td><td>null</td><td>null</td><td>null</td><td>null</td><td>null</td><td>null</td><td>null</td><td>null</td><td>null</td><td>null</td><td>null</td><td>null</td><td>null</td><td>null</td><td>null</td><td>null</td><td>null</td><td>null</td><td>null</td><td>null</td><td>206</td></tr><tr><td>&quot;9adf3cdceead&quot;</td><td>&quot;GGGAACGACUCGAG…</td><td>&quot;DMS_MaP&quot;</td><td>&quot;SL5_M2seq_DMS&quot;</td><td>49716</td><td>8.223</td><td>1</td><td>null</td><td>null</td><td>null</td><td>null</td><td>null</td><td>null</td><td>null</td><td>null</td><td>null</td><td>null</td><td>null</td><td>null</td><td>null</td><td>null</td><td>null</td><td>null</td><td>null</td><td>null</td><td>null</td><td>null</td><td>null</td><td>null</td><td>null</td><td>null</td><td>null</td><td>null</td><td>-0.239</td><td>-0.125</td><td>0.3</td><td>-0.074</td><td>&hellip;</td><td>null</td><td>null</td><td>null</td><td>null</td><td>null</td><td>null</td><td>null</td><td>null</td><td>null</td><td>null</td><td>null</td><td>null</td><td>null</td><td>null</td><td>null</td><td>null</td><td>null</td><td>null</td><td>null</td><td>null</td><td>null</td><td>null</td><td>null</td><td>null</td><td>null</td><td>null</td><td>null</td><td>null</td><td>null</td><td>null</td><td>null</td><td>null</td><td>null</td><td>null</td><td>null</td><td>null</td><td>206</td></tr><tr><td>&quot;6a932b9a2a46&quot;</td><td>&quot;GGGAACGACUCGAG…</td><td>&quot;DMS_MaP&quot;</td><td>&quot;SL5_M2seq_DMS&quot;</td><td>120475</td><td>12.432</td><td>1</td><td>null</td><td>null</td><td>null</td><td>null</td><td>null</td><td>null</td><td>null</td><td>null</td><td>null</td><td>null</td><td>null</td><td>null</td><td>null</td><td>null</td><td>null</td><td>null</td><td>null</td><td>null</td><td>null</td><td>null</td><td>null</td><td>null</td><td>null</td><td>null</td><td>null</td><td>null</td><td>-0.009</td><td>-0.024</td><td>0.096</td><td>0.042</td><td>&hellip;</td><td>null</td><td>null</td><td>null</td><td>null</td><td>null</td><td>null</td><td>null</td><td>null</td><td>null</td><td>null</td><td>null</td><td>null</td><td>null</td><td>null</td><td>null</td><td>null</td><td>null</td><td>null</td><td>null</td><td>null</td><td>null</td><td>null</td><td>null</td><td>null</td><td>null</td><td>null</td><td>null</td><td>null</td><td>null</td><td>null</td><td>null</td><td>null</td><td>null</td><td>null</td><td>null</td><td>null</td><td>206</td></tr><tr><td>&quot;d89191f84a0b&quot;</td><td>&quot;GGGAACGACUCGAG…</td><td>&quot;DMS_MaP&quot;</td><td>&quot;SL5_M2seq_DMS&quot;</td><td>21705</td><td>4.563</td><td>1</td><td>null</td><td>null</td><td>null</td><td>null</td><td>null</td><td>null</td><td>null</td><td>null</td><td>null</td><td>null</td><td>null</td><td>null</td><td>null</td><td>null</td><td>null</td><td>null</td><td>null</td><td>null</td><td>null</td><td>null</td><td>null</td><td>null</td><td>null</td><td>null</td><td>null</td><td>null</td><td>-0.046</td><td>0.293</td><td>-0.098</td><td>0.07</td><td>&hellip;</td><td>null</td><td>null</td><td>null</td><td>null</td><td>null</td><td>null</td><td>null</td><td>null</td><td>null</td><td>null</td><td>null</td><td>null</td><td>null</td><td>null</td><td>null</td><td>null</td><td>null</td><td>null</td><td>null</td><td>null</td><td>null</td><td>null</td><td>null</td><td>null</td><td>null</td><td>null</td><td>null</td><td>null</td><td>null</td><td>null</td><td>null</td><td>null</td><td>null</td><td>null</td><td>null</td><td>null</td><td>206</td></tr><tr><td>&quot;c768b0c625e3&quot;</td><td>&quot;GGGAACGACUCGAG…</td><td>&quot;DMS_MaP&quot;</td><td>&quot;SL5_M2seq_DMS&quot;</td><td>17765</td><td>5.429</td><td>1</td><td>null</td><td>null</td><td>null</td><td>null</td><td>null</td><td>null</td><td>null</td><td>null</td><td>null</td><td>null</td><td>null</td><td>null</td><td>null</td><td>null</td><td>null</td><td>null</td><td>null</td><td>null</td><td>null</td><td>null</td><td>null</td><td>null</td><td>null</td><td>null</td><td>null</td><td>null</td><td>0.243</td><td>-0.108</td><td>-0.036</td><td>-0.044</td><td>&hellip;</td><td>null</td><td>null</td><td>null</td><td>null</td><td>null</td><td>null</td><td>null</td><td>null</td><td>null</td><td>null</td><td>null</td><td>null</td><td>null</td><td>null</td><td>null</td><td>null</td><td>null</td><td>null</td><td>null</td><td>null</td><td>null</td><td>null</td><td>null</td><td>null</td><td>null</td><td>null</td><td>null</td><td>null</td><td>null</td><td>null</td><td>null</td><td>null</td><td>null</td><td>null</td><td>null</td><td>null</td><td>206</td></tr><tr><td>&quot;7faa34c36042&quot;</td><td>&quot;GGGAACGACUCGAG…</td><td>&quot;DMS_MaP&quot;</td><td>&quot;SL5_M2seq_DMS&quot;</td><td>231137</td><td>14.723</td><td>1</td><td>null</td><td>null</td><td>null</td><td>null</td><td>null</td><td>null</td><td>null</td><td>null</td><td>null</td><td>null</td><td>null</td><td>null</td><td>null</td><td>null</td><td>null</td><td>null</td><td>null</td><td>null</td><td>null</td><td>null</td><td>null</td><td>null</td><td>null</td><td>null</td><td>null</td><td>null</td><td>0.227</td><td>0.054</td><td>0.239</td><td>0.079</td><td>&hellip;</td><td>null</td><td>null</td><td>null</td><td>null</td><td>null</td><td>null</td><td>null</td><td>null</td><td>null</td><td>null</td><td>null</td><td>null</td><td>null</td><td>null</td><td>null</td><td>null</td><td>null</td><td>null</td><td>null</td><td>null</td><td>null</td><td>null</td><td>null</td><td>null</td><td>null</td><td>null</td><td>null</td><td>null</td><td>null</td><td>null</td><td>null</td><td>null</td><td>null</td><td>null</td><td>null</td><td>null</td><td>206</td></tr><tr><td>&quot;5e8dde7da049&quot;</td><td>&quot;GGGAACGACUCGAG…</td><td>&quot;DMS_MaP&quot;</td><td>&quot;SL5_M2seq_DMS&quot;</td><td>76273</td><td>9.583</td><td>1</td><td>null</td><td>null</td><td>null</td><td>null</td><td>null</td><td>null</td><td>null</td><td>null</td><td>null</td><td>null</td><td>null</td><td>null</td><td>null</td><td>null</td><td>null</td><td>null</td><td>null</td><td>null</td><td>null</td><td>null</td><td>null</td><td>null</td><td>null</td><td>null</td><td>null</td><td>null</td><td>-0.048</td><td>-0.004</td><td>0.078</td><td>0.152</td><td>&hellip;</td><td>null</td><td>null</td><td>null</td><td>null</td><td>null</td><td>null</td><td>null</td><td>null</td><td>null</td><td>null</td><td>null</td><td>null</td><td>null</td><td>null</td><td>null</td><td>null</td><td>null</td><td>null</td><td>null</td><td>null</td><td>null</td><td>null</td><td>null</td><td>null</td><td>null</td><td>null</td><td>null</td><td>null</td><td>null</td><td>null</td><td>null</td><td>null</td><td>null</td><td>null</td><td>null</td><td>null</td><td>206</td></tr><tr><td>&quot;7951fb2f47f1&quot;</td><td>&quot;GGGAACGACUCGAG…</td><td>&quot;DMS_MaP&quot;</td><td>&quot;SL5_M2seq_DMS&quot;</td><td>37530</td><td>7.248</td><td>1</td><td>null</td><td>null</td><td>null</td><td>null</td><td>null</td><td>null</td><td>null</td><td>null</td><td>null</td><td>null</td><td>null</td><td>null</td><td>null</td><td>null</td><td>null</td><td>null</td><td>null</td><td>null</td><td>null</td><td>null</td><td>null</td><td>null</td><td>null</td><td>null</td><td>null</td><td>null</td><td>0.115</td><td>-0.089</td><td>0.226</td><td>0.17</td><td>&hellip;</td><td>null</td><td>null</td><td>null</td><td>null</td><td>null</td><td>null</td><td>null</td><td>null</td><td>null</td><td>null</td><td>null</td><td>null</td><td>null</td><td>null</td><td>null</td><td>null</td><td>null</td><td>null</td><td>null</td><td>null</td><td>null</td><td>null</td><td>null</td><td>null</td><td>null</td><td>null</td><td>null</td><td>null</td><td>null</td><td>null</td><td>null</td><td>null</td><td>null</td><td>null</td><td>null</td><td>null</td><td>206</td></tr><tr><td>&quot;e0dc5823e5e1&quot;</td><td>&quot;GGGAACGACUCGAG…</td><td>&quot;DMS_MaP&quot;</td><td>&quot;SL5_M2seq_DMS&quot;</td><td>337248</td><td>17.902</td><td>1</td><td>null</td><td>null</td><td>null</td><td>null</td><td>null</td><td>null</td><td>null</td><td>null</td><td>null</td><td>null</td><td>null</td><td>null</td><td>null</td><td>null</td><td>null</td><td>null</td><td>null</td><td>null</td><td>null</td><td>null</td><td>null</td><td>null</td><td>null</td><td>null</td><td>null</td><td>null</td><td>-0.008</td><td>0.023</td><td>-0.038</td><td>-0.006</td><td>&hellip;</td><td>null</td><td>null</td><td>null</td><td>null</td><td>null</td><td>null</td><td>null</td><td>null</td><td>null</td><td>null</td><td>null</td><td>null</td><td>null</td><td>null</td><td>null</td><td>null</td><td>null</td><td>null</td><td>null</td><td>null</td><td>null</td><td>null</td><td>null</td><td>null</td><td>null</td><td>null</td><td>null</td><td>null</td><td>null</td><td>null</td><td>null</td><td>null</td><td>null</td><td>null</td><td>null</td><td>null</td><td>206</td></tr><tr><td>&quot;0d6036529b42&quot;</td><td>&quot;GGGAACGACUCGAG…</td><td>&quot;DMS_MaP&quot;</td><td>&quot;SL5_M2seq_DMS&quot;</td><td>44053</td><td>6.7</td><td>1</td><td>null</td><td>null</td><td>null</td><td>null</td><td>null</td><td>null</td><td>null</td><td>null</td><td>null</td><td>null</td><td>null</td><td>null</td><td>null</td><td>null</td><td>null</td><td>null</td><td>null</td><td>null</td><td>null</td><td>null</td><td>null</td><td>null</td><td>null</td><td>null</td><td>null</td><td>null</td><td>-0.269</td><td>-0.053</td><td>0.092</td><td>0.034</td><td>&hellip;</td><td>null</td><td>null</td><td>null</td><td>null</td><td>null</td><td>null</td><td>null</td><td>null</td><td>null</td><td>null</td><td>null</td><td>null</td><td>null</td><td>null</td><td>null</td><td>null</td><td>null</td><td>null</td><td>null</td><td>null</td><td>null</td><td>null</td><td>null</td><td>null</td><td>null</td><td>null</td><td>null</td><td>null</td><td>null</td><td>null</td><td>null</td><td>null</td><td>null</td><td>null</td><td>null</td><td>null</td><td>206</td></tr><tr><td>&quot;46d1f07d723b&quot;</td><td>&quot;GGGAACGACUCGAG…</td><td>&quot;DMS_MaP&quot;</td><td>&quot;SL5_M2seq_DMS&quot;</td><td>108600</td><td>11.716</td><td>1</td><td>null</td><td>null</td><td>null</td><td>null</td><td>null</td><td>null</td><td>null</td><td>null</td><td>null</td><td>null</td><td>null</td><td>null</td><td>null</td><td>null</td><td>null</td><td>null</td><td>null</td><td>null</td><td>null</td><td>null</td><td>null</td><td>null</td><td>null</td><td>null</td><td>null</td><td>null</td><td>-0.056</td><td>-0.065</td><td>0.121</td><td>0.088</td><td>&hellip;</td><td>null</td><td>null</td><td>null</td><td>null</td><td>null</td><td>null</td><td>null</td><td>null</td><td>null</td><td>null</td><td>null</td><td>null</td><td>null</td><td>null</td><td>null</td><td>null</td><td>null</td><td>null</td><td>null</td><td>null</td><td>null</td><td>null</td><td>null</td><td>null</td><td>null</td><td>null</td><td>null</td><td>null</td><td>null</td><td>null</td><td>null</td><td>null</td><td>null</td><td>null</td><td>null</td><td>null</td><td>206</td></tr><tr><td>&quot;60db72cc009f&quot;</td><td>&quot;GGGAACGACUCGAG…</td><td>&quot;DMS_MaP&quot;</td><td>&quot;SL5_M2seq_DMS&quot;</td><td>107394</td><td>10.888</td><td>1</td><td>null</td><td>null</td><td>null</td><td>null</td><td>null</td><td>null</td><td>null</td><td>null</td><td>null</td><td>null</td><td>null</td><td>null</td><td>null</td><td>null</td><td>null</td><td>null</td><td>null</td><td>null</td><td>null</td><td>null</td><td>null</td><td>null</td><td>null</td><td>null</td><td>null</td><td>null</td><td>-0.043</td><td>-0.007</td><td>0.036</td><td>-0.004</td><td>&hellip;</td><td>null</td><td>null</td><td>null</td><td>null</td><td>null</td><td>null</td><td>null</td><td>null</td><td>null</td><td>null</td><td>null</td><td>null</td><td>null</td><td>null</td><td>null</td><td>null</td><td>null</td><td>null</td><td>null</td><td>null</td><td>null</td><td>null</td><td>null</td><td>null</td><td>null</td><td>null</td><td>null</td><td>null</td><td>null</td><td>null</td><td>null</td><td>null</td><td>null</td><td>null</td><td>null</td><td>null</td><td>206</td></tr></tbody></table></div>"
      ],
      "text/plain": [
       "shape: (1_643_680, 420)\n",
       "┌───────────┬──────┬────────────┬────────────┬───┬────────────┬────────────┬────────────┬──────────┐\n",
       "│ sequence_ ┆ sequ ┆ experiment ┆ dataset_na ┆ … ┆ reactivity ┆ reactivity ┆ reactivity ┆ rna_leng │\n",
       "│ id        ┆ ence ┆ _type      ┆ me         ┆   ┆ _error_020 ┆ _error_020 ┆ _error_020 ┆ th       │\n",
       "│ ---       ┆ ---  ┆ ---        ┆ ---        ┆   ┆ 4          ┆ 5          ┆ 6          ┆ ---      │\n",
       "│ str       ┆ str  ┆ str        ┆ str        ┆   ┆ ---        ┆ ---        ┆ ---        ┆ i64      │\n",
       "│           ┆      ┆            ┆            ┆   ┆ str        ┆ str        ┆ str        ┆          │\n",
       "╞═══════════╪══════╪════════════╪════════════╪═══╪════════════╪════════════╪════════════╪══════════╡\n",
       "│ 8cdfeef00 ┆ GGGA ┆ 2A3_MaP    ┆ 15k_2A3    ┆ … ┆ null       ┆ null       ┆ null       ┆ 170      │\n",
       "│ 9ea       ┆ ACGA ┆            ┆            ┆   ┆            ┆            ┆            ┆          │\n",
       "│           ┆ CUCG ┆            ┆            ┆   ┆            ┆            ┆            ┆          │\n",
       "│           ┆ AGUA ┆            ┆            ┆   ┆            ┆            ┆            ┆          │\n",
       "│           ┆ GAGU ┆            ┆            ┆   ┆            ┆            ┆            ┆          │\n",
       "│           ┆ CGAA ┆            ┆            ┆   ┆            ┆            ┆            ┆          │\n",
       "│           ┆ AAAC ┆            ┆            ┆   ┆            ┆            ┆            ┆          │\n",
       "│           ┆ GUUG ┆            ┆            ┆   ┆            ┆            ┆            ┆          │\n",
       "│           ┆ …    ┆            ┆            ┆   ┆            ┆            ┆            ┆          │\n",
       "│ 51e61fbde ┆ GGGA ┆ 2A3_MaP    ┆ 15k_2A3    ┆ … ┆ null       ┆ null       ┆ null       ┆ 170      │\n",
       "│ 94d       ┆ ACGA ┆            ┆            ┆   ┆            ┆            ┆            ┆          │\n",
       "│           ┆ CUCG ┆            ┆            ┆   ┆            ┆            ┆            ┆          │\n",
       "│           ┆ AGUA ┆            ┆            ┆   ┆            ┆            ┆            ┆          │\n",
       "│           ┆ GAGU ┆            ┆            ┆   ┆            ┆            ┆            ┆          │\n",
       "│           ┆ CGAA ┆            ┆            ┆   ┆            ┆            ┆            ┆          │\n",
       "│           ┆ AAAC ┆            ┆            ┆   ┆            ┆            ┆            ┆          │\n",
       "│           ┆ AUUG ┆            ┆            ┆   ┆            ┆            ┆            ┆          │\n",
       "│           ┆ …    ┆            ┆            ┆   ┆            ┆            ┆            ┆          │\n",
       "│ 25ce8d510 ┆ GGGA ┆ 2A3_MaP    ┆ 15k_2A3    ┆ … ┆ null       ┆ null       ┆ null       ┆ 170      │\n",
       "│ 9cd       ┆ ACGA ┆            ┆            ┆   ┆            ┆            ┆            ┆          │\n",
       "│           ┆ CUCG ┆            ┆            ┆   ┆            ┆            ┆            ┆          │\n",
       "│           ┆ AGUA ┆            ┆            ┆   ┆            ┆            ┆            ┆          │\n",
       "│           ┆ GAGU ┆            ┆            ┆   ┆            ┆            ┆            ┆          │\n",
       "│           ┆ CGAA ┆            ┆            ┆   ┆            ┆            ┆            ┆          │\n",
       "│           ┆ AAAC ┆            ┆            ┆   ┆            ┆            ┆            ┆          │\n",
       "│           ┆ CUUG ┆            ┆            ┆   ┆            ┆            ┆            ┆          │\n",
       "│           ┆ …    ┆            ┆            ┆   ┆            ┆            ┆            ┆          │\n",
       "│ 07dcfb6d1 ┆ GGGA ┆ 2A3_MaP    ┆ 15k_2A3    ┆ … ┆ null       ┆ null       ┆ null       ┆ 170      │\n",
       "│ 965       ┆ ACGA ┆            ┆            ┆   ┆            ┆            ┆            ┆          │\n",
       "│           ┆ CUCG ┆            ┆            ┆   ┆            ┆            ┆            ┆          │\n",
       "│           ┆ AGUA ┆            ┆            ┆   ┆            ┆            ┆            ┆          │\n",
       "│           ┆ GAGU ┆            ┆            ┆   ┆            ┆            ┆            ┆          │\n",
       "│           ┆ CGAA ┆            ┆            ┆   ┆            ┆            ┆            ┆          │\n",
       "│           ┆ AAAC ┆            ┆            ┆   ┆            ┆            ┆            ┆          │\n",
       "│           ┆ UUUG ┆            ┆            ┆   ┆            ┆            ┆            ┆          │\n",
       "│           ┆ …    ┆            ┆            ┆   ┆            ┆            ┆            ┆          │\n",
       "│ …         ┆ …    ┆ …          ┆ …          ┆ … ┆ …          ┆ …          ┆ …          ┆ …        │\n",
       "│ e0dc5823e ┆ GGGA ┆ DMS_MaP    ┆ SL5_M2seq_ ┆ … ┆ null       ┆ null       ┆ null       ┆ 206      │\n",
       "│ 5e1       ┆ ACGA ┆            ┆ DMS        ┆   ┆            ┆            ┆            ┆          │\n",
       "│           ┆ CUCG ┆            ┆            ┆   ┆            ┆            ┆            ┆          │\n",
       "│           ┆ AGUA ┆            ┆            ┆   ┆            ┆            ┆            ┆          │\n",
       "│           ┆ GAGU ┆            ┆            ┆   ┆            ┆            ┆            ┆          │\n",
       "│           ┆ CGAA ┆            ┆            ┆   ┆            ┆            ┆            ┆          │\n",
       "│           ┆ AAGG ┆            ┆            ┆   ┆            ┆            ┆            ┆          │\n",
       "│           ┆ AGCG ┆            ┆            ┆   ┆            ┆            ┆            ┆          │\n",
       "│           ┆ …    ┆            ┆            ┆   ┆            ┆            ┆            ┆          │\n",
       "│ 0d6036529 ┆ GGGA ┆ DMS_MaP    ┆ SL5_M2seq_ ┆ … ┆ null       ┆ null       ┆ null       ┆ 206      │\n",
       "│ b42       ┆ ACGA ┆            ┆ DMS        ┆   ┆            ┆            ┆            ┆          │\n",
       "│           ┆ CUCG ┆            ┆            ┆   ┆            ┆            ┆            ┆          │\n",
       "│           ┆ AGUA ┆            ┆            ┆   ┆            ┆            ┆            ┆          │\n",
       "│           ┆ GAGU ┆            ┆            ┆   ┆            ┆            ┆            ┆          │\n",
       "│           ┆ CGAA ┆            ┆            ┆   ┆            ┆            ┆            ┆          │\n",
       "│           ┆ AAGG ┆            ┆            ┆   ┆            ┆            ┆            ┆          │\n",
       "│           ┆ AGCG ┆            ┆            ┆   ┆            ┆            ┆            ┆          │\n",
       "│           ┆ …    ┆            ┆            ┆   ┆            ┆            ┆            ┆          │\n",
       "│ 46d1f07d7 ┆ GGGA ┆ DMS_MaP    ┆ SL5_M2seq_ ┆ … ┆ null       ┆ null       ┆ null       ┆ 206      │\n",
       "│ 23b       ┆ ACGA ┆            ┆ DMS        ┆   ┆            ┆            ┆            ┆          │\n",
       "│           ┆ CUCG ┆            ┆            ┆   ┆            ┆            ┆            ┆          │\n",
       "│           ┆ AGUA ┆            ┆            ┆   ┆            ┆            ┆            ┆          │\n",
       "│           ┆ GAGU ┆            ┆            ┆   ┆            ┆            ┆            ┆          │\n",
       "│           ┆ CGAA ┆            ┆            ┆   ┆            ┆            ┆            ┆          │\n",
       "│           ┆ AAGG ┆            ┆            ┆   ┆            ┆            ┆            ┆          │\n",
       "│           ┆ AGCG ┆            ┆            ┆   ┆            ┆            ┆            ┆          │\n",
       "│           ┆ …    ┆            ┆            ┆   ┆            ┆            ┆            ┆          │\n",
       "│ 60db72cc0 ┆ GGGA ┆ DMS_MaP    ┆ SL5_M2seq_ ┆ … ┆ null       ┆ null       ┆ null       ┆ 206      │\n",
       "│ 09f       ┆ ACGA ┆            ┆ DMS        ┆   ┆            ┆            ┆            ┆          │\n",
       "│           ┆ CUCG ┆            ┆            ┆   ┆            ┆            ┆            ┆          │\n",
       "│           ┆ AGUA ┆            ┆            ┆   ┆            ┆            ┆            ┆          │\n",
       "│           ┆ GAGU ┆            ┆            ┆   ┆            ┆            ┆            ┆          │\n",
       "│           ┆ CGAA ┆            ┆            ┆   ┆            ┆            ┆            ┆          │\n",
       "│           ┆ AAGG ┆            ┆            ┆   ┆            ┆            ┆            ┆          │\n",
       "│           ┆ AGCG ┆            ┆            ┆   ┆            ┆            ┆            ┆          │\n",
       "│           ┆ …    ┆            ┆            ┆   ┆            ┆            ┆            ┆          │\n",
       "└───────────┴──────┴────────────┴────────────┴───┴────────────┴────────────┴────────────┴──────────┘"
      ]
     },
     "execution_count": 9,
     "metadata": {},
     "output_type": "execute_result"
    }
   ],
   "source": [
    "df"
   ]
  },
  {
   "cell_type": "code",
   "execution_count": null,
   "metadata": {},
   "outputs": [],
   "source": []
  }
 ],
 "metadata": {
  "kernelspec": {
   "display_name": "base",
   "language": "python",
   "name": "python3"
  },
  "language_info": {
   "codemirror_mode": {
    "name": "ipython",
    "version": 3
   },
   "file_extension": ".py",
   "mimetype": "text/x-python",
   "name": "python",
   "nbconvert_exporter": "python",
   "pygments_lexer": "ipython3",
   "version": "3.10.12"
  },
  "orig_nbformat": 4
 },
 "nbformat": 4,
 "nbformat_minor": 2
}
