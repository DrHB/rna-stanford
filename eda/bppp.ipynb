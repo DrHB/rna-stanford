{
 "cells": [
  {
   "cell_type": "code",
   "execution_count": 1,
   "metadata": {},
   "outputs": [],
   "source": [
    "# import arnie\n",
    "# import matplotlib.pyplot as plt\n",
    "# from arnie.bpps import bpps\n",
    "# import numpy as np\n",
    "# import pandas as pd\n",
    "# from pathlib import Path\n",
    "# import os\n",
    "# from tqdm import tqdm\n",
    "# import torch\n",
    "# import random\n",
    "# def matrix_to_three_columns_np(bpp_matrix):\n",
    "#     pos_1, pos_2 = np.nonzero(bpp_matrix)\n",
    "#     probabilities = bpp_matrix[pos_1, pos_2]\n",
    "#     result = np.column_stack((pos_1 + 1, pos_2 + 1, probabilities))\n",
    "#     return result.astype('float16')\n",
    "\n",
    "# def get_bpp(sequnce, package):\n",
    "#     return bpps(sequnce, package=package)\n",
    "\n",
    "\n",
    "# def save_bpp(row, save_dir, package):\n",
    "#     name = save_dir/f\"{row.sequence_id}.npy\"\n",
    "#     bpp = get_bpp(row.sequence, package)\n",
    "#     np.save(name, matrix_to_three_columns_np(bpp))\n",
    "    \n",
    "# pkg_name = \"contrafold_2\" #\"vienna_2\" #\n",
    "# path = Path('/mnt/e22b12fe-f946-49d6-be2c-4bd0bb62c767/slh/rna/eda/')\n",
    "# save_dir = path/f'bpp/{pkg_name}/'\n",
    "# os.makedirs(save_dir, exist_ok=True)\n",
    "# df = pd.read_parquet(path/'train_ss_vienna_rna.parquet')[['sequence_id', 'sequence']]\n",
    "# df\n",
    "\n",
    "# for i in tqdm(range(df.shape[0])):\n",
    "#     save_bpp(df.iloc[i], save_dir, pkg_name)"
   ]
  },
  {
   "cell_type": "code",
   "execution_count": 2,
   "metadata": {},
   "outputs": [],
   "source": [
    "from PIL import Image\n",
    "import random"
   ]
  },
  {
   "cell_type": "code",
   "execution_count": 3,
   "metadata": {},
   "outputs": [
    {
     "name": "stderr",
     "output_type": "stream",
     "text": [
      "/home/exx/.conda/envs/myenv/lib/python3.9/site-packages/tqdm/auto.py:22: TqdmWarning: IProgress not found. Please update jupyter and ipywidgets. See https://ipywidgets.readthedocs.io/en/stable/user_install.html\n",
      "  from .autonotebook import tqdm as notebook_tqdm\n",
      " 13%|█▎        | 106656/806573 [02:27<17:48, 655.22it/s]"
     ]
    },
    {
     "name": "stdout",
     "output_type": "stream",
     "text": [
      "b'WARNING: ...from traverse_loop. Loop 2 has crossed regions\\n'\n"
     ]
    },
    {
     "name": "stderr",
     "output_type": "stream",
     "text": [
      " 15%|█▍        | 120480/806573 [02:48<17:28, 654.57it/s]"
     ]
    },
    {
     "name": "stdout",
     "output_type": "stream",
     "text": [
      "b'WARNING: ...from traverse_loop. Loop 2 has crossed regions\\n'\n"
     ]
    },
    {
     "name": "stderr",
     "output_type": "stream",
     "text": [
      " 15%|█▌        | 124128/806573 [02:54<16:59, 669.32it/s]"
     ]
    },
    {
     "name": "stdout",
     "output_type": "stream",
     "text": [
      "b'WARNING: ...from traverse_loop. Loop 2 has crossed regions\\n'\n"
     ]
    },
    {
     "name": "stderr",
     "output_type": "stream",
     "text": [
      " 16%|█▋        | 131616/806573 [03:05<17:18, 650.15it/s]"
     ]
    },
    {
     "name": "stdout",
     "output_type": "stream",
     "text": [
      "b'WARNING: ...from traverse_loop. Loop 2 has crossed regions\\n'\n"
     ]
    },
    {
     "name": "stderr",
     "output_type": "stream",
     "text": [
      " 17%|█▋        | 136800/806573 [03:13<16:56, 658.77it/s]"
     ]
    },
    {
     "name": "stdout",
     "output_type": "stream",
     "text": [
      "b'WARNING: ...from traverse_loop. Loop 2 has crossed regions\\n'\n"
     ]
    },
    {
     "name": "stderr",
     "output_type": "stream",
     "text": [
      " 19%|█▊        | 150816/806573 [03:35<16:28, 663.36it/s]"
     ]
    },
    {
     "name": "stdout",
     "output_type": "stream",
     "text": [
      "b'WARNING: ...from traverse_loop. Loop 2 has crossed regions\\n'\n"
     ]
    },
    {
     "name": "stderr",
     "output_type": "stream",
     "text": [
      " 19%|█▉        | 151776/806573 [03:36<16:38, 655.74it/s]"
     ]
    },
    {
     "name": "stdout",
     "output_type": "stream",
     "text": [
      "b'WARNING: ...from traverse_loop. Loop 1 has crossed regions\\n'\n"
     ]
    },
    {
     "name": "stderr",
     "output_type": "stream",
     "text": [
      " 19%|█▉        | 155424/806573 [03:42<16:22, 662.68it/s]"
     ]
    },
    {
     "name": "stdout",
     "output_type": "stream",
     "text": [
      "b'WARNING: ...from traverse_loop. Loop 2 has crossed regions\\n'\n",
      "b'WARNING: ...from traverse_loop. Loop 2 has crossed regions\\n'\n"
     ]
    },
    {
     "name": "stderr",
     "output_type": "stream",
     "text": [
      " 20%|█▉        | 159264/806573 [03:47<16:25, 656.87it/s]"
     ]
    },
    {
     "name": "stdout",
     "output_type": "stream",
     "text": [
      "b'WARNING: ...from traverse_loop. Loop 2 has crossed regions\\n'\n"
     ]
    },
    {
     "name": "stderr",
     "output_type": "stream",
     "text": [
      " 20%|██        | 162144/806573 [03:52<16:25, 653.76it/s]"
     ]
    },
    {
     "name": "stdout",
     "output_type": "stream",
     "text": [
      "b'WARNING: ...from traverse_loop. Loop 1 has crossed regions\\n'\n"
     ]
    },
    {
     "name": "stderr",
     "output_type": "stream",
     "text": [
      " 22%|██▏       | 177312/806573 [04:14<16:06, 651.17it/s]"
     ]
    },
    {
     "name": "stdout",
     "output_type": "stream",
     "text": [
      "b'WARNING: ...from traverse_loop. Loop 2 has crossed regions\\n'\n"
     ]
    },
    {
     "name": "stderr",
     "output_type": "stream",
     "text": [
      " 23%|██▎       | 188640/806573 [04:31<15:38, 658.31it/s]"
     ]
    },
    {
     "name": "stdout",
     "output_type": "stream",
     "text": [
      "b'WARNING: ...from traverse_loop. Loop 2 has crossed regions\\n'\n"
     ]
    },
    {
     "name": "stderr",
     "output_type": "stream",
     "text": [
      " 23%|██▎       | 189216/806573 [04:32<15:48, 651.17it/s]"
     ]
    },
    {
     "name": "stdout",
     "output_type": "stream",
     "text": [
      "b'WARNING: ...from traverse_loop. Loop 2 has crossed regions\\n'\n"
     ]
    },
    {
     "name": "stderr",
     "output_type": "stream",
     "text": [
      " 24%|██▎       | 191328/806573 [04:35<15:37, 656.57it/s]"
     ]
    },
    {
     "name": "stdout",
     "output_type": "stream",
     "text": [
      "b'WARNING: ...from traverse_loop. Loop 2 has crossed regions\\nWARNING: ...from traverse_loop. Loop 2 has crossed regions\\n'\n"
     ]
    },
    {
     "name": "stderr",
     "output_type": "stream",
     "text": [
      " 24%|██▍       | 196704/806573 [04:43<15:19, 663.59it/s]"
     ]
    },
    {
     "name": "stdout",
     "output_type": "stream",
     "text": [
      "b'WARNING: ...from traverse_loop. Loop 2 has crossed regions\\n'\n"
     ]
    },
    {
     "name": "stderr",
     "output_type": "stream",
     "text": [
      " 27%|██▋       | 215328/806573 [05:11<14:42, 670.20it/s]"
     ]
    },
    {
     "name": "stdout",
     "output_type": "stream",
     "text": [
      "b'WARNING: ...from traverse_loop. Loop 2 has crossed regions\\n'\n"
     ]
    },
    {
     "name": "stderr",
     "output_type": "stream",
     "text": [
      " 29%|██▊       | 230304/806573 [05:32<13:01, 737.45it/s]"
     ]
    },
    {
     "name": "stdout",
     "output_type": "stream",
     "text": [
      "b'WARNING: ...from traverse_loop. Loop 2 has crossed regions\\n'\n"
     ]
    },
    {
     "name": "stderr",
     "output_type": "stream",
     "text": [
      " 29%|██▉       | 232224/806573 [05:34<13:03, 733.12it/s]"
     ]
    },
    {
     "name": "stdout",
     "output_type": "stream",
     "text": [
      "b'WARNING: ...from traverse_loop. Loop 2 has crossed regions\\n'\n"
     ]
    },
    {
     "name": "stderr",
     "output_type": "stream",
     "text": [
      " 30%|███       | 243360/806573 [05:50<12:42, 738.90it/s]"
     ]
    },
    {
     "name": "stdout",
     "output_type": "stream",
     "text": [
      "b'WARNING: ...from traverse_loop. Loop 2 has crossed regions\\n'\n"
     ]
    },
    {
     "name": "stderr",
     "output_type": "stream",
     "text": [
      " 30%|███       | 243744/806573 [05:50<12:36, 744.31it/s]"
     ]
    },
    {
     "name": "stdout",
     "output_type": "stream",
     "text": [
      "b'WARNING: ...from traverse_loop. Loop 2 has crossed regions\\n'\n"
     ]
    },
    {
     "name": "stderr",
     "output_type": "stream",
     "text": [
      " 32%|███▏      | 260448/806573 [06:14<13:21, 681.16it/s]"
     ]
    },
    {
     "name": "stdout",
     "output_type": "stream",
     "text": [
      "b'WARNING: ...from traverse_loop. Loop 1 has crossed regions\\n'\n"
     ]
    },
    {
     "name": "stderr",
     "output_type": "stream",
     "text": [
      " 34%|███▍      | 276576/806573 [06:38<13:09, 671.48it/s]"
     ]
    },
    {
     "name": "stdout",
     "output_type": "stream",
     "text": [
      "b'WARNING: ...from traverse_loop. Loop 1 has crossed regions\\n'\n"
     ]
    },
    {
     "name": "stderr",
     "output_type": "stream",
     "text": [
      " 45%|████▍     | 361440/806573 [08:38<10:05, 734.58it/s]"
     ]
    },
    {
     "name": "stdout",
     "output_type": "stream",
     "text": [
      "b'WARNING: ...from traverse_loop. Loop 2 has crossed regions\\n'\n"
     ]
    },
    {
     "name": "stderr",
     "output_type": "stream",
     "text": [
      " 50%|█████     | 404832/806573 [09:41<10:56, 611.81it/s]"
     ]
    },
    {
     "name": "stdout",
     "output_type": "stream",
     "text": [
      "b'WARNING: ...from traverse_loop. Loop 2 has crossed regions\\n'\n"
     ]
    },
    {
     "name": "stderr",
     "output_type": "stream",
     "text": [
      " 50%|█████     | 405408/806573 [09:42<10:54, 613.40it/s]"
     ]
    },
    {
     "name": "stdout",
     "output_type": "stream",
     "text": [
      "b'WARNING: ...from traverse_loop. Loop 1 has crossed regions\\n'\n"
     ]
    },
    {
     "name": "stderr",
     "output_type": "stream",
     "text": [
      " 50%|█████     | 406752/806573 [09:44<11:11, 595.30it/s]"
     ]
    },
    {
     "name": "stdout",
     "output_type": "stream",
     "text": [
      "b'WARNING: ...from traverse_loop. Loop 2 has crossed regions\\n'\n"
     ]
    },
    {
     "name": "stderr",
     "output_type": "stream",
     "text": [
      " 51%|█████     | 407328/806573 [09:45<10:48, 615.33it/s]"
     ]
    },
    {
     "name": "stdout",
     "output_type": "stream",
     "text": [
      "b'WARNING: ...from traverse_loop. Loop 3 has crossed regions\\n'\n"
     ]
    },
    {
     "name": "stderr",
     "output_type": "stream",
     "text": [
      " 55%|█████▍    | 442272/806573 [10:42<09:55, 611.53it/s]"
     ]
    },
    {
     "name": "stdout",
     "output_type": "stream",
     "text": [
      "b'WARNING: ...from traverse_loop. Loop 2 has crossed regions\\n'\n"
     ]
    },
    {
     "name": "stderr",
     "output_type": "stream",
     "text": [
      " 56%|█████▌    | 450144/806573 [10:55<09:35, 618.89it/s]"
     ]
    },
    {
     "name": "stdout",
     "output_type": "stream",
     "text": [
      "b'WARNING: ...from traverse_loop. Loop 2 has crossed regions\\n'\n"
     ]
    },
    {
     "name": "stderr",
     "output_type": "stream",
     "text": [
      " 60%|██████    | 485856/806573 [11:53<08:34, 623.94it/s]"
     ]
    },
    {
     "name": "stdout",
     "output_type": "stream",
     "text": [
      "b'WARNING: ...from traverse_loop. Loop 2 has crossed regions\\n'\n"
     ]
    },
    {
     "name": "stderr",
     "output_type": "stream",
     "text": [
      " 65%|██████▍   | 523872/806573 [12:51<06:56, 678.89it/s]"
     ]
    },
    {
     "name": "stdout",
     "output_type": "stream",
     "text": [
      "b'WARNING: ...from traverse_loop. Loop 2 has crossed regions\\n'\n"
     ]
    },
    {
     "name": "stderr",
     "output_type": "stream",
     "text": [
      " 67%|██████▋   | 544224/806573 [13:21<07:04, 617.41it/s]"
     ]
    },
    {
     "name": "stdout",
     "output_type": "stream",
     "text": [
      "b'WARNING: ...from traverse_loop. Loop 2 has crossed regions\\n'\n"
     ]
    },
    {
     "name": "stderr",
     "output_type": "stream",
     "text": [
      " 68%|██████▊   | 545184/806573 [13:23<06:55, 628.87it/s]"
     ]
    },
    {
     "name": "stdout",
     "output_type": "stream",
     "text": [
      "b'WARNING: ...from traverse_loop. Loop 2 has crossed regions\\n'\n"
     ]
    },
    {
     "name": "stderr",
     "output_type": "stream",
     "text": [
      " 68%|██████▊   | 545760/806573 [13:24<07:03, 615.22it/s]"
     ]
    },
    {
     "name": "stdout",
     "output_type": "stream",
     "text": [
      "b'WARNING: ...from traverse_loop. Loop 2 has crossed regions\\n'\n"
     ]
    },
    {
     "name": "stderr",
     "output_type": "stream",
     "text": [
      " 74%|███████▍  | 599904/806573 [14:48<05:10, 666.22it/s]"
     ]
    },
    {
     "name": "stdout",
     "output_type": "stream",
     "text": [
      "b'WARNING: ...from traverse_loop. Loop 2 has crossed regions\\n'\n"
     ]
    },
    {
     "name": "stderr",
     "output_type": "stream",
     "text": [
      " 78%|███████▊  | 631776/806573 [15:36<04:22, 665.27it/s]"
     ]
    },
    {
     "name": "stdout",
     "output_type": "stream",
     "text": [
      "b'WARNING: ...from traverse_loop. Loop 1 has crossed regions\\n'\n"
     ]
    },
    {
     "name": "stderr",
     "output_type": "stream",
     "text": [
      " 79%|███████▊  | 633696/806573 [15:39<04:24, 653.74it/s]"
     ]
    },
    {
     "name": "stdout",
     "output_type": "stream",
     "text": [
      "b'WARNING: ...from traverse_loop. Loop 2 has crossed regions\\n'\n"
     ]
    },
    {
     "name": "stderr",
     "output_type": "stream",
     "text": [
      " 81%|████████  | 650400/806573 [16:04<03:57, 658.32it/s]"
     ]
    },
    {
     "name": "stdout",
     "output_type": "stream",
     "text": [
      "b'WARNING: ...from traverse_loop. Loop 2 has crossed regions\\n'\n"
     ]
    },
    {
     "name": "stderr",
     "output_type": "stream",
     "text": [
      " 85%|████████▌ | 688032/806573 [17:02<03:01, 653.06it/s]"
     ]
    },
    {
     "name": "stdout",
     "output_type": "stream",
     "text": [
      "b'WARNING: ...from traverse_loop. Loop 6 has crossed regions\\n'\n"
     ]
    },
    {
     "name": "stderr",
     "output_type": "stream",
     "text": [
      " 86%|████████▌ | 693024/806573 [17:10<03:05, 613.10it/s]"
     ]
    },
    {
     "name": "stdout",
     "output_type": "stream",
     "text": [
      "b'WARNING: ...from traverse_loop. Loop 2 has crossed regions\\n'\n"
     ]
    },
    {
     "name": "stderr",
     "output_type": "stream",
     "text": [
      " 87%|████████▋ | 705696/806573 [17:30<02:44, 613.74it/s]"
     ]
    },
    {
     "name": "stdout",
     "output_type": "stream",
     "text": [
      "b'WARNING: ...from traverse_loop. Loop 2 has crossed regions\\n'\n"
     ]
    },
    {
     "name": "stderr",
     "output_type": "stream",
     "text": [
      " 90%|████████▉ | 722592/806573 [17:57<02:17, 612.14it/s]"
     ]
    },
    {
     "name": "stdout",
     "output_type": "stream",
     "text": [
      "b'WARNING: ...from traverse_loop. Loop 2 has crossed regions\\n'\n"
     ]
    },
    {
     "name": "stderr",
     "output_type": "stream",
     "text": [
      " 90%|█████████ | 726816/806573 [18:04<02:09, 613.95it/s]"
     ]
    },
    {
     "name": "stdout",
     "output_type": "stream",
     "text": [
      "b'WARNING: ...from traverse_loop. Loop 2 has crossed regions\\n'\n"
     ]
    },
    {
     "name": "stderr",
     "output_type": "stream",
     "text": [
      " 98%|█████████▊| 790368/806573 [19:44<00:23, 697.75it/s]"
     ]
    },
    {
     "name": "stdout",
     "output_type": "stream",
     "text": [
      "b'WARNING: ...from traverse_loop. Loop 1 has crossed regions\\n'\n"
     ]
    },
    {
     "name": "stderr",
     "output_type": "stream",
     "text": [
      " 99%|█████████▉| 800160/806573 [19:58<00:09, 700.87it/s]"
     ]
    },
    {
     "name": "stdout",
     "output_type": "stream",
     "text": [
      "b'WARNING: ...from traverse_loop. Loop 1 has crossed regions\\n'\n"
     ]
    },
    {
     "name": "stderr",
     "output_type": "stream",
     "text": [
      "100%|██████████| 806573/806573 [20:04<00:00, 669.37it/s] \n"
     ]
    },
    {
     "name": "stdout",
     "output_type": "stream",
     "text": [
      "[]\n"
     ]
    }
   ],
   "source": [
    "import arnie\n",
    "import matplotlib.pyplot as plt\n",
    "from arnie.bpps import bpps\n",
    "import numpy as np\n",
    "import pandas as pd\n",
    "from pathlib import Path\n",
    "import os\n",
    "from tqdm import tqdm\n",
    "import torch\n",
    "from joblib import Parallel, delayed\n",
    "\n",
    "def matrix_to_three_columns_np(bpp_matrix):\n",
    "    pos_1, pos_2 = np.nonzero(bpp_matrix)\n",
    "    probabilities = bpp_matrix[pos_1, pos_2]\n",
    "    result = np.column_stack((pos_1 + 1, pos_2 + 1, probabilities))\n",
    "    return result.astype('float16')\n",
    "\n",
    "\n",
    "def matrix_to_three_columns_np(bpp_matrix):\n",
    "    pos_1, pos_2 = np.nonzero(bpp_matrix)\n",
    "    probabilities = bpp_matrix[pos_1, pos_2]\n",
    "    \n",
    "    # Make sure positions fit into uint8 by checking their max values\n",
    "    if np.max(pos_1) > 255 or np.max(pos_2) > 255:\n",
    "        raise ValueError(\"Position values exceed uint8 limits!\")\n",
    "\n",
    "    # Create an empty structured array with desired data types for each column\n",
    "    dt = np.dtype([('pos_1', 'uint8'), ('pos_2', 'uint8'), ('probabilities', 'float16')])\n",
    "    result = np.zeros(len(pos_1), dtype=dt)\n",
    "    \n",
    "    # Fill the structured array with values\n",
    "    result['pos_1'] = pos_1 + 1\n",
    "    result['pos_2'] = pos_2 + 1\n",
    "    result['probabilities'] = probabilities\n",
    "    \n",
    "    return result\n",
    "\n",
    "def get_bpp(sequnce, package):\n",
    "    return bpps(sequnce, package=package)\n",
    "\n",
    "def save_bpp(row, save_dir, package):\n",
    "    name = save_dir/f\"{row.sequence_id}.npy\"\n",
    "    bpp = get_bpp(row.sequence, package)\n",
    "    np.save(name, matrix_to_three_columns_np(bpp))\n",
    "\n",
    "names = []\n",
    "def save_png(row, save_dir, package):\n",
    "    name = save_dir/f\"{row.sequence_id}.png\"\n",
    "    try:\n",
    "        bpp = get_bpp(row.sequence, package)\n",
    "        Image.fromarray((bpp* 255).astype('uint8')).save(name)\n",
    "    except:\n",
    "        names.append(name)\n",
    "        \n",
    "    \n",
    "pkg_name = \"vienna_2\" \n",
    "path = Path('/mnt/e22b12fe-f946-49d6-be2c-4bd0bb62c767/slh/rna/eda/')\n",
    "save_dir = path/f'bpp/{pkg_name}/'\n",
    "os.makedirs(save_dir, exist_ok=True)\n",
    "df = pd.read_parquet(path/'train_ss_vienna_rna.parquet')[['sequence_id', 'sequence']]\n",
    "df[\"L\"] = df['sequence'].map(len)\n",
    "df.sort_values(by='L',ascending=False, inplace=True)\n",
    "\n",
    "# Using joblib to parallelize the tasks\n",
    "results = Parallel(n_jobs=-1)(delayed(save_png)(row, save_dir, pkg_name) for _, row in tqdm(df.iterrows(), total=df.shape[0]))\n",
    "print(names)"
   ]
  },
  {
   "cell_type": "code",
   "execution_count": null,
   "metadata": {},
   "outputs": [],
   "source": [
    "#!ls {save_dir}\n",
    "#7f9ec577ec91.npy\n"
   ]
  },
  {
   "cell_type": "code",
   "execution_count": 8,
   "metadata": {},
   "outputs": [
    {
     "data": {
      "text/plain": [
       "<matplotlib.image.AxesImage at 0x7f77f1979040>"
      ]
     },
     "execution_count": 8,
     "metadata": {},
     "output_type": "execute_result"
    },
    {
     "data": {
      "image/png": "[encoded data removed]",
      "text/plain": [
       "<Figure size 640x480 with 1 Axes>"
      ]
     },
     "metadata": {},
     "output_type": "display_data"
    }
   ],
   "source": [
    "plt.imshow(np.array(Image.open(random.choice(list(save_dir.glob('*.png')))))/255.)"
   ]
  },
  {
   "cell_type": "code",
   "execution_count": null,
   "metadata": {},
   "outputs": [],
   "source": [
    "len(list(save_dir.glob('*.png'))) == df.shape[0]"
   ]
  },
  {
   "cell_type": "code",
   "execution_count": null,
   "metadata": {},
   "outputs": [],
   "source": [
    " - df.shape[0]"
   ]
  },
  {
   "cell_type": "code",
   "execution_count": 5,
   "metadata": {},
   "outputs": [
    {
     "data": {
      "text/plain": [
       "8"
      ]
     },
     "execution_count": 5,
     "metadata": {},
     "output_type": "execute_result"
    }
   ],
   "source": [
    "len(set(pd.read_parquet(path/'test_ss_vienna_rna.parquet')['sequence_id'].to_list() + pd.read_parquet(path/'train_ss_vienna_rna.parquet')['sequence_id'].to_list())) - len(list(save_dir.glob('*.png')))"
   ]
  },
  {
   "cell_type": "code",
   "execution_count": null,
   "metadata": {},
   "outputs": [],
   "source": []
  },
  {
   "cell_type": "code",
   "execution_count": null,
   "metadata": {},
   "outputs": [],
   "source": []
  }
 ],
 "metadata": {
  "kernelspec": {
   "display_name": "base",
   "language": "python",
   "name": "python3"
  },
  "language_info": {
   "codemirror_mode": {
    "name": "ipython",
    "version": 3
   },
   "file_extension": ".py",
   "mimetype": "text/x-python",
   "name": "python",
   "nbconvert_exporter": "python",
   "pygments_lexer": "ipython3",
   "version": "3.9.16"
  }
 },
 "nbformat": 4,
 "nbformat_minor": 2
}
