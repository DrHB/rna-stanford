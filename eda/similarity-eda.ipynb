{
 "cells": [
  {
   "cell_type": "code",
   "execution_count": 1,
   "metadata": {
    "tags": []
   },
   "outputs": [],
   "source": [
    "import polars as pl\n",
    "import pandas as pd\n",
    "from tqdm import tqdm\n",
    "import numpy as np\n",
    "import torch \n",
    "import random\n",
    "import os\n",
    "from sklearn.model_selection import train_test_split\n",
    "from IPython.display import HTML\n",
    "\n",
    "import matplotlib.pyplot as plt\n",
    "\n",
    "\n",
    "def seed_everything(seed):\n",
    "    random.seed(seed)\n",
    "    os.environ['PYTHONHASHSEED'] = str(seed)\n",
    "    np.random.seed(seed)\n",
    "    torch.manual_seed(seed)\n",
    "    torch.cuda.manual_seed(seed)\n",
    "    torch.backends.cudnn.deterministic = True\n",
    "    torch.backends.cudnn.benchmark = True\n",
    "seed_everything(2023)\n",
    "\n",
    "\n",
    "def parquet_to_fasta(parquet_file_path, fasta_file_path):\n",
    "    # Read the parquet file using Polars\n",
    "    df = pl.read_parquet(parquet_file_path)\n",
    "    \n",
    "    # Check if the required columns are present in the DataFrame\n",
    "\n",
    "\n",
    "    # Convert to Pandas DataFrame\n",
    "    df_pandas = df.to_pandas().drop_duplicates(subset=['sequence_id'])\n",
    "    \n",
    "    # Open a file to write the FASTA format\n",
    "    with open(fasta_file_path, 'w') as fasta_file:\n",
    "        # Iterate through each row in the Pandas DataFrame\n",
    "        for _, row in tqdm(df_pandas.iterrows()):\n",
    "            sequence_id = row['sequence_id']\n",
    "            sequence = row['sequence']\n",
    "            sequence = sequence[26:-21]\n",
    "            fasta_file.write(f\">{sequence_id}\\n{sequence}\\n\")\n",
    "\n",
    "\n",
    "            \n",
    "\n",
    "#code to convert output to pandas dataframe\n",
    "# Initialize an empty list to collect rows\n",
    "def read_clstr(fn = \"similar_to_test.clstr\"):\n",
    "    rows = []\n",
    "\n",
    "    # Read the cluster file\n",
    "    with open(fn, \"r\") as f:\n",
    "        current_cluster = None\n",
    "        for line in f:\n",
    "            if line.startswith(\">Cluster\"):\n",
    "                current_cluster = int(line.split()[-1])\n",
    "            else:\n",
    "                # Parse the sequence line\n",
    "                parts = line.strip().split(\"\\t\")\n",
    "                index = int(parts[0])\n",
    "                length = int(parts[1].split(\"nt,\")[0])\n",
    "                seq_id = parts[1].split(\">\")[-1].split(\"...\")[0]\n",
    "                is_rep = \"*\" in line\n",
    "                identity = float(parts[-1].split(\"/\")[-1].rstrip(\"%\")) if \"at\" in line else 100.0\n",
    "\n",
    "                # Append this as a row\n",
    "                rows.append({\n",
    "                    \"cluster\": current_cluster,\n",
    "                    \"index\": index,\n",
    "                    \"length\": length,\n",
    "                    \"sequence_id\": seq_id,\n",
    "                    \"is_Representative\": is_rep,\n",
    "                    \"identity_To_Rep\": identity\n",
    "                })\n",
    "    return pd.DataFrame(rows)\n",
    "\n",
    "# Convert to a DataFrame\n",
    "\n",
    "def read_fasta_ids(filename):\n",
    "    seq_ids = set()\n",
    "    with open(filename, 'r') as f:\n",
    "        for line in f:\n",
    "            if line.startswith('>'):\n",
    "                # Extract the sequence ID from the line; adjust the parsing based on your specific ID format\n",
    "                seq_id = line.split()[0].lstrip('>')\n",
    "                seq_ids.add(seq_id)\n",
    "    return seq_ids\n",
    "\n",
    "def filter_clusters(group):\n",
    "    return ('Train' in group['source'].values) and ('Test' in group['source'].values) and len(group) > 1"
   ]
  },
  {
   "cell_type": "code",
   "execution_count": 2,
   "metadata": {
    "tags": []
   },
   "outputs": [
    {
     "data": {
      "text/plain": [
       "(806573, 6)"
      ]
     },
     "execution_count": 2,
     "metadata": {},
     "output_type": "execute_result"
    }
   ],
   "source": [
    "#read the clusterd file \n",
    "df = read_clstr('clustered_train.clstr')\n",
    "df.shape"
   ]
  },
  {
   "cell_type": "code",
   "execution_count": 3,
   "metadata": {},
   "outputs": [
    {
     "name": "stdout",
     "output_type": "stream",
     "text": [
      "unique_number_of_clusters: (93029,)\n"
     ]
    }
   ],
   "source": [
    "print(f\"unique_number_of_clusters: {df['cluster'].value_counts()[df['cluster'].value_counts() > 1].shape}\")"
   ]
  },
  {
   "cell_type": "code",
   "execution_count": 4,
   "metadata": {
    "tags": []
   },
   "outputs": [],
   "source": [
    "clusters = df.query('identity_To_Rep>95')['cluster'].unique()"
   ]
  },
  {
   "cell_type": "code",
   "execution_count": 5,
   "metadata": {},
   "outputs": [],
   "source": [
    "df_seq = pd.read_parquet('train_ss_vienna_rna.parquet')[['sequence_id', 'sequence']]"
   ]
  },
  {
   "cell_type": "code",
   "execution_count": 6,
   "metadata": {},
   "outputs": [],
   "source": [
    "df = pd.merge(df, df_seq, on='sequence_id')"
   ]
  },
  {
   "cell_type": "code",
   "execution_count": 18,
   "metadata": {},
   "outputs": [],
   "source": [
    "def highlight_differences_html_wrapped(seq1, seq2, line_length=40):\n",
    "    if len(seq1) != len(seq2):\n",
    "        return \"The sequences are not of the same length.\"\n",
    "\n",
    "    highlighted = \"\"\n",
    "    for i in range(len(seq1)):\n",
    "        if seq1[i] != seq2[i]:\n",
    "            highlighted += f\"<span style='color:red;'>{seq2[i]}</span>\"\n",
    "        else:\n",
    "            highlighted += f\"<span style='color:green;'>{seq2[i]}</span>\"\n",
    "\n",
    "        # Add a line break every 'line_length' characters\n",
    "        if (i + 1) % line_length == 0:\n",
    "            highlighted += \"<br>\"\n",
    "\n",
    "    return HTML(highlighted)\n",
    "\n",
    "def highlight_common_places_html(sequences, line_length=40):\n",
    "    if not sequences:\n",
    "        return \"No sequences provided.\"\n",
    "\n",
    "    # Check if all sequences are of the same length\n",
    "    seq_length = len(sequences[0])\n",
    "    if not all(len(seq) == seq_length for seq in sequences):\n",
    "        return \"Sequences are not of the same length.\"\n",
    "\n",
    "    highlighted = \"\"\n",
    "    for i in range(seq_length):\n",
    "        # Check if the character at position i is the same across all sequences\n",
    "        if all(seq[i] == sequences[0][i] for seq in sequences):\n",
    "            # If yes, color it green\n",
    "            highlighted += f\"<span style='color:green;'>{sequences[0][i]}</span>\"\n",
    "        else:\n",
    "            # If not, leave it as default (black)\n",
    "            highlighted += sequences[0][i]\n",
    "\n",
    "        # Add a line break every 'line_length' characters\n",
    "        if (i + 1) % line_length == 0:\n",
    "            highlighted += \"<br>\"\n",
    "\n",
    "    return HTML(highlighted)\n",
    "\n",
    "\n",
    "class RnaDataset():\n",
    "    def __init__(\n",
    "        self,\n",
    "        df\n",
    "    ):\n",
    "        \"\"\"\n",
    "        short sequence without adapters\n",
    "        \"\"\"\n",
    "        self.seq_map = {\"A\": 0, \"C\": 1, \"G\": 2, \"U\": 3}\n",
    "        self.Lmax = 206\n",
    "        df[\"L\"] = df.sequence.apply(len)\n",
    "        df_2A3 = df.loc[df.experiment_type == \"2A3_MaP\"].reset_index(drop=True)\n",
    "        df_DMS = df.loc[df.experiment_type == \"DMS_MaP\"].reset_index(drop=True)\n",
    "        \n",
    "\n",
    "        self.L = df_2A3[\"L\"].values\n",
    "        self.seq = df_2A3[\"sequence\"].values\n",
    "        self.react_2A3 = df_2A3[\n",
    "            [c for c in df_2A3.columns if \"reactivity_0\" in c]\n",
    "        ].values\n",
    "        self.react_DMS = df_DMS[\n",
    "            [c for c in df_DMS.columns if \"reactivity_0\" in c]\n",
    "        ].values\n",
    "        self.react_err_2A3 = df_2A3[\n",
    "            [c for c in df_2A3.columns if \"reactivity_error_0\" in c]\n",
    "        ].values\n",
    "        self.react_err_DMS = df_DMS[\n",
    "            [c for c in df_DMS.columns if \"reactivity_error_0\" in c]\n",
    "        ].values\n",
    "        self.sn_2A3 = df_2A3[\"signal_to_noise\"].values\n",
    "        self.sn_DMS = df_DMS[\"signal_to_noise\"].values\n",
    "        self.df_2A3 = df_2A3\n",
    "\n",
    "    def __len__(self):\n",
    "        return len(self.seq)\n",
    "\n",
    "    def __getitem__(self, seq_id):\n",
    "        idx = self.df_2A3.query('sequence_id == @seq_id').index[0]\n",
    "        seq = self.seq[idx]\n",
    "\n",
    "        react = torch.from_numpy(\n",
    "            np.stack([self.react_2A3[idx], self.react_DMS[idx]], -1)\n",
    "        )[:, :len(seq)]\n",
    "        react_err = torch.from_numpy(\n",
    "            np.stack([self.react_err_2A3[idx], self.react_err_DMS[idx]], -1)\n",
    "        )[:, :len(seq)]\n",
    "\n",
    "\n",
    "        return {\"react\": react, \"react_err\": react_err}\n",
    "    \n",
    "    \n",
    "def sort_sequences_by_all_mutations_with_ids(sequences):\n",
    "    \"\"\"\n",
    "    Sort sequences based on all mutation positions from the first sequence and return their indices.\n",
    "    Assumes all sequences are of the same length.\n",
    "    \"\"\"\n",
    "    def mutation_positions(seq, reference):\n",
    "        positions = []\n",
    "        for i in range(len(seq)):\n",
    "            if seq[i] != reference[i]:\n",
    "                positions.append(i)\n",
    "        return positions if positions else [float('inf')]  # Return a high number if no mutations\n",
    "\n",
    "    reference_sequence = sequences[0]\n",
    "    sorted_indices = sorted(range(len(sequences)), key=lambda i: mutation_positions(sequences[i], reference_sequence))\n",
    "\n",
    "    return sorted_indices\n",
    "\n",
    "ds = RnaDataset(pd.read_parquet('../data/train_corrected.parquet'))\n"
   ]
  },
  {
   "cell_type": "code",
   "execution_count": 19,
   "metadata": {},
   "outputs": [
    {
     "name": "stdout",
     "output_type": "stream",
     "text": [
      "Ribonanza_bpp_files\t  split\r\n",
      "all_test_data.npy\t  supplementary_silico_predictions\r\n",
      "eterna_openknot_metadata  test_sequences.csv\r\n",
      "rcentral.parquet\t  train_corrected.parquet\r\n",
      "rmdb_data.v1.3.0.csv\t  train_data.csv\r\n",
      "sample_submission.csv\t  train_data.parquet\r\n",
      "sequence_libraries\r\n"
     ]
    }
   ],
   "source": [
    "!ls ../data/"
   ]
  },
  {
   "cell_type": "code",
   "execution_count": 45,
   "metadata": {},
   "outputs": [
    {
     "name": "stdout",
     "output_type": "stream",
     "text": [
      "(14, 7) 0\n"
     ]
    }
   ],
   "source": [
    "th = 95\n",
    "\n",
    "cluster_id = 0\n",
    "df_ = df.query(\"identity_To_Rep>@th\").query('cluster==@clusters[@cluster_id]')\n",
    "ids =sort_sequences_by_all_mutations_with_ids(df_['sequence'].to_list())\n",
    "df_ = df_.iloc[ids].reset_index(drop = True)\n",
    "\n",
    "print(df_.shape, cluster_id)"
   ]
  },
  {
   "cell_type": "code",
   "execution_count": 46,
   "metadata": {},
   "outputs": [
    {
     "data": {
      "text/html": [
       "<div>\n",
       "<style scoped>\n",
       "    .dataframe tbody tr th:only-of-type {\n",
       "        vertical-align: middle;\n",
       "    }\n",
       "\n",
       "    .dataframe tbody tr th {\n",
       "        vertical-align: top;\n",
       "    }\n",
       "\n",
       "    .dataframe thead th {\n",
       "        text-align: right;\n",
       "    }\n",
       "</style>\n",
       "<table border=\"1\" class=\"dataframe\">\n",
       "  <thead>\n",
       "    <tr style=\"text-align: right;\">\n",
       "      <th></th>\n",
       "      <th>cluster</th>\n",
       "      <th>index</th>\n",
       "      <th>length</th>\n",
       "      <th>sequence_id</th>\n",
       "      <th>is_Representative</th>\n",
       "      <th>identity_To_Rep</th>\n",
       "      <th>sequence</th>\n",
       "    </tr>\n",
       "  </thead>\n",
       "  <tbody>\n",
       "    <tr>\n",
       "      <th>0</th>\n",
       "      <td>0</td>\n",
       "      <td>781</td>\n",
       "      <td>159</td>\n",
       "      <td>633cf50c7ef0</td>\n",
       "      <td>False</td>\n",
       "      <td>95.60</td>\n",
       "      <td>GGGAACGACUCGAGUAGAGUCGAAAAGGACCAUCGUGUCUCAAGUG...</td>\n",
       "    </tr>\n",
       "    <tr>\n",
       "      <th>1</th>\n",
       "      <td>0</td>\n",
       "      <td>270</td>\n",
       "      <td>159</td>\n",
       "      <td>ddd255e3df7d</td>\n",
       "      <td>False</td>\n",
       "      <td>95.60</td>\n",
       "      <td>GGGAACGACUCGAGUAGAGUCGAAAAGGAGCAUCGAGUCUCAAGUG...</td>\n",
       "    </tr>\n",
       "    <tr>\n",
       "      <th>2</th>\n",
       "      <td>0</td>\n",
       "      <td>58</td>\n",
       "      <td>159</td>\n",
       "      <td>8bcbfb1a9a14</td>\n",
       "      <td>False</td>\n",
       "      <td>95.60</td>\n",
       "      <td>GGGAACGACUCGAGUAGAGUCGAAAAGGAGCAUCGUGUCUCAAGUG...</td>\n",
       "    </tr>\n",
       "    <tr>\n",
       "      <th>3</th>\n",
       "      <td>0</td>\n",
       "      <td>212</td>\n",
       "      <td>159</td>\n",
       "      <td>a703e3d1b37a</td>\n",
       "      <td>False</td>\n",
       "      <td>95.60</td>\n",
       "      <td>GGGAACGACUCGAGUAGAGUCGAAAAGGAGCAUCGUGUCUCAAGUG...</td>\n",
       "    </tr>\n",
       "    <tr>\n",
       "      <th>4</th>\n",
       "      <td>0</td>\n",
       "      <td>158</td>\n",
       "      <td>159</td>\n",
       "      <td>c28024e41cd3</td>\n",
       "      <td>False</td>\n",
       "      <td>95.60</td>\n",
       "      <td>GGGAACGACUCGAGUAGAGUCGAAAAGGAGCAUCGUGUCUCAAGUG...</td>\n",
       "    </tr>\n",
       "    <tr>\n",
       "      <th>5</th>\n",
       "      <td>0</td>\n",
       "      <td>594</td>\n",
       "      <td>159</td>\n",
       "      <td>9d1ca11bb4a1</td>\n",
       "      <td>False</td>\n",
       "      <td>95.60</td>\n",
       "      <td>GGGAACGACUCGAGUAGAGUCGAAAAGGAGCAUCGUGUCUCAAGUG...</td>\n",
       "    </tr>\n",
       "    <tr>\n",
       "      <th>6</th>\n",
       "      <td>0</td>\n",
       "      <td>506</td>\n",
       "      <td>159</td>\n",
       "      <td>b64a66c5df60</td>\n",
       "      <td>False</td>\n",
       "      <td>95.60</td>\n",
       "      <td>GGGAACGACUCGAGUAGAGUCGAAAAGGAGCAUCGUGUCUCAAGUG...</td>\n",
       "    </tr>\n",
       "    <tr>\n",
       "      <th>7</th>\n",
       "      <td>0</td>\n",
       "      <td>810</td>\n",
       "      <td>159</td>\n",
       "      <td>8b50908d1a77</td>\n",
       "      <td>False</td>\n",
       "      <td>95.60</td>\n",
       "      <td>GGGAACGACUCGAGUAGAGUCGAAAAGGAGCAUCGUGUCUCAAGUG...</td>\n",
       "    </tr>\n",
       "    <tr>\n",
       "      <th>8</th>\n",
       "      <td>0</td>\n",
       "      <td>642</td>\n",
       "      <td>159</td>\n",
       "      <td>ec1b96b11837</td>\n",
       "      <td>False</td>\n",
       "      <td>95.60</td>\n",
       "      <td>GGGAACGACUCGAGUAGAGUCGAAAAGGAGCAUCGUGUCUCAAGUG...</td>\n",
       "    </tr>\n",
       "    <tr>\n",
       "      <th>9</th>\n",
       "      <td>0</td>\n",
       "      <td>181</td>\n",
       "      <td>159</td>\n",
       "      <td>c3ef07cfb7ef</td>\n",
       "      <td>False</td>\n",
       "      <td>95.60</td>\n",
       "      <td>GGGAACGACUCGAGUAGAGUCGAAAAGGAGCAUCGUGUCUCAAGUG...</td>\n",
       "    </tr>\n",
       "    <tr>\n",
       "      <th>10</th>\n",
       "      <td>0</td>\n",
       "      <td>385</td>\n",
       "      <td>159</td>\n",
       "      <td>083f568de7d5</td>\n",
       "      <td>False</td>\n",
       "      <td>95.60</td>\n",
       "      <td>GGGAACGACUCGAGUAGAGUCGAAAAGGAGCAUCGUGUCUCAAGUG...</td>\n",
       "    </tr>\n",
       "    <tr>\n",
       "      <th>11</th>\n",
       "      <td>0</td>\n",
       "      <td>215</td>\n",
       "      <td>159</td>\n",
       "      <td>8af4f470533a</td>\n",
       "      <td>False</td>\n",
       "      <td>95.60</td>\n",
       "      <td>GGGAACGACUCGAGUAGAGUCGAAAAGGAGCAUCGUGUCUCAAGUG...</td>\n",
       "    </tr>\n",
       "    <tr>\n",
       "      <th>12</th>\n",
       "      <td>0</td>\n",
       "      <td>210</td>\n",
       "      <td>159</td>\n",
       "      <td>5803bc63410d</td>\n",
       "      <td>False</td>\n",
       "      <td>96.23</td>\n",
       "      <td>GGGAACGACUCGAGUAGAGUCGAAAAGGAGCAUCGUGUCUCAAAUG...</td>\n",
       "    </tr>\n",
       "    <tr>\n",
       "      <th>13</th>\n",
       "      <td>0</td>\n",
       "      <td>12</td>\n",
       "      <td>159</td>\n",
       "      <td>48bcb96a43ed</td>\n",
       "      <td>True</td>\n",
       "      <td>100.00</td>\n",
       "      <td>GGGAACGACUCGAGUAGAGUCGAAAAGGAGCAUCGUGUCUCAACUG...</td>\n",
       "    </tr>\n",
       "  </tbody>\n",
       "</table>\n",
       "</div>"
      ],
      "text/plain": [
       "    cluster  index  length   sequence_id  is_Representative  identity_To_Rep  \\\n",
       "0         0    781     159  633cf50c7ef0              False            95.60   \n",
       "1         0    270     159  ddd255e3df7d              False            95.60   \n",
       "2         0     58     159  8bcbfb1a9a14              False            95.60   \n",
       "3         0    212     159  a703e3d1b37a              False            95.60   \n",
       "4         0    158     159  c28024e41cd3              False            95.60   \n",
       "5         0    594     159  9d1ca11bb4a1              False            95.60   \n",
       "6         0    506     159  b64a66c5df60              False            95.60   \n",
       "7         0    810     159  8b50908d1a77              False            95.60   \n",
       "8         0    642     159  ec1b96b11837              False            95.60   \n",
       "9         0    181     159  c3ef07cfb7ef              False            95.60   \n",
       "10        0    385     159  083f568de7d5              False            95.60   \n",
       "11        0    215     159  8af4f470533a              False            95.60   \n",
       "12        0    210     159  5803bc63410d              False            96.23   \n",
       "13        0     12     159  48bcb96a43ed               True           100.00   \n",
       "\n",
       "                                             sequence  \n",
       "0   GGGAACGACUCGAGUAGAGUCGAAAAGGACCAUCGUGUCUCAAGUG...  \n",
       "1   GGGAACGACUCGAGUAGAGUCGAAAAGGAGCAUCGAGUCUCAAGUG...  \n",
       "2   GGGAACGACUCGAGUAGAGUCGAAAAGGAGCAUCGUGUCUCAAGUG...  \n",
       "3   GGGAACGACUCGAGUAGAGUCGAAAAGGAGCAUCGUGUCUCAAGUG...  \n",
       "4   GGGAACGACUCGAGUAGAGUCGAAAAGGAGCAUCGUGUCUCAAGUG...  \n",
       "5   GGGAACGACUCGAGUAGAGUCGAAAAGGAGCAUCGUGUCUCAAGUG...  \n",
       "6   GGGAACGACUCGAGUAGAGUCGAAAAGGAGCAUCGUGUCUCAAGUG...  \n",
       "7   GGGAACGACUCGAGUAGAGUCGAAAAGGAGCAUCGUGUCUCAAGUG...  \n",
       "8   GGGAACGACUCGAGUAGAGUCGAAAAGGAGCAUCGUGUCUCAAGUG...  \n",
       "9   GGGAACGACUCGAGUAGAGUCGAAAAGGAGCAUCGUGUCUCAAGUG...  \n",
       "10  GGGAACGACUCGAGUAGAGUCGAAAAGGAGCAUCGUGUCUCAAGUG...  \n",
       "11  GGGAACGACUCGAGUAGAGUCGAAAAGGAGCAUCGUGUCUCAAGUG...  \n",
       "12  GGGAACGACUCGAGUAGAGUCGAAAAGGAGCAUCGUGUCUCAAAUG...  \n",
       "13  GGGAACGACUCGAGUAGAGUCGAAAAGGAGCAUCGUGUCUCAACUG...  "
      ]
     },
     "execution_count": 46,
     "metadata": {},
     "output_type": "execute_result"
    }
   ],
   "source": [
    "df_"
   ]
  },
  {
   "cell_type": "code",
   "execution_count": 47,
   "metadata": {},
   "outputs": [
    {
     "data": {
      "text/html": [
       "<span style='color:green;'>G</span><span style='color:green;'>G</span><span style='color:green;'>G</span><span style='color:green;'>A</span><span style='color:green;'>A</span><span style='color:green;'>C</span><span style='color:green;'>G</span><span style='color:green;'>A</span><span style='color:green;'>C</span><span style='color:green;'>U</span><span style='color:green;'>C</span><span style='color:green;'>G</span><span style='color:green;'>A</span><span style='color:green;'>G</span><span style='color:green;'>U</span><span style='color:green;'>A</span><span style='color:green;'>G</span><span style='color:green;'>A</span><span style='color:green;'>G</span><span style='color:green;'>U</span><span style='color:green;'>C</span><span style='color:green;'>G</span><span style='color:green;'>A</span><span style='color:green;'>A</span><span style='color:green;'>A</span><span style='color:green;'>A</span><span style='color:green;'>G</span><span style='color:green;'>G</span><span style='color:green;'>A</span>C<span style='color:green;'>C</span><span style='color:green;'>A</span><span style='color:green;'>U</span><span style='color:green;'>C</span><span style='color:green;'>G</span>U<span style='color:green;'>G</span><span style='color:green;'>U</span><span style='color:green;'>C</span><span style='color:green;'>U</span><br><span style='color:green;'>C</span><span style='color:green;'>A</span><span style='color:green;'>A</span>G<span style='color:green;'>U</span><span style='color:green;'>G</span><span style='color:green;'>C</span><span style='color:green;'>U</span><span style='color:green;'>U</span>C<span style='color:green;'>A</span><span style='color:green;'>C</span><span style='color:green;'>G</span><span style='color:green;'>G</span><span style='color:green;'>U</span><span style='color:green;'>C</span><span style='color:green;'>A</span><span style='color:green;'>C</span><span style='color:green;'>A</span>A<span style='color:green;'>U</span><span style='color:green;'>A</span><span style='color:green;'>U</span><span style='color:green;'>A</span><span style='color:green;'>C</span><span style='color:green;'>C</span><span style='color:green;'>G</span><span style='color:green;'>U</span><span style='color:green;'>U</span><span style='color:green;'>U</span><span style='color:green;'>C</span><span style='color:green;'>G</span><span style='color:green;'>U</span><span style='color:green;'>C</span><span style='color:green;'>G</span><span style='color:green;'>G</span><span style='color:green;'>G</span><span style='color:green;'>U</span><span style='color:green;'>G</span><span style='color:green;'>C</span><br><span style='color:green;'>G</span><span style='color:green;'>U</span><span style='color:green;'>G</span><span style='color:green;'>G</span><span style='color:green;'>C</span><span style='color:green;'>A</span><span style='color:green;'>A</span><span style='color:green;'>U</span><span style='color:green;'>U</span><span style='color:green;'>C</span><span style='color:green;'>G</span><span style='color:green;'>G</span><span style='color:green;'>U</span>G<span style='color:green;'>C</span><span style='color:green;'>A</span>C<span style='color:green;'>A</span><span style='color:green;'>U</span><span style='color:green;'>C</span><span style='color:green;'>A</span><span style='color:green;'>U</span><span style='color:green;'>G</span><span style='color:green;'>U</span>C<span style='color:green;'>U</span><span style='color:green;'>U</span><span style='color:green;'>U</span><span style='color:green;'>C</span><span style='color:green;'>G</span><span style='color:green;'>U</span><span style='color:green;'>G</span><span style='color:green;'>G</span><span style='color:green;'>C</span><span style='color:green;'>U</span>G<span style='color:green;'>G</span><span style='color:green;'>U</span><span style='color:green;'>G</span><span style='color:green;'>U</span><br>G<span style='color:green;'>G</span><span style='color:green;'>C</span><span style='color:green;'>U</span><span style='color:green;'>C</span><span style='color:green;'>C</span><span style='color:green;'>U</span><span style='color:green;'>C</span><span style='color:green;'>A</span><span style='color:green;'>A</span><span style='color:green;'>G</span><span style='color:green;'>G</span><span style='color:green;'>U</span><span style='color:green;'>G</span><span style='color:green;'>C</span><span style='color:green;'>G</span><span style='color:green;'>A</span><span style='color:green;'>G</span><span style='color:green;'>G</span><span style='color:green;'>G</span>G<span style='color:green;'>C</span><span style='color:green;'>A</span><span style='color:green;'>A</span><span style='color:green;'>G</span>U<span style='color:green;'>A</span>U<span style='color:green;'>A</span><span style='color:green;'>G</span><span style='color:green;'>A</span><span style='color:green;'>G</span><span style='color:green;'>C</span><span style='color:green;'>A</span><span style='color:green;'>G</span><span style='color:green;'>A</span><span style='color:green;'>G</span><span style='color:green;'>C</span><span style='color:green;'>U</span><span style='color:green;'>C</span><br>C<span style='color:green;'>A</span><span style='color:green;'>A</span><span style='color:green;'>A</span><span style='color:green;'>A</span>GGGUCCAC<span style='color:green;'>U</span><span style='color:green;'>U</span><span style='color:green;'>C</span><span style='color:green;'>G</span>GUGGACCC<span style='color:green;'>A</span><span style='color:green;'>A</span><span style='color:green;'>A</span><span style='color:green;'>A</span><span style='color:green;'>G</span><span style='color:green;'>A</span><span style='color:green;'>A</span><span style='color:green;'>A</span><span style='color:green;'>C</span><span style='color:green;'>A</span><span style='color:green;'>A</span><span style='color:green;'>C</span><span style='color:green;'>A</span><span style='color:green;'>A</span><span style='color:green;'>C</span><br><span style='color:green;'>A</span><span style='color:green;'>A</span><span style='color:green;'>C</span><span style='color:green;'>A</span><span style='color:green;'>A</span><span style='color:green;'>C</span>"
      ],
      "text/plain": [
       "<IPython.core.display.HTML object>"
      ]
     },
     "execution_count": 47,
     "metadata": {},
     "output_type": "execute_result"
    }
   ],
   "source": [
    "highlight_common_places_html(df_['sequence'].to_list())"
   ]
  },
  {
   "cell_type": "code",
   "execution_count": 48,
   "metadata": {},
   "outputs": [],
   "source": [
    "import seaborn as sbn"
   ]
  },
  {
   "cell_type": "code",
   "execution_count": 49,
   "metadata": {},
   "outputs": [],
   "source": [
    "ac_2a3 = np.concatenate([np.clip(ds[i]['react'].numpy()[:, 0], 0, 1) for i in df_['sequence_id']]).reshape(df_.shape[0], -1)\n",
    "ac_dm = np.concatenate([np.clip(ds[i]['react'].numpy()[:, 1], 0, 1) for i in df_['sequence_id']]).reshape(df_.shape[0], -1)"
   ]
  },
  {
   "cell_type": "code",
   "execution_count": 52,
   "metadata": {},
   "outputs": [],
   "source": [
    "fig = plt.figure()\n",
    "font_size=6\n",
    "plt.subplot(121)\n",
    "plt.title(f'reactivity_DMS_MaP', fontsize=font_size)\n",
    "plt.imshow(ac_dm,vmin=0,vmax=1, cmap='gray_r')\n",
    "plt.subplot(122)\n",
    "plt.title(f'reactivity_2A3_MaP', fontsize=font_size)\n",
    "plt.imshow(ac_2a3,vmin=0,vmax=1, cmap='gray_r')\n",
    "plt.tight_layout()\n",
    "plt.savefig(f\"plot.png\",dpi=500)\n",
    "plt.clf()\n",
    "plt.close()\n"
   ]
  },
  {
   "cell_type": "code",
   "execution_count": 51,
   "metadata": {},
   "outputs": [
    {
     "data": {
      "text/plain": [
       "<Axes: >"
      ]
     },
     "execution_count": 51,
     "metadata": {},
     "output_type": "execute_result"
    },
    {
     "data": {
      "image/png": "[encoded data removed]",
      "text/plain": [
       "<Figure size 640x480 with 2 Axes>"
      ]
     },
     "metadata": {},
     "output_type": "display_data"
    }
   ],
   "source": [
    "sbn.heatmap(ac_2a3)"
   ]
  },
  {
   "cell_type": "code",
   "execution_count": 50,
   "metadata": {},
   "outputs": [
    {
     "data": {
      "text/plain": [
       "(14, 206)"
      ]
     },
     "execution_count": 50,
     "metadata": {},
     "output_type": "execute_result"
    }
   ],
   "source": [
    "ac_2a3.shape"
   ]
  },
  {
   "cell_type": "code",
   "execution_count": null,
   "metadata": {},
   "outputs": [],
   "source": []
  }
 ],
 "metadata": {
  "kernelspec": {
   "display_name": "Python 3 (ipykernel)",
   "language": "python",
   "name": "python3"
  },
  "language_info": {
   "codemirror_mode": {
    "name": "ipython",
    "version": 3
   },
   "file_extension": ".py",
   "mimetype": "text/x-python",
   "name": "python",
   "nbconvert_exporter": "python",
   "pygments_lexer": "ipython3",
   "version": "3.10.12"
  }
 },
 "nbformat": 4,
 "nbformat_minor": 4
}
